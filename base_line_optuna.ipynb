{
 "cells": [
  {
   "cell_type": "code",
   "id": "initial_id",
   "metadata": {
    "collapsed": true,
    "ExecuteTime": {
     "end_time": "2024-09-04T12:54:06.480366Z",
     "start_time": "2024-09-04T12:54:03.349402Z"
    }
   },
   "source": [
    "import pandas as pd\n",
    "import numpy as np\n",
    "import os\n",
    "import matplotlib.pyplot as plt\n",
    "from catboost import CatBoostClassifier\n",
    "from encoding_function import low_frequency_to_others\n",
    "from sklearn.model_selection import KFold\n",
    "\n",
    "import warnings\n",
    "warnings.filterwarnings('ignore')"
   ],
   "outputs": [],
   "execution_count": 1
  },
  {
   "metadata": {},
   "cell_type": "markdown",
   "source": [
    "### 데이터 불러오기\n",
    "- 학습: 2023년도 이전\n",
    "- 검증: 2023년\n",
    "- 테스트: 2024년"
   ],
   "id": "612fa091ac8898db"
  },
  {
   "metadata": {
    "ExecuteTime": {
     "end_time": "2024-09-04T12:54:07.531386Z",
     "start_time": "2024-09-04T12:54:07.245322Z"
    }
   },
   "cell_type": "code",
   "source": [
    "def add_y(df):\n",
    "    df['rank'] = df['rank'].replace(0, 6)\n",
    "\n",
    "    target_cols = [\n",
    "        '단승', '복승', '삼복승'\n",
    "    ]\n",
    "    for i, col in enumerate(target_cols):\n",
    "        condition_target = df['rank'] <= i+1\n",
    "        df.loc[condition_target, col] = 1\n",
    "\n",
    "    df[target_cols] = df[target_cols].fillna(0)\n",
    "    df.drop(['rank'], axis=1, inplace=True)\n",
    "    return df\n",
    "\n",
    "\n",
    "ROOT_DIR = \"data\"\n",
    "RANDOM_STATE = 999\n",
    "\n",
    "train = pd.read_csv(os.path.join(ROOT_DIR, \"train.csv\"))\n",
    "test = pd.read_csv(os.path.join(ROOT_DIR, \"test.csv\"))\n",
    "\n",
    "train = add_y(train)\n",
    "test = add_y(test)\n",
    "\n",
    "print(train.shape, test.shape)"
   ],
   "id": "fc7baeed3df515e6",
   "outputs": [
    {
     "name": "stdout",
     "output_type": "stream",
     "text": [
      "(79950, 45) (6102, 45)\n"
     ]
    }
   ],
   "execution_count": 2
  },
  {
   "metadata": {},
   "cell_type": "markdown",
   "source": "## 사용하지 않는 feature drop",
   "id": "b85feb78ce70647c"
  },
  {
   "metadata": {},
   "cell_type": "markdown",
   "source": "- 전일 성적을 어떻게 반영할지",
   "id": "d273bbdb0803f1e0"
  },
  {
   "metadata": {
    "ExecuteTime": {
     "end_time": "2024-09-04T12:54:08.734174Z",
     "start_time": "2024-09-04T12:54:08.710169Z"
    }
   },
   "cell_type": "code",
   "source": [
    "def drop_columns_from_datasets(df):\n",
    "    drop_cols = [\n",
    "        '연도', '회차', '일차', '경주번호',\n",
    "        '금일출주경주',\n",
    "        '모터번호', '전탑승선수1', '전탑승선수2',\n",
    "        '보트번호', '특이사항',\n",
    "        '전일성적'\n",
    "    ]\n",
    "\n",
    "    df = df.drop(drop_cols, axis=1)\n",
    "\n",
    "    return df\n",
    "\n",
    "\n",
    "train = drop_columns_from_datasets(train)\n",
    "test = drop_columns_from_datasets(test)\n",
    "\n",
    "print(train.shape, test.shape)"
   ],
   "id": "c8e70aede39457c4",
   "outputs": [
    {
     "name": "stdout",
     "output_type": "stream",
     "text": [
      "(79950, 34) (6102, 34)\n"
     ]
    }
   ],
   "execution_count": 3
  },
  {
   "metadata": {},
   "cell_type": "markdown",
   "source": "## 일부 숫자형 변수 변환",
   "id": "d9b5a5c06231b8d3"
  },
  {
   "metadata": {},
   "cell_type": "markdown",
   "source": "- 코스별 성적/경기수 분리",
   "id": "415d3de999d33ce9"
  },
  {
   "metadata": {
    "ExecuteTime": {
     "end_time": "2024-09-04T12:54:10.836263Z",
     "start_time": "2024-09-04T12:54:09.663270Z"
    }
   },
   "cell_type": "code",
   "source": [
    "def separation_course(df):\n",
    "    col_list = [\n",
    "        '코스_1코스', '코스_2코스', '코스_3코스', '코스_4코스', '코스_5코스', '코스_6코스'\n",
    "    ]\n",
    "    for col in col_list:\n",
    "        df[[f'{col[3:]}_성적', f'{col[3:]}_경기수']] = df[col].fillna('').str.split('/', expand=True)\n",
    "\n",
    "    df.drop(col_list, axis=1, inplace=True)\n",
    "\n",
    "    return df\n",
    "        \n",
    "\n",
    "\n",
    "train = separation_course(train)\n",
    "test = separation_course(test)\n",
    "\n",
    "print(train.shape, test.shape)"
   ],
   "id": "4de76893ce9cd206",
   "outputs": [
    {
     "name": "stdout",
     "output_type": "stream",
     "text": [
      "(79950, 40) (6102, 40)\n"
     ]
    }
   ],
   "execution_count": 4
  },
  {
   "metadata": {},
   "cell_type": "markdown",
   "source": "- 코스별 성적 스무딩",
   "id": "82e3ad637e2d6e7a"
  },
  {
   "metadata": {
    "ExecuteTime": {
     "end_time": "2024-09-04T12:54:11.034309Z",
     "start_time": "2024-09-04T12:54:10.863269Z"
    }
   },
   "cell_type": "code",
   "source": [
    "def apply_laplace_smoothing(df, col, global_mean, alpha):\n",
    "    # 경기수 0인 값이 너무 높게 나오는 경향이 있어 분모에 상수 1 추가(없애도 됨)\n",
    "    encoded_value = (df[f'{col}_성적'] * df[f'{col}_경기수'] + global_mean * alpha) / (1 + df[f'{col}_경기수'] + alpha)\n",
    "    df[f'{col}_성적'] = encoded_value\n",
    "\n",
    "    return df\n",
    "\n",
    "def laplace_smoothing_to_course(train, val=None, alpha=1):\n",
    "    col_list = [\n",
    "        '1코스', '2코스', '3코스', '4코스', '5코스', '6코스'\n",
    "    ]\n",
    "    for col in col_list:\n",
    "        train[f'{col}_성적'] = train[f'{col}_성적'].astype(float)\n",
    "        train[f'{col}_경기수'] = train[f'{col}_경기수'].astype(float)\n",
    "        if val is not None:\n",
    "            val[f'{col}_성적'] = val[f'{col}_성적'].astype(float)\n",
    "            val[f'{col}_경기수'] = val[f'{col}_경기수'].astype(float)\n",
    "\n",
    "    # Train 데이터에서 글로벌 평균 계산\n",
    "    global_means = {col: train[f'{col}_성적'].mean() for col in col_list}\n",
    "\n",
    "    for col in col_list:\n",
    "        # Train 데이터에 라플라스 스무딩 적용\n",
    "        train = apply_laplace_smoothing(train, col, global_means[col], alpha)\n",
    "        train.drop(f'{col}_경기수', axis=1, inplace=True)\n",
    "\n",
    "    if val is not None:\n",
    "        for col in col_list:\n",
    "            # Validation 데이터에 Train에서 구한 글로벌 평균으로 라플라스 스무딩 적용\n",
    "            val = apply_laplace_smoothing(val, col, global_means[col], alpha)\n",
    "            val.drop(f'{col}_경기수', axis=1, inplace=True)\n",
    "\n",
    "    if val is not None:\n",
    "        return train, val\n",
    "    else:\n",
    "        return train\n",
    "\n",
    "\n",
    "train, test = laplace_smoothing_to_course(train, test, alpha=1) # 알파가 작을수록 빈도수에 가깝세, 알파가 클수록 전체 평균에 가깝게\n",
    "print(train.shape, test.shape)"
   ],
   "id": "4e8a7b127859206e",
   "outputs": [
    {
     "name": "stdout",
     "output_type": "stream",
     "text": [
      "(79950, 34) (6102, 34)\n"
     ]
    }
   ],
   "execution_count": 5
  },
  {
   "metadata": {
    "ExecuteTime": {
     "end_time": "2024-09-04T12:54:11.381139Z",
     "start_time": "2024-09-04T12:54:11.342130Z"
    }
   },
   "cell_type": "code",
   "source": [
    "def set_course_scores(df):\n",
    "    # '코스_성적' 열을 초기화\n",
    "    df['코스_성적'] = 0\n",
    "\n",
    "    # '번호' 열에 따른 '코스_성적' 값 설정\n",
    "    for i in range(1, 7):\n",
    "        mask = df['번호'] == i\n",
    "        df.loc[mask, '코스_성적'] = df.loc[mask, f'{i}코스_성적']\n",
    "\n",
    "    # 제거할 열 목록\n",
    "    drop_cols = [f'{i}코스_성적' for i in range(1, 7)]\n",
    "\n",
    "    # 열 제거\n",
    "    df = df.drop(columns=drop_cols)\n",
    "\n",
    "    return df\n",
    "\n",
    "\n",
    "from sklearn.decomposition import PCA\n",
    "def apply_pca(df_train, df_val, n_components=2):\n",
    "    course_cols = [f'{i}코스_성적' for i in range(1, 7)]\n",
    "\n",
    "    pca = PCA(n_components=n_components)\n",
    "    pca.fit(df_train[course_cols])\n",
    "\n",
    "    # 훈련 데이터에 PCA 변환 적용 (transform)\n",
    "    train_pca = pca.transform(df_train[course_cols])\n",
    "    for i in range(n_components):\n",
    "        df_train[f'PCA_{i+1}'] = train_pca[:, i]\n",
    "\n",
    "    # 검증 데이터에 동일한 PCA 변환 적용 (transform)\n",
    "    val_pca = pca.transform(df_val[course_cols])\n",
    "    for i in range(n_components):\n",
    "        df_val[f'PCA_{i+1}'] = val_pca[:, i]\n",
    "\n",
    "    # 각 컴포넌트별 분산 설명 비율 출력\n",
    "    explained_variance_ratios = pca.explained_variance_ratio_\n",
    "    for i, ratio in enumerate(explained_variance_ratios):\n",
    "        print(f\"PCA Component {i+1}: {ratio:.4f} variance explained\")\n",
    "\n",
    "    return df_train, df_val\n",
    "\n",
    "\n",
    "train = set_course_scores(train)\n",
    "test = set_course_scores(test)"
   ],
   "id": "f6b5458672fb225d",
   "outputs": [],
   "execution_count": 6
  },
  {
   "metadata": {},
   "cell_type": "markdown",
   "source": "- 최근 8경기 착순 분리",
   "id": "17ddaf712ca4ed32"
  },
  {
   "metadata": {},
   "cell_type": "markdown",
   "source": "- 최근 8경기를 어떻게 반영할지",
   "id": "3af9766d2b25543"
  },
  {
   "metadata": {
    "ExecuteTime": {
     "end_time": "2024-09-04T12:54:13.490276Z",
     "start_time": "2024-09-04T12:54:13.273558Z"
    }
   },
   "cell_type": "code",
   "source": [
    "def split_last_eight_rank(df):\n",
    "    for i in range(0, 4):\n",
    "        df[f'최근{i+1}경기_착순'] = df['최근8경주_착순'].str[i]\n",
    "    for j in range(5, 9):\n",
    "        df[f'최근{j}경기_착순'] = df['최근8경주_착순'].str[j]\n",
    "        \n",
    "    df.drop('최근8경주_착순', axis=1, inplace=True)\n",
    "        \n",
    "    return df\n",
    "\n",
    "def adjust_for_top3(df):\n",
    "    col_list = [\n",
    "        '최근1경기_착순', '최근2경기_착순', '최근3경기_착순', '최근4경기_착순',\n",
    "        '최근5경기_착순', '최근6경기_착순', '최근7경기_착순', '최근8경기_착순'\n",
    "    ]\n",
    "    \n",
    "    for col in col_list:\n",
    "    # 순위가 1, 2, 3이 아닌 경우, 결측인 경우, 6으로 조정\n",
    "    # (일반화된 성능을 위해 + 3등내에 드는게 중요)\n",
    "        df[col] = df[col].apply(lambda x: x if x in ['1', '2', '3'] else '-1')\n",
    "\n",
    "    return df\n",
    "\n",
    "\n",
    "train = split_last_eight_rank(train)\n",
    "train = adjust_for_top3(train)\n",
    "\n",
    "test = split_last_eight_rank(test)\n",
    "test = adjust_for_top3(test)\n",
    "\n",
    "print(train.shape, test.shape)"
   ],
   "id": "8e7e8cb08b1e4754",
   "outputs": [
    {
     "name": "stdout",
     "output_type": "stream",
     "text": [
      "(79950, 36) (6102, 36)\n"
     ]
    }
   ],
   "execution_count": 7
  },
  {
   "metadata": {},
   "cell_type": "markdown",
   "source": "## 범주형 변수 확인\n",
   "id": "1e1b83cff7de2bbc"
  },
  {
   "metadata": {
    "ExecuteTime": {
     "end_time": "2024-09-04T12:54:21.726210Z",
     "start_time": "2024-09-04T12:54:21.714641Z"
    }
   },
   "cell_type": "code",
   "source": [
    "def cal_cat_cols(train, val=None):\n",
    "    objective_cols = []\n",
    "\n",
    "    # 특정 문자열이 포함된 열을 범주형 변수로 지정\n",
    "    cat_kerword_list = ['번호', '기수', '경기_착순']\n",
    "    for col in train.columns:\n",
    "        if any(sub in col for sub in cat_kerword_list):\n",
    "            objective_cols.append(col)\n",
    "            train[col] = train[col].astype('str')\n",
    "            val[col] = val[col].astype('str')\n",
    "            \n",
    "    # 나머지 열에 대해 숫자형 변환 시도\n",
    "    for col in train.columns:\n",
    "        if col in objective_cols:\n",
    "            continue  # 이미 범주형으로 처리된 열은 제외\n",
    "        try:\n",
    "            # 'float' 타입으로 변환 시도\n",
    "            train[col] = train[col].astype('float')\n",
    "            val[col] = val[col].astype('float')\n",
    "        except:\n",
    "            objective_cols.append(col)\n",
    "\n",
    "    cat_features = list(set(objective_cols) - set(['rank', 'Race_ID']))\n",
    "    cat_features = [feature for feature in cat_features if '단승' not in feature]\n",
    "    cat_features = [feature for feature in cat_features if '복승' not in feature]\n",
    "    cat_features = [feature for feature in cat_features if '삼복승' not in feature]\n",
    "\n",
    "    return cat_features\n",
    "\n",
    "\n",
    "# cat_features = cal_cat_cols(train, test)\n",
    "# cat_features"
   ],
   "id": "b470c2d63ca13d5b",
   "outputs": [],
   "execution_count": 9
  },
  {
   "metadata": {},
   "cell_type": "markdown",
   "source": "## X, y 분리",
   "id": "d6f40188a0734870"
  },
  {
   "metadata": {
    "ExecuteTime": {
     "end_time": "2024-09-04T12:54:22.498751Z",
     "start_time": "2024-09-04T12:54:22.473746Z"
    }
   },
   "cell_type": "code",
   "source": [
    "drop_cols = [\n",
    "    'Race_ID', '번호', '단승', '복승', '삼복승', '선수명', '기수'\n",
    "]\n",
    "\n",
    "X_train = train.drop(drop_cols, axis=1)\n",
    "y_train = train[['단승']]\n",
    "X_test = test.drop(drop_cols, axis=1)\n",
    "y_test = test[['단승']]\n",
    "\n",
    "print(X_train.shape, y_train.shape, X_test.shape, y_test.shape)"
   ],
   "id": "de9c342ceb44bb48",
   "outputs": [
    {
     "name": "stdout",
     "output_type": "stream",
     "text": [
      "(79950, 29) (79950, 1) (6102, 29) (6102, 1)\n"
     ]
    }
   ],
   "execution_count": 10
  },
  {
   "metadata": {
    "ExecuteTime": {
     "end_time": "2024-09-04T12:54:23.275165Z",
     "start_time": "2024-09-04T12:54:23.196128Z"
    }
   },
   "cell_type": "code",
   "source": [
    "def reshape_race_data(df, players_per_race=6):\n",
    "    # numpy 배열로 변환\n",
    "    values = df.values\n",
    "\n",
    "    # 데이터 형태 변환 (6개의 행을 1개의 행으로)\n",
    "    reshaped_values = values.reshape(-1, players_per_race * values.shape[1])\n",
    "\n",
    "    # 새로운 컬럼 이름 생성\n",
    "    columns = [f'{col}_{i+1}번선수' for i in range(players_per_race) for col in df.columns]\n",
    "\n",
    "    # 재구성된 DataFrame 생성\n",
    "    reshaped_df = pd.DataFrame(reshaped_values, columns=columns)\n",
    "\n",
    "    return reshaped_df\n",
    "\n",
    "X_train = reshape_race_data(X_train, players_per_race=6)\n",
    "y_train = reshape_race_data(y_train, players_per_race=6)\n",
    "y_train = np.array(y_train).astype(int)\n",
    "\n",
    "X_test = reshape_race_data(X_test, players_per_race=6)\n",
    "y_test = reshape_race_data(y_test, players_per_race=6)\n",
    "y_test = np.array(y_test).astype(int)\n",
    "\n",
    "print(X_train.shape, y_train.shape, X_test.shape, y_test.shape)"
   ],
   "id": "901d3ef2628c3ccb",
   "outputs": [
    {
     "name": "stdout",
     "output_type": "stream",
     "text": [
      "(13325, 174) (13325, 6) (1017, 174) (1017, 6)\n"
     ]
    }
   ],
   "execution_count": 11
  },
  {
   "metadata": {
    "ExecuteTime": {
     "end_time": "2024-09-04T12:54:23.991536Z",
     "start_time": "2024-09-04T12:54:23.676655Z"
    }
   },
   "cell_type": "code",
   "source": [
    "def low_to_others(train, val, threshold=5, is_train=True, verbose=False):\n",
    "    cat_features = cal_cat_cols(train, val)\n",
    "    if is_train==False:\n",
    "        cat_features = list(set(cat_features) - set(['Race_ID_1번선수', 'Race_ID_2번선수', 'Race_ID_3번선수', 'Race_ID_4번선수', 'Race_ID_5번선수', 'Race_ID_6번선수']))\n",
    "\n",
    "    for col in cat_features:\n",
    "        unifier = low_frequency_to_others(threshold=threshold, verbose=verbose)\n",
    "        train[col] = unifier.fit_transform(train[col])\n",
    "        val[col] = unifier.transform(val[col])\n",
    "\n",
    "    return train, val\n",
    "\n",
    "X_train, X_test = low_to_others(X_train, X_test, threshold=5, verbose=False)"
   ],
   "id": "aa2478e6b3a853f6",
   "outputs": [],
   "execution_count": 12
  },
  {
   "metadata": {
    "ExecuteTime": {
     "end_time": "2024-09-04T12:54:33.560959Z",
     "start_time": "2024-09-04T12:54:31.078309Z"
    }
   },
   "cell_type": "code",
   "source": [
    "def all_precoess(train, val, target='단승', is_train=True):\n",
    "    train = add_y(train)\n",
    "    if is_train:\n",
    "        val = add_y(val)\n",
    "    \n",
    "    train = drop_columns_from_datasets(train)\n",
    "    val = drop_columns_from_datasets(val)\n",
    "\n",
    "    train = separation_course(train)\n",
    "    val = separation_course(val)\n",
    "\n",
    "    train, val = laplace_smoothing_to_course(train, val, alpha=1)\n",
    "\n",
    "    # train = set_course_scores(train)\n",
    "    # val = set_course_scores(val)\n",
    "\n",
    "    train = split_last_eight_rank(train)\n",
    "    train = adjust_for_top3(train)\n",
    "    \n",
    "    val = split_last_eight_rank(val)\n",
    "    val = adjust_for_top3(val)\n",
    "\n",
    "    # train, val = low_to_others(train, val, threshold=10, verbose=False)\n",
    "    \n",
    "    if is_train:\n",
    "        drop_cols = [\n",
    "            'Race_ID', '번호', '단승', '복승', '삼복승', '선수명', '기수'\n",
    "        ]\n",
    "    else:\n",
    "        drop_cols = [\n",
    "            '번호', '선수명', '기수'\n",
    "        ]\n",
    "    \n",
    "    X_train = train.drop(drop_cols, axis=1)\n",
    "    y_train = train[[target]]\n",
    "    X_train = reshape_race_data(X_train, players_per_race=6)\n",
    "    y_train = reshape_race_data(y_train, players_per_race=6)\n",
    "    y_train = np.array(y_train).astype(int)\n",
    "\n",
    "    X_val = val.drop(drop_cols, axis=1)\n",
    "    X_val = reshape_race_data(X_val, players_per_race=6)\n",
    "    if is_train:\n",
    "        y_val = val[[target]]\n",
    "        y_val = reshape_race_data(y_val, players_per_race=6)\n",
    "        y_val = np.array(y_val).astype(int)\n",
    "\n",
    "    X_train, X_val = low_to_others(X_train, X_val, threshold=10, is_train=is_train, verbose=False)\n",
    "    \n",
    "    if is_train:\n",
    "        return X_train, y_train, X_val, y_val\n",
    "    else:\n",
    "        return X_train, y_train, X_val\n",
    "    \n",
    "train = pd.read_csv(os.path.join(ROOT_DIR, \"train.csv\"))\n",
    "test = pd.read_csv(os.path.join(ROOT_DIR, \"test.csv\"))\n",
    "\n",
    "X_train, y_train, X_test, y_test = all_precoess(train, test, is_train=True)\n",
    "\n",
    "print(X_train.shape, y_train.shape, X_test.shape, y_test.shape)"
   ],
   "id": "e383d255c53505cc",
   "outputs": [
    {
     "name": "stdout",
     "output_type": "stream",
     "text": [
      "(13325, 204) (13325, 6) (1017, 204) (1017, 6)\n"
     ]
    }
   ],
   "execution_count": 13
  },
  {
   "metadata": {
    "ExecuteTime": {
     "end_time": "2024-09-04T12:54:35.345319Z",
     "start_time": "2024-09-04T12:54:35.328315Z"
    }
   },
   "cell_type": "code",
   "source": [
    "# ### 테스트용\n",
    "# \n",
    "# from ctgan import CTGAN\n",
    "# \n",
    "# # CTGAN 모델 생성\n",
    "# ctgan = CTGAN(verbose=True)\n",
    "# \n",
    "# cat_features = cal_cat_cols(X_train, X_test)\n",
    "# \n",
    "# # 모델 학습 (target도 다른 변수와 함께 사용됨)\n",
    "# ctgan.fit(X_train, discrete_columns=cat_features)\n",
    "# \n",
    "# # 새로운 데이터 생성\n",
    "# new_data = ctgan.sample(10)\n",
    "# new_data"
   ],
   "id": "59aa47df79dcd49f",
   "outputs": [],
   "execution_count": 14
  },
  {
   "metadata": {
    "jupyter": {
     "is_executing": true
    },
    "ExecuteTime": {
     "start_time": "2024-09-04T13:14:34.002816Z"
    }
   },
   "cell_type": "code",
   "source": [
    "from sklearn.metrics import accuracy_score, f1_score\n",
    "\n",
    "class custom_CatBoostClassifier():\n",
    "    def __init__(self, params):\n",
    "        self.models = [CatBoostClassifier(**params) for _ in range(6)]\n",
    "\n",
    "    def fit(self, X, y, eval_set=None, cat_features=None):\n",
    "        y = np.array(y)  # y를 numpy 배열로 변환\n",
    "        if eval_set is not None:\n",
    "            X_val, y_val = eval_set\n",
    "\n",
    "        for i in range(6):\n",
    "            y_i = y[:, i]  # i번째 레이블에 대한 y 값\n",
    "\n",
    "            if eval_set is not None:\n",
    "                y_val_i = y_val[:, i]  # i번째 레이블에 대한 y_val 값\n",
    "                eval_set_i = (X_val, y_val_i)\n",
    "                self.models[i].fit(\n",
    "                    X, y_i,\n",
    "                    eval_set=eval_set_i,\n",
    "                    cat_features=cat_features\n",
    "                )\n",
    "            else:\n",
    "                eval_set_i = None\n",
    "                self.models[i].fit(\n",
    "                    X, y_i,\n",
    "                    cat_features=cat_features\n",
    "                )\n",
    "\n",
    "    def predict(self, X):\n",
    "        preds = [model.predict(X) for model in self.models]\n",
    "        return np.vstack(preds).T\n",
    "\n",
    "    def predict_proba(self, X):\n",
    "        probas = [model.predict_proba(X)[:, 1] for model in self.models]\n",
    "        return np.vstack(probas).T\n",
    "\n",
    "def evaluate_(y_pred, y_val, target_value='단승'):\n",
    "    y_pred_max = np.zeros_like(y_pred)\n",
    "\n",
    "    # 각 샘플에 대해 가장 높은 확률의 인덱스를 선택\n",
    "    for i in range(y_pred.shape[0]):  # 각 샘플에 대해 반복\n",
    "        if target_value == '단승':\n",
    "            max_indices = np.argsort(y_pred[i])[-1:]  # 가장 큰 값의 인덱스 찾기\n",
    "        elif target_value == '복승':\n",
    "            max_indices = np.argsort(y_pred[i])[-2:]\n",
    "        elif target_value == '삼복승':\n",
    "            max_indices = np.argsort(y_pred[i])[-3:]\n",
    "        y_pred_max[i, max_indices] = 1  # 해당 인덱스에 1 설정\n",
    "\n",
    "    accuracy = accuracy_score(y_pred_max, y_val)\n",
    "    return accuracy\n",
    "    \n",
    "\n",
    "\n",
    "def objective(trial):\n",
    "    seed = 42\n",
    "    target_value='복승'\n",
    "\n",
    "    class_weight_for_1 = trial.suggest_float('class_weight_for_1', 0.5, 5.0)\n",
    "    params = {\n",
    "        'random_seed': seed,\n",
    "        'iterations': 300,\n",
    "        'learning_rate': trial.suggest_float('learning_rate', 0.01, 0.3),\n",
    "        'depth': trial.suggest_int('depth', 4, 7),\n",
    "        'l2_leaf_reg': trial.suggest_float('l2_leaf_reg', 0.0001, 10),\n",
    "        'class_weights': {0: 1.0, 1: class_weight_for_1},\n",
    "        'colsample_bylevel': trial.suggest_float('colsample_bylevel', 0.5, 1.0),\n",
    "        'verbose': 0,\n",
    "        'thread_count': -1\n",
    "    }\n",
    "\n",
    "    unique_race_ids = train['Race_ID'].unique()\n",
    "    kf = KFold(n_splits=3, shuffle=True, random_state=seed)\n",
    "\n",
    "    scores = []\n",
    "    for train_race_ids, val_race_ids in kf.split(unique_race_ids):\n",
    "        train_ids = unique_race_ids[train_race_ids]\n",
    "        val_ids = unique_race_ids[val_race_ids]\n",
    "\n",
    "        train_fold = train[train['Race_ID'].isin(train_ids)].reset_index(drop=True)\n",
    "        val_fold = train[train['Race_ID'].isin(val_ids)].reset_index(drop=True)\n",
    "\n",
    "        X_train, y_train, X_val, y_val = all_precoess(train_fold, val_fold, target=target_value, is_train=True)\n",
    "\n",
    "        model = custom_CatBoostClassifier(params)\n",
    "        cat_features = cal_cat_cols(X_train, X_val)\n",
    "        model.fit(\n",
    "            X_train, y_train,\n",
    "            eval_set=(X_val, y_val),\n",
    "            cat_features=cat_features\n",
    "        )\n",
    "\n",
    "        y_pred = model.predict_proba(X_val)\n",
    "\n",
    "        accuracy = evaluate_(y_pred, y_val, target_value)\n",
    "        scores.append(accuracy)\n",
    "\n",
    "    return np.mean(scores)\n",
    "\n",
    "\n",
    "import optuna\n",
    "# Optuna 스터디 객체 생성\n",
    "study = optuna.create_study(direction='maximize')\n",
    "\n",
    "# 최적화 실행\n",
    "study.optimize(objective, n_trials=100)  # n_trials는 시도할 하이퍼파라미터 세트의 수\n",
    "\n",
    "# 최적 하이퍼파라미터 출력\n",
    "print('Best trial:')\n",
    "trial = study.best_trial\n",
    "print(f'  Value: {trial.value}')\n",
    "print('  Params: ')\n",
    "for key, value in trial.params.items():\n",
    "    print(f'    {key}: {value}')"
   ],
   "id": "607c5cda9d3e1a07",
   "outputs": [
    {
     "name": "stderr",
     "output_type": "stream",
     "text": [
      "[I 2024-09-04 22:14:34,012] A new study created in memory with name: no-name-e13f8ccc-3a6d-44d4-9642-cce43ee6de4f\n"
     ]
    }
   ],
   "execution_count": null
  },
  {
   "metadata": {},
   "cell_type": "markdown",
   "source": "- Test 데이터",
   "id": "8e4a5042aea76dba"
  },
  {
   "metadata": {
    "ExecuteTime": {
     "end_time": "2024-09-04T12:59:08.559621Z",
     "start_time": "2024-09-04T12:59:00.463312Z"
    }
   },
   "cell_type": "code",
   "source": [
    "train = pd.read_csv(os.path.join(ROOT_DIR, \"train.csv\"))\n",
    "test = pd.read_csv(os.path.join(ROOT_DIR, \"test.csv\"))\n",
    "unique_race_ids = train['Race_ID'].unique()\n",
    "kf = KFold(n_splits=5, shuffle=True, random_state=seed)\n",
    "\n",
    "all_predictions = []\n",
    "for i, (train_race_ids, val_race_ids) in enumerate(kf.split(unique_race_ids)):\n",
    "    train_ids = unique_race_ids[train_race_ids]\n",
    "\n",
    "    train_fold = train[train['Race_ID'].isin(train_ids)].reset_index(drop=True)\n",
    "    test_fold = test.copy()\n",
    "\n",
    "    X_train, y_train, X_test, y_test = all_precoess(train_fold, test_fold, target=target_value, is_train=True)\n",
    "    \n",
    "    y_pred = models[i].predict_proba(X_test)\n",
    "    all_predictions.append(y_pred)\n",
    "\n",
    "\n",
    "mean_pred = np.mean(all_predictions, axis=0)\n",
    "accuracy = evaluate_(mean_pred, y_test, target_value)\n",
    "\n",
    "print(f'최종 스코어: Accuracy of testset: {accuracy}')"
   ],
   "id": "9404cc1a8fddf48d",
   "outputs": [
    {
     "name": "stdout",
     "output_type": "stream",
     "text": [
      "최종 스코어: Accuracy of testset: 0.2635201573254671\n"
     ]
    }
   ],
   "execution_count": 16
  },
  {
   "metadata": {},
   "cell_type": "markdown",
   "source": "- Base_line: Accuracy of testset: 0.2644135188866799",
   "id": "cf2f22ee7a5231e"
  },
  {
   "metadata": {},
   "cell_type": "markdown",
   "source": "# 실제 경기 예측",
   "id": "c1dc2d466cee7324"
  },
  {
   "metadata": {
    "ExecuteTime": {
     "end_time": "2024-09-04T10:43:09.262785Z",
     "start_time": "2024-09-04T10:43:00.929242Z"
    }
   },
   "cell_type": "code",
   "source": [
    "from crawlling_entry import crawl_race_entries\n",
    "\n",
    "train = pd.read_csv(os.path.join(ROOT_DIR, \"train.csv\"))\n",
    "연도 = 2024\n",
    "회차 = 36\n",
    "일차 = 2\n",
    "sub = crawl_race_entries(연도, 회차, 일차)\n",
    "\n",
    "unique_race_ids = train['Race_ID'].unique()\n",
    "kf = KFold(n_splits=5, shuffle=True, random_state=seed)\n",
    "\n",
    "all_predictions = []\n",
    "for i, (train_race_ids, val_race_ids) in enumerate(kf.split(unique_race_ids)):\n",
    "    train_ids = unique_race_ids[train_race_ids]\n",
    "\n",
    "    train_fold = train[train['Race_ID'].isin(train_ids)].reset_index(drop=True)\n",
    "    test_fold = sub.copy()\n",
    "\n",
    "    X_train, y_train, X_test = all_precoess(train_fold, test_fold, target=target_value, is_train=False)\n",
    "\n",
    "    y_pred = models[i].predict_proba(X_test)\n",
    "    all_predictions.append(y_pred)\n",
    "\n",
    "\n",
    "mean_pred = np.mean(all_predictions, axis=0)\n",
    "mean_pred_df = pd.DataFrame(mean_pred)\n",
    "mean_pred_df.index = [f\"{i+1}경기\" for i in range(len(mean_pred_df))]\n",
    "mean_pred_df.columns = [f\"{i+1}번\" for i in range(mean_pred_df.shape[1])]\n",
    "mean_pred_df"
   ],
   "id": "1937933c60b1d1cb",
   "outputs": [
    {
     "data": {
      "text/plain": [
       "            1번        2번        3번        4번        5번        6번\n",
       "1경기   0.524258  0.478402  0.349909  0.381039  0.359977  0.353927\n",
       "2경기   0.446437  0.748016  0.432206  0.348523  0.463073  0.362473\n",
       "3경기   0.590354  0.330162  0.366036  0.390308  0.534250  0.304871\n",
       "4경기   0.508091  0.497927  0.554491  0.460598  0.335899  0.400207\n",
       "5경기   0.457585  0.407186  0.456112  0.497907  0.365661  0.403018\n",
       "6경기   0.552160  0.595257  0.300297  0.535264  0.325186  0.327499\n",
       "7경기   0.484180  0.452623  0.445703  0.470931  0.458778  0.406981\n",
       "8경기   0.493261  0.523944  0.318981  0.532959  0.466780  0.302319\n",
       "9경기   0.488885  0.548327  0.479107  0.511543  0.359405  0.307082\n",
       "10경기  0.548443  0.549675  0.534804  0.402283  0.327305  0.305078\n",
       "11경기  0.528058  0.480981  0.367186  0.538803  0.380718  0.413109\n",
       "12경기  0.536656  0.355931  0.419410  0.483025  0.551347  0.294023\n",
       "13경기  0.526766  0.498619  0.278813  0.456905  0.420649  0.404703\n",
       "14경기  0.574330  0.673286  0.293966  0.518750  0.350668  0.293549\n",
       "15경기  0.553635  0.466664  0.363886  0.449569  0.369735  0.312210\n",
       "16경기  0.454525  0.381295  0.518226  0.404173  0.385517  0.381793\n",
       "17경기  0.532138  0.434359  0.408272  0.388622  0.421839  0.412554"
      ],
      "text/html": [
       "<div>\n",
       "<style scoped>\n",
       "    .dataframe tbody tr th:only-of-type {\n",
       "        vertical-align: middle;\n",
       "    }\n",
       "\n",
       "    .dataframe tbody tr th {\n",
       "        vertical-align: top;\n",
       "    }\n",
       "\n",
       "    .dataframe thead th {\n",
       "        text-align: right;\n",
       "    }\n",
       "</style>\n",
       "<table border=\"1\" class=\"dataframe\">\n",
       "  <thead>\n",
       "    <tr style=\"text-align: right;\">\n",
       "      <th></th>\n",
       "      <th>1번</th>\n",
       "      <th>2번</th>\n",
       "      <th>3번</th>\n",
       "      <th>4번</th>\n",
       "      <th>5번</th>\n",
       "      <th>6번</th>\n",
       "    </tr>\n",
       "  </thead>\n",
       "  <tbody>\n",
       "    <tr>\n",
       "      <th>1경기</th>\n",
       "      <td>0.524258</td>\n",
       "      <td>0.478402</td>\n",
       "      <td>0.349909</td>\n",
       "      <td>0.381039</td>\n",
       "      <td>0.359977</td>\n",
       "      <td>0.353927</td>\n",
       "    </tr>\n",
       "    <tr>\n",
       "      <th>2경기</th>\n",
       "      <td>0.446437</td>\n",
       "      <td>0.748016</td>\n",
       "      <td>0.432206</td>\n",
       "      <td>0.348523</td>\n",
       "      <td>0.463073</td>\n",
       "      <td>0.362473</td>\n",
       "    </tr>\n",
       "    <tr>\n",
       "      <th>3경기</th>\n",
       "      <td>0.590354</td>\n",
       "      <td>0.330162</td>\n",
       "      <td>0.366036</td>\n",
       "      <td>0.390308</td>\n",
       "      <td>0.534250</td>\n",
       "      <td>0.304871</td>\n",
       "    </tr>\n",
       "    <tr>\n",
       "      <th>4경기</th>\n",
       "      <td>0.508091</td>\n",
       "      <td>0.497927</td>\n",
       "      <td>0.554491</td>\n",
       "      <td>0.460598</td>\n",
       "      <td>0.335899</td>\n",
       "      <td>0.400207</td>\n",
       "    </tr>\n",
       "    <tr>\n",
       "      <th>5경기</th>\n",
       "      <td>0.457585</td>\n",
       "      <td>0.407186</td>\n",
       "      <td>0.456112</td>\n",
       "      <td>0.497907</td>\n",
       "      <td>0.365661</td>\n",
       "      <td>0.403018</td>\n",
       "    </tr>\n",
       "    <tr>\n",
       "      <th>6경기</th>\n",
       "      <td>0.552160</td>\n",
       "      <td>0.595257</td>\n",
       "      <td>0.300297</td>\n",
       "      <td>0.535264</td>\n",
       "      <td>0.325186</td>\n",
       "      <td>0.327499</td>\n",
       "    </tr>\n",
       "    <tr>\n",
       "      <th>7경기</th>\n",
       "      <td>0.484180</td>\n",
       "      <td>0.452623</td>\n",
       "      <td>0.445703</td>\n",
       "      <td>0.470931</td>\n",
       "      <td>0.458778</td>\n",
       "      <td>0.406981</td>\n",
       "    </tr>\n",
       "    <tr>\n",
       "      <th>8경기</th>\n",
       "      <td>0.493261</td>\n",
       "      <td>0.523944</td>\n",
       "      <td>0.318981</td>\n",
       "      <td>0.532959</td>\n",
       "      <td>0.466780</td>\n",
       "      <td>0.302319</td>\n",
       "    </tr>\n",
       "    <tr>\n",
       "      <th>9경기</th>\n",
       "      <td>0.488885</td>\n",
       "      <td>0.548327</td>\n",
       "      <td>0.479107</td>\n",
       "      <td>0.511543</td>\n",
       "      <td>0.359405</td>\n",
       "      <td>0.307082</td>\n",
       "    </tr>\n",
       "    <tr>\n",
       "      <th>10경기</th>\n",
       "      <td>0.548443</td>\n",
       "      <td>0.549675</td>\n",
       "      <td>0.534804</td>\n",
       "      <td>0.402283</td>\n",
       "      <td>0.327305</td>\n",
       "      <td>0.305078</td>\n",
       "    </tr>\n",
       "    <tr>\n",
       "      <th>11경기</th>\n",
       "      <td>0.528058</td>\n",
       "      <td>0.480981</td>\n",
       "      <td>0.367186</td>\n",
       "      <td>0.538803</td>\n",
       "      <td>0.380718</td>\n",
       "      <td>0.413109</td>\n",
       "    </tr>\n",
       "    <tr>\n",
       "      <th>12경기</th>\n",
       "      <td>0.536656</td>\n",
       "      <td>0.355931</td>\n",
       "      <td>0.419410</td>\n",
       "      <td>0.483025</td>\n",
       "      <td>0.551347</td>\n",
       "      <td>0.294023</td>\n",
       "    </tr>\n",
       "    <tr>\n",
       "      <th>13경기</th>\n",
       "      <td>0.526766</td>\n",
       "      <td>0.498619</td>\n",
       "      <td>0.278813</td>\n",
       "      <td>0.456905</td>\n",
       "      <td>0.420649</td>\n",
       "      <td>0.404703</td>\n",
       "    </tr>\n",
       "    <tr>\n",
       "      <th>14경기</th>\n",
       "      <td>0.574330</td>\n",
       "      <td>0.673286</td>\n",
       "      <td>0.293966</td>\n",
       "      <td>0.518750</td>\n",
       "      <td>0.350668</td>\n",
       "      <td>0.293549</td>\n",
       "    </tr>\n",
       "    <tr>\n",
       "      <th>15경기</th>\n",
       "      <td>0.553635</td>\n",
       "      <td>0.466664</td>\n",
       "      <td>0.363886</td>\n",
       "      <td>0.449569</td>\n",
       "      <td>0.369735</td>\n",
       "      <td>0.312210</td>\n",
       "    </tr>\n",
       "    <tr>\n",
       "      <th>16경기</th>\n",
       "      <td>0.454525</td>\n",
       "      <td>0.381295</td>\n",
       "      <td>0.518226</td>\n",
       "      <td>0.404173</td>\n",
       "      <td>0.385517</td>\n",
       "      <td>0.381793</td>\n",
       "    </tr>\n",
       "    <tr>\n",
       "      <th>17경기</th>\n",
       "      <td>0.532138</td>\n",
       "      <td>0.434359</td>\n",
       "      <td>0.408272</td>\n",
       "      <td>0.388622</td>\n",
       "      <td>0.421839</td>\n",
       "      <td>0.412554</td>\n",
       "    </tr>\n",
       "  </tbody>\n",
       "</table>\n",
       "</div>"
      ]
     },
     "execution_count": 25,
     "metadata": {},
     "output_type": "execute_result"
    }
   ],
   "execution_count": 25
  },
  {
   "metadata": {
    "ExecuteTime": {
     "end_time": "2024-09-04T10:49:32.723965Z",
     "start_time": "2024-09-04T10:49:32.576884Z"
    }
   },
   "cell_type": "code",
   "source": "mean_pred_df.to_excel(f'./result/{연도}_{회차}_{일차}_{target_value}.xlsx', index=True, float_format=\"%.2f\")",
   "id": "4c3d730a20d09c9a",
   "outputs": [],
   "execution_count": 34
  },
  {
   "metadata": {},
   "cell_type": "code",
   "outputs": [],
   "execution_count": null,
   "source": "",
   "id": "714bb228d4d98b6b"
  }
 ],
 "metadata": {
  "kernelspec": {
   "display_name": "Python 3",
   "language": "python",
   "name": "python3"
  },
  "language_info": {
   "codemirror_mode": {
    "name": "ipython",
    "version": 2
   },
   "file_extension": ".py",
   "mimetype": "text/x-python",
   "name": "python",
   "nbconvert_exporter": "python",
   "pygments_lexer": "ipython2",
   "version": "2.7.6"
  }
 },
 "nbformat": 4,
 "nbformat_minor": 5
}
