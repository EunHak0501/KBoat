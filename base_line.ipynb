{
 "cells": [
  {
   "cell_type": "code",
   "id": "initial_id",
   "metadata": {
    "collapsed": true,
    "ExecuteTime": {
     "end_time": "2024-08-28T01:43:21.777281Z",
     "start_time": "2024-08-28T01:43:21.772278Z"
    }
   },
   "source": [
    "import pandas as pd\n",
    "import numpy as np\n",
    "import os\n",
    "from encoding_function import low_frequency_to_others\n",
    "\n",
    "import warnings\n",
    "warnings.filterwarnings('ignore')"
   ],
   "outputs": [],
   "execution_count": 13
  },
  {
   "metadata": {},
   "cell_type": "markdown",
   "source": [
    "### 데이터 불러오기\n",
    "- 학습: 2023년도 이전\n",
    "- 검증: 2023년\n",
    "- 테스트: 2024년"
   ],
   "id": "612fa091ac8898db"
  },
  {
   "metadata": {
    "ExecuteTime": {
     "end_time": "2024-08-28T01:43:22.597370Z",
     "start_time": "2024-08-28T01:43:22.402326Z"
    }
   },
   "cell_type": "code",
   "source": [
    "ROOT_DIR = \"data\"\n",
    "RANDOM_STATE = 999\n",
    "\n",
    "train = pd.read_csv(os.path.join(ROOT_DIR, \"train.csv\"))\n",
    "val = pd.read_csv(os.path.join(ROOT_DIR, \"val.csv\"))\n",
    "test = pd.read_csv(os.path.join(ROOT_DIR, \"test.csv\"))\n",
    "\n",
    "print(train.shape, val.shape)"
   ],
   "id": "fc7baeed3df515e6",
   "outputs": [
    {
     "name": "stdout",
     "output_type": "stream",
     "text": [
      "(48522, 43) (8952, 43)\n"
     ]
    }
   ],
   "execution_count": 14
  },
  {
   "metadata": {},
   "cell_type": "markdown",
   "source": "## 사용하지 않는 feature drop",
   "id": "b85feb78ce70647c"
  },
  {
   "metadata": {
    "ExecuteTime": {
     "end_time": "2024-08-28T01:43:23.144250Z",
     "start_time": "2024-08-28T01:43:23.124194Z"
    }
   },
   "cell_type": "code",
   "source": [
    "def drop_columns_from_datasets(df):\n",
    "    drop_cols = [\n",
    "        '연도', '회차', '일차', '경주번호',\n",
    "        '금일출주경주',\n",
    "        '모터번호', '전탑승선수1', '전탑승선수2',\n",
    "        '보트번호', '특이사항'\n",
    "    ]\n",
    "\n",
    "    df = df.drop(drop_cols, axis=1)\n",
    "\n",
    "    return df\n",
    "\n",
    "\n",
    "train = drop_columns_from_datasets(train)\n",
    "val = drop_columns_from_datasets(val)\n",
    "\n",
    "print(train.shape, val.shape)"
   ],
   "id": "c8e70aede39457c4",
   "outputs": [
    {
     "name": "stdout",
     "output_type": "stream",
     "text": [
      "(48522, 33) (8952, 33)\n"
     ]
    }
   ],
   "execution_count": 15
  },
  {
   "metadata": {},
   "cell_type": "markdown",
   "source": "## 일부 숫자형 변수 변환",
   "id": "d9b5a5c06231b8d3"
  },
  {
   "metadata": {},
   "cell_type": "markdown",
   "source": "- 코스별 성적/경기수 분리",
   "id": "415d3de999d33ce9"
  },
  {
   "metadata": {
    "ExecuteTime": {
     "end_time": "2024-08-28T01:43:24.727550Z",
     "start_time": "2024-08-28T01:43:24.054939Z"
    }
   },
   "cell_type": "code",
   "source": [
    "def separation_course(df):\n",
    "    col_list = [\n",
    "        '코스_1코스', '코스_2코스', '코스_3코스', '코스_4코스', '코스_5코스', '코스_6코스'\n",
    "    ]\n",
    "    for col in col_list:\n",
    "        df[[f'{col[3:]}_성적', f'{col[3:]}_경기수']] = df[col].fillna('').str.split('/', expand=True)\n",
    "\n",
    "    df.drop(col_list, axis=1, inplace=True)\n",
    "\n",
    "    return df\n",
    "        \n",
    "\n",
    "\n",
    "train = separation_course(train)\n",
    "val = separation_course(val)\n",
    "\n",
    "print(train.shape, val.shape)"
   ],
   "id": "4de76893ce9cd206",
   "outputs": [
    {
     "name": "stdout",
     "output_type": "stream",
     "text": [
      "(48522, 39) (8952, 39)\n"
     ]
    }
   ],
   "execution_count": 16
  },
  {
   "metadata": {},
   "cell_type": "markdown",
   "source": "- 코스별 성적 스무딩",
   "id": "82e3ad637e2d6e7a"
  },
  {
   "metadata": {
    "ExecuteTime": {
     "end_time": "2024-08-28T01:43:24.855580Z",
     "start_time": "2024-08-28T01:43:24.729551Z"
    }
   },
   "cell_type": "code",
   "source": [
    "def apply_laplace_smoothing(df, col, global_mean, alpha):\n",
    "    # 경기수 0인 값이 너무 높게 나오는 경향이 있어 분모에 상수 1 추가(없애도 됨)\n",
    "    encoded_value = (df[f'{col}_성적'] * df[f'{col}_경기수'] + global_mean * alpha) / (1 + df[f'{col}_경기수'] + alpha)\n",
    "    df[f'{col}_성적'] = encoded_value\n",
    "\n",
    "    return df\n",
    "\n",
    "def laplace_smoothing_to_course(train, val=None, alpha=1):\n",
    "    col_list = [\n",
    "        '1코스', '2코스', '3코스', '4코스', '5코스', '6코스'\n",
    "    ]\n",
    "    for col in col_list:\n",
    "        train[f'{col}_성적'] = train[f'{col}_성적'].astype(float)\n",
    "        train[f'{col}_경기수'] = train[f'{col}_경기수'].astype(float)\n",
    "        if val is not None:\n",
    "            val[f'{col}_성적'] = val[f'{col}_성적'].astype(float)\n",
    "            val[f'{col}_경기수'] = val[f'{col}_경기수'].astype(float)\n",
    "\n",
    "    # Train 데이터에서 글로벌 평균 계산\n",
    "    global_means = {col: train[f'{col}_성적'].mean() for col in col_list}\n",
    "\n",
    "    for col in col_list:\n",
    "        # Train 데이터에 라플라스 스무딩 적용\n",
    "        train = apply_laplace_smoothing(train, col, global_means[col], alpha)\n",
    "        train.drop(f'{col}_경기수', axis=1, inplace=True)\n",
    "\n",
    "    if val is not None:\n",
    "        for col in col_list:\n",
    "            # Validation 데이터에 Train에서 구한 글로벌 평균으로 라플라스 스무딩 적용\n",
    "            val = apply_laplace_smoothing(val, col, global_means[col], alpha)\n",
    "            val.drop(f'{col}_경기수', axis=1, inplace=True)\n",
    "\n",
    "    if val is not None:\n",
    "        return train, val\n",
    "    else:\n",
    "        return train\n",
    "\n",
    "\n",
    "train, val = laplace_smoothing_to_course(train, val, alpha=1) # 알파가 작을수록 빈도수에 가깝세, 알파가 클수록 전체 평균에 가깝게\n",
    "print(train.shape, val.shape)"
   ],
   "id": "4e8a7b127859206e",
   "outputs": [
    {
     "name": "stdout",
     "output_type": "stream",
     "text": [
      "(48522, 33) (8952, 33)\n"
     ]
    }
   ],
   "execution_count": 17
  },
  {
   "metadata": {},
   "cell_type": "markdown",
   "source": "- 최근 8경기 착순 분리",
   "id": "17ddaf712ca4ed32"
  },
  {
   "metadata": {
    "ExecuteTime": {
     "end_time": "2024-08-28T01:43:26.047156Z",
     "start_time": "2024-08-28T01:43:25.890119Z"
    }
   },
   "cell_type": "code",
   "source": [
    "def split_last_eight_rank(df):\n",
    "    for i in range(0, 4):\n",
    "        df[f'최근{i+1}경기_착순'] = df['최근8경주_착순'].str[i]\n",
    "    for j in range(5, 9):\n",
    "        df[f'최근{j}경기_착순'] = df['최근8경주_착순'].str[j]\n",
    "        \n",
    "    df.drop('최근8경주_착순', axis=1, inplace=True)\n",
    "        \n",
    "    return df\n",
    "\n",
    "def adjust_for_top3(df):\n",
    "    col_list = [\n",
    "        '최근1경기_착순', '최근2경기_착순', '최근3경기_착순', '최근4경기_착순',\n",
    "        '최근5경기_착순', '최근6경기_착순', '최근7경기_착순', '최근8경기_착순'\n",
    "    ]\n",
    "    \n",
    "    for col in col_list:\n",
    "    # 순위가 1, 2, 3이 아닌 경우, 결측인 경우, 6으로 조정\n",
    "    # (일반화된 성능을 위해 + 3등내에 드는게 중요)\n",
    "        df[col] = df[col].apply(lambda x: x if x in ['1', '2', '3'] else '6')\n",
    "\n",
    "    return df\n",
    "\n",
    "\n",
    "train = split_last_eight_rank(train)\n",
    "train = adjust_for_top3(train)\n",
    "\n",
    "val = split_last_eight_rank(val)\n",
    "val = adjust_for_top3(val)\n",
    "\n",
    "print(train.shape, val.shape)"
   ],
   "id": "8e7e8cb08b1e4754",
   "outputs": [
    {
     "name": "stdout",
     "output_type": "stream",
     "text": [
      "(48522, 40) (8952, 40)\n"
     ]
    }
   ],
   "execution_count": 18
  },
  {
   "metadata": {},
   "cell_type": "markdown",
   "source": "## 범주형 변수 확인\n",
   "id": "1e1b83cff7de2bbc"
  },
  {
   "metadata": {
    "ExecuteTime": {
     "end_time": "2024-08-28T01:43:26.883306Z",
     "start_time": "2024-08-28T01:43:26.845296Z"
    }
   },
   "cell_type": "code",
   "source": [
    "def cal_cat_cols(train, val=None):\n",
    "    num_features = []\n",
    "    objective_cols = []\n",
    "\n",
    "    # 특정 문자열이 포함된 열을 범주형 변수로 지정\n",
    "    word_list = ['번호', '기수', '경기_착순', 'Race_ID']\n",
    "    for col in train.columns:\n",
    "        if any(sub in col for sub in word_list):\n",
    "            objective_cols.append(col)\n",
    "            train[col] = train[col].astype('str')\n",
    "            if val is not None:\n",
    "                val[col] = val[col].astype('str')\n",
    "\n",
    "    # 나머지 열에 대해 숫자형 변환 시도\n",
    "    for col in train.columns:\n",
    "        if col in objective_cols:\n",
    "            continue  # 이미 범주형으로 처리된 열은 제외\n",
    "        try:\n",
    "            # 'float' 타입으로 변환 시도\n",
    "            train[col] = train[col].astype('float')\n",
    "            if val is not None:\n",
    "                val[col] = val[col].astype('float')\n",
    "            num_features.append(col)\n",
    "        except:\n",
    "            objective_cols.append(col)\n",
    "\n",
    "    cat_features = list(set(objective_cols) - set(['rank', 'Race_ID']))\n",
    "\n",
    "    return num_features, cat_features\n",
    "\n",
    "\n",
    "num_features, cat_features = cal_cat_cols(train, val)\n",
    "cat_features"
   ],
   "id": "b470c2d63ca13d5b",
   "outputs": [
    {
     "data": {
      "text/plain": [
       "['최근4경기_착순',\n",
       " '번호',\n",
       " '최근7경기_착순',\n",
       " '성별',\n",
       " '최근8경기_착순',\n",
       " '최근3경기_착순',\n",
       " 'FL',\n",
       " '최근5경기_착순',\n",
       " '최근2경기_착순',\n",
       " '최근1경기_착순',\n",
       " '최근6경기_착순',\n",
       " '전일성적',\n",
       " '선수명',\n",
       " '등급',\n",
       " '기수']"
      ]
     },
     "execution_count": 19,
     "metadata": {},
     "output_type": "execute_result"
    }
   ],
   "execution_count": 19
  },
  {
   "metadata": {},
   "cell_type": "markdown",
   "source": "- 낮은 빈도 데이터 통합",
   "id": "1c7bfe339b717742"
  },
  {
   "metadata": {
    "ExecuteTime": {
     "end_time": "2024-08-28T01:43:33.326725Z",
     "start_time": "2024-08-28T01:43:33.101507Z"
    }
   },
   "cell_type": "code",
   "source": [
    "def low_to_others(train, val, threshold=5, verbose=False):\n",
    "    _, cat_features = cal_cat_cols(train, val)\n",
    "\n",
    "    for col in cat_features:\n",
    "        unifier = low_frequency_to_others(threshold=threshold, verbose=verbose)\n",
    "        train[col] = unifier.fit_transform(train[col])\n",
    "        val[col] = unifier.transform(val[col])\n",
    "\n",
    "    return train, val\n",
    "\n",
    "train, val = low_to_others(train, val, verbose=True)"
   ],
   "id": "7a708c9445925326",
   "outputs": [
    {
     "name": "stdout",
     "output_type": "stream",
     "text": [
      "Columns:(최근4경기_착순) 변환 X\n",
      "Columns:(최근4경기_착순) 변환 X\n",
      "Columns:(번호) 변환 X\n",
      "Columns:(번호) 변환 X\n",
      "Columns:(최근7경기_착순) 변환 X\n",
      "Columns:(최근7경기_착순) 변환 X\n",
      "Columns:(성별) 변환 X\n",
      "Columns:(성별) 변환 X\n",
      "Columns:(최근8경기_착순) 변환 X\n",
      "Columns:(최근8경기_착순) 변환 X\n",
      "Columns:(최근3경기_착순) 변환 X\n",
      "Columns:(최근3경기_착순) 변환 X\n",
      "Columns:(FL) 변환 X\n",
      "Columns:(FL) 변환 X\n",
      "Columns:(최근5경기_착순) 변환 X\n",
      "Columns:(최근5경기_착순) 변환 X\n",
      "Columns:(최근2경기_착순) 변환 X\n",
      "Columns:(최근2경기_착순) 변환 X\n",
      "Columns:(최근1경기_착순) 변환 X\n",
      "Columns:(최근1경기_착순) 변환 X\n",
      "Columns:(최근6경기_착순) 변환 X\n",
      "Columns:(최근6경기_착순) 변환 X\n",
      "Columns:(전일성적) 'others'로 33252개 변환\n",
      "Columns:(전일성적) 'others'로 6184개 변환\n",
      "Columns:(선수명) 'others'로 4개 변환\n",
      "Columns:(선수명) 변환 X\n",
      "Columns:(등급) 변환 X\n",
      "Columns:(등급) 변환 X\n",
      "Columns:(기수) 변환 X\n",
      "Columns:(기수) 변환 X\n"
     ]
    }
   ],
   "execution_count": 20
  },
  {
   "metadata": {},
   "cell_type": "markdown",
   "source": "## X, y 분리",
   "id": "d6f40188a0734870"
  },
  {
   "metadata": {
    "ExecuteTime": {
     "end_time": "2024-08-28T01:43:42.226152Z",
     "start_time": "2024-08-28T01:43:42.197146Z"
    }
   },
   "cell_type": "code",
   "source": [
    "def add_y(df, target='복승', is_train=True):\n",
    "    df['rank'] = df['rank'].replace(0, 6)\n",
    "    df['target'] = 0\n",
    "    \n",
    "    if is_train:\n",
    "        if target=='단승': # 1등여부\n",
    "            condition_target = df['rank'] <= 1\n",
    "        elif target=='복승':\n",
    "            condition_target = df['rank'] <= 2\n",
    "        elif target=='삼복승':\n",
    "            condition_target = df['rank'] <= 3\n",
    "        \n",
    "        df.loc[condition_target, 'target'] = 1\n",
    "\n",
    "    return df\n",
    "\n",
    "\n",
    "\n",
    "train = add_y(train)\n",
    "val = add_y(val, target='단승')\n",
    "\n",
    "drop_cols = [\n",
    "    '전일성적', 'rank', 'target'\n",
    "]\n",
    "\n",
    "X_train = train.drop(drop_cols, axis=1)\n",
    "y_train = train[['Race_ID', '번호', 'target']]\n",
    "X_val = val.drop(drop_cols, axis=1)\n",
    "y_val = val[['Race_ID', '번호', 'target']]\n",
    "\n",
    "print(X_train.shape, y_train.shape, X_val.shape, y_val.shape)"
   ],
   "id": "de9c342ceb44bb48",
   "outputs": [
    {
     "name": "stdout",
     "output_type": "stream",
     "text": [
      "(48522, 38) (48522, 3) (8952, 38) (8952, 3)\n"
     ]
    }
   ],
   "execution_count": 21
  },
  {
   "metadata": {
    "ExecuteTime": {
     "end_time": "2024-08-28T02:10:41.028063Z",
     "start_time": "2024-08-28T02:10:40.998762Z"
    }
   },
   "cell_type": "code",
   "source": "X_train",
   "id": "1d7acce11a16d340",
   "outputs": [
    {
     "data": {
      "text/plain": [
       "     등급_1번선수 기수_1번선수 선수명_1번선수 성별_1번선수  나이_1번선수  체중_1번선수  최근6회차_평균착순점_1번선수  \\\n",
       "0         A1       1      정용진       남     44.0     56.0              6.67   \n",
       "1         A1       6      양원준       남     39.0     55.0              6.44   \n",
       "2         A2       1      김종목       남     42.0     55.0              6.33   \n",
       "3         B1       4      경상수       남     45.0     56.0              2.80   \n",
       "4         A1       4      어선규       남     38.0     57.0              7.89   \n",
       "...      ...     ...      ...     ...      ...      ...               ...   \n",
       "8082      A1       6      안지민       여     37.0     52.0              5.47   \n",
       "8083      A2       7      윤동오       남     39.0     61.0              5.00   \n",
       "8084      A1       6      손지영       여     37.0     53.0              7.16   \n",
       "8085      A2       1      강지환       남     44.0     61.0              5.17   \n",
       "8086      A2       7      정경호       남     42.0     54.0              5.65   \n",
       "\n",
       "      최근6회차_평균득점_1번선수  최근6회차_승률_1번선수  최근6회차_연대율2_1번선수  ...  5코스_성적_6번선수  \\\n",
       "0                6.60           40.0             40.0  ...     2.953116   \n",
       "1                6.28           12.5             43.8  ...    24.541313   \n",
       "2                6.33           20.0             53.3  ...    40.083977   \n",
       "3                2.80            6.7              6.7  ...    15.108977   \n",
       "4                7.83           50.0             66.7  ...     4.134363   \n",
       "...               ...            ...              ...  ...          ...   \n",
       "8082             5.11           21.1             36.8  ...    32.067181   \n",
       "8083             4.72            5.6             27.8  ...     3.445302   \n",
       "8084             7.13           31.6             57.9  ...    52.608977   \n",
       "8085             4.81           22.2             38.9  ...    27.558977   \n",
       "8086             5.53           17.6             41.2  ...     2.583977   \n",
       "\n",
       "      6코스_성적_6번선수  최근1경기_착순_6번선수  최근2경기_착순_6번선수 최근3경기_착순_6번선수  최근4경기_착순_6번선수  \\\n",
       "0       12.717459              1              6             6              3   \n",
       "1        1.595237              3              6             6              6   \n",
       "2       30.622448              6              6             1              6   \n",
       "3        2.392856              6              6             6              1   \n",
       "4       22.851427              6              6             2              6   \n",
       "...           ...            ...            ...           ...            ...   \n",
       "8082     1.794642              6              1             6              6   \n",
       "8083    12.717459              6              1             6              1   \n",
       "8084    23.839682              6              1             1              3   \n",
       "8085    23.839682              1              6             6              1   \n",
       "8086    12.717459              1              6             1              2   \n",
       "\n",
       "      최근5경기_착순_6번선수  최근6경기_착순_6번선수  최근7경기_착순_6번선수  최근8경기_착순_6번선수  \n",
       "0                 3              6              6              6  \n",
       "1                 1              6              6              6  \n",
       "2                 1              3              1              6  \n",
       "3                 3              6              6              1  \n",
       "4                 6              6              3              2  \n",
       "...             ...            ...            ...            ...  \n",
       "8082              3              6              6              6  \n",
       "8083              1              3              3              6  \n",
       "8084              3              6              3              1  \n",
       "8085              3              2              1              1  \n",
       "8086              2              6              3              2  \n",
       "\n",
       "[8087 rows x 216 columns]"
      ],
      "text/html": [
       "<div>\n",
       "<style scoped>\n",
       "    .dataframe tbody tr th:only-of-type {\n",
       "        vertical-align: middle;\n",
       "    }\n",
       "\n",
       "    .dataframe tbody tr th {\n",
       "        vertical-align: top;\n",
       "    }\n",
       "\n",
       "    .dataframe thead th {\n",
       "        text-align: right;\n",
       "    }\n",
       "</style>\n",
       "<table border=\"1\" class=\"dataframe\">\n",
       "  <thead>\n",
       "    <tr style=\"text-align: right;\">\n",
       "      <th></th>\n",
       "      <th>등급_1번선수</th>\n",
       "      <th>기수_1번선수</th>\n",
       "      <th>선수명_1번선수</th>\n",
       "      <th>성별_1번선수</th>\n",
       "      <th>나이_1번선수</th>\n",
       "      <th>체중_1번선수</th>\n",
       "      <th>최근6회차_평균착순점_1번선수</th>\n",
       "      <th>최근6회차_평균득점_1번선수</th>\n",
       "      <th>최근6회차_승률_1번선수</th>\n",
       "      <th>최근6회차_연대율2_1번선수</th>\n",
       "      <th>...</th>\n",
       "      <th>5코스_성적_6번선수</th>\n",
       "      <th>6코스_성적_6번선수</th>\n",
       "      <th>최근1경기_착순_6번선수</th>\n",
       "      <th>최근2경기_착순_6번선수</th>\n",
       "      <th>최근3경기_착순_6번선수</th>\n",
       "      <th>최근4경기_착순_6번선수</th>\n",
       "      <th>최근5경기_착순_6번선수</th>\n",
       "      <th>최근6경기_착순_6번선수</th>\n",
       "      <th>최근7경기_착순_6번선수</th>\n",
       "      <th>최근8경기_착순_6번선수</th>\n",
       "    </tr>\n",
       "  </thead>\n",
       "  <tbody>\n",
       "    <tr>\n",
       "      <th>0</th>\n",
       "      <td>A1</td>\n",
       "      <td>1</td>\n",
       "      <td>정용진</td>\n",
       "      <td>남</td>\n",
       "      <td>44.0</td>\n",
       "      <td>56.0</td>\n",
       "      <td>6.67</td>\n",
       "      <td>6.60</td>\n",
       "      <td>40.0</td>\n",
       "      <td>40.0</td>\n",
       "      <td>...</td>\n",
       "      <td>2.953116</td>\n",
       "      <td>12.717459</td>\n",
       "      <td>1</td>\n",
       "      <td>6</td>\n",
       "      <td>6</td>\n",
       "      <td>3</td>\n",
       "      <td>3</td>\n",
       "      <td>6</td>\n",
       "      <td>6</td>\n",
       "      <td>6</td>\n",
       "    </tr>\n",
       "    <tr>\n",
       "      <th>1</th>\n",
       "      <td>A1</td>\n",
       "      <td>6</td>\n",
       "      <td>양원준</td>\n",
       "      <td>남</td>\n",
       "      <td>39.0</td>\n",
       "      <td>55.0</td>\n",
       "      <td>6.44</td>\n",
       "      <td>6.28</td>\n",
       "      <td>12.5</td>\n",
       "      <td>43.8</td>\n",
       "      <td>...</td>\n",
       "      <td>24.541313</td>\n",
       "      <td>1.595237</td>\n",
       "      <td>3</td>\n",
       "      <td>6</td>\n",
       "      <td>6</td>\n",
       "      <td>6</td>\n",
       "      <td>1</td>\n",
       "      <td>6</td>\n",
       "      <td>6</td>\n",
       "      <td>6</td>\n",
       "    </tr>\n",
       "    <tr>\n",
       "      <th>2</th>\n",
       "      <td>A2</td>\n",
       "      <td>1</td>\n",
       "      <td>김종목</td>\n",
       "      <td>남</td>\n",
       "      <td>42.0</td>\n",
       "      <td>55.0</td>\n",
       "      <td>6.33</td>\n",
       "      <td>6.33</td>\n",
       "      <td>20.0</td>\n",
       "      <td>53.3</td>\n",
       "      <td>...</td>\n",
       "      <td>40.083977</td>\n",
       "      <td>30.622448</td>\n",
       "      <td>6</td>\n",
       "      <td>6</td>\n",
       "      <td>1</td>\n",
       "      <td>6</td>\n",
       "      <td>1</td>\n",
       "      <td>3</td>\n",
       "      <td>1</td>\n",
       "      <td>6</td>\n",
       "    </tr>\n",
       "    <tr>\n",
       "      <th>3</th>\n",
       "      <td>B1</td>\n",
       "      <td>4</td>\n",
       "      <td>경상수</td>\n",
       "      <td>남</td>\n",
       "      <td>45.0</td>\n",
       "      <td>56.0</td>\n",
       "      <td>2.80</td>\n",
       "      <td>2.80</td>\n",
       "      <td>6.7</td>\n",
       "      <td>6.7</td>\n",
       "      <td>...</td>\n",
       "      <td>15.108977</td>\n",
       "      <td>2.392856</td>\n",
       "      <td>6</td>\n",
       "      <td>6</td>\n",
       "      <td>6</td>\n",
       "      <td>1</td>\n",
       "      <td>3</td>\n",
       "      <td>6</td>\n",
       "      <td>6</td>\n",
       "      <td>1</td>\n",
       "    </tr>\n",
       "    <tr>\n",
       "      <th>4</th>\n",
       "      <td>A1</td>\n",
       "      <td>4</td>\n",
       "      <td>어선규</td>\n",
       "      <td>남</td>\n",
       "      <td>38.0</td>\n",
       "      <td>57.0</td>\n",
       "      <td>7.89</td>\n",
       "      <td>7.83</td>\n",
       "      <td>50.0</td>\n",
       "      <td>66.7</td>\n",
       "      <td>...</td>\n",
       "      <td>4.134363</td>\n",
       "      <td>22.851427</td>\n",
       "      <td>6</td>\n",
       "      <td>6</td>\n",
       "      <td>2</td>\n",
       "      <td>6</td>\n",
       "      <td>6</td>\n",
       "      <td>6</td>\n",
       "      <td>3</td>\n",
       "      <td>2</td>\n",
       "    </tr>\n",
       "    <tr>\n",
       "      <th>...</th>\n",
       "      <td>...</td>\n",
       "      <td>...</td>\n",
       "      <td>...</td>\n",
       "      <td>...</td>\n",
       "      <td>...</td>\n",
       "      <td>...</td>\n",
       "      <td>...</td>\n",
       "      <td>...</td>\n",
       "      <td>...</td>\n",
       "      <td>...</td>\n",
       "      <td>...</td>\n",
       "      <td>...</td>\n",
       "      <td>...</td>\n",
       "      <td>...</td>\n",
       "      <td>...</td>\n",
       "      <td>...</td>\n",
       "      <td>...</td>\n",
       "      <td>...</td>\n",
       "      <td>...</td>\n",
       "      <td>...</td>\n",
       "      <td>...</td>\n",
       "    </tr>\n",
       "    <tr>\n",
       "      <th>8082</th>\n",
       "      <td>A1</td>\n",
       "      <td>6</td>\n",
       "      <td>안지민</td>\n",
       "      <td>여</td>\n",
       "      <td>37.0</td>\n",
       "      <td>52.0</td>\n",
       "      <td>5.47</td>\n",
       "      <td>5.11</td>\n",
       "      <td>21.1</td>\n",
       "      <td>36.8</td>\n",
       "      <td>...</td>\n",
       "      <td>32.067181</td>\n",
       "      <td>1.794642</td>\n",
       "      <td>6</td>\n",
       "      <td>1</td>\n",
       "      <td>6</td>\n",
       "      <td>6</td>\n",
       "      <td>3</td>\n",
       "      <td>6</td>\n",
       "      <td>6</td>\n",
       "      <td>6</td>\n",
       "    </tr>\n",
       "    <tr>\n",
       "      <th>8083</th>\n",
       "      <td>A2</td>\n",
       "      <td>7</td>\n",
       "      <td>윤동오</td>\n",
       "      <td>남</td>\n",
       "      <td>39.0</td>\n",
       "      <td>61.0</td>\n",
       "      <td>5.00</td>\n",
       "      <td>4.72</td>\n",
       "      <td>5.6</td>\n",
       "      <td>27.8</td>\n",
       "      <td>...</td>\n",
       "      <td>3.445302</td>\n",
       "      <td>12.717459</td>\n",
       "      <td>6</td>\n",
       "      <td>1</td>\n",
       "      <td>6</td>\n",
       "      <td>1</td>\n",
       "      <td>1</td>\n",
       "      <td>3</td>\n",
       "      <td>3</td>\n",
       "      <td>6</td>\n",
       "    </tr>\n",
       "    <tr>\n",
       "      <th>8084</th>\n",
       "      <td>A1</td>\n",
       "      <td>6</td>\n",
       "      <td>손지영</td>\n",
       "      <td>여</td>\n",
       "      <td>37.0</td>\n",
       "      <td>53.0</td>\n",
       "      <td>7.16</td>\n",
       "      <td>7.13</td>\n",
       "      <td>31.6</td>\n",
       "      <td>57.9</td>\n",
       "      <td>...</td>\n",
       "      <td>52.608977</td>\n",
       "      <td>23.839682</td>\n",
       "      <td>6</td>\n",
       "      <td>1</td>\n",
       "      <td>1</td>\n",
       "      <td>3</td>\n",
       "      <td>3</td>\n",
       "      <td>6</td>\n",
       "      <td>3</td>\n",
       "      <td>1</td>\n",
       "    </tr>\n",
       "    <tr>\n",
       "      <th>8085</th>\n",
       "      <td>A2</td>\n",
       "      <td>1</td>\n",
       "      <td>강지환</td>\n",
       "      <td>남</td>\n",
       "      <td>44.0</td>\n",
       "      <td>61.0</td>\n",
       "      <td>5.17</td>\n",
       "      <td>4.81</td>\n",
       "      <td>22.2</td>\n",
       "      <td>38.9</td>\n",
       "      <td>...</td>\n",
       "      <td>27.558977</td>\n",
       "      <td>23.839682</td>\n",
       "      <td>1</td>\n",
       "      <td>6</td>\n",
       "      <td>6</td>\n",
       "      <td>1</td>\n",
       "      <td>3</td>\n",
       "      <td>2</td>\n",
       "      <td>1</td>\n",
       "      <td>1</td>\n",
       "    </tr>\n",
       "    <tr>\n",
       "      <th>8086</th>\n",
       "      <td>A2</td>\n",
       "      <td>7</td>\n",
       "      <td>정경호</td>\n",
       "      <td>남</td>\n",
       "      <td>42.0</td>\n",
       "      <td>54.0</td>\n",
       "      <td>5.65</td>\n",
       "      <td>5.53</td>\n",
       "      <td>17.6</td>\n",
       "      <td>41.2</td>\n",
       "      <td>...</td>\n",
       "      <td>2.583977</td>\n",
       "      <td>12.717459</td>\n",
       "      <td>1</td>\n",
       "      <td>6</td>\n",
       "      <td>1</td>\n",
       "      <td>2</td>\n",
       "      <td>2</td>\n",
       "      <td>6</td>\n",
       "      <td>3</td>\n",
       "      <td>2</td>\n",
       "    </tr>\n",
       "  </tbody>\n",
       "</table>\n",
       "<p>8087 rows × 216 columns</p>\n",
       "</div>"
      ]
     },
     "execution_count": 48,
     "metadata": {},
     "output_type": "execute_result"
    }
   ],
   "execution_count": 48
  },
  {
   "metadata": {
    "ExecuteTime": {
     "end_time": "2024-08-28T01:43:46.088402Z",
     "start_time": "2024-08-28T01:43:45.925801Z"
    }
   },
   "cell_type": "code",
   "source": [
    "def create_player_df(df, player_number):\n",
    "    df['번호'] = df['번호'].astype('float')\n",
    "    player_df = df[df['번호'] == player_number].copy()\n",
    "    player_df.drop('번호', axis=1, inplace=True)\n",
    "\n",
    "    # 컬럼명에 선수 번호를 추가\n",
    "    new_columns = {col: f'{col}_{player_number}번선수' for col in player_df.columns if col != 'Race_ID'}\n",
    "    player_df.rename(columns=new_columns, inplace=True)\n",
    "\n",
    "    # 'Race_ID' 컬럼만 유지하고 나머지는 선수 번호가 붙은 컬럼으로 변경\n",
    "    player_df = player_df[['Race_ID'] + list(new_columns.values())]\n",
    "\n",
    "    return player_df\n",
    "\n",
    "def merge_all_players(df):\n",
    "    merged_df = None\n",
    "\n",
    "    for player_number in range(1, 7):\n",
    "        player_df = create_player_df(df, player_number)\n",
    "\n",
    "        if merged_df is None:\n",
    "            merged_df = player_df\n",
    "        else:\n",
    "            merged_df = pd.merge(merged_df, player_df, on='Race_ID', how='inner')\n",
    "            \n",
    "    merged_df.drop('Race_ID', axis=1, inplace=True)\n",
    "\n",
    "    return merged_df\n",
    "\n",
    "X_train_merged = merge_all_players(X_train)\n",
    "y_train_merged = merge_all_players(y_train)\n",
    "y_train_merged = np.array(y_train_merged)\n",
    "\n",
    "X_val_merged = merge_all_players(X_val)\n",
    "y_val_merged = merge_all_players(y_val)\n",
    "y_val_merged = np.array(y_val_merged)\n",
    "\n",
    "print(X_train_merged.shape, y_train_merged.shape, X_val_merged.shape, y_val_merged.shape)"
   ],
   "id": "4a4168a133beb7ac",
   "outputs": [
    {
     "name": "stdout",
     "output_type": "stream",
     "text": [
      "(8087, 216) (8087, 6) (1492, 216) (1492, 6)\n"
     ]
    }
   ],
   "execution_count": 22
  },
  {
   "metadata": {
    "ExecuteTime": {
     "end_time": "2024-08-28T01:51:57.121397Z",
     "start_time": "2024-08-28T01:51:55.591624Z"
    }
   },
   "cell_type": "code",
   "source": [
    "def all_precoess(train, val, target_value='단승', is_train=True):\n",
    "    RANDOM_STATE = 999\n",
    "    \n",
    "    train = drop_columns_from_datasets(train)\n",
    "    val = drop_columns_from_datasets(val)\n",
    "\n",
    "    train = separation_course(train)\n",
    "    val = separation_course(val)\n",
    "\n",
    "    train, val = laplace_smoothing_to_course(train, val, alpha=1)\n",
    "\n",
    "    train = split_last_eight_rank(train)\n",
    "    train = adjust_for_top3(train)\n",
    "    \n",
    "    val = split_last_eight_rank(val)\n",
    "    val = adjust_for_top3(val)\n",
    "\n",
    "    # num_features, cat_features = cal_cat_cols(train, val)\n",
    "\n",
    "    # train, val = low_to_others(train, val)\n",
    "\n",
    "    if is_train:\n",
    "        train = add_y(train, target=target_value, is_train=True)\n",
    "        val = add_y(val, target=target_value, is_train=True)\n",
    "    else:\n",
    "        train = add_y(train, target=target_value, is_train=False)\n",
    "        val = add_y(val, target=target_value, is_train=False)\n",
    "\n",
    "    drop_cols = [\n",
    "        '전일성적', 'rank', 'target'\n",
    "    ]\n",
    "    X_train = train.drop(drop_cols, axis=1)\n",
    "    y_train = train[['Race_ID', '번호', 'target']]\n",
    "    X_val = val.drop(drop_cols, axis=1)\n",
    "    y_val = val[['Race_ID', '번호', 'target']]\n",
    "\n",
    "\n",
    "    X_train_merged = merge_all_players(X_train)\n",
    "    y_train_merged = merge_all_players(y_train)\n",
    "    y_train_merged = np.array(y_train_merged)\n",
    "    \n",
    "    X_val_merged = merge_all_players(X_val)\n",
    "    y_val_merged = merge_all_players(y_val)\n",
    "    y_val_merged = np.array(y_val_merged)\n",
    "    \n",
    "\n",
    "    X_train_merged, X_val_merged = low_to_others(X_train_merged, X_val_merged, threshold=5, verbose=False)\n",
    "    \n",
    "    \n",
    "    return X_train_merged, y_train_merged, X_val_merged, y_val_merged\n",
    "\n",
    "\n",
    "train = pd.read_csv(os.path.join(ROOT_DIR, \"train.csv\"))\n",
    "val = pd.read_csv(os.path.join(ROOT_DIR, \"val.csv\"))\n",
    "\n",
    "target_value='단승'\n",
    "X_train, y_train, X_val, y_val = all_precoess(train, val, target_value=target_value, is_train=True)\n",
    "\n",
    "print(X_train.shape, y_train.shape, X_val.shape, y_val.shape)"
   ],
   "id": "e383d255c53505cc",
   "outputs": [
    {
     "name": "stdout",
     "output_type": "stream",
     "text": [
      "(8087, 216) (8087, 6) (1492, 216) (1492, 6)\n"
     ]
    }
   ],
   "execution_count": 36
  },
  {
   "metadata": {
    "ExecuteTime": {
     "end_time": "2024-08-28T02:01:47.861698Z",
     "start_time": "2024-08-28T01:58:35.688293Z"
    }
   },
   "cell_type": "code",
   "source": [
    "from catboost import CatBoostClassifier\n",
    "from sklearn.metrics import accuracy_score, f1_score\n",
    "\n",
    "class custom_CatBoostClassifier():\n",
    "    def __init__(self, params):\n",
    "        self.models = [CatBoostClassifier(**params) for _ in range(6)]\n",
    "\n",
    "    def fit(self, X, y, eval_set=None, cat_features=None):\n",
    "        y = np.array(y)  # y를 numpy 배열로 변환\n",
    "        if eval_set is not None:\n",
    "            X_val, y_val = eval_set\n",
    "            y_val = np.array(y_val)  # y_val을 numpy 배열로 변환\n",
    "\n",
    "        for i in range(6):\n",
    "            y_i = y[:, i]  # i번째 레이블에 대한 y 값\n",
    "\n",
    "            if eval_set is not None:\n",
    "                y_val_i = y_val[:, i]  # i번째 레이블에 대한 y_val 값\n",
    "                eval_set_i = (X_val, y_val_i)\n",
    "            else:\n",
    "                eval_set_i = None\n",
    "\n",
    "            self.models[i].fit(\n",
    "                X, y_i,\n",
    "                eval_set=eval_set_i,\n",
    "                cat_features=cat_features\n",
    "            )\n",
    "            print(f'{i+1}번째 레이블 학습 완료')\n",
    "\n",
    "    def predict(self, X):\n",
    "        preds = [model.predict(X) for model in self.models]\n",
    "        return np.vstack(preds).T\n",
    "\n",
    "    def predict_proba(self, X):\n",
    "        probas = [model.predict_proba(X)[:, 1] for model in self.models]\n",
    "        return np.vstack(probas).T\n",
    "    \n",
    "    \n",
    "params = {\n",
    "    'random_seed': RANDOM_STATE,\n",
    "    'iterations': 3000,\n",
    "    'learning_rate': 0.05,\n",
    "    'early_stopping_rounds': 100,\n",
    "    'auto_class_weights': 'SqrtBalanced',\n",
    "    'eval_metric': 'F1',\n",
    "    'verbose': 200,\n",
    "    'thread_count':-1\n",
    "}\n",
    "\n",
    "model = custom_CatBoostClassifier(params)\n",
    "_, cat_features = cal_cat_cols(X_train, X_val)\n",
    "model.fit(\n",
    "    X_train, y_train,\n",
    "    eval_set=(X_val, y_val),\n",
    "    cat_features=cat_features,\n",
    ")\n"
   ],
   "id": "607c5cda9d3e1a07",
   "outputs": [
    {
     "name": "stdout",
     "output_type": "stream",
     "text": [
      "0:\tlearn: 0.5659699\ttest: 0.4789589\tbest: 0.4789589 (0)\ttotal: 225ms\tremaining: 3m 44s\n",
      "200:\tlearn: 0.7072795\ttest: 0.5706864\tbest: 0.5777845 (182)\ttotal: 21.4s\tremaining: 1m 25s\n",
      "Stopped by overfitting detector  (100 iterations wait)\n",
      "\n",
      "bestTest = 0.5777845017\n",
      "bestIteration = 182\n",
      "\n",
      "Shrink model to first 183 iterations.\n",
      "1번째 레이블 학습 완료\n",
      "0:\tlearn: 0.3902750\ttest: 0.4417537\tbest: 0.4417537 (0)\ttotal: 92.8ms\tremaining: 1m 32s\n",
      "200:\tlearn: 0.6269496\ttest: 0.5628709\tbest: 0.5651784 (199)\ttotal: 21.1s\tremaining: 1m 24s\n",
      "Stopped by overfitting detector  (100 iterations wait)\n",
      "\n",
      "bestTest = 0.5665215697\n",
      "bestIteration = 203\n",
      "\n",
      "Shrink model to first 204 iterations.\n",
      "2번째 레이블 학습 완료\n",
      "0:\tlearn: 0.1579334\ttest: 0.1334953\tbest: 0.1334953 (0)\ttotal: 74.4ms\tremaining: 1m 14s\n",
      "200:\tlearn: 0.5955107\ttest: 0.4045951\tbest: 0.4077095 (173)\ttotal: 21.9s\tremaining: 1m 26s\n",
      "Stopped by overfitting detector  (100 iterations wait)\n",
      "\n",
      "bestTest = 0.4225564511\n",
      "bestIteration = 237\n",
      "\n",
      "Shrink model to first 238 iterations.\n",
      "3번째 레이블 학습 완료\n",
      "0:\tlearn: 0.0075137\ttest: 0.0000000\tbest: 0.0000000 (0)\ttotal: 87.3ms\tremaining: 1m 27s\n",
      "200:\tlearn: 0.5165289\ttest: 0.1512438\tbest: 0.1774118 (188)\ttotal: 21.1s\tremaining: 1m 24s\n",
      "400:\tlearn: 0.8191238\ttest: 0.1848815\tbest: 0.2018656 (328)\ttotal: 40.9s\tremaining: 1m 1s\n",
      "Stopped by overfitting detector  (100 iterations wait)\n",
      "\n",
      "bestTest = 0.2018655566\n",
      "bestIteration = 328\n",
      "\n",
      "Shrink model to first 329 iterations.\n",
      "4번째 레이블 학습 완료\n",
      "0:\tlearn: 0.1275981\ttest: 0.0175193\tbest: 0.0175193 (0)\ttotal: 67.8ms\tremaining: 1m 7s\n",
      "200:\tlearn: 0.5779344\ttest: 0.1143054\tbest: 0.1292732 (179)\ttotal: 18.5s\tremaining: 1m 13s\n",
      "Stopped by overfitting detector  (100 iterations wait)\n",
      "\n",
      "bestTest = 0.1292732482\n",
      "bestIteration = 179\n",
      "\n",
      "Shrink model to first 180 iterations.\n",
      "5번째 레이블 학습 완료\n",
      "0:\tlearn: 0.0056022\ttest: 0.0000000\tbest: 0.0000000 (0)\ttotal: 83.1ms\tremaining: 1m 23s\n",
      "200:\tlearn: 0.7033097\ttest: 0.0383035\tbest: 0.0748655 (109)\ttotal: 18.6s\tremaining: 1m 13s\n",
      "Stopped by overfitting detector  (100 iterations wait)\n",
      "\n",
      "bestTest = 0.07486546062\n",
      "bestIteration = 109\n",
      "\n",
      "Shrink model to first 110 iterations.\n",
      "6번째 레이블 학습 완료\n"
     ]
    }
   ],
   "execution_count": 41
  },
  {
   "metadata": {
    "ExecuteTime": {
     "end_time": "2024-08-28T02:02:30.769644Z",
     "start_time": "2024-08-28T02:02:30.613609Z"
    }
   },
   "cell_type": "code",
   "source": [
    "# 모델 예측\n",
    "y_pred = model.predict_proba(X_val)\n",
    "\n",
    "y_pred_max = np.zeros_like(y_pred)\n",
    "for i in range(y_pred.shape[0]):  # 각 샘플에 대해 반복\n",
    "    if target_value=='단승':\n",
    "        max_indices = np.argsort(y_pred[i])[-1:]  # 가장 큰 두 개의 값의 인덱스 찾기\n",
    "    elif target_value=='복승':\n",
    "        max_indices = np.argsort(y_pred[i])[-2:]\n",
    "    elif target_value=='삼복승':\n",
    "        max_indices = np.argsort(y_pred[i])[-3:]\n",
    "    y_pred_max[i, max_indices] = 1  # 해당 인덱스에 1 설정\n",
    "\n",
    "\n",
    "y_pred_max"
   ],
   "id": "b6bf42aa889b530b",
   "outputs": [
    {
     "data": {
      "text/plain": [
       "array([[1., 0., 0., 0., 0., 0.],\n",
       "       [1., 0., 0., 0., 0., 0.],\n",
       "       [1., 0., 0., 0., 0., 0.],\n",
       "       ...,\n",
       "       [0., 1., 0., 0., 0., 0.],\n",
       "       [0., 0., 0., 1., 0., 0.],\n",
       "       [0., 0., 0., 1., 0., 0.]])"
      ]
     },
     "execution_count": 42,
     "metadata": {},
     "output_type": "execute_result"
    }
   ],
   "execution_count": 42
  },
  {
   "metadata": {
    "ExecuteTime": {
     "end_time": "2024-08-28T02:02:32.736042Z",
     "start_time": "2024-08-28T02:02:32.730235Z"
    }
   },
   "cell_type": "code",
   "source": [
    "accuracy = accuracy_score(y_pred_max, y_val)\n",
    "print(f'Val Accuracy: {accuracy}') # val 경기중, 23%는 모두 맞췄다는 의미"
   ],
   "id": "cd2c62f97c0c8b24",
   "outputs": [
    {
     "name": "stdout",
     "output_type": "stream",
     "text": [
      "Val Accuracy: 0.47989276139410186\n"
     ]
    }
   ],
   "execution_count": 43
  },
  {
   "metadata": {},
   "cell_type": "markdown",
   "source": "# Test",
   "id": "c1dc2d466cee7324"
  },
  {
   "metadata": {
    "ExecuteTime": {
     "end_time": "2024-08-28T02:02:37.719662Z",
     "start_time": "2024-08-28T02:02:36.231702Z"
    }
   },
   "cell_type": "code",
   "source": [
    "train = pd.read_csv(os.path.join(ROOT_DIR, \"train.csv\"))\n",
    "test = pd.read_csv(os.path.join(ROOT_DIR, \"test.csv\"))\n",
    "\n",
    "target_value='단승'\n",
    "X_train, y_train, X_test, y_test = all_precoess(train, test, target_value=target_value, is_train=True)\n",
    "print(X_train.shape, y_train.shape, X_val.shape, y_test.shape)"
   ],
   "id": "42180cdbd14bd157",
   "outputs": [
    {
     "name": "stdout",
     "output_type": "stream",
     "text": [
      "(8087, 216) (8087, 6) (1492, 216) (976, 6)\n"
     ]
    }
   ],
   "execution_count": 44
  },
  {
   "metadata": {
    "ExecuteTime": {
     "end_time": "2024-08-28T02:02:38.760675Z",
     "start_time": "2024-08-28T02:02:38.651664Z"
    }
   },
   "cell_type": "code",
   "source": [
    "# 모델 예측\n",
    "y_pred_test = model.predict_proba(X_test)\n",
    "\n",
    "y_pred_max = np.zeros_like(y_pred_test)\n",
    "for i in range(y_pred_test.shape[0]):  # 각 샘플에 대해 반복\n",
    "    if target_value=='단승':\n",
    "        max_indices = np.argsort(y_pred_test[i])[-1:]  # 가장 큰 두 개의 값의 인덱스 찾기\n",
    "    elif target_value=='복승':\n",
    "        max_indices = np.argsort(y_pred_test[i])[-2:]\n",
    "    elif target_value=='삼복승':\n",
    "        max_indices = np.argsort(y_pred_test[i])[-3:]\n",
    "    y_pred_max[i, max_indices] = 1  # 해당 인덱스에 1 설정\n"
   ],
   "id": "1937933c60b1d1cb",
   "outputs": [],
   "execution_count": 45
  },
  {
   "metadata": {
    "ExecuteTime": {
     "end_time": "2024-08-28T02:02:39.598888Z",
     "start_time": "2024-08-28T02:02:39.583933Z"
    }
   },
   "cell_type": "code",
   "source": [
    "accuracy = accuracy_score(y_pred_max, y_test)\n",
    "print(f'Val Accuracy: {accuracy}') # val 경기중, 23%는 모두 맞췄다는 의미"
   ],
   "id": "9f842e1c003bb8cf",
   "outputs": [
    {
     "name": "stdout",
     "output_type": "stream",
     "text": [
      "Val Accuracy: 0.44364754098360654\n"
     ]
    }
   ],
   "execution_count": 46
  },
  {
   "metadata": {},
   "cell_type": "markdown",
   "source": "# Submisssion",
   "id": "ab98a22d698480ac"
  },
  {
   "metadata": {},
   "cell_type": "code",
   "source": "",
   "id": "ba5033bd7e872cc4",
   "outputs": [],
   "execution_count": null
  }
 ],
 "metadata": {
  "kernelspec": {
   "display_name": "Python 3",
   "language": "python",
   "name": "python3"
  },
  "language_info": {
   "codemirror_mode": {
    "name": "ipython",
    "version": 2
   },
   "file_extension": ".py",
   "mimetype": "text/x-python",
   "name": "python",
   "nbconvert_exporter": "python",
   "pygments_lexer": "ipython2",
   "version": "2.7.6"
  }
 },
 "nbformat": 4,
 "nbformat_minor": 5
}
