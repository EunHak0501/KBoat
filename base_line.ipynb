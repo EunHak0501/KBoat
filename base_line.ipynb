{
 "cells": [
  {
   "cell_type": "code",
   "id": "initial_id",
   "metadata": {
    "collapsed": true,
    "ExecuteTime": {
     "end_time": "2024-09-01T14:07:36.462316Z",
     "start_time": "2024-09-01T14:07:36.454070Z"
    }
   },
   "source": [
    "import pandas as pd\n",
    "import numpy as np\n",
    "import os\n",
    "import matplotlib.pyplot as plt\n",
    "from encoding_function import low_frequency_to_others\n",
    "\n",
    "import warnings\n",
    "warnings.filterwarnings('ignore')"
   ],
   "outputs": [],
   "execution_count": 2
  },
  {
   "metadata": {
    "ExecuteTime": {
     "end_time": "2024-09-01T14:07:36.866553Z",
     "start_time": "2024-09-01T14:07:36.859136Z"
    }
   },
   "cell_type": "code",
   "source": [
    "# from ctgan import CTGAN\n",
    "# import random\n",
    "# \n",
    "# data = pd.DataFrame({\n",
    "#     'age': [25, 45, 35, 50, 23, 36, 29, 42, 58, 33],\n",
    "#     'income': [50000, 100000, 75000, 110000, 48000, 60000, 52000, 90000, 120000, 70000],\n",
    "#     'gender': ['M', 'F', 'M', 'F', 'M', 'M', 'F', 'F', 'M', 'F'],\n",
    "#     'purchased': [0, 1, 0, 1, 0, 1, 0, 1, 1, 0]  # 이것이 target 값이라고 가정\n",
    "# })\n",
    "# \n",
    "# random.seed(42)\n",
    "# np.random.seed(42)\n",
    "# # CTGAN 모델 생성\n",
    "# # ctgan = CTGAN(epochs=100, verbose=True)\n",
    "# \n",
    "# # 모델 학습 (target도 다른 변수와 함께 사용됨)\n",
    "# # ctgan.fit(data, discrete_columns=['gender', 'purchased'])\n",
    "# \n",
    "# # 새로운 데이터 생성\n",
    "# new_data = ctgan.sample(10)\n",
    "# display(new_data)"
   ],
   "id": "dc876288f62762c7",
   "outputs": [],
   "execution_count": 3
  },
  {
   "metadata": {},
   "cell_type": "markdown",
   "source": [
    "### 데이터 불러오기\n",
    "- 학습: 2023년도 이전\n",
    "- 검증: 2023년\n",
    "- 테스트: 2024년"
   ],
   "id": "612fa091ac8898db"
  },
  {
   "metadata": {
    "ExecuteTime": {
     "end_time": "2024-09-01T14:07:38.524866Z",
     "start_time": "2024-09-01T14:07:38.319787Z"
    }
   },
   "cell_type": "code",
   "source": [
    "def add_y(df):\n",
    "    df['rank'] = df['rank'].replace(0, 6)\n",
    "\n",
    "    target_cols = [\n",
    "        '단승', '복승', '삼복승'\n",
    "    ]\n",
    "    for i, col in enumerate(target_cols):\n",
    "        condition_target = df['rank'] <= i+1\n",
    "        df.loc[condition_target, col] = 1\n",
    "\n",
    "    df[target_cols] = df[target_cols].fillna(0)\n",
    "    df.drop(['rank'], axis=1, inplace=True)\n",
    "    return df\n",
    "\n",
    "\n",
    "ROOT_DIR = \"data\"\n",
    "RANDOM_STATE = 999\n",
    "\n",
    "train = pd.read_csv(os.path.join(ROOT_DIR, \"train.csv\"))\n",
    "test = pd.read_csv(os.path.join(ROOT_DIR, \"test.csv\"))\n",
    "\n",
    "train = add_y(train)\n",
    "test = add_y(test)\n",
    "\n",
    "print(train.shape, test.shape)"
   ],
   "id": "fc7baeed3df515e6",
   "outputs": [
    {
     "name": "stdout",
     "output_type": "stream",
     "text": [
      "(57474, 45) (5856, 45)\n"
     ]
    }
   ],
   "execution_count": 4
  },
  {
   "metadata": {},
   "cell_type": "markdown",
   "source": "## 사용하지 않는 feature drop",
   "id": "b85feb78ce70647c"
  },
  {
   "metadata": {},
   "cell_type": "markdown",
   "source": "- 전일 성적을 어떻게 반영할지",
   "id": "d273bbdb0803f1e0"
  },
  {
   "metadata": {
    "ExecuteTime": {
     "end_time": "2024-09-01T14:07:48.233777Z",
     "start_time": "2024-09-01T14:07:48.213772Z"
    }
   },
   "cell_type": "code",
   "source": [
    "def drop_columns_from_datasets(df):\n",
    "    drop_cols = [\n",
    "        '연도', '회차', '일차', '경주번호',\n",
    "        '금일출주경주',\n",
    "        '모터번호', '전탑승선수1', '전탑승선수2',\n",
    "        '보트번호', '특이사항',\n",
    "        '전일성적'\n",
    "    ]\n",
    "\n",
    "    df = df.drop(drop_cols, axis=1)\n",
    "\n",
    "    return df\n",
    "\n",
    "\n",
    "train = drop_columns_from_datasets(train)\n",
    "test = drop_columns_from_datasets(test)\n",
    "\n",
    "print(train.shape, test.shape)"
   ],
   "id": "c8e70aede39457c4",
   "outputs": [
    {
     "name": "stdout",
     "output_type": "stream",
     "text": [
      "(57474, 34) (5856, 34)\n"
     ]
    }
   ],
   "execution_count": 5
  },
  {
   "metadata": {},
   "cell_type": "markdown",
   "source": "## 일부 숫자형 변수 변환",
   "id": "d9b5a5c06231b8d3"
  },
  {
   "metadata": {},
   "cell_type": "markdown",
   "source": "- 코스별 성적/경기수 분리",
   "id": "415d3de999d33ce9"
  },
  {
   "metadata": {
    "ExecuteTime": {
     "end_time": "2024-09-01T14:07:54.775642Z",
     "start_time": "2024-09-01T14:07:53.999907Z"
    }
   },
   "cell_type": "code",
   "source": [
    "def separation_course(df):\n",
    "    col_list = [\n",
    "        '코스_1코스', '코스_2코스', '코스_3코스', '코스_4코스', '코스_5코스', '코스_6코스'\n",
    "    ]\n",
    "    for col in col_list:\n",
    "        df[[f'{col[3:]}_성적', f'{col[3:]}_경기수']] = df[col].fillna('').str.split('/', expand=True)\n",
    "\n",
    "    df.drop(col_list, axis=1, inplace=True)\n",
    "\n",
    "    return df\n",
    "        \n",
    "\n",
    "\n",
    "train = separation_course(train)\n",
    "test = separation_course(test)\n",
    "\n",
    "print(train.shape, test.shape)"
   ],
   "id": "4de76893ce9cd206",
   "outputs": [
    {
     "name": "stdout",
     "output_type": "stream",
     "text": [
      "(57474, 40) (5856, 40)\n"
     ]
    }
   ],
   "execution_count": 6
  },
  {
   "metadata": {},
   "cell_type": "markdown",
   "source": "- 코스별 성적 스무딩",
   "id": "82e3ad637e2d6e7a"
  },
  {
   "metadata": {
    "ExecuteTime": {
     "end_time": "2024-09-01T14:25:44.660047Z",
     "start_time": "2024-09-01T14:25:44.519730Z"
    }
   },
   "cell_type": "code",
   "source": [
    "def apply_laplace_smoothing(df, col, global_mean, alpha):\n",
    "    # 경기수 0인 값이 너무 높게 나오는 경향이 있어 분모에 상수 1 추가(없애도 됨)\n",
    "    encoded_value = (df[f'{col}_성적'] * df[f'{col}_경기수'] + global_mean * alpha) / (1 + df[f'{col}_경기수'] + alpha)\n",
    "    df[f'{col}_성적'] = encoded_value\n",
    "\n",
    "    return df\n",
    "\n",
    "def laplace_smoothing_to_course(train, val=None, alpha=1):\n",
    "    col_list = [\n",
    "        '1코스', '2코스', '3코스', '4코스', '5코스', '6코스'\n",
    "    ]\n",
    "    for col in col_list:\n",
    "        train[f'{col}_성적'] = train[f'{col}_성적'].astype(float)\n",
    "        train[f'{col}_경기수'] = train[f'{col}_경기수'].astype(float)\n",
    "        if val is not None:\n",
    "            val[f'{col}_성적'] = val[f'{col}_성적'].astype(float)\n",
    "            val[f'{col}_경기수'] = val[f'{col}_경기수'].astype(float)\n",
    "\n",
    "    # Train 데이터에서 글로벌 평균 계산\n",
    "    global_means = {col: train[f'{col}_성적'].mean() for col in col_list}\n",
    "\n",
    "    for col in col_list:\n",
    "        # Train 데이터에 라플라스 스무딩 적용\n",
    "        train = apply_laplace_smoothing(train, col, global_means[col], alpha)\n",
    "        train.drop(f'{col}_경기수', axis=1, inplace=True)\n",
    "\n",
    "    if val is not None:\n",
    "        for col in col_list:\n",
    "            # Validation 데이터에 Train에서 구한 글로벌 평균으로 라플라스 스무딩 적용\n",
    "            val = apply_laplace_smoothing(val, col, global_means[col], alpha)\n",
    "            val.drop(f'{col}_경기수', axis=1, inplace=True)\n",
    "\n",
    "    if val is not None:\n",
    "        return train, val\n",
    "    else:\n",
    "        return train\n",
    "\n",
    "\n",
    "train, test = laplace_smoothing_to_course(train, test, alpha=1) # 알파가 작을수록 빈도수에 가깝세, 알파가 클수록 전체 평균에 가깝게\n",
    "print(train.shape, test.shape)"
   ],
   "id": "4e8a7b127859206e",
   "outputs": [
    {
     "name": "stdout",
     "output_type": "stream",
     "text": [
      "(57474, 34) (5856, 34)\n"
     ]
    }
   ],
   "execution_count": 7
  },
  {
   "metadata": {},
   "cell_type": "markdown",
   "source": "- 최근 8경기 착순 분리",
   "id": "17ddaf712ca4ed32"
  },
  {
   "metadata": {},
   "cell_type": "markdown",
   "source": "- 최근 8경기를 어떻게 반영할지",
   "id": "3af9766d2b25543"
  },
  {
   "metadata": {
    "ExecuteTime": {
     "end_time": "2024-09-01T14:25:56.503361Z",
     "start_time": "2024-09-01T14:25:56.344258Z"
    }
   },
   "cell_type": "code",
   "source": [
    "def split_last_eight_rank(df):\n",
    "    for i in range(0, 4):\n",
    "        df[f'최근{i+1}경기_착순'] = df['최근8경주_착순'].str[i]\n",
    "    for j in range(5, 9):\n",
    "        df[f'최근{j}경기_착순'] = df['최근8경주_착순'].str[j]\n",
    "        \n",
    "    df.drop('최근8경주_착순', axis=1, inplace=True)\n",
    "        \n",
    "    return df\n",
    "\n",
    "def adjust_for_top3(df):\n",
    "    col_list = [\n",
    "        '최근1경기_착순', '최근2경기_착순', '최근3경기_착순', '최근4경기_착순',\n",
    "        '최근5경기_착순', '최근6경기_착순', '최근7경기_착순', '최근8경기_착순'\n",
    "    ]\n",
    "    \n",
    "    for col in col_list:\n",
    "    # 순위가 1, 2, 3이 아닌 경우, 결측인 경우, 6으로 조정\n",
    "    # (일반화된 성능을 위해 + 3등내에 드는게 중요)\n",
    "        df[col] = df[col].apply(lambda x: x if x in ['1', '2', '3'] else '-1')\n",
    "\n",
    "    return df\n",
    "\n",
    "\n",
    "train = split_last_eight_rank(train)\n",
    "train = adjust_for_top3(train)\n",
    "\n",
    "test = split_last_eight_rank(test)\n",
    "test = adjust_for_top3(test)\n",
    "\n",
    "print(train.shape, test.shape)"
   ],
   "id": "8e7e8cb08b1e4754",
   "outputs": [
    {
     "name": "stdout",
     "output_type": "stream",
     "text": [
      "(57474, 41) (5856, 41)\n"
     ]
    }
   ],
   "execution_count": 8
  },
  {
   "metadata": {},
   "cell_type": "markdown",
   "source": "## 범주형 변수 확인\n",
   "id": "1e1b83cff7de2bbc"
  },
  {
   "metadata": {
    "ExecuteTime": {
     "end_time": "2024-09-01T14:26:02.492089Z",
     "start_time": "2024-09-01T14:26:02.486087Z"
    }
   },
   "cell_type": "code",
   "source": [
    "def cal_cat_cols(train, val=None):\n",
    "    objective_cols = []\n",
    "\n",
    "    # 특정 문자열이 포함된 열을 범주형 변수로 지정\n",
    "    cat_kerword_list = ['번호', '기수', '경기_착순', 'Race_ID']\n",
    "    for col in train.columns:\n",
    "        if any(sub in col for sub in cat_kerword_list):\n",
    "            objective_cols.append(col)\n",
    "            train[col] = train[col].astype('str')\n",
    "            val[col] = val[col].astype('str')\n",
    "\n",
    "    # 나머지 열에 대해 숫자형 변환 시도\n",
    "    for col in train.columns:\n",
    "        if col in objective_cols:\n",
    "            continue  # 이미 범주형으로 처리된 열은 제외\n",
    "        try:\n",
    "            # 'float' 타입으로 변환 시도\n",
    "            train[col] = train[col].astype('float')\n",
    "            val[col] = val[col].astype('float')\n",
    "        except:\n",
    "            objective_cols.append(col)\n",
    "\n",
    "    cat_features = list(set(objective_cols) - set(['rank', 'Race_ID']))\n",
    "\n",
    "    return cat_features\n",
    "\n",
    "\n",
    "# cat_features = cal_cat_cols(train, test)\n",
    "# cat_features"
   ],
   "id": "b470c2d63ca13d5b",
   "outputs": [],
   "execution_count": 9
  },
  {
   "metadata": {},
   "cell_type": "markdown",
   "source": "- 낮은 빈도 데이터 통합",
   "id": "1c7bfe339b717742"
  },
  {
   "metadata": {
    "ExecuteTime": {
     "end_time": "2024-09-01T14:26:08.238933Z",
     "start_time": "2024-09-01T14:26:07.932857Z"
    }
   },
   "cell_type": "code",
   "source": [
    "plt.rcParams['font.family'] = 'Malgun Gothic'\n",
    "\n",
    "cols = [\n",
    "    '단승', '복승', '삼복승'\n",
    "]\n",
    "\n",
    "for col in cols:\n",
    "    mean_values = train.groupby('번호')[col].mean()\n",
    "    \n",
    "    plt.figure(figsize=(14, 7))\n",
    "    mean_values.plot(kind='bar', color='skyblue')\n",
    "    plt.title(f'번호 별 {col} 값의 평균')\n",
    "    plt.xlabel('번호')\n",
    "    plt.ylabel(f'{col} 값의 평균')\n",
    "    plt.xticks(rotation=0)\n",
    "    plt.show()"
   ],
   "id": "53bc21cf4c743a73",
   "outputs": [
    {
     "data": {
      "text/plain": [
       "<Figure size 1400x700 with 1 Axes>"
      ],
      "image/png": "[encoded data removed]"
     },
     "metadata": {},
     "output_type": "display_data"
    },
    {
     "data": {
      "text/plain": [
       "<Figure size 1400x700 with 1 Axes>"
      ],
      "image/png": "[encoded data removed]"
     },
     "metadata": {},
     "output_type": "display_data"
    },
    {
     "data": {
      "text/plain": [
       "<Figure size 1400x700 with 1 Axes>"
      ],
      "image/png": "[encoded data removed]"
     },
     "metadata": {},
     "output_type": "display_data"
    }
   ],
   "execution_count": 10
  },
  {
   "metadata": {},
   "cell_type": "markdown",
   "source": "## X, y 분리",
   "id": "d6f40188a0734870"
  },
  {
   "metadata": {
    "ExecuteTime": {
     "end_time": "2024-09-01T14:26:48.112246Z",
     "start_time": "2024-09-01T14:26:48.098243Z"
    }
   },
   "cell_type": "code",
   "source": [
    "drop_cols = [\n",
    "    'Race_ID', '번호', '단승', '복승', '삼복승'\n",
    "]\n",
    "\n",
    "X_train = train.drop(drop_cols, axis=1)\n",
    "y_train = train[['단승']]\n",
    "X_test = test.drop(drop_cols, axis=1)\n",
    "y_test = test[['단승']]\n",
    "\n",
    "print(X_train.shape, y_train.shape, X_test.shape, y_test.shape)"
   ],
   "id": "de9c342ceb44bb48",
   "outputs": [
    {
     "name": "stdout",
     "output_type": "stream",
     "text": [
      "(57474, 36) (57474, 1) (5856, 36) (5856, 1)\n"
     ]
    }
   ],
   "execution_count": 11
  },
  {
   "metadata": {
    "ExecuteTime": {
     "end_time": "2024-09-01T14:27:11.563579Z",
     "start_time": "2024-09-01T14:27:11.486552Z"
    }
   },
   "cell_type": "code",
   "source": [
    "def reshape_race_data(df, players_per_race=6):\n",
    "    # numpy 배열로 변환\n",
    "    values = df.values\n",
    "\n",
    "    # 데이터 형태 변환 (6개의 행을 1개의 행으로)\n",
    "    reshaped_values = values.reshape(-1, players_per_race * values.shape[1])\n",
    "\n",
    "    # 새로운 컬럼 이름 생성\n",
    "    columns = [f'{col}_{i+1}번선수' for i in range(players_per_race) for col in df.columns]\n",
    "\n",
    "    # 재구성된 DataFrame 생성\n",
    "    reshaped_df = pd.DataFrame(reshaped_values, columns=columns)\n",
    "\n",
    "    return reshaped_df\n",
    "\n",
    "X_train = reshape_race_data(X_train, players_per_race=6)\n",
    "y_train = reshape_race_data(y_train, players_per_race=6)\n",
    "y_train = np.array(y_train).astype(int)\n",
    "\n",
    "X_test = reshape_race_data(X_test, players_per_race=6)\n",
    "y_test = reshape_race_data(y_test, players_per_race=6)\n",
    "y_test = np.array(y_test).astype(int)\n",
    "\n",
    "print(X_train.shape, y_train.shape, X_test.shape, y_test.shape)"
   ],
   "id": "901d3ef2628c3ccb",
   "outputs": [
    {
     "name": "stdout",
     "output_type": "stream",
     "text": [
      "(9579, 216) (9579, 6) (976, 216) (976, 6)\n"
     ]
    }
   ],
   "execution_count": 12
  },
  {
   "metadata": {
    "ExecuteTime": {
     "end_time": "2024-09-01T14:27:23.580185Z",
     "start_time": "2024-09-01T14:27:23.266943Z"
    }
   },
   "cell_type": "code",
   "source": [
    "def low_to_others(train, val, threshold=5, verbose=False):\n",
    "    cat_features = cal_cat_cols(train, val)\n",
    "\n",
    "    for col in cat_features:\n",
    "        unifier = low_frequency_to_others(threshold=threshold, verbose=verbose)\n",
    "        train[col] = unifier.fit_transform(train[col])\n",
    "        val[col] = unifier.transform(val[col])\n",
    "\n",
    "    return train, val\n",
    "\n",
    "X_train, X_test = low_to_others(X_train, X_test, threshold=10, verbose=True)"
   ],
   "id": "aa2478e6b3a853f6",
   "outputs": [
    {
     "name": "stdout",
     "output_type": "stream",
     "text": [
      "Columns:(기수_6번선수) 변환 X\n",
      "Columns:(기수_6번선수) 'others'로 8개 변환\n",
      "Columns:(등급_5번선수) 변환 X\n",
      "Columns:(등급_5번선수) 변환 X\n",
      "Columns:(최근4경기_착순_1번선수) 변환 X\n",
      "Columns:(최근4경기_착순_1번선수) 변환 X\n",
      "Columns:(최근5경기_착순_1번선수) 변환 X\n",
      "Columns:(최근5경기_착순_1번선수) 변환 X\n",
      "Columns:(최근6경기_착순_4번선수) 변환 X\n",
      "Columns:(최근6경기_착순_4번선수) 변환 X\n",
      "Columns:(기수_5번선수) 변환 X\n",
      "Columns:(기수_5번선수) 'others'로 8개 변환\n",
      "Columns:(최근8경기_착순_5번선수) 변환 X\n",
      "Columns:(최근8경기_착순_5번선수) 변환 X\n",
      "Columns:(최근2경기_착순_2번선수) 변환 X\n",
      "Columns:(최근2경기_착순_2번선수) 변환 X\n",
      "Columns:(성별_5번선수) 변환 X\n",
      "Columns:(성별_5번선수) 변환 X\n",
      "Columns:(최근3경기_착순_4번선수) 변환 X\n",
      "Columns:(최근3경기_착순_4번선수) 변환 X\n",
      "Columns:(최근7경기_착순_1번선수) 변환 X\n",
      "Columns:(최근7경기_착순_1번선수) 변환 X\n",
      "Columns:(등급_4번선수) 변환 X\n",
      "Columns:(등급_4번선수) 변환 X\n",
      "Columns:(최근5경기_착순_3번선수) 변환 X\n",
      "Columns:(최근5경기_착순_3번선수) 변환 X\n",
      "Columns:(성별_4번선수) 변환 X\n",
      "Columns:(성별_4번선수) 변환 X\n",
      "Columns:(최근7경기_착순_2번선수) 변환 X\n",
      "Columns:(최근7경기_착순_2번선수) 변환 X\n",
      "Columns:(최근8경기_착순_4번선수) 변환 X\n",
      "Columns:(최근8경기_착순_4번선수) 변환 X\n",
      "Columns:(성별_1번선수) 변환 X\n",
      "Columns:(성별_1번선수) 변환 X\n",
      "Columns:(최근7경기_착순_3번선수) 변환 X\n",
      "Columns:(최근7경기_착순_3번선수) 변환 X\n",
      "Columns:(등급_1번선수) 변환 X\n",
      "Columns:(등급_1번선수) 변환 X\n",
      "Columns:(성별_3번선수) 변환 X\n",
      "Columns:(성별_3번선수) 변환 X\n",
      "Columns:(최근5경기_착순_4번선수) 변환 X\n",
      "Columns:(최근5경기_착순_4번선수) 변환 X\n",
      "Columns:(최근8경기_착순_2번선수) 변환 X\n",
      "Columns:(최근8경기_착순_2번선수) 변환 X\n",
      "Columns:(최근4경기_착순_5번선수) 변환 X\n",
      "Columns:(최근4경기_착순_5번선수) 변환 X\n",
      "Columns:(최근2경기_착순_1번선수) 변환 X\n",
      "Columns:(최근2경기_착순_1번선수) 변환 X\n",
      "Columns:(성별_6번선수) 변환 X\n",
      "Columns:(성별_6번선수) 변환 X\n",
      "Columns:(FL_5번선수) 'others'로 10개 변환\n",
      "Columns:(FL_5번선수) 변환 X\n",
      "Columns:(최근2경기_착순_6번선수) 변환 X\n",
      "Columns:(최근2경기_착순_6번선수) 변환 X\n",
      "Columns:(최근6경기_착순_5번선수) 변환 X\n",
      "Columns:(최근6경기_착순_5번선수) 변환 X\n",
      "Columns:(최근3경기_착순_5번선수) 변환 X\n",
      "Columns:(최근3경기_착순_5번선수) 변환 X\n",
      "Columns:(최근8경기_착순_6번선수) 변환 X\n",
      "Columns:(최근8경기_착순_6번선수) 변환 X\n",
      "Columns:(최근1경기_착순_5번선수) 변환 X\n",
      "Columns:(최근1경기_착순_5번선수) 변환 X\n",
      "Columns:(선수명_5번선수) 'others'로 55개 변환\n",
      "Columns:(선수명_5번선수) 'others'로 8개 변환\n",
      "Columns:(FL_2번선수) 'others'로 11개 변환\n",
      "Columns:(FL_2번선수) 변환 X\n",
      "Columns:(최근6경기_착순_6번선수) 변환 X\n",
      "Columns:(최근6경기_착순_6번선수) 변환 X\n",
      "Columns:(최근5경기_착순_5번선수) 변환 X\n",
      "Columns:(최근5경기_착순_5번선수) 변환 X\n",
      "Columns:(최근1경기_착순_1번선수) 변환 X\n",
      "Columns:(최근1경기_착순_1번선수) 변환 X\n",
      "Columns:(선수명_2번선수) 'others'로 72개 변환\n",
      "Columns:(선수명_2번선수) 'others'로 13개 변환\n",
      "Columns:(최근4경기_착순_6번선수) 변환 X\n",
      "Columns:(최근4경기_착순_6번선수) 변환 X\n",
      "Columns:(최근6경기_착순_3번선수) 변환 X\n",
      "Columns:(최근6경기_착순_3번선수) 변환 X\n",
      "Columns:(최근3경기_착순_2번선수) 변환 X\n",
      "Columns:(최근3경기_착순_2번선수) 변환 X\n",
      "Columns:(최근3경기_착순_6번선수) 변환 X\n",
      "Columns:(최근3경기_착순_6번선수) 변환 X\n",
      "Columns:(최근1경기_착순_4번선수) 변환 X\n",
      "Columns:(최근1경기_착순_4번선수) 변환 X\n",
      "Columns:(최근2경기_착순_5번선수) 변환 X\n",
      "Columns:(최근2경기_착순_5번선수) 변환 X\n",
      "Columns:(등급_2번선수) 변환 X\n",
      "Columns:(등급_2번선수) 변환 X\n",
      "Columns:(성별_2번선수) 변환 X\n",
      "Columns:(성별_2번선수) 변환 X\n",
      "Columns:(최근7경기_착순_4번선수) 변환 X\n",
      "Columns:(최근7경기_착순_4번선수) 변환 X\n",
      "Columns:(FL_6번선수) 'others'로 12개 변환\n",
      "Columns:(FL_6번선수) 변환 X\n",
      "Columns:(최근5경기_착순_6번선수) 변환 X\n",
      "Columns:(최근5경기_착순_6번선수) 변환 X\n",
      "Columns:(선수명_6번선수) 'others'로 50개 변환\n",
      "Columns:(선수명_6번선수) 'others'로 8개 변환\n",
      "Columns:(최근5경기_착순_2번선수) 변환 X\n",
      "Columns:(최근5경기_착순_2번선수) 변환 X\n",
      "Columns:(최근4경기_착순_3번선수) 변환 X\n",
      "Columns:(최근4경기_착순_3번선수) 변환 X\n",
      "Columns:(최근7경기_착순_6번선수) 변환 X\n",
      "Columns:(최근7경기_착순_6번선수) 변환 X\n",
      "Columns:(선수명_4번선수) 'others'로 58개 변환\n",
      "Columns:(선수명_4번선수) 'others'로 8개 변환\n",
      "Columns:(최근2경기_착순_4번선수) 변환 X\n",
      "Columns:(최근2경기_착순_4번선수) 변환 X\n",
      "Columns:(최근8경기_착순_1번선수) 변환 X\n",
      "Columns:(최근8경기_착순_1번선수) 변환 X\n",
      "Columns:(최근3경기_착순_1번선수) 변환 X\n",
      "Columns:(최근3경기_착순_1번선수) 변환 X\n",
      "Columns:(FL_1번선수) 'others'로 14개 변환\n",
      "Columns:(FL_1번선수) 변환 X\n",
      "Columns:(FL_4번선수) 'others'로 8개 변환\n",
      "Columns:(FL_4번선수) 변환 X\n",
      "Columns:(기수_3번선수) 변환 X\n",
      "Columns:(기수_3번선수) 'others'로 8개 변환\n",
      "Columns:(최근8경기_착순_3번선수) 변환 X\n",
      "Columns:(최근8경기_착순_3번선수) 변환 X\n",
      "Columns:(등급_6번선수) 변환 X\n",
      "Columns:(등급_6번선수) 변환 X\n",
      "Columns:(최근4경기_착순_2번선수) 변환 X\n",
      "Columns:(최근4경기_착순_2번선수) 변환 X\n",
      "Columns:(선수명_3번선수) 'others'로 65개 변환\n",
      "Columns:(선수명_3번선수) 'others'로 8개 변환\n",
      "Columns:(최근6경기_착순_1번선수) 변환 X\n",
      "Columns:(최근6경기_착순_1번선수) 변환 X\n",
      "Columns:(최근6경기_착순_2번선수) 변환 X\n",
      "Columns:(최근6경기_착순_2번선수) 변환 X\n",
      "Columns:(FL_3번선수) 'others'로 7개 변환\n",
      "Columns:(FL_3번선수) 변환 X\n",
      "Columns:(최근2경기_착순_3번선수) 변환 X\n",
      "Columns:(최근2경기_착순_3번선수) 변환 X\n",
      "Columns:(최근4경기_착순_4번선수) 변환 X\n",
      "Columns:(최근4경기_착순_4번선수) 변환 X\n",
      "Columns:(선수명_1번선수) 'others'로 45개 변환\n",
      "Columns:(선수명_1번선수) 'others'로 11개 변환\n",
      "Columns:(최근3경기_착순_3번선수) 변환 X\n",
      "Columns:(최근3경기_착순_3번선수) 변환 X\n",
      "Columns:(기수_1번선수) 변환 X\n",
      "Columns:(기수_1번선수) 'others'로 8개 변환\n",
      "Columns:(최근1경기_착순_3번선수) 변환 X\n",
      "Columns:(최근1경기_착순_3번선수) 변환 X\n",
      "Columns:(최근7경기_착순_5번선수) 변환 X\n",
      "Columns:(최근7경기_착순_5번선수) 변환 X\n",
      "Columns:(최근1경기_착순_2번선수) 변환 X\n",
      "Columns:(최근1경기_착순_2번선수) 변환 X\n",
      "Columns:(기수_2번선수) 변환 X\n",
      "Columns:(기수_2번선수) 'others'로 8개 변환\n",
      "Columns:(기수_4번선수) 변환 X\n",
      "Columns:(기수_4번선수) 'others'로 8개 변환\n",
      "Columns:(등급_3번선수) 변환 X\n",
      "Columns:(등급_3번선수) 변환 X\n",
      "Columns:(최근1경기_착순_6번선수) 변환 X\n",
      "Columns:(최근1경기_착순_6번선수) 변환 X\n"
     ]
    }
   ],
   "execution_count": 13
  },
  {
   "metadata": {
    "ExecuteTime": {
     "end_time": "2024-09-01T14:32:40.899294Z",
     "start_time": "2024-09-01T14:32:39.216930Z"
    }
   },
   "cell_type": "code",
   "source": [
    "def all_precoess(train, val, target='단승', is_train=True):\n",
    "    train = add_y(train)\n",
    "    val = add_y(val)\n",
    "    \n",
    "    train = drop_columns_from_datasets(train)\n",
    "    val = drop_columns_from_datasets(val)\n",
    "\n",
    "    train = separation_course(train)\n",
    "    val = separation_course(val)\n",
    "\n",
    "    train, val = laplace_smoothing_to_course(train, val, alpha=1)\n",
    "\n",
    "    train = split_last_eight_rank(train)\n",
    "    train = adjust_for_top3(train)\n",
    "    \n",
    "    val = split_last_eight_rank(val)\n",
    "    val = adjust_for_top3(val)\n",
    "\n",
    "    # train, val = low_to_others(train, val, threshold=10, verbose=False)\n",
    "\n",
    "    drop_cols = [\n",
    "        'Race_ID', '번호', '단승', '복승', '삼복승', '선수명', '기수'\n",
    "    ]\n",
    "    X_train = train.drop(drop_cols, axis=1)\n",
    "    y_train = train[[target]]\n",
    "    X_val = val.drop(drop_cols, axis=1)\n",
    "    y_val = val[[target]]\n",
    "\n",
    "    X_train = reshape_race_data(X_train, players_per_race=6)\n",
    "    y_train = reshape_race_data(y_train, players_per_race=6)\n",
    "    y_train = np.array(y_train).astype(int)\n",
    "\n",
    "    X_val = reshape_race_data(X_val, players_per_race=6)\n",
    "    y_val = reshape_race_data(y_val, players_per_race=6)\n",
    "    y_val = np.array(y_val).astype(int)\n",
    "\n",
    "    X_train, X_val = low_to_others(X_train, X_val, threshold=5, verbose=False)\n",
    "    \n",
    "    return X_train, y_train, X_val, y_val\n",
    "\n",
    "train = pd.read_csv(os.path.join(ROOT_DIR, \"train.csv\"))\n",
    "test = pd.read_csv(os.path.join(ROOT_DIR, \"test.csv\"))\n",
    "\n",
    "target_value='단승'\n",
    "X_train, y_train, X_test, y_test = all_precoess(train, test, target=target_value, is_train=True)\n",
    "\n",
    "print(X_train.shape, y_train.shape, X_test.shape, y_test.shape)"
   ],
   "id": "e383d255c53505cc",
   "outputs": [
    {
     "name": "stdout",
     "output_type": "stream",
     "text": [
      "(9579, 204) (9579, 6) (976, 204) (976, 6)\n"
     ]
    }
   ],
   "execution_count": 19
  },
  {
   "metadata": {
    "ExecuteTime": {
     "end_time": "2024-09-01T14:48:37.145736Z",
     "start_time": "2024-09-01T14:45:29.114519Z"
    }
   },
   "cell_type": "code",
   "source": [
    "from catboost import CatBoostClassifier\n",
    "from sklearn.metrics import accuracy_score, f1_score\n",
    "\n",
    "class custom_CatBoostClassifier():\n",
    "    def __init__(self, params):\n",
    "        self.models = [CatBoostClassifier(**params) for _ in range(6)]\n",
    "\n",
    "    def fit(self, X, y, eval_set=None, cat_features=None):\n",
    "        y = np.array(y)  # y를 numpy 배열로 변환\n",
    "        if eval_set is not None:\n",
    "            X_val, y_val = eval_set\n",
    "            y_val = np.array(y_val)  # y_val을 numpy 배열로 변환\n",
    "\n",
    "        for i in range(6):\n",
    "            y_i = y[:, i]  # i번째 레이블에 대한 y 값\n",
    "\n",
    "            if eval_set is not None:\n",
    "                y_val_i = y_val[:, i]  # i번째 레이블에 대한 y_val 값\n",
    "                eval_set_i = (X_val, y_val_i)\n",
    "            else:\n",
    "                eval_set_i = None\n",
    "\n",
    "            self.models[i].fit(\n",
    "                X, y_i,\n",
    "                eval_set=eval_set_i,\n",
    "                cat_features=cat_features\n",
    "            )\n",
    "            print(f'{i+1}번째 레이블 학습 완료')\n",
    "\n",
    "    def predict(self, X):\n",
    "        preds = [model.predict(X) for model in self.models]\n",
    "        return np.vstack(preds).T\n",
    "\n",
    "    def predict_proba(self, X):\n",
    "        probas = [model.predict_proba(X)[:, 1] for model in self.models]\n",
    "        return np.vstack(probas).T\n",
    "    \n",
    "    \n",
    "params = {\n",
    "    'random_seed': RANDOM_STATE,\n",
    "    'iterations': 3000,\n",
    "    'learning_rate': 0.05,\n",
    "    'early_stopping_rounds': 100,\n",
    "    'auto_class_weights': 'SqrtBalanced',\n",
    "    'eval_metric': 'Accuracy',\n",
    "    'verbose': 200,\n",
    "    'thread_count':-1\n",
    "}\n",
    "\n",
    "model = custom_CatBoostClassifier(params)\n",
    "cat_features = cal_cat_cols(X_train, X_test)\n",
    "print(f'범주형 변수: {cat_features}')\n",
    "model.fit(\n",
    "    X_train, y_train,\n",
    "    eval_set=(X_test, y_test),\n",
    "    cat_features=cat_features,\n",
    ")"
   ],
   "id": "607c5cda9d3e1a07",
   "outputs": [
    {
     "name": "stdout",
     "output_type": "stream",
     "text": [
      "범주형 변수: ['등급_5번선수', '최근4경기_착순_1번선수', '최근5경기_착순_1번선수', '최근6경기_착순_4번선수', '최근8경기_착순_5번선수', '최근2경기_착순_2번선수', '성별_5번선수', '최근3경기_착순_4번선수', '최근7경기_착순_1번선수', '등급_4번선수', '최근5경기_착순_3번선수', '성별_4번선수', '최근7경기_착순_2번선수', '최근8경기_착순_4번선수', '성별_1번선수', '최근7경기_착순_3번선수', '등급_1번선수', '최근8경기_착순_2번선수', '최근5경기_착순_4번선수', '성별_3번선수', '최근4경기_착순_5번선수', '최근2경기_착순_1번선수', '최근2경기_착순_6번선수', 'FL_5번선수', '성별_6번선수', '최근6경기_착순_5번선수', '최근3경기_착순_5번선수', '최근8경기_착순_6번선수', '최근1경기_착순_5번선수', 'FL_2번선수', '최근6경기_착순_6번선수', '최근5경기_착순_5번선수', '최근1경기_착순_1번선수', '최근4경기_착순_6번선수', '최근3경기_착순_2번선수', '최근6경기_착순_3번선수', '최근3경기_착순_6번선수', '최근1경기_착순_4번선수', '최근2경기_착순_5번선수', '등급_2번선수', '성별_2번선수', '최근7경기_착순_4번선수', 'FL_6번선수', '최근5경기_착순_6번선수', '최근5경기_착순_2번선수', '최근4경기_착순_3번선수', '최근7경기_착순_6번선수', '최근8경기_착순_1번선수', '최근2경기_착순_4번선수', '최근3경기_착순_1번선수', 'FL_1번선수', 'FL_4번선수', '최근8경기_착순_3번선수', '등급_6번선수', '최근4경기_착순_2번선수', '최근6경기_착순_1번선수', '최근6경기_착순_2번선수', 'FL_3번선수', '최근2경기_착순_3번선수', '최근4경기_착순_4번선수', '최근3경기_착순_3번선수', '최근1경기_착순_3번선수', '최근7경기_착순_5번선수', '최근1경기_착순_2번선수', '등급_3번선수', '최근1경기_착순_6번선수']\n",
      "0:\tlearn: 0.6370171\ttest: 0.6145696\tbest: 0.6145696 (0)\ttotal: 188ms\tremaining: 9m 23s\n",
      "200:\tlearn: 0.7576660\ttest: 0.6420072\tbest: 0.6621023 (109)\ttotal: 24.4s\tremaining: 5m 39s\n",
      "Stopped by overfitting detector  (100 iterations wait)\n",
      "\n",
      "bestTest = 0.6621023387\n",
      "bestIteration = 109\n",
      "\n",
      "Shrink model to first 110 iterations.\n",
      "1번째 레이블 학습 완료\n",
      "0:\tlearn: 0.6816173\ttest: 0.6398240\tbest: 0.6398240 (0)\ttotal: 133ms\tremaining: 6m 40s\n",
      "200:\tlearn: 0.7903360\ttest: 0.6745588\tbest: 0.6794507 (110)\ttotal: 25.1s\tremaining: 5m 49s\n",
      "Stopped by overfitting detector  (100 iterations wait)\n",
      "\n",
      "bestTest = 0.6794507133\n",
      "bestIteration = 110\n",
      "\n",
      "Shrink model to first 111 iterations.\n",
      "2번째 레이블 학습 완료\n",
      "0:\tlearn: 0.7090342\ttest: 0.6904685\tbest: 0.6904685 (0)\ttotal: 104ms\tremaining: 5m 12s\n",
      "200:\tlearn: 0.8190907\ttest: 0.7300836\tbest: 0.7351004 (148)\ttotal: 24.7s\tremaining: 5m 43s\n",
      "Stopped by overfitting detector  (100 iterations wait)\n",
      "\n",
      "bestTest = 0.7351003686\n",
      "bestIteration = 148\n",
      "\n",
      "Shrink model to first 149 iterations.\n",
      "3번째 레이블 학습 완료\n",
      "0:\tlearn: 0.7263840\ttest: 0.7135956\tbest: 0.7135956 (0)\ttotal: 98.3ms\tremaining: 4m 54s\n",
      "200:\tlearn: 0.8119432\ttest: 0.7249272\tbest: 0.7301562 (189)\ttotal: 24.2s\tremaining: 5m 36s\n",
      "400:\tlearn: 0.9044306\ttest: 0.7298409\tbest: 0.7387660 (350)\ttotal: 49s\tremaining: 5m 17s\n",
      "Stopped by overfitting detector  (100 iterations wait)\n",
      "\n",
      "bestTest = 0.738766037\n",
      "bestIteration = 350\n",
      "\n",
      "Shrink model to first 351 iterations.\n",
      "4번째 레이블 학습 완료\n",
      "0:\tlearn: 0.7765788\ttest: 0.7831599\tbest: 0.7831599 (0)\ttotal: 102ms\tremaining: 5m 6s\n",
      "200:\tlearn: 0.8761152\ttest: 0.7984840\tbest: 0.8062178 (147)\ttotal: 25.1s\tremaining: 5m 48s\n",
      "Stopped by overfitting detector  (100 iterations wait)\n",
      "\n",
      "bestTest = 0.8062178277\n",
      "bestIteration = 147\n",
      "\n",
      "Shrink model to first 148 iterations.\n",
      "5번째 레이블 학습 완료\n",
      "0:\tlearn: 0.8317133\ttest: 0.8684686\tbest: 0.8684686 (0)\ttotal: 111ms\tremaining: 5m 32s\n",
      "Stopped by overfitting detector  (100 iterations wait)\n",
      "\n",
      "bestTest = 0.8774548714\n",
      "bestIteration = 37\n",
      "\n",
      "Shrink model to first 38 iterations.\n",
      "6번째 레이블 학습 완료\n"
     ]
    }
   ],
   "execution_count": 25
  },
  {
   "metadata": {
    "ExecuteTime": {
     "end_time": "2024-09-01T14:49:08.118865Z",
     "start_time": "2024-09-01T14:49:08.011319Z"
    }
   },
   "cell_type": "code",
   "source": [
    "# 모델 예측\n",
    "y_pred = model.predict_proba(X_test)\n",
    "\n",
    "y_pred_max = np.zeros_like(y_pred)\n",
    "for i in range(y_pred.shape[0]):  # 각 샘플에 대해 반복\n",
    "    if target_value=='단승':\n",
    "        max_indices = np.argsort(y_pred[i])[-1:]  # 가장 큰 두 개의 값의 인덱스 찾기\n",
    "    elif target_value=='복승':\n",
    "        max_indices = np.argsort(y_pred[i])[-2:]\n",
    "    elif target_value=='삼복승':\n",
    "        max_indices = np.argsort(y_pred[i])[-3:]\n",
    "    y_pred_max[i, max_indices] = 1  # 해당 인덱스에 1 설정\n",
    "\n",
    "accuracy = accuracy_score(y_pred_max, y_test)\n",
    "print(f'Val Accuracy: {accuracy}') # val 경기중, 23%는 모두 맞췄다는 의미"
   ],
   "id": "b6bf42aa889b530b",
   "outputs": [
    {
     "name": "stdout",
     "output_type": "stream",
     "text": [
      "Val Accuracy: 0.45594262295081966\n"
     ]
    }
   ],
   "execution_count": 26
  },
  {
   "metadata": {},
   "cell_type": "markdown",
   "source": "# 실제 경기 예측",
   "id": "c1dc2d466cee7324"
  },
  {
   "metadata": {
    "ExecuteTime": {
     "end_time": "2024-09-01T14:50:45.698434Z",
     "start_time": "2024-09-01T14:50:45.686109Z"
    }
   },
   "cell_type": "code",
   "source": [
    "# test = pd.read_csv(os.path.join(ROOT_DIR, \"test.csv\"))\n",
    "# \n",
    "# target_value='단승'\n",
    "# X_train, y_train, X_test, y_test = all_precoess(train, test, target=target_value, is_train=True)\n",
    "# print(X_train.shape, y_train.shape, X_test.shape, y_test.shape)"
   ],
   "id": "42180cdbd14bd157",
   "outputs": [],
   "execution_count": 27
  },
  {
   "metadata": {
    "ExecuteTime": {
     "end_time": "2024-09-01T14:50:47.644632Z",
     "start_time": "2024-09-01T14:50:47.639591Z"
    }
   },
   "cell_type": "code",
   "source": [
    "# # 모델 예측\n",
    "# y_pred_test = model.predict_proba(X_test)\n",
    "# \n",
    "# y_pred_max = np.zeros_like(y_pred_test)\n",
    "# for i in range(y_pred_test.shape[0]):  # 각 샘플에 대해 반복\n",
    "#     if target_value=='단승':\n",
    "#         max_indices = np.argsort(y_pred_test[i])[-1:]  # 가장 큰 두 개의 값의 인덱스 찾기\n",
    "#     elif target_value=='복승':\n",
    "#         max_indices = np.argsort(y_pred_test[i])[-2:]\n",
    "#     elif target_value=='삼복승':\n",
    "#         max_indices = np.argsort(y_pred_test[i])[-3:]\n",
    "#     y_pred_max[i, max_indices] = 1  # 해당 인덱스에 1 설정\n",
    "# \n",
    "# \n",
    "# accuracy = accuracy_score(y_pred_max, y_test)\n",
    "# print(f'Test Accuracy: {accuracy}')"
   ],
   "id": "1937933c60b1d1cb",
   "outputs": [],
   "execution_count": 28
  }
 ],
 "metadata": {
  "kernelspec": {
   "display_name": "Python 3",
   "language": "python",
   "name": "python3"
  },
  "language_info": {
   "codemirror_mode": {
    "name": "ipython",
    "version": 2
   },
   "file_extension": ".py",
   "mimetype": "text/x-python",
   "name": "python",
   "nbconvert_exporter": "python",
   "pygments_lexer": "ipython2",
   "version": "2.7.6"
  }
 },
 "nbformat": 4,
 "nbformat_minor": 5
}
