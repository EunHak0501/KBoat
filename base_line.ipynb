{
 "cells": [
  {
   "cell_type": "code",
   "id": "initial_id",
   "metadata": {
    "collapsed": true,
    "ExecuteTime": {
     "end_time": "2024-08-25T08:08:33.732368Z",
     "start_time": "2024-08-25T08:08:30.694340Z"
    }
   },
   "source": [
    "import pandas as pd\n",
    "import numpy as np\n",
    "import os\n",
    "from encoding_function import low_frequency_to_others\n",
    "\n",
    "import warnings\n",
    "warnings.filterwarnings('ignore')"
   ],
   "outputs": [],
   "execution_count": 1
  },
  {
   "metadata": {},
   "cell_type": "markdown",
   "source": [
    "### 데이터 불러오기\n",
    "- 학습: 2023년도 이전\n",
    "- 검증: 2023년\n",
    "- 테스트: 2024년"
   ],
   "id": "612fa091ac8898db"
  },
  {
   "metadata": {
    "ExecuteTime": {
     "end_time": "2024-08-25T08:08:33.935614Z",
     "start_time": "2024-08-25T08:08:33.733368Z"
    }
   },
   "cell_type": "code",
   "source": [
    "ROOT_DIR = \"data\"\n",
    "RANDOM_STATE = 999\n",
    "\n",
    "train = pd.read_csv(os.path.join(ROOT_DIR, \"train.csv\"))\n",
    "val = pd.read_csv(os.path.join(ROOT_DIR, \"val.csv\"))\n",
    "test = pd.read_csv(os.path.join(ROOT_DIR, \"test.csv\"))\n",
    "\n",
    "print(train.shape, val.shape)"
   ],
   "id": "fc7baeed3df515e6",
   "outputs": [
    {
     "name": "stdout",
     "output_type": "stream",
     "text": [
      "(48522, 43) (8952, 43)\n"
     ]
    }
   ],
   "execution_count": 2
  },
  {
   "metadata": {},
   "cell_type": "markdown",
   "source": "## 사용하지 않는 feature drop",
   "id": "b85feb78ce70647c"
  },
  {
   "metadata": {
    "ExecuteTime": {
     "end_time": "2024-08-25T08:08:34.576251Z",
     "start_time": "2024-08-25T08:08:34.552244Z"
    }
   },
   "cell_type": "code",
   "source": [
    "def drop_columns_from_datasets(df):\n",
    "    drop_cols = [\n",
    "        '연도', '회차', '일차', '경주번호',\n",
    "        '금일출주경주',\n",
    "        '모터번호', '전탑승선수1', '전탑승선수2',\n",
    "        '보트번호', '특이사항'\n",
    "    ]\n",
    "\n",
    "    df = df.drop(drop_cols, axis=1)\n",
    "\n",
    "    return df\n",
    "\n",
    "\n",
    "train = drop_columns_from_datasets(train)\n",
    "val = drop_columns_from_datasets(val)\n",
    "\n",
    "print(train.shape, val.shape)"
   ],
   "id": "c8e70aede39457c4",
   "outputs": [
    {
     "name": "stdout",
     "output_type": "stream",
     "text": [
      "(48522, 33) (8952, 33)\n"
     ]
    }
   ],
   "execution_count": 3
  },
  {
   "metadata": {},
   "cell_type": "markdown",
   "source": "## 일부 숫자형 변수 변환",
   "id": "d9b5a5c06231b8d3"
  },
  {
   "metadata": {},
   "cell_type": "markdown",
   "source": "- 코스별 성적/경기수 분리",
   "id": "415d3de999d33ce9"
  },
  {
   "metadata": {
    "ExecuteTime": {
     "end_time": "2024-08-25T08:08:36.501178Z",
     "start_time": "2024-08-25T08:08:35.789295Z"
    }
   },
   "cell_type": "code",
   "source": [
    "def separation_course(df):\n",
    "    col_list = [\n",
    "        '코스_1코스', '코스_2코스', '코스_3코스', '코스_4코스', '코스_5코스', '코스_6코스'\n",
    "    ]\n",
    "    for col in col_list:\n",
    "        df[[f'{col[3:]}_성적', f'{col[3:]}_경기수']] = df[col].fillna('').str.split('/', expand=True)\n",
    "\n",
    "    df.drop(col_list, axis=1, inplace=True)\n",
    "\n",
    "    return df\n",
    "        \n",
    "\n",
    "\n",
    "train = separation_course(train)\n",
    "val = separation_course(val)\n",
    "\n",
    "print(train.shape, val.shape)"
   ],
   "id": "4de76893ce9cd206",
   "outputs": [
    {
     "name": "stdout",
     "output_type": "stream",
     "text": [
      "(48522, 39) (8952, 39)\n"
     ]
    }
   ],
   "execution_count": 4
  },
  {
   "metadata": {},
   "cell_type": "markdown",
   "source": "- 코스별 성적 스무딩",
   "id": "82e3ad637e2d6e7a"
  },
  {
   "metadata": {
    "ExecuteTime": {
     "end_time": "2024-08-25T08:08:36.627208Z",
     "start_time": "2024-08-25T08:08:36.502178Z"
    }
   },
   "cell_type": "code",
   "source": [
    "def apply_laplace_smoothing(df, col, global_mean, alpha):\n",
    "    # 경기수 0인 값이 너무 높게 나오는 경향이 있어 분모에 상수 1 추가(없애도 됨)\n",
    "    encoded_value = (df[f'{col}_성적'] * df[f'{col}_경기수'] + global_mean * alpha) / (1 + df[f'{col}_경기수'] + alpha)\n",
    "    df[f'{col}_성적'] = encoded_value\n",
    "\n",
    "    return df\n",
    "\n",
    "def laplace_smoothing_to_course(train, val=None, alpha=1):\n",
    "    col_list = [\n",
    "        '1코스', '2코스', '3코스', '4코스', '5코스', '6코스'\n",
    "    ]\n",
    "    for col in col_list:\n",
    "        train[f'{col}_성적'] = train[f'{col}_성적'].astype(float)\n",
    "        train[f'{col}_경기수'] = train[f'{col}_경기수'].astype(float)\n",
    "        if val is not None:\n",
    "            val[f'{col}_성적'] = val[f'{col}_성적'].astype(float)\n",
    "            val[f'{col}_경기수'] = val[f'{col}_경기수'].astype(float)\n",
    "\n",
    "    # Train 데이터에서 글로벌 평균 계산\n",
    "    global_means = {col: train[f'{col}_성적'].mean() for col in col_list}\n",
    "\n",
    "    for col in col_list:\n",
    "        # Train 데이터에 라플라스 스무딩 적용\n",
    "        train = apply_laplace_smoothing(train, col, global_means[col], alpha)\n",
    "        train.drop(f'{col}_경기수', axis=1, inplace=True)\n",
    "\n",
    "    if val is not None:\n",
    "        for col in col_list:\n",
    "            # Validation 데이터에 Train에서 구한 글로벌 평균으로 라플라스 스무딩 적용\n",
    "            val = apply_laplace_smoothing(val, col, global_means[col], alpha)\n",
    "            val.drop(f'{col}_경기수', axis=1, inplace=True)\n",
    "\n",
    "    if val is not None:\n",
    "        return train, val\n",
    "    else:\n",
    "        return train\n",
    "\n",
    "\n",
    "train, val = laplace_smoothing_to_course(train, val, alpha=1) # 알파가 작을수록 빈도수에 가깝세, 알파가 클수록 전체 평균에 가깝게\n",
    "print(train.shape, val.shape)"
   ],
   "id": "4e8a7b127859206e",
   "outputs": [
    {
     "name": "stdout",
     "output_type": "stream",
     "text": [
      "(48522, 33) (8952, 33)\n"
     ]
    }
   ],
   "execution_count": 5
  },
  {
   "metadata": {},
   "cell_type": "markdown",
   "source": "- 최근 8경기 착순 분리",
   "id": "17ddaf712ca4ed32"
  },
  {
   "metadata": {
    "ExecuteTime": {
     "end_time": "2024-08-25T08:08:37.321954Z",
     "start_time": "2024-08-25T08:08:37.163917Z"
    }
   },
   "cell_type": "code",
   "source": [
    "def split_last_eight_rank(df):\n",
    "    for i in range(0, 4):\n",
    "        df[f'최근{i+1}경기_착순'] = df['최근8경주_착순'].str[i]\n",
    "    for j in range(5, 9):\n",
    "        df[f'최근{j}경기_착순'] = df['최근8경주_착순'].str[j]\n",
    "        \n",
    "    df.drop('최근8경주_착순', axis=1, inplace=True)\n",
    "        \n",
    "    return df\n",
    "\n",
    "def adjust_for_top3(df):\n",
    "    col_list = [\n",
    "        '최근1경기_착순', '최근2경기_착순', '최근3경기_착순', '최근4경기_착순',\n",
    "        '최근5경기_착순', '최근6경기_착순', '최근7경기_착순', '최근8경기_착순'\n",
    "    ]\n",
    "    \n",
    "    for col in col_list:\n",
    "    # 순위가 1, 2, 3이 아닌 경우, 결측인 경우, 6으로 조정\n",
    "    # (일반화된 성능을 위해 + 3등내에 드는게 중요)\n",
    "        df[col] = df[col].apply(lambda x: x if x in ['1', '2', '3'] else '6')\n",
    "\n",
    "    return df\n",
    "\n",
    "\n",
    "train = split_last_eight_rank(train)\n",
    "train = adjust_for_top3(train)\n",
    "\n",
    "val = split_last_eight_rank(val)\n",
    "val = adjust_for_top3(val)\n",
    "\n",
    "print(train.shape, val.shape)"
   ],
   "id": "8e7e8cb08b1e4754",
   "outputs": [
    {
     "name": "stdout",
     "output_type": "stream",
     "text": [
      "(48522, 40) (8952, 40)\n"
     ]
    }
   ],
   "execution_count": 6
  },
  {
   "metadata": {},
   "cell_type": "markdown",
   "source": "## 범주형 변수 확인\n",
   "id": "1e1b83cff7de2bbc"
  },
  {
   "metadata": {
    "ExecuteTime": {
     "end_time": "2024-08-25T08:08:38.143508Z",
     "start_time": "2024-08-25T08:08:38.096497Z"
    }
   },
   "cell_type": "code",
   "source": [
    "def cal_cat_cols(train, val=None):\n",
    "    num_features = []\n",
    "    objective_cols = []\n",
    "\n",
    "    # 특정 문자열이 포함된 열을 범주형 변수로 지정\n",
    "    word_list = ['번호', '기수', '경기_착순', 'Race_ID']\n",
    "    for col in train.columns:\n",
    "        if any(sub in col for sub in word_list):\n",
    "            objective_cols.append(col)\n",
    "            train[col] = train[col].astype('str')\n",
    "            if val is not None:\n",
    "                val[col] = val[col].astype('str')\n",
    "\n",
    "    # 나머지 열에 대해 숫자형 변환 시도\n",
    "    for col in train.columns:\n",
    "        if col in objective_cols:\n",
    "            continue  # 이미 범주형으로 처리된 열은 제외\n",
    "        try:\n",
    "            # 'float' 타입으로 변환 시도\n",
    "            train[col] = train[col].astype('float')\n",
    "            if val is not None:\n",
    "                val[col] = val[col].astype('float')\n",
    "            num_features.append(col)\n",
    "        except:\n",
    "            objective_cols.append(col)\n",
    "\n",
    "    cat_features = list(set(objective_cols) - set(['rank', 'Race_ID']))\n",
    "\n",
    "    return num_features, cat_features\n",
    "\n",
    "\n",
    "num_features, cat_features = cal_cat_cols(train, val)\n",
    "cat_features"
   ],
   "id": "b470c2d63ca13d5b",
   "outputs": [
    {
     "data": {
      "text/plain": [
       "['전일성적',\n",
       " '선수명',\n",
       " '등급',\n",
       " 'FL',\n",
       " '최근8경기_착순',\n",
       " '최근3경기_착순',\n",
       " '성별',\n",
       " '최근4경기_착순',\n",
       " '최근6경기_착순',\n",
       " '최근7경기_착순',\n",
       " '기수',\n",
       " '최근5경기_착순',\n",
       " '최근2경기_착순',\n",
       " '최근1경기_착순',\n",
       " '번호']"
      ]
     },
     "execution_count": 7,
     "metadata": {},
     "output_type": "execute_result"
    }
   ],
   "execution_count": 7
  },
  {
   "metadata": {},
   "cell_type": "markdown",
   "source": "- 낮은 빈도 데이터 통합",
   "id": "1c7bfe339b717742"
  },
  {
   "metadata": {
    "ExecuteTime": {
     "end_time": "2024-08-25T08:12:26.428954Z",
     "start_time": "2024-08-25T08:12:25.984979Z"
    }
   },
   "cell_type": "code",
   "source": [
    "def low_to_others(train, val, threshold=5, verbose=False):\n",
    "    _, cat_features = cal_cat_cols(train, val)\n",
    "\n",
    "    for col in cat_features:\n",
    "        unifier = low_frequency_to_others(threshold=threshold, verbose=verbose)\n",
    "        train[col] = unifier.fit_transform(train[col])\n",
    "        val[col] = unifier.transform(val[col])\n",
    "\n",
    "    return train, val\n",
    "\n",
    "train, val = low_to_others(train, val)"
   ],
   "id": "7a708c9445925326",
   "outputs": [],
   "execution_count": 17
  },
  {
   "metadata": {},
   "cell_type": "markdown",
   "source": "## X, y 분리",
   "id": "d6f40188a0734870"
  },
  {
   "metadata": {
    "ExecuteTime": {
     "end_time": "2024-08-25T08:08:41.618554Z",
     "start_time": "2024-08-25T08:08:41.588548Z"
    }
   },
   "cell_type": "code",
   "source": [
    "def add_y(df, target='연승', is_train=True):\n",
    "    df['rank'] = df['rank'].replace(0, 6)\n",
    "    df['target'] = 0\n",
    "    \n",
    "    if is_train:\n",
    "        if target=='단승': # 1등여부\n",
    "            condition_target = df['rank'] <= 1\n",
    "        elif target=='연승':\n",
    "            condition_target = df['rank'] <= 2\n",
    "        elif target=='삼복승':\n",
    "            condition_target = df['rank'] <= 3\n",
    "        \n",
    "        df.loc[condition_target, 'target'] = 1\n",
    "\n",
    "    return df\n",
    "\n",
    "\n",
    "\n",
    "train = add_y(train)\n",
    "val = add_y(val)\n",
    "\n",
    "drop_cols = [\n",
    "    '전일성적', 'rank', 'target'\n",
    "]\n",
    "\n",
    "X_train = train.drop(drop_cols, axis=1)\n",
    "y_train = train[['Race_ID', '번호', 'target']]\n",
    "X_val = val.drop(drop_cols, axis=1)\n",
    "y_val = val[['Race_ID', '번호', 'target']]\n",
    "\n",
    "print(X_train.shape, y_train.shape, X_val.shape, y_val.shape)"
   ],
   "id": "de9c342ceb44bb48",
   "outputs": [
    {
     "name": "stdout",
     "output_type": "stream",
     "text": [
      "(48522, 38) (48522, 3) (8952, 38) (8952, 3)\n"
     ]
    }
   ],
   "execution_count": 9
  },
  {
   "metadata": {
    "ExecuteTime": {
     "end_time": "2024-08-25T08:08:42.945415Z",
     "start_time": "2024-08-25T08:08:42.787378Z"
    }
   },
   "cell_type": "code",
   "source": [
    "def create_player_df(df, player_number):\n",
    "    df['번호'] = df['번호'].astype('float')\n",
    "    player_df = df[df['번호'] == player_number].copy()\n",
    "    player_df.drop('번호', axis=1, inplace=True)\n",
    "\n",
    "    # 컬럼명에 선수 번호를 추가\n",
    "    new_columns = {col: f'{col}_{player_number}번선수' for col in player_df.columns if col != 'Race_ID'}\n",
    "    player_df.rename(columns=new_columns, inplace=True)\n",
    "\n",
    "    # 'Race_ID' 컬럼만 유지하고 나머지는 선수 번호가 붙은 컬럼으로 변경\n",
    "    player_df = player_df[['Race_ID'] + list(new_columns.values())]\n",
    "\n",
    "    return player_df\n",
    "\n",
    "def merge_all_players(df):\n",
    "    merged_df = None\n",
    "\n",
    "    for player_number in range(1, 7):\n",
    "        player_df = create_player_df(df, player_number)\n",
    "\n",
    "        if merged_df is None:\n",
    "            merged_df = player_df\n",
    "        else:\n",
    "            merged_df = pd.merge(merged_df, player_df, on='Race_ID', how='inner')\n",
    "            \n",
    "    merged_df.drop('Race_ID', axis=1, inplace=True)\n",
    "\n",
    "    return merged_df\n",
    "\n",
    "X_train_merged = merge_all_players(X_train)\n",
    "y_train_merged = merge_all_players(y_train)\n",
    "y_train_merged = np.array(y_train_merged)\n",
    "\n",
    "X_val_merged = merge_all_players(X_val)\n",
    "y_val_merged = merge_all_players(y_val)\n",
    "y_val_merged = np.array(y_val_merged)\n",
    "\n",
    "print(X_train_merged.shape, y_train_merged.shape, X_val_merged.shape, y_val_merged.shape)"
   ],
   "id": "4a4168a133beb7ac",
   "outputs": [
    {
     "name": "stdout",
     "output_type": "stream",
     "text": [
      "(8087, 216) (8087, 6) (1492, 216) (1492, 6)\n"
     ]
    }
   ],
   "execution_count": 10
  },
  {
   "metadata": {
    "ExecuteTime": {
     "end_time": "2024-08-25T08:38:06.153663Z",
     "start_time": "2024-08-25T08:38:04.628600Z"
    }
   },
   "cell_type": "code",
   "source": [
    "def all_precoess(train, val, target_value='단승', is_train=True):\n",
    "    RANDOM_STATE = 999\n",
    "    \n",
    "    train = drop_columns_from_datasets(train)\n",
    "    val = drop_columns_from_datasets(val)\n",
    "\n",
    "    train = separation_course(train)\n",
    "    val = separation_course(val)\n",
    "\n",
    "    train, val = laplace_smoothing_to_course(train, val, alpha=1)\n",
    "\n",
    "    train = split_last_eight_rank(train)\n",
    "    train = adjust_for_top3(train)\n",
    "    \n",
    "    val = split_last_eight_rank(val)\n",
    "    val = adjust_for_top3(val)\n",
    "\n",
    "    # num_features, cat_features = cal_cat_cols(train, val)\n",
    "\n",
    "    # train, val = low_to_others(train, val)\n",
    "\n",
    "    if is_train:\n",
    "        train = add_y(train, target=target_value, is_train=True)\n",
    "        val = add_y(val, target=target_value, is_train=True)\n",
    "    else:\n",
    "        train = add_y(train, target=target_value, is_train=False)\n",
    "        val = add_y(val, target=target_value, is_train=False)\n",
    "\n",
    "    drop_cols = [\n",
    "        '전일성적', 'rank', 'target'\n",
    "    ]\n",
    "    X_train = train.drop(drop_cols, axis=1)\n",
    "    y_train = train[['Race_ID', '번호', 'target']]\n",
    "    X_val = val.drop(drop_cols, axis=1)\n",
    "    y_val = val[['Race_ID', '번호', 'target']]\n",
    "\n",
    "\n",
    "    X_train_merged = merge_all_players(X_train)\n",
    "    y_train_merged = merge_all_players(y_train)\n",
    "    y_train_merged = np.array(y_train_merged)\n",
    "    \n",
    "    X_val_merged = merge_all_players(X_val)\n",
    "    y_val_merged = merge_all_players(y_val)\n",
    "    y_val_merged = np.array(y_val_merged)\n",
    "    \n",
    "\n",
    "    X_train_merged, X_val_merged = low_to_others(X_train_merged, X_val_merged, threshold=5, verbose=False)\n",
    "    \n",
    "    \n",
    "    return X_train_merged, y_train_merged, X_val_merged, y_val_merged\n",
    "\n",
    "\n",
    "train = pd.read_csv(os.path.join(ROOT_DIR, \"train.csv\"))\n",
    "val = pd.read_csv(os.path.join(ROOT_DIR, \"val.csv\"))\n",
    "\n",
    "target_value='연승'\n",
    "X_train, y_train, X_val, y_val = all_precoess(train, val, target_value=target_value, is_train=True)\n",
    "\n",
    "print(X_train.shape, y_train.shape, X_val.shape, y_val.shape)"
   ],
   "id": "e383d255c53505cc",
   "outputs": [
    {
     "name": "stdout",
     "output_type": "stream",
     "text": [
      "(8087, 216) (8087, 6) (1492, 216) (1492, 6)\n"
     ]
    }
   ],
   "execution_count": 41
  },
  {
   "metadata": {
    "ExecuteTime": {
     "end_time": "2024-08-25T08:22:49.984246Z",
     "start_time": "2024-08-25T08:15:43.468484Z"
    }
   },
   "cell_type": "code",
   "source": [
    "from sklearn.multioutput import MultiOutputClassifier\n",
    "from catboost import CatBoostClassifier\n",
    "from sklearn.metrics import accuracy_score, f1_score\n",
    "\n",
    "class custom_CatBoostClassifier():\n",
    "    def __init__(self, params):\n",
    "        self.models = [CatBoostClassifier(**params) for _ in range(6)]\n",
    "\n",
    "    def fit(self, X, y, eval_set=None, cat_features=None):\n",
    "        y = np.array(y)  # y를 numpy 배열로 변환\n",
    "        if eval_set is not None:\n",
    "            X_val, y_val = eval_set\n",
    "            y_val = np.array(y_val)  # y_val을 numpy 배열로 변환\n",
    "\n",
    "        for i in range(6):\n",
    "            y_i = y[:, i]  # i번째 레이블에 대한 y 값\n",
    "\n",
    "            if eval_set is not None:\n",
    "                y_val_i = y_val[:, i]  # i번째 레이블에 대한 y_val 값\n",
    "                eval_set_i = (X_val, y_val_i)\n",
    "            else:\n",
    "                eval_set_i = None\n",
    "\n",
    "            self.models[i].fit(\n",
    "                X, y_i,\n",
    "                eval_set=eval_set_i,\n",
    "                cat_features=cat_features\n",
    "            )\n",
    "            print(f'{i+1}번째 레이블 학습 완료')\n",
    "\n",
    "    def predict(self, X):\n",
    "        preds = [model.predict(X) for model in self.models]\n",
    "        return np.vstack(preds).T\n",
    "\n",
    "    def predict_proba(self, X):\n",
    "        probas = [model.predict_proba(X)[:, 1] for model in self.models]\n",
    "        return np.vstack(probas).T\n",
    "    \n",
    "    \n",
    "params = {\n",
    "    'random_seed': RANDOM_STATE,\n",
    "    'iterations': 1000,\n",
    "    'learning_rate': 0.05,\n",
    "    'early_stopping_rounds': 100,\n",
    "    'auto_class_weights': 'Balanced',\n",
    "    'eval_metric': 'Accuracy',\n",
    "    'verbose': 200,\n",
    "    'thread_count':-1\n",
    "}\n",
    "\n",
    "model = custom_CatBoostClassifier(params)\n",
    "_, cat_features = cal_cat_cols(X_train, X_val)\n",
    "model.fit(\n",
    "    X_train, y_train,\n",
    "    eval_set=(X_val, y_val),\n",
    "    cat_features=cat_features,\n",
    ")\n"
   ],
   "id": "607c5cda9d3e1a07",
   "outputs": [
    {
     "name": "stdout",
     "output_type": "stream",
     "text": [
      "0:\tlearn: 0.6244335\ttest: 0.6217336\tbest: 0.6217336 (0)\ttotal: 215ms\tremaining: 3m 34s\n",
      "200:\tlearn: 0.7507694\ttest: 0.6866995\tbest: 0.6929825 (124)\ttotal: 58s\tremaining: 3m 50s\n",
      "Stopped by overfitting detector  (100 iterations wait)\n",
      "\n",
      "bestTest = 0.6929824546\n",
      "bestIteration = 124\n",
      "\n",
      "Shrink model to first 125 iterations.\n",
      "1번째 레이블 학습 완료\n",
      "0:\tlearn: 0.5995978\ttest: 0.6345717\tbest: 0.6345717 (0)\ttotal: 84.1ms\tremaining: 1m 24s\n",
      "200:\tlearn: 0.7423159\ttest: 0.6617802\tbest: 0.6625566 (199)\ttotal: 57.8s\tremaining: 3m 49s\n",
      "400:\tlearn: 0.8410004\ttest: 0.6635069\tbest: 0.6768910 (328)\ttotal: 1m 59s\tremaining: 2m 58s\n",
      "Stopped by overfitting detector  (100 iterations wait)\n",
      "\n",
      "bestTest = 0.6768910096\n",
      "bestIteration = 328\n",
      "\n",
      "Shrink model to first 329 iterations.\n",
      "2번째 레이블 학습 완료\n",
      "0:\tlearn: 0.6227170\ttest: 0.6050494\tbest: 0.6050494 (0)\ttotal: 209ms\tremaining: 3m 28s\n",
      "Stopped by overfitting detector  (100 iterations wait)\n",
      "\n",
      "bestTest = 0.6705735215\n",
      "bestIteration = 40\n",
      "\n",
      "Shrink model to first 41 iterations.\n",
      "3번째 레이블 학습 완료\n",
      "0:\tlearn: 0.6094185\ttest: 0.5920483\tbest: 0.5920483 (0)\ttotal: 228ms\tremaining: 3m 47s\n",
      "Stopped by overfitting detector  (100 iterations wait)\n",
      "\n",
      "bestTest = 0.6504976378\n",
      "bestIteration = 84\n",
      "\n",
      "Shrink model to first 85 iterations.\n",
      "4번째 레이블 학습 완료\n",
      "0:\tlearn: 0.6212731\ttest: 0.6138060\tbest: 0.6138060 (0)\ttotal: 213ms\tremaining: 3m 32s\n",
      "Stopped by overfitting detector  (100 iterations wait)\n",
      "\n",
      "bestTest = 0.6557567963\n",
      "bestIteration = 73\n",
      "\n",
      "Shrink model to first 74 iterations.\n",
      "5번째 레이블 학습 완료\n",
      "0:\tlearn: 0.6382775\ttest: 0.6180032\tbest: 0.6180032 (0)\ttotal: 248ms\tremaining: 4m 7s\n",
      "200:\tlearn: 0.8015819\ttest: 0.6715901\tbest: 0.6770772 (196)\ttotal: 52.7s\tremaining: 3m 29s\n",
      "Stopped by overfitting detector  (100 iterations wait)\n",
      "\n",
      "bestTest = 0.6927947536\n",
      "bestIteration = 275\n",
      "\n",
      "Shrink model to first 276 iterations.\n",
      "6번째 레이블 학습 완료\n"
     ]
    }
   ],
   "execution_count": 25
  },
  {
   "metadata": {
    "ExecuteTime": {
     "end_time": "2024-08-25T08:39:00.943282Z",
     "start_time": "2024-08-25T08:39:00.788251Z"
    }
   },
   "cell_type": "code",
   "source": [
    "# 모델 예측\n",
    "y_pred = model.predict_proba(X_val)\n",
    "\n",
    "y_pred_max = np.zeros_like(y_pred)\n",
    "for i in range(y_pred.shape[0]):  # 각 샘플에 대해 반복\n",
    "    if target_value=='단승':\n",
    "        max_indices = np.argsort(y_pred[i])[-1:]  # 가장 큰 두 개의 값의 인덱스 찾기\n",
    "    elif target_value=='연승':\n",
    "        max_indices = np.argsort(y_pred[i])[-2:]\n",
    "    elif target_value=='삼복승':\n",
    "        max_indices = np.argsort(y_pred[i])[-3:]\n",
    "    y_pred_max[i, max_indices] = 1  # 해당 인덱스에 1 설정\n"
   ],
   "id": "b6bf42aa889b530b",
   "outputs": [],
   "execution_count": 45
  },
  {
   "metadata": {
    "ExecuteTime": {
     "end_time": "2024-08-25T08:42:12.225684Z",
     "start_time": "2024-08-25T08:42:12.214682Z"
    }
   },
   "cell_type": "code",
   "source": [
    "accuracy = accuracy_score(y_pred_max, y_val)\n",
    "print(f'Val Accuracy: {accuracy}') # val 경기중, 23%는 모두 맞췄다는 의미"
   ],
   "id": "9f842e1c003bb8cf",
   "outputs": [
    {
     "name": "stdout",
     "output_type": "stream",
     "text": [
      "Val Accuracy: 0.2386058981233244\n"
     ]
    }
   ],
   "execution_count": 49
  },
  {
   "metadata": {},
   "cell_type": "code",
   "outputs": [],
   "execution_count": null,
   "source": "",
   "id": "ba5033bd7e872cc4"
  }
 ],
 "metadata": {
  "kernelspec": {
   "display_name": "Python 3",
   "language": "python",
   "name": "python3"
  },
  "language_info": {
   "codemirror_mode": {
    "name": "ipython",
    "version": 2
   },
   "file_extension": ".py",
   "mimetype": "text/x-python",
   "name": "python",
   "nbconvert_exporter": "python",
   "pygments_lexer": "ipython2",
   "version": "2.7.6"
  }
 },
 "nbformat": 4,
 "nbformat_minor": 5
}
