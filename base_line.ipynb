{
 "cells": [
  {
   "cell_type": "code",
   "id": "initial_id",
   "metadata": {
    "collapsed": true,
    "ExecuteTime": {
     "end_time": "2024-09-04T10:27:33.479153Z",
     "start_time": "2024-09-04T10:27:28.656732Z"
    }
   },
   "source": [
    "import pandas as pd\n",
    "import numpy as np\n",
    "import os\n",
    "import matplotlib.pyplot as plt\n",
    "from catboost import CatBoostClassifier\n",
    "from encoding_function import low_frequency_to_others\n",
    "from sklearn.model_selection import KFold\n",
    "\n",
    "import warnings\n",
    "warnings.filterwarnings('ignore')"
   ],
   "outputs": [],
   "execution_count": 1
  },
  {
   "metadata": {},
   "cell_type": "markdown",
   "source": [
    "### 데이터 불러오기\n",
    "- 학습: 2023년도 이전\n",
    "- 검증: 2023년\n",
    "- 테스트: 2024년"
   ],
   "id": "612fa091ac8898db"
  },
  {
   "metadata": {
    "ExecuteTime": {
     "end_time": "2024-09-04T10:27:33.820849Z",
     "start_time": "2024-09-04T10:27:33.486658Z"
    }
   },
   "cell_type": "code",
   "source": [
    "def add_y(df):\n",
    "    df['rank'] = df['rank'].replace(0, 6)\n",
    "\n",
    "    target_cols = [\n",
    "        '단승', '복승', '삼복승'\n",
    "    ]\n",
    "    for i, col in enumerate(target_cols):\n",
    "        condition_target = df['rank'] <= i+1\n",
    "        df.loc[condition_target, col] = 1\n",
    "\n",
    "    df[target_cols] = df[target_cols].fillna(0)\n",
    "    df.drop(['rank'], axis=1, inplace=True)\n",
    "    return df\n",
    "\n",
    "\n",
    "ROOT_DIR = \"data\"\n",
    "RANDOM_STATE = 999\n",
    "\n",
    "train = pd.read_csv(os.path.join(ROOT_DIR, \"train.csv\"))\n",
    "test = pd.read_csv(os.path.join(ROOT_DIR, \"test.csv\"))\n",
    "\n",
    "train = add_y(train)\n",
    "test = add_y(test)\n",
    "\n",
    "print(train.shape, test.shape)"
   ],
   "id": "fc7baeed3df515e6",
   "outputs": [
    {
     "name": "stdout",
     "output_type": "stream",
     "text": [
      "(57474, 45) (6036, 45)\n"
     ]
    }
   ],
   "execution_count": 2
  },
  {
   "metadata": {},
   "cell_type": "markdown",
   "source": "## 사용하지 않는 feature drop",
   "id": "b85feb78ce70647c"
  },
  {
   "metadata": {},
   "cell_type": "markdown",
   "source": "- 전일 성적을 어떻게 반영할지",
   "id": "d273bbdb0803f1e0"
  },
  {
   "metadata": {
    "ExecuteTime": {
     "end_time": "2024-09-04T10:27:41.546185Z",
     "start_time": "2024-09-04T10:27:41.525180Z"
    }
   },
   "cell_type": "code",
   "source": [
    "def drop_columns_from_datasets(df):\n",
    "    drop_cols = [\n",
    "        '연도', '회차', '일차', '경주번호',\n",
    "        '금일출주경주',\n",
    "        '모터번호', '전탑승선수1', '전탑승선수2',\n",
    "        '보트번호', '특이사항',\n",
    "        '전일성적'\n",
    "    ]\n",
    "\n",
    "    df = df.drop(drop_cols, axis=1)\n",
    "\n",
    "    return df\n",
    "\n",
    "\n",
    "train = drop_columns_from_datasets(train)\n",
    "test = drop_columns_from_datasets(test)\n",
    "\n",
    "print(train.shape, test.shape)"
   ],
   "id": "c8e70aede39457c4",
   "outputs": [
    {
     "name": "stdout",
     "output_type": "stream",
     "text": [
      "(57474, 34) (6036, 34)\n"
     ]
    }
   ],
   "execution_count": 4
  },
  {
   "metadata": {},
   "cell_type": "markdown",
   "source": "## 일부 숫자형 변수 변환",
   "id": "d9b5a5c06231b8d3"
  },
  {
   "metadata": {},
   "cell_type": "markdown",
   "source": "- 코스별 성적/경기수 분리",
   "id": "415d3de999d33ce9"
  },
  {
   "metadata": {
    "ExecuteTime": {
     "end_time": "2024-09-04T10:27:43.490626Z",
     "start_time": "2024-09-04T10:27:42.811139Z"
    }
   },
   "cell_type": "code",
   "source": [
    "def separation_course(df):\n",
    "    col_list = [\n",
    "        '코스_1코스', '코스_2코스', '코스_3코스', '코스_4코스', '코스_5코스', '코스_6코스'\n",
    "    ]\n",
    "    for col in col_list:\n",
    "        df[[f'{col[3:]}_성적', f'{col[3:]}_경기수']] = df[col].fillna('').str.split('/', expand=True)\n",
    "\n",
    "    df.drop(col_list, axis=1, inplace=True)\n",
    "\n",
    "    return df\n",
    "        \n",
    "\n",
    "\n",
    "train = separation_course(train)\n",
    "test = separation_course(test)\n",
    "\n",
    "print(train.shape, test.shape)"
   ],
   "id": "4de76893ce9cd206",
   "outputs": [
    {
     "name": "stdout",
     "output_type": "stream",
     "text": [
      "(57474, 40) (6036, 40)\n"
     ]
    }
   ],
   "execution_count": 5
  },
  {
   "metadata": {},
   "cell_type": "markdown",
   "source": "- 코스별 성적 스무딩",
   "id": "82e3ad637e2d6e7a"
  },
  {
   "metadata": {
    "ExecuteTime": {
     "end_time": "2024-09-04T10:27:43.801182Z",
     "start_time": "2024-09-04T10:27:43.652661Z"
    }
   },
   "cell_type": "code",
   "source": [
    "def apply_laplace_smoothing(df, col, global_mean, alpha):\n",
    "    # 경기수 0인 값이 너무 높게 나오는 경향이 있어 분모에 상수 1 추가(없애도 됨)\n",
    "    encoded_value = (df[f'{col}_성적'] * df[f'{col}_경기수'] + global_mean * alpha) / (1 + df[f'{col}_경기수'] + alpha)\n",
    "    df[f'{col}_성적'] = encoded_value\n",
    "\n",
    "    return df\n",
    "\n",
    "def laplace_smoothing_to_course(train, val=None, alpha=1):\n",
    "    col_list = [\n",
    "        '1코스', '2코스', '3코스', '4코스', '5코스', '6코스'\n",
    "    ]\n",
    "    for col in col_list:\n",
    "        train[f'{col}_성적'] = train[f'{col}_성적'].astype(float)\n",
    "        train[f'{col}_경기수'] = train[f'{col}_경기수'].astype(float)\n",
    "        if val is not None:\n",
    "            val[f'{col}_성적'] = val[f'{col}_성적'].astype(float)\n",
    "            val[f'{col}_경기수'] = val[f'{col}_경기수'].astype(float)\n",
    "\n",
    "    # Train 데이터에서 글로벌 평균 계산\n",
    "    global_means = {col: train[f'{col}_성적'].mean() for col in col_list}\n",
    "\n",
    "    for col in col_list:\n",
    "        # Train 데이터에 라플라스 스무딩 적용\n",
    "        train = apply_laplace_smoothing(train, col, global_means[col], alpha)\n",
    "        train.drop(f'{col}_경기수', axis=1, inplace=True)\n",
    "\n",
    "    if val is not None:\n",
    "        for col in col_list:\n",
    "            # Validation 데이터에 Train에서 구한 글로벌 평균으로 라플라스 스무딩 적용\n",
    "            val = apply_laplace_smoothing(val, col, global_means[col], alpha)\n",
    "            val.drop(f'{col}_경기수', axis=1, inplace=True)\n",
    "\n",
    "    if val is not None:\n",
    "        return train, val\n",
    "    else:\n",
    "        return train\n",
    "\n",
    "\n",
    "train, test = laplace_smoothing_to_course(train, test, alpha=1) # 알파가 작을수록 빈도수에 가깝세, 알파가 클수록 전체 평균에 가깝게\n",
    "print(train.shape, test.shape)"
   ],
   "id": "4e8a7b127859206e",
   "outputs": [
    {
     "name": "stdout",
     "output_type": "stream",
     "text": [
      "(57474, 34) (6036, 34)\n"
     ]
    }
   ],
   "execution_count": 6
  },
  {
   "metadata": {
    "ExecuteTime": {
     "end_time": "2024-09-04T10:27:44.004495Z",
     "start_time": "2024-09-04T10:27:43.977488Z"
    }
   },
   "cell_type": "code",
   "source": [
    "def set_course_scores(df):\n",
    "    # '코스_성적' 열을 초기화\n",
    "    df['코스_성적'] = 0\n",
    "\n",
    "    # '번호' 열에 따른 '코스_성적' 값 설정\n",
    "    for i in range(1, 7):\n",
    "        mask = df['번호'] == i\n",
    "        df.loc[mask, '코스_성적'] = df.loc[mask, f'{i}코스_성적']\n",
    "\n",
    "    # 제거할 열 목록\n",
    "    drop_cols = [f'{i}코스_성적' for i in range(1, 7)]\n",
    "\n",
    "    # 열 제거\n",
    "    df = df.drop(columns=drop_cols)\n",
    "\n",
    "    return df\n",
    "\n",
    "\n",
    "from sklearn.decomposition import PCA\n",
    "def set_course_scores_with_pca(df):\n",
    "    # '코스_성적' 열을 초기화\n",
    "    df['코스_성적'] = 0\n",
    "\n",
    "    # '번호' 열에 따른 '코스_성적' 값 설정\n",
    "    for i in range(1, 7):\n",
    "        mask = df['번호'] == i\n",
    "        df.loc[mask, '코스_성적'] = df.loc[mask, f'{i}코스_성적']\n",
    "\n",
    "    # PCA를 적용할 열 목록\n",
    "    course_cols = [f'{i}코스_성적' for i in range(1, 7)]\n",
    "\n",
    "    # PCA 적용\n",
    "    pca = PCA(n_components=n_components)\n",
    "    pca_results = pca.fit_transform(df[course_cols])\n",
    "\n",
    "    # PCA 결과를 새로운 열로 추가\n",
    "    for i in range(n_components):\n",
    "        df[f'PCA_{i+1}'] = pca_results[:, i]\n",
    "\n",
    "    # 기존 코스 성적 열은 그대로 유지하고 '코스_성적' 열과 PCA 결과를 함께 반환\n",
    "    return df\n",
    "\n",
    "\n",
    "train = set_course_scores(train)\n",
    "test = set_course_scores(test)"
   ],
   "id": "f6b5458672fb225d",
   "outputs": [],
   "execution_count": 7
  },
  {
   "metadata": {},
   "cell_type": "markdown",
   "source": "- 최근 8경기 착순 분리",
   "id": "17ddaf712ca4ed32"
  },
  {
   "metadata": {},
   "cell_type": "markdown",
   "source": "- 최근 8경기를 어떻게 반영할지",
   "id": "3af9766d2b25543"
  },
  {
   "metadata": {
    "ExecuteTime": {
     "end_time": "2024-09-04T10:27:48.892800Z",
     "start_time": "2024-09-04T10:27:48.740566Z"
    }
   },
   "cell_type": "code",
   "source": [
    "def split_last_eight_rank(df):\n",
    "    for i in range(0, 4):\n",
    "        df[f'최근{i+1}경기_착순'] = df['최근8경주_착순'].str[i]\n",
    "    for j in range(5, 9):\n",
    "        df[f'최근{j}경기_착순'] = df['최근8경주_착순'].str[j]\n",
    "        \n",
    "    df.drop('최근8경주_착순', axis=1, inplace=True)\n",
    "        \n",
    "    return df\n",
    "\n",
    "def adjust_for_top3(df):\n",
    "    col_list = [\n",
    "        '최근1경기_착순', '최근2경기_착순', '최근3경기_착순', '최근4경기_착순',\n",
    "        '최근5경기_착순', '최근6경기_착순', '최근7경기_착순', '최근8경기_착순'\n",
    "    ]\n",
    "    \n",
    "    for col in col_list:\n",
    "    # 순위가 1, 2, 3이 아닌 경우, 결측인 경우, 6으로 조정\n",
    "    # (일반화된 성능을 위해 + 3등내에 드는게 중요)\n",
    "        df[col] = df[col].apply(lambda x: x if x in ['1', '2', '3'] else '-1')\n",
    "\n",
    "    return df\n",
    "\n",
    "\n",
    "train = split_last_eight_rank(train)\n",
    "train = adjust_for_top3(train)\n",
    "\n",
    "test = split_last_eight_rank(test)\n",
    "test = adjust_for_top3(test)\n",
    "\n",
    "print(train.shape, test.shape)"
   ],
   "id": "8e7e8cb08b1e4754",
   "outputs": [
    {
     "name": "stdout",
     "output_type": "stream",
     "text": [
      "(57474, 36) (6036, 36)\n"
     ]
    }
   ],
   "execution_count": 8
  },
  {
   "metadata": {},
   "cell_type": "markdown",
   "source": "## 범주형 변수 확인\n",
   "id": "1e1b83cff7de2bbc"
  },
  {
   "metadata": {
    "ExecuteTime": {
     "end_time": "2024-09-04T10:27:49.823860Z",
     "start_time": "2024-09-04T10:27:49.812858Z"
    }
   },
   "cell_type": "code",
   "source": [
    "def cal_cat_cols(train, val=None):\n",
    "    objective_cols = []\n",
    "\n",
    "    # 특정 문자열이 포함된 열을 범주형 변수로 지정\n",
    "    cat_kerword_list = ['번호', '기수', '경기_착순']\n",
    "    for col in train.columns:\n",
    "        if any(sub in col for sub in cat_kerword_list):\n",
    "            objective_cols.append(col)\n",
    "            train[col] = train[col].astype('str')\n",
    "            val[col] = val[col].astype('str')\n",
    "            \n",
    "    # 나머지 열에 대해 숫자형 변환 시도\n",
    "    for col in train.columns:\n",
    "        if col in objective_cols:\n",
    "            continue  # 이미 범주형으로 처리된 열은 제외\n",
    "        try:\n",
    "            # 'float' 타입으로 변환 시도\n",
    "            train[col] = train[col].astype('float')\n",
    "            val[col] = val[col].astype('float')\n",
    "        except:\n",
    "            objective_cols.append(col)\n",
    "\n",
    "    cat_features = list(set(objective_cols) - set(['rank', 'Race_ID']))\n",
    "    cat_features = [feature for feature in cat_features if '단승' not in feature]\n",
    "    cat_features = [feature for feature in cat_features if '복승' not in feature]\n",
    "    cat_features = [feature for feature in cat_features if '삼복승' not in feature]\n",
    "\n",
    "    return cat_features\n",
    "\n",
    "\n",
    "# cat_features = cal_cat_cols(train, test)\n",
    "# cat_features"
   ],
   "id": "b470c2d63ca13d5b",
   "outputs": [],
   "execution_count": 9
  },
  {
   "metadata": {
    "ExecuteTime": {
     "end_time": "2024-09-04T10:27:53.049767Z",
     "start_time": "2024-09-04T10:27:50.912906Z"
    }
   },
   "cell_type": "code",
   "source": [
    "plt.rcParams['font.family'] = 'Malgun Gothic'\n",
    "\n",
    "cols = [\n",
    "    '단승', '복승', '삼복승'\n",
    "]\n",
    "condition = train['Race_ID'].str[9:].astype(int) >= 15\n",
    "\n",
    "for col in cols:\n",
    "    mean_values = train.loc[condition, :].groupby('번호')[col].mean()\n",
    "\n",
    "    plt.figure(figsize=(14, 7))\n",
    "    mean_values.plot(kind='bar', color='skyblue')\n",
    "    plt.title(f'번호 별 {col} 값의 평균')\n",
    "    plt.xlabel('번호')\n",
    "    plt.ylabel(f'{col} 값의 평균')\n",
    "    plt.xticks(rotation=0)\n",
    "    plt.show()"
   ],
   "id": "53bc21cf4c743a73",
   "outputs": [
    {
     "ename": "ValueError",
     "evalue": "invalid literal for int() with base 10: '_1'",
     "output_type": "error",
     "traceback": [
      "\u001B[1;31m---------------------------------------------------------------------------\u001B[0m",
      "\u001B[1;31mValueError\u001B[0m                                Traceback (most recent call last)",
      "Cell \u001B[1;32mIn[10], line 6\u001B[0m\n\u001B[0;32m      1\u001B[0m plt\u001B[38;5;241m.\u001B[39mrcParams[\u001B[38;5;124m'\u001B[39m\u001B[38;5;124mfont.family\u001B[39m\u001B[38;5;124m'\u001B[39m] \u001B[38;5;241m=\u001B[39m \u001B[38;5;124m'\u001B[39m\u001B[38;5;124mMalgun Gothic\u001B[39m\u001B[38;5;124m'\u001B[39m\n\u001B[0;32m      3\u001B[0m cols \u001B[38;5;241m=\u001B[39m [\n\u001B[0;32m      4\u001B[0m     \u001B[38;5;124m'\u001B[39m\u001B[38;5;124m단승\u001B[39m\u001B[38;5;124m'\u001B[39m, \u001B[38;5;124m'\u001B[39m\u001B[38;5;124m복승\u001B[39m\u001B[38;5;124m'\u001B[39m, \u001B[38;5;124m'\u001B[39m\u001B[38;5;124m삼복승\u001B[39m\u001B[38;5;124m'\u001B[39m\n\u001B[0;32m      5\u001B[0m ]\n\u001B[1;32m----> 6\u001B[0m condition \u001B[38;5;241m=\u001B[39m \u001B[43mtrain\u001B[49m\u001B[43m[\u001B[49m\u001B[38;5;124;43m'\u001B[39;49m\u001B[38;5;124;43mRace_ID\u001B[39;49m\u001B[38;5;124;43m'\u001B[39;49m\u001B[43m]\u001B[49m\u001B[38;5;241;43m.\u001B[39;49m\u001B[43mstr\u001B[49m\u001B[43m[\u001B[49m\u001B[38;5;241;43m9\u001B[39;49m\u001B[43m:\u001B[49m\u001B[43m]\u001B[49m\u001B[38;5;241;43m.\u001B[39;49m\u001B[43mastype\u001B[49m\u001B[43m(\u001B[49m\u001B[38;5;28;43mint\u001B[39;49m\u001B[43m)\u001B[49m \u001B[38;5;241m>\u001B[39m\u001B[38;5;241m=\u001B[39m \u001B[38;5;241m15\u001B[39m\n\u001B[0;32m      8\u001B[0m \u001B[38;5;28;01mfor\u001B[39;00m col \u001B[38;5;129;01min\u001B[39;00m cols:\n\u001B[0;32m      9\u001B[0m     mean_values \u001B[38;5;241m=\u001B[39m train\u001B[38;5;241m.\u001B[39mloc[condition, :]\u001B[38;5;241m.\u001B[39mgroupby(\u001B[38;5;124m'\u001B[39m\u001B[38;5;124m번호\u001B[39m\u001B[38;5;124m'\u001B[39m)[col]\u001B[38;5;241m.\u001B[39mmean()\n",
      "File \u001B[1;32m~\\anaconda3\\envs\\KBoat_1\\lib\\site-packages\\pandas\\core\\generic.py:6643\u001B[0m, in \u001B[0;36mNDFrame.astype\u001B[1;34m(self, dtype, copy, errors)\u001B[0m\n\u001B[0;32m   6637\u001B[0m     results \u001B[38;5;241m=\u001B[39m [\n\u001B[0;32m   6638\u001B[0m         ser\u001B[38;5;241m.\u001B[39mastype(dtype, copy\u001B[38;5;241m=\u001B[39mcopy, errors\u001B[38;5;241m=\u001B[39merrors) \u001B[38;5;28;01mfor\u001B[39;00m _, ser \u001B[38;5;129;01min\u001B[39;00m \u001B[38;5;28mself\u001B[39m\u001B[38;5;241m.\u001B[39mitems()\n\u001B[0;32m   6639\u001B[0m     ]\n\u001B[0;32m   6641\u001B[0m \u001B[38;5;28;01melse\u001B[39;00m:\n\u001B[0;32m   6642\u001B[0m     \u001B[38;5;66;03m# else, only a single dtype is given\u001B[39;00m\n\u001B[1;32m-> 6643\u001B[0m     new_data \u001B[38;5;241m=\u001B[39m \u001B[38;5;28;43mself\u001B[39;49m\u001B[38;5;241;43m.\u001B[39;49m\u001B[43m_mgr\u001B[49m\u001B[38;5;241;43m.\u001B[39;49m\u001B[43mastype\u001B[49m\u001B[43m(\u001B[49m\u001B[43mdtype\u001B[49m\u001B[38;5;241;43m=\u001B[39;49m\u001B[43mdtype\u001B[49m\u001B[43m,\u001B[49m\u001B[43m \u001B[49m\u001B[43mcopy\u001B[49m\u001B[38;5;241;43m=\u001B[39;49m\u001B[43mcopy\u001B[49m\u001B[43m,\u001B[49m\u001B[43m \u001B[49m\u001B[43merrors\u001B[49m\u001B[38;5;241;43m=\u001B[39;49m\u001B[43merrors\u001B[49m\u001B[43m)\u001B[49m\n\u001B[0;32m   6644\u001B[0m     res \u001B[38;5;241m=\u001B[39m \u001B[38;5;28mself\u001B[39m\u001B[38;5;241m.\u001B[39m_constructor_from_mgr(new_data, axes\u001B[38;5;241m=\u001B[39mnew_data\u001B[38;5;241m.\u001B[39maxes)\n\u001B[0;32m   6645\u001B[0m     \u001B[38;5;28;01mreturn\u001B[39;00m res\u001B[38;5;241m.\u001B[39m__finalize__(\u001B[38;5;28mself\u001B[39m, method\u001B[38;5;241m=\u001B[39m\u001B[38;5;124m\"\u001B[39m\u001B[38;5;124mastype\u001B[39m\u001B[38;5;124m\"\u001B[39m)\n",
      "File \u001B[1;32m~\\anaconda3\\envs\\KBoat_1\\lib\\site-packages\\pandas\\core\\internals\\managers.py:430\u001B[0m, in \u001B[0;36mBaseBlockManager.astype\u001B[1;34m(self, dtype, copy, errors)\u001B[0m\n\u001B[0;32m    427\u001B[0m \u001B[38;5;28;01melif\u001B[39;00m using_copy_on_write():\n\u001B[0;32m    428\u001B[0m     copy \u001B[38;5;241m=\u001B[39m \u001B[38;5;28;01mFalse\u001B[39;00m\n\u001B[1;32m--> 430\u001B[0m \u001B[38;5;28;01mreturn\u001B[39;00m \u001B[38;5;28;43mself\u001B[39;49m\u001B[38;5;241;43m.\u001B[39;49m\u001B[43mapply\u001B[49m\u001B[43m(\u001B[49m\n\u001B[0;32m    431\u001B[0m \u001B[43m    \u001B[49m\u001B[38;5;124;43m\"\u001B[39;49m\u001B[38;5;124;43mastype\u001B[39;49m\u001B[38;5;124;43m\"\u001B[39;49m\u001B[43m,\u001B[49m\n\u001B[0;32m    432\u001B[0m \u001B[43m    \u001B[49m\u001B[43mdtype\u001B[49m\u001B[38;5;241;43m=\u001B[39;49m\u001B[43mdtype\u001B[49m\u001B[43m,\u001B[49m\n\u001B[0;32m    433\u001B[0m \u001B[43m    \u001B[49m\u001B[43mcopy\u001B[49m\u001B[38;5;241;43m=\u001B[39;49m\u001B[43mcopy\u001B[49m\u001B[43m,\u001B[49m\n\u001B[0;32m    434\u001B[0m \u001B[43m    \u001B[49m\u001B[43merrors\u001B[49m\u001B[38;5;241;43m=\u001B[39;49m\u001B[43merrors\u001B[49m\u001B[43m,\u001B[49m\n\u001B[0;32m    435\u001B[0m \u001B[43m    \u001B[49m\u001B[43musing_cow\u001B[49m\u001B[38;5;241;43m=\u001B[39;49m\u001B[43musing_copy_on_write\u001B[49m\u001B[43m(\u001B[49m\u001B[43m)\u001B[49m\u001B[43m,\u001B[49m\n\u001B[0;32m    436\u001B[0m \u001B[43m\u001B[49m\u001B[43m)\u001B[49m\n",
      "File \u001B[1;32m~\\anaconda3\\envs\\KBoat_1\\lib\\site-packages\\pandas\\core\\internals\\managers.py:363\u001B[0m, in \u001B[0;36mBaseBlockManager.apply\u001B[1;34m(self, f, align_keys, **kwargs)\u001B[0m\n\u001B[0;32m    361\u001B[0m         applied \u001B[38;5;241m=\u001B[39m b\u001B[38;5;241m.\u001B[39mapply(f, \u001B[38;5;241m*\u001B[39m\u001B[38;5;241m*\u001B[39mkwargs)\n\u001B[0;32m    362\u001B[0m     \u001B[38;5;28;01melse\u001B[39;00m:\n\u001B[1;32m--> 363\u001B[0m         applied \u001B[38;5;241m=\u001B[39m \u001B[38;5;28mgetattr\u001B[39m(b, f)(\u001B[38;5;241m*\u001B[39m\u001B[38;5;241m*\u001B[39mkwargs)\n\u001B[0;32m    364\u001B[0m     result_blocks \u001B[38;5;241m=\u001B[39m extend_blocks(applied, result_blocks)\n\u001B[0;32m    366\u001B[0m out \u001B[38;5;241m=\u001B[39m \u001B[38;5;28mtype\u001B[39m(\u001B[38;5;28mself\u001B[39m)\u001B[38;5;241m.\u001B[39mfrom_blocks(result_blocks, \u001B[38;5;28mself\u001B[39m\u001B[38;5;241m.\u001B[39maxes)\n",
      "File \u001B[1;32m~\\anaconda3\\envs\\KBoat_1\\lib\\site-packages\\pandas\\core\\internals\\blocks.py:758\u001B[0m, in \u001B[0;36mBlock.astype\u001B[1;34m(self, dtype, copy, errors, using_cow, squeeze)\u001B[0m\n\u001B[0;32m    755\u001B[0m         \u001B[38;5;28;01mraise\u001B[39;00m \u001B[38;5;167;01mValueError\u001B[39;00m(\u001B[38;5;124m\"\u001B[39m\u001B[38;5;124mCan not squeeze with more than one column.\u001B[39m\u001B[38;5;124m\"\u001B[39m)\n\u001B[0;32m    756\u001B[0m     values \u001B[38;5;241m=\u001B[39m values[\u001B[38;5;241m0\u001B[39m, :]  \u001B[38;5;66;03m# type: ignore[call-overload]\u001B[39;00m\n\u001B[1;32m--> 758\u001B[0m new_values \u001B[38;5;241m=\u001B[39m \u001B[43mastype_array_safe\u001B[49m\u001B[43m(\u001B[49m\u001B[43mvalues\u001B[49m\u001B[43m,\u001B[49m\u001B[43m \u001B[49m\u001B[43mdtype\u001B[49m\u001B[43m,\u001B[49m\u001B[43m \u001B[49m\u001B[43mcopy\u001B[49m\u001B[38;5;241;43m=\u001B[39;49m\u001B[43mcopy\u001B[49m\u001B[43m,\u001B[49m\u001B[43m \u001B[49m\u001B[43merrors\u001B[49m\u001B[38;5;241;43m=\u001B[39;49m\u001B[43merrors\u001B[49m\u001B[43m)\u001B[49m\n\u001B[0;32m    760\u001B[0m new_values \u001B[38;5;241m=\u001B[39m maybe_coerce_values(new_values)\n\u001B[0;32m    762\u001B[0m refs \u001B[38;5;241m=\u001B[39m \u001B[38;5;28;01mNone\u001B[39;00m\n",
      "File \u001B[1;32m~\\anaconda3\\envs\\KBoat_1\\lib\\site-packages\\pandas\\core\\dtypes\\astype.py:237\u001B[0m, in \u001B[0;36mastype_array_safe\u001B[1;34m(values, dtype, copy, errors)\u001B[0m\n\u001B[0;32m    234\u001B[0m     dtype \u001B[38;5;241m=\u001B[39m dtype\u001B[38;5;241m.\u001B[39mnumpy_dtype\n\u001B[0;32m    236\u001B[0m \u001B[38;5;28;01mtry\u001B[39;00m:\n\u001B[1;32m--> 237\u001B[0m     new_values \u001B[38;5;241m=\u001B[39m \u001B[43mastype_array\u001B[49m\u001B[43m(\u001B[49m\u001B[43mvalues\u001B[49m\u001B[43m,\u001B[49m\u001B[43m \u001B[49m\u001B[43mdtype\u001B[49m\u001B[43m,\u001B[49m\u001B[43m \u001B[49m\u001B[43mcopy\u001B[49m\u001B[38;5;241;43m=\u001B[39;49m\u001B[43mcopy\u001B[49m\u001B[43m)\u001B[49m\n\u001B[0;32m    238\u001B[0m \u001B[38;5;28;01mexcept\u001B[39;00m (\u001B[38;5;167;01mValueError\u001B[39;00m, \u001B[38;5;167;01mTypeError\u001B[39;00m):\n\u001B[0;32m    239\u001B[0m     \u001B[38;5;66;03m# e.g. _astype_nansafe can fail on object-dtype of strings\u001B[39;00m\n\u001B[0;32m    240\u001B[0m     \u001B[38;5;66;03m#  trying to convert to float\u001B[39;00m\n\u001B[0;32m    241\u001B[0m     \u001B[38;5;28;01mif\u001B[39;00m errors \u001B[38;5;241m==\u001B[39m \u001B[38;5;124m\"\u001B[39m\u001B[38;5;124mignore\u001B[39m\u001B[38;5;124m\"\u001B[39m:\n",
      "File \u001B[1;32m~\\anaconda3\\envs\\KBoat_1\\lib\\site-packages\\pandas\\core\\dtypes\\astype.py:182\u001B[0m, in \u001B[0;36mastype_array\u001B[1;34m(values, dtype, copy)\u001B[0m\n\u001B[0;32m    179\u001B[0m     values \u001B[38;5;241m=\u001B[39m values\u001B[38;5;241m.\u001B[39mastype(dtype, copy\u001B[38;5;241m=\u001B[39mcopy)\n\u001B[0;32m    181\u001B[0m \u001B[38;5;28;01melse\u001B[39;00m:\n\u001B[1;32m--> 182\u001B[0m     values \u001B[38;5;241m=\u001B[39m \u001B[43m_astype_nansafe\u001B[49m\u001B[43m(\u001B[49m\u001B[43mvalues\u001B[49m\u001B[43m,\u001B[49m\u001B[43m \u001B[49m\u001B[43mdtype\u001B[49m\u001B[43m,\u001B[49m\u001B[43m \u001B[49m\u001B[43mcopy\u001B[49m\u001B[38;5;241;43m=\u001B[39;49m\u001B[43mcopy\u001B[49m\u001B[43m)\u001B[49m\n\u001B[0;32m    184\u001B[0m \u001B[38;5;66;03m# in pandas we don't store numpy str dtypes, so convert to object\u001B[39;00m\n\u001B[0;32m    185\u001B[0m \u001B[38;5;28;01mif\u001B[39;00m \u001B[38;5;28misinstance\u001B[39m(dtype, np\u001B[38;5;241m.\u001B[39mdtype) \u001B[38;5;129;01mand\u001B[39;00m \u001B[38;5;28missubclass\u001B[39m(values\u001B[38;5;241m.\u001B[39mdtype\u001B[38;5;241m.\u001B[39mtype, \u001B[38;5;28mstr\u001B[39m):\n",
      "File \u001B[1;32m~\\anaconda3\\envs\\KBoat_1\\lib\\site-packages\\pandas\\core\\dtypes\\astype.py:133\u001B[0m, in \u001B[0;36m_astype_nansafe\u001B[1;34m(arr, dtype, copy, skipna)\u001B[0m\n\u001B[0;32m    129\u001B[0m     \u001B[38;5;28;01mraise\u001B[39;00m \u001B[38;5;167;01mValueError\u001B[39;00m(msg)\n\u001B[0;32m    131\u001B[0m \u001B[38;5;28;01mif\u001B[39;00m copy \u001B[38;5;129;01mor\u001B[39;00m arr\u001B[38;5;241m.\u001B[39mdtype \u001B[38;5;241m==\u001B[39m \u001B[38;5;28mobject\u001B[39m \u001B[38;5;129;01mor\u001B[39;00m dtype \u001B[38;5;241m==\u001B[39m \u001B[38;5;28mobject\u001B[39m:\n\u001B[0;32m    132\u001B[0m     \u001B[38;5;66;03m# Explicit copy, or required since NumPy can't view from / to object.\u001B[39;00m\n\u001B[1;32m--> 133\u001B[0m     \u001B[38;5;28;01mreturn\u001B[39;00m \u001B[43marr\u001B[49m\u001B[38;5;241;43m.\u001B[39;49m\u001B[43mastype\u001B[49m\u001B[43m(\u001B[49m\u001B[43mdtype\u001B[49m\u001B[43m,\u001B[49m\u001B[43m \u001B[49m\u001B[43mcopy\u001B[49m\u001B[38;5;241;43m=\u001B[39;49m\u001B[38;5;28;43;01mTrue\u001B[39;49;00m\u001B[43m)\u001B[49m\n\u001B[0;32m    135\u001B[0m \u001B[38;5;28;01mreturn\u001B[39;00m arr\u001B[38;5;241m.\u001B[39mastype(dtype, copy\u001B[38;5;241m=\u001B[39mcopy)\n",
      "\u001B[1;31mValueError\u001B[0m: invalid literal for int() with base 10: '_1'"
     ]
    }
   ],
   "execution_count": 10
  },
  {
   "metadata": {},
   "cell_type": "markdown",
   "source": "## X, y 분리",
   "id": "d6f40188a0734870"
  },
  {
   "metadata": {
    "ExecuteTime": {
     "end_time": "2024-09-04T10:28:01.182901Z",
     "start_time": "2024-09-04T10:28:01.160896Z"
    }
   },
   "cell_type": "code",
   "source": [
    "drop_cols = [\n",
    "    'Race_ID', '번호', '단승', '복승', '삼복승', '선수명', '기수'\n",
    "]\n",
    "\n",
    "X_train = train.drop(drop_cols, axis=1)\n",
    "y_train = train[['단승']]\n",
    "X_test = test.drop(drop_cols, axis=1)\n",
    "y_test = test[['단승']]\n",
    "\n",
    "print(X_train.shape, y_train.shape, X_test.shape, y_test.shape)"
   ],
   "id": "de9c342ceb44bb48",
   "outputs": [
    {
     "name": "stdout",
     "output_type": "stream",
     "text": [
      "(57474, 29) (57474, 1) (6036, 29) (6036, 1)\n"
     ]
    }
   ],
   "execution_count": 12
  },
  {
   "metadata": {
    "ExecuteTime": {
     "end_time": "2024-09-04T10:28:02.216754Z",
     "start_time": "2024-09-04T10:28:02.148801Z"
    }
   },
   "cell_type": "code",
   "source": [
    "def reshape_race_data(df, players_per_race=6):\n",
    "    # numpy 배열로 변환\n",
    "    values = df.values\n",
    "\n",
    "    # 데이터 형태 변환 (6개의 행을 1개의 행으로)\n",
    "    reshaped_values = values.reshape(-1, players_per_race * values.shape[1])\n",
    "\n",
    "    # 새로운 컬럼 이름 생성\n",
    "    columns = [f'{col}_{i+1}번선수' for i in range(players_per_race) for col in df.columns]\n",
    "\n",
    "    # 재구성된 DataFrame 생성\n",
    "    reshaped_df = pd.DataFrame(reshaped_values, columns=columns)\n",
    "\n",
    "    return reshaped_df\n",
    "\n",
    "X_train = reshape_race_data(X_train, players_per_race=6)\n",
    "y_train = reshape_race_data(y_train, players_per_race=6)\n",
    "y_train = np.array(y_train).astype(int)\n",
    "\n",
    "X_test = reshape_race_data(X_test, players_per_race=6)\n",
    "y_test = reshape_race_data(y_test, players_per_race=6)\n",
    "y_test = np.array(y_test).astype(int)\n",
    "\n",
    "print(X_train.shape, y_train.shape, X_test.shape, y_test.shape)"
   ],
   "id": "901d3ef2628c3ccb",
   "outputs": [
    {
     "name": "stdout",
     "output_type": "stream",
     "text": [
      "(9579, 174) (9579, 6) (1006, 174) (1006, 6)\n"
     ]
    }
   ],
   "execution_count": 13
  },
  {
   "metadata": {
    "ExecuteTime": {
     "end_time": "2024-09-04T10:28:03.168678Z",
     "start_time": "2024-09-04T10:28:02.914599Z"
    }
   },
   "cell_type": "code",
   "source": [
    "def low_to_others(train, val, threshold=5, is_train=True, verbose=False):\n",
    "    cat_features = cal_cat_cols(train, val)\n",
    "    if is_train==False:\n",
    "        cat_features = list(set(cat_features) - set(['Race_ID_1번선수', 'Race_ID_2번선수', 'Race_ID_3번선수', 'Race_ID_4번선수', 'Race_ID_5번선수', 'Race_ID_6번선수']))\n",
    "\n",
    "    for col in cat_features:\n",
    "        unifier = low_frequency_to_others(threshold=threshold, verbose=verbose)\n",
    "        train[col] = unifier.fit_transform(train[col])\n",
    "        val[col] = unifier.transform(val[col])\n",
    "\n",
    "    return train, val\n",
    "\n",
    "X_train, X_test = low_to_others(X_train, X_test, threshold=5, verbose=False)"
   ],
   "id": "aa2478e6b3a853f6",
   "outputs": [],
   "execution_count": 14
  },
  {
   "metadata": {
    "ExecuteTime": {
     "end_time": "2024-09-04T10:28:05.750820Z",
     "start_time": "2024-09-04T10:28:03.961533Z"
    }
   },
   "cell_type": "code",
   "source": [
    "def all_precoess(train, val, target='단승', is_train=True):\n",
    "    train = add_y(train)\n",
    "    if is_train:\n",
    "        val = add_y(val)\n",
    "    \n",
    "    train = drop_columns_from_datasets(train)\n",
    "    val = drop_columns_from_datasets(val)\n",
    "\n",
    "    train = separation_course(train)\n",
    "    val = separation_course(val)\n",
    "\n",
    "    train, val = laplace_smoothing_to_course(train, val, alpha=1)\n",
    "\n",
    "    # train = set_course_scores(train)\n",
    "    # val = set_course_scores(val)\n",
    "\n",
    "    train = split_last_eight_rank(train)\n",
    "    train = adjust_for_top3(train)\n",
    "    \n",
    "    val = split_last_eight_rank(val)\n",
    "    val = adjust_for_top3(val)\n",
    "\n",
    "    # train, val = low_to_others(train, val, threshold=10, verbose=False)\n",
    "    \n",
    "    if is_train:\n",
    "        drop_cols = [\n",
    "            'Race_ID', '번호', '단승', '복승', '삼복승', '선수명', '기수'\n",
    "        ]\n",
    "    else:\n",
    "        drop_cols = [\n",
    "            '번호', '선수명', '기수'\n",
    "        ]\n",
    "    \n",
    "    X_train = train.drop(drop_cols, axis=1)\n",
    "    y_train = train[[target]]\n",
    "    X_train = reshape_race_data(X_train, players_per_race=6)\n",
    "    y_train = reshape_race_data(y_train, players_per_race=6)\n",
    "    y_train = np.array(y_train).astype(int)\n",
    "\n",
    "    X_val = val.drop(drop_cols, axis=1)\n",
    "    X_val = reshape_race_data(X_val, players_per_race=6)\n",
    "    if is_train:\n",
    "        y_val = val[[target]]\n",
    "        y_val = reshape_race_data(y_val, players_per_race=6)\n",
    "        y_val = np.array(y_val).astype(int)\n",
    "\n",
    "    X_train, X_val = low_to_others(X_train, X_val, threshold=5, is_train=is_train, verbose=False)\n",
    "    \n",
    "    if is_train:\n",
    "        return X_train, y_train, X_val, y_val\n",
    "    else:\n",
    "        return X_train, y_train, X_val\n",
    "    \n",
    "train = pd.read_csv(os.path.join(ROOT_DIR, \"train.csv\"))\n",
    "test = pd.read_csv(os.path.join(ROOT_DIR, \"test.csv\"))\n",
    "\n",
    "X_train, y_train, X_test, y_test = all_precoess(train, test, is_train=True)\n",
    "\n",
    "print(X_train.shape, y_train.shape, X_test.shape, y_test.shape)"
   ],
   "id": "e383d255c53505cc",
   "outputs": [
    {
     "name": "stdout",
     "output_type": "stream",
     "text": [
      "(9579, 204) (9579, 6) (1006, 204) (1006, 6)\n"
     ]
    }
   ],
   "execution_count": 15
  },
  {
   "metadata": {
    "ExecuteTime": {
     "end_time": "2024-09-04T10:28:08.611095Z",
     "start_time": "2024-09-04T10:28:08.600588Z"
    }
   },
   "cell_type": "code",
   "source": [
    "# ### 테스트용\n",
    "# \n",
    "# from ctgan import CTGAN\n",
    "# \n",
    "# # CTGAN 모델 생성\n",
    "# ctgan = CTGAN(verbose=True)\n",
    "# \n",
    "# cat_features = cal_cat_cols(X_train, X_test)\n",
    "# \n",
    "# # 모델 학습 (target도 다른 변수와 함께 사용됨)\n",
    "# ctgan.fit(X_train, discrete_columns=cat_features)\n",
    "# \n",
    "# # 새로운 데이터 생성\n",
    "# new_data = ctgan.sample(10)\n",
    "# new_data"
   ],
   "id": "59aa47df79dcd49f",
   "outputs": [],
   "execution_count": 16
  },
  {
   "metadata": {
    "ExecuteTime": {
     "end_time": "2024-09-04T10:31:52.450813Z",
     "start_time": "2024-09-04T10:28:14.908848Z"
    }
   },
   "cell_type": "code",
   "source": [
    "from sklearn.metrics import accuracy_score, f1_score\n",
    "\n",
    "class custom_CatBoostClassifier():\n",
    "    def __init__(self, params):\n",
    "        self.models = [CatBoostClassifier(**params) for _ in range(6)]\n",
    "\n",
    "    def fit(self, X, y, eval_set=None, cat_features=None):\n",
    "        y = np.array(y)  # y를 numpy 배열로 변환\n",
    "        if eval_set is not None:\n",
    "            X_val, y_val = eval_set\n",
    "\n",
    "        for i in range(6):\n",
    "            y_i = y[:, i]  # i번째 레이블에 대한 y 값\n",
    "\n",
    "            if eval_set is not None:\n",
    "                y_val_i = y_val[:, i]  # i번째 레이블에 대한 y_val 값\n",
    "                eval_set_i = (X_val, y_val_i)\n",
    "            else:\n",
    "                eval_set_i = None\n",
    "\n",
    "            self.models[i].fit(\n",
    "                X, y_i,\n",
    "                eval_set=eval_set_i,\n",
    "                cat_features=cat_features\n",
    "            )\n",
    "            # print(f'{i+1}번째 레이블 학습 완료')\n",
    "\n",
    "    def predict(self, X):\n",
    "        preds = [model.predict(X) for model in self.models]\n",
    "        return np.vstack(preds).T\n",
    "\n",
    "    def predict_proba(self, X):\n",
    "        probas = [model.predict_proba(X)[:, 1] for model in self.models]\n",
    "        return np.vstack(probas).T\n",
    "\n",
    "def evaluate_(y_pred, y_val, target_value='단승'):\n",
    "    y_pred_max = np.zeros_like(y_pred)\n",
    "\n",
    "    # 각 샘플에 대해 가장 높은 확률의 인덱스를 선택\n",
    "    for i in range(y_pred.shape[0]):  # 각 샘플에 대해 반복\n",
    "        if target_value == '단승':\n",
    "            max_indices = np.argsort(y_pred[i])[-1:]  # 가장 큰 값의 인덱스 찾기\n",
    "        elif target_value == '복승':\n",
    "            max_indices = np.argsort(y_pred[i])[-2:]\n",
    "        elif target_value == '삼복승':\n",
    "            max_indices = np.argsort(y_pred[i])[-3:]\n",
    "        y_pred_max[i, max_indices] = 1  # 해당 인덱스에 1 설정\n",
    "\n",
    "    accuracy = accuracy_score(y_pred_max, y_val)\n",
    "    return accuracy\n",
    "    \n",
    "\n",
    "train = pd.read_csv(os.path.join(ROOT_DIR, \"train.csv\"))\n",
    "target_value = '복승'\n",
    "if target_value=='단승':\n",
    "    params = {\n",
    "        'random_seed': RANDOM_STATE,\n",
    "        'iterations': 3000,\n",
    "        'learning_rate': 0.05,\n",
    "        'early_stopping_rounds': 100,\n",
    "        'auto_class_weights': 'SqrtBalanced',\n",
    "        'eval_metric': 'Accuracy',\n",
    "        'verbose': 0,\n",
    "        'thread_count':-1\n",
    "    }\n",
    "elif target_value=='복승':\n",
    "    params = {\n",
    "        'random_seed': RANDOM_STATE,\n",
    "        'iterations': 3000,\n",
    "        'learning_rate': 0.05,\n",
    "        'early_stopping_rounds': 100,\n",
    "        'auto_class_weights': 'SqrtBalanced',\n",
    "        'eval_metric': 'Accuracy',\n",
    "        'verbose': 0,\n",
    "        'thread_count':-1\n",
    "    }\n",
    "elif target_value=='삼복승':\n",
    "    params = {\n",
    "        'random_seed': RANDOM_STATE,\n",
    "        'iterations': 3000,\n",
    "        'learning_rate': 0.05,\n",
    "        'early_stopping_rounds': 100,\n",
    "        'auto_class_weights': 'SqrtBalanced',\n",
    "        'eval_metric': 'Accuracy',\n",
    "        'verbose': 0,\n",
    "        'thread_count':-1\n",
    "    }\n",
    "\n",
    "\n",
    "seed = 42\n",
    "unique_race_ids = train['Race_ID'].unique()\n",
    "kf = KFold(n_splits=5, shuffle=True, random_state=seed)\n",
    "\n",
    "models = []\n",
    "scores = []\n",
    "for i, (train_race_ids, val_race_ids) in enumerate(kf.split(unique_race_ids)):\n",
    "    train_ids = unique_race_ids[train_race_ids]\n",
    "    val_ids = unique_race_ids[val_race_ids]\n",
    "\n",
    "    train_fold = train[train['Race_ID'].isin(train_ids)].reset_index(drop=True)\n",
    "    val_fold = train[train['Race_ID'].isin(val_ids)].reset_index(drop=True)\n",
    "\n",
    "    X_train, y_train, X_val, y_val = all_precoess(train_fold, val_fold, target=target_value, is_train=True)\n",
    "\n",
    "    model = custom_CatBoostClassifier(params)\n",
    "    cat_features = cal_cat_cols(X_train, X_test)\n",
    "    \n",
    "    model.fit(\n",
    "        X_train, y_train,\n",
    "        eval_set=(X_test, y_test),\n",
    "        cat_features=cat_features,\n",
    "    )\n",
    "    \n",
    "    models.append(model)\n",
    "    y_pred = models[i].predict_proba(X_val)\n",
    "    accuracy = evaluate_(y_pred, y_val, target_value)\n",
    "    scores.append(accuracy)\n",
    "    print(f'folds {i+1}')\n",
    "    print(f'Accuracy: {accuracy}')\n",
    "\n",
    "\n",
    "print(f'최종 스코어: Avg. Accuracy of validset: {np.mean(scores)}, Std. Accuracy of validset: {np.std(scores)}')"
   ],
   "id": "607c5cda9d3e1a07",
   "outputs": [
    {
     "name": "stdout",
     "output_type": "stream",
     "text": [
      "folds 1\n",
      "Accuracy: 0.2520876826722338\n",
      "folds 2\n",
      "Accuracy: 0.21450939457202506\n",
      "folds 3\n",
      "Accuracy: 0.23747390396659707\n",
      "folds 4\n",
      "Accuracy: 0.24321503131524008\n",
      "folds 5\n",
      "Accuracy: 0.25274151436031334\n",
      "최종 스코어: Avg. Accuracy of validset: 0.24000550537728188, Std. Accuracy of validset: 0.013963858074654377\n"
     ]
    }
   ],
   "execution_count": 17
  },
  {
   "metadata": {},
   "cell_type": "markdown",
   "source": "- Test 데이터",
   "id": "8e4a5042aea76dba"
  },
  {
   "metadata": {
    "ExecuteTime": {
     "end_time": "2024-09-04T10:32:08.809875Z",
     "start_time": "2024-09-04T10:32:02.157958Z"
    }
   },
   "cell_type": "code",
   "source": [
    "train = pd.read_csv(os.path.join(ROOT_DIR, \"train.csv\"))\n",
    "test = pd.read_csv(os.path.join(ROOT_DIR, \"test.csv\"))\n",
    "unique_race_ids = train['Race_ID'].unique()\n",
    "kf = KFold(n_splits=5, shuffle=True, random_state=seed)\n",
    "\n",
    "all_predictions = []\n",
    "for i, (train_race_ids, val_race_ids) in enumerate(kf.split(unique_race_ids)):\n",
    "    train_ids = unique_race_ids[train_race_ids]\n",
    "\n",
    "    train_fold = train[train['Race_ID'].isin(train_ids)].reset_index(drop=True)\n",
    "    test_fold = test.copy()\n",
    "\n",
    "    X_train, y_train, X_test, y_test = all_precoess(train_fold, test_fold, target=target_value, is_train=True)\n",
    "    \n",
    "    y_pred = models[i].predict_proba(X_test)\n",
    "    all_predictions.append(y_pred)\n",
    "\n",
    "\n",
    "mean_pred = np.mean(all_predictions, axis=0)\n",
    "accuracy = evaluate_(mean_pred, y_test, target_value)\n",
    "\n",
    "print(f'최종 스코어: Accuracy of testset: {accuracy}')"
   ],
   "id": "9404cc1a8fddf48d",
   "outputs": [
    {
     "name": "stdout",
     "output_type": "stream",
     "text": [
      "최종 스코어: Accuracy of testset: 0.2644135188866799\n"
     ]
    }
   ],
   "execution_count": 18
  },
  {
   "metadata": {},
   "cell_type": "markdown",
   "source": "- Base_line: F1 of testset: 0.26741803278688525",
   "id": "cf2f22ee7a5231e"
  },
  {
   "metadata": {},
   "cell_type": "markdown",
   "source": "# 실제 경기 예측",
   "id": "c1dc2d466cee7324"
  },
  {
   "metadata": {
    "ExecuteTime": {
     "end_time": "2024-09-04T10:43:09.262785Z",
     "start_time": "2024-09-04T10:43:00.929242Z"
    }
   },
   "cell_type": "code",
   "source": [
    "from crawlling_entry import crawl_race_entries\n",
    "\n",
    "train = pd.read_csv(os.path.join(ROOT_DIR, \"train.csv\"))\n",
    "연도 = 2024\n",
    "회차 = 36\n",
    "일차 = 2\n",
    "sub = crawl_race_entries(연도, 회차, 일차)\n",
    "\n",
    "unique_race_ids = train['Race_ID'].unique()\n",
    "kf = KFold(n_splits=5, shuffle=True, random_state=seed)\n",
    "\n",
    "all_predictions = []\n",
    "for i, (train_race_ids, val_race_ids) in enumerate(kf.split(unique_race_ids)):\n",
    "    train_ids = unique_race_ids[train_race_ids]\n",
    "\n",
    "    train_fold = train[train['Race_ID'].isin(train_ids)].reset_index(drop=True)\n",
    "    test_fold = sub.copy()\n",
    "\n",
    "    X_train, y_train, X_test = all_precoess(train_fold, test_fold, target=target_value, is_train=False)\n",
    "\n",
    "    y_pred = models[i].predict_proba(X_test)\n",
    "    all_predictions.append(y_pred)\n",
    "\n",
    "\n",
    "mean_pred = np.mean(all_predictions, axis=0)\n",
    "mean_pred_df = pd.DataFrame(mean_pred)\n",
    "mean_pred_df.index = [f\"{i+1}경기\" for i in range(len(mean_pred_df))]\n",
    "mean_pred_df.columns = [f\"{i+1}번\" for i in range(mean_pred_df.shape[1])]\n",
    "mean_pred_df"
   ],
   "id": "1937933c60b1d1cb",
   "outputs": [
    {
     "data": {
      "text/plain": [
       "            1번        2번        3번        4번        5번        6번\n",
       "1경기   0.524258  0.478402  0.349909  0.381039  0.359977  0.353927\n",
       "2경기   0.446437  0.748016  0.432206  0.348523  0.463073  0.362473\n",
       "3경기   0.590354  0.330162  0.366036  0.390308  0.534250  0.304871\n",
       "4경기   0.508091  0.497927  0.554491  0.460598  0.335899  0.400207\n",
       "5경기   0.457585  0.407186  0.456112  0.497907  0.365661  0.403018\n",
       "6경기   0.552160  0.595257  0.300297  0.535264  0.325186  0.327499\n",
       "7경기   0.484180  0.452623  0.445703  0.470931  0.458778  0.406981\n",
       "8경기   0.493261  0.523944  0.318981  0.532959  0.466780  0.302319\n",
       "9경기   0.488885  0.548327  0.479107  0.511543  0.359405  0.307082\n",
       "10경기  0.548443  0.549675  0.534804  0.402283  0.327305  0.305078\n",
       "11경기  0.528058  0.480981  0.367186  0.538803  0.380718  0.413109\n",
       "12경기  0.536656  0.355931  0.419410  0.483025  0.551347  0.294023\n",
       "13경기  0.526766  0.498619  0.278813  0.456905  0.420649  0.404703\n",
       "14경기  0.574330  0.673286  0.293966  0.518750  0.350668  0.293549\n",
       "15경기  0.553635  0.466664  0.363886  0.449569  0.369735  0.312210\n",
       "16경기  0.454525  0.381295  0.518226  0.404173  0.385517  0.381793\n",
       "17경기  0.532138  0.434359  0.408272  0.388622  0.421839  0.412554"
      ],
      "text/html": [
       "<div>\n",
       "<style scoped>\n",
       "    .dataframe tbody tr th:only-of-type {\n",
       "        vertical-align: middle;\n",
       "    }\n",
       "\n",
       "    .dataframe tbody tr th {\n",
       "        vertical-align: top;\n",
       "    }\n",
       "\n",
       "    .dataframe thead th {\n",
       "        text-align: right;\n",
       "    }\n",
       "</style>\n",
       "<table border=\"1\" class=\"dataframe\">\n",
       "  <thead>\n",
       "    <tr style=\"text-align: right;\">\n",
       "      <th></th>\n",
       "      <th>1번</th>\n",
       "      <th>2번</th>\n",
       "      <th>3번</th>\n",
       "      <th>4번</th>\n",
       "      <th>5번</th>\n",
       "      <th>6번</th>\n",
       "    </tr>\n",
       "  </thead>\n",
       "  <tbody>\n",
       "    <tr>\n",
       "      <th>1경기</th>\n",
       "      <td>0.524258</td>\n",
       "      <td>0.478402</td>\n",
       "      <td>0.349909</td>\n",
       "      <td>0.381039</td>\n",
       "      <td>0.359977</td>\n",
       "      <td>0.353927</td>\n",
       "    </tr>\n",
       "    <tr>\n",
       "      <th>2경기</th>\n",
       "      <td>0.446437</td>\n",
       "      <td>0.748016</td>\n",
       "      <td>0.432206</td>\n",
       "      <td>0.348523</td>\n",
       "      <td>0.463073</td>\n",
       "      <td>0.362473</td>\n",
       "    </tr>\n",
       "    <tr>\n",
       "      <th>3경기</th>\n",
       "      <td>0.590354</td>\n",
       "      <td>0.330162</td>\n",
       "      <td>0.366036</td>\n",
       "      <td>0.390308</td>\n",
       "      <td>0.534250</td>\n",
       "      <td>0.304871</td>\n",
       "    </tr>\n",
       "    <tr>\n",
       "      <th>4경기</th>\n",
       "      <td>0.508091</td>\n",
       "      <td>0.497927</td>\n",
       "      <td>0.554491</td>\n",
       "      <td>0.460598</td>\n",
       "      <td>0.335899</td>\n",
       "      <td>0.400207</td>\n",
       "    </tr>\n",
       "    <tr>\n",
       "      <th>5경기</th>\n",
       "      <td>0.457585</td>\n",
       "      <td>0.407186</td>\n",
       "      <td>0.456112</td>\n",
       "      <td>0.497907</td>\n",
       "      <td>0.365661</td>\n",
       "      <td>0.403018</td>\n",
       "    </tr>\n",
       "    <tr>\n",
       "      <th>6경기</th>\n",
       "      <td>0.552160</td>\n",
       "      <td>0.595257</td>\n",
       "      <td>0.300297</td>\n",
       "      <td>0.535264</td>\n",
       "      <td>0.325186</td>\n",
       "      <td>0.327499</td>\n",
       "    </tr>\n",
       "    <tr>\n",
       "      <th>7경기</th>\n",
       "      <td>0.484180</td>\n",
       "      <td>0.452623</td>\n",
       "      <td>0.445703</td>\n",
       "      <td>0.470931</td>\n",
       "      <td>0.458778</td>\n",
       "      <td>0.406981</td>\n",
       "    </tr>\n",
       "    <tr>\n",
       "      <th>8경기</th>\n",
       "      <td>0.493261</td>\n",
       "      <td>0.523944</td>\n",
       "      <td>0.318981</td>\n",
       "      <td>0.532959</td>\n",
       "      <td>0.466780</td>\n",
       "      <td>0.302319</td>\n",
       "    </tr>\n",
       "    <tr>\n",
       "      <th>9경기</th>\n",
       "      <td>0.488885</td>\n",
       "      <td>0.548327</td>\n",
       "      <td>0.479107</td>\n",
       "      <td>0.511543</td>\n",
       "      <td>0.359405</td>\n",
       "      <td>0.307082</td>\n",
       "    </tr>\n",
       "    <tr>\n",
       "      <th>10경기</th>\n",
       "      <td>0.548443</td>\n",
       "      <td>0.549675</td>\n",
       "      <td>0.534804</td>\n",
       "      <td>0.402283</td>\n",
       "      <td>0.327305</td>\n",
       "      <td>0.305078</td>\n",
       "    </tr>\n",
       "    <tr>\n",
       "      <th>11경기</th>\n",
       "      <td>0.528058</td>\n",
       "      <td>0.480981</td>\n",
       "      <td>0.367186</td>\n",
       "      <td>0.538803</td>\n",
       "      <td>0.380718</td>\n",
       "      <td>0.413109</td>\n",
       "    </tr>\n",
       "    <tr>\n",
       "      <th>12경기</th>\n",
       "      <td>0.536656</td>\n",
       "      <td>0.355931</td>\n",
       "      <td>0.419410</td>\n",
       "      <td>0.483025</td>\n",
       "      <td>0.551347</td>\n",
       "      <td>0.294023</td>\n",
       "    </tr>\n",
       "    <tr>\n",
       "      <th>13경기</th>\n",
       "      <td>0.526766</td>\n",
       "      <td>0.498619</td>\n",
       "      <td>0.278813</td>\n",
       "      <td>0.456905</td>\n",
       "      <td>0.420649</td>\n",
       "      <td>0.404703</td>\n",
       "    </tr>\n",
       "    <tr>\n",
       "      <th>14경기</th>\n",
       "      <td>0.574330</td>\n",
       "      <td>0.673286</td>\n",
       "      <td>0.293966</td>\n",
       "      <td>0.518750</td>\n",
       "      <td>0.350668</td>\n",
       "      <td>0.293549</td>\n",
       "    </tr>\n",
       "    <tr>\n",
       "      <th>15경기</th>\n",
       "      <td>0.553635</td>\n",
       "      <td>0.466664</td>\n",
       "      <td>0.363886</td>\n",
       "      <td>0.449569</td>\n",
       "      <td>0.369735</td>\n",
       "      <td>0.312210</td>\n",
       "    </tr>\n",
       "    <tr>\n",
       "      <th>16경기</th>\n",
       "      <td>0.454525</td>\n",
       "      <td>0.381295</td>\n",
       "      <td>0.518226</td>\n",
       "      <td>0.404173</td>\n",
       "      <td>0.385517</td>\n",
       "      <td>0.381793</td>\n",
       "    </tr>\n",
       "    <tr>\n",
       "      <th>17경기</th>\n",
       "      <td>0.532138</td>\n",
       "      <td>0.434359</td>\n",
       "      <td>0.408272</td>\n",
       "      <td>0.388622</td>\n",
       "      <td>0.421839</td>\n",
       "      <td>0.412554</td>\n",
       "    </tr>\n",
       "  </tbody>\n",
       "</table>\n",
       "</div>"
      ]
     },
     "execution_count": 25,
     "metadata": {},
     "output_type": "execute_result"
    }
   ],
   "execution_count": 25
  },
  {
   "metadata": {
    "ExecuteTime": {
     "end_time": "2024-09-04T10:49:32.723965Z",
     "start_time": "2024-09-04T10:49:32.576884Z"
    }
   },
   "cell_type": "code",
   "source": "mean_pred_df.to_excel(f'./result/{연도}_{회차}_{일차}_{target_value}.xlsx', index=True, float_format=\"%.2f\")",
   "id": "4c3d730a20d09c9a",
   "outputs": [],
   "execution_count": 34
  },
  {
   "metadata": {},
   "cell_type": "code",
   "outputs": [],
   "execution_count": null,
   "source": "",
   "id": "714bb228d4d98b6b"
  }
 ],
 "metadata": {
  "kernelspec": {
   "display_name": "Python 3",
   "language": "python",
   "name": "python3"
  },
  "language_info": {
   "codemirror_mode": {
    "name": "ipython",
    "version": 2
   },
   "file_extension": ".py",
   "mimetype": "text/x-python",
   "name": "python",
   "nbconvert_exporter": "python",
   "pygments_lexer": "ipython2",
   "version": "2.7.6"
  }
 },
 "nbformat": 4,
 "nbformat_minor": 5
}
