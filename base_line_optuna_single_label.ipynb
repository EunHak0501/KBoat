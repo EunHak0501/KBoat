{
 "cells": [
  {
   "cell_type": "code",
   "id": "initial_id",
   "metadata": {
    "ExecuteTime": {
     "end_time": "2024-09-06T03:13:07.050248Z",
     "start_time": "2024-09-06T03:13:07.036245Z"
    }
   },
   "source": [
    "import pandas as pd\n",
    "import numpy as np\n",
    "import os\n",
    "from catboost import CatBoostClassifier\n",
    "from encoding_function import low_frequency_to_others\n",
    "from sklearn.model_selection import KFold\n",
    "\n",
    "import warnings\n",
    "warnings.filterwarnings('ignore')"
   ],
   "outputs": [],
   "execution_count": 2
  },
  {
   "cell_type": "markdown",
   "id": "612fa091ac8898db",
   "metadata": {},
   "source": [
    "### 데이터 불러오기\n",
    "- 학습: 2023년도 이전\n",
    "- 검증: 2023년\n",
    "- 테스트: 2024년"
   ]
  },
  {
   "metadata": {
    "ExecuteTime": {
     "end_time": "2024-09-06T03:13:08.403037Z",
     "start_time": "2024-09-06T03:13:08.094320Z"
    }
   },
   "cell_type": "code",
   "source": [
    "def add_y(df):\n",
    "    df['rank'] = df['rank'].replace(0, 6)\n",
    "\n",
    "    target_cols = [\n",
    "        '단승', '복승', '삼복승'\n",
    "    ]\n",
    "    for i, col in enumerate(target_cols):\n",
    "        condition_target = df['rank'] <= i+1\n",
    "        df.loc[condition_target, col] = 1\n",
    "\n",
    "    df[target_cols] = df[target_cols].fillna(0)\n",
    "    df.drop(['rank'], axis=1, inplace=True)\n",
    "    return df\n",
    "\n",
    "\n",
    "ROOT_DIR = \"data\"\n",
    "RANDOM_STATE = 42\n",
    "\n",
    "train = pd.read_csv(os.path.join(ROOT_DIR, \"train.csv\"))\n",
    "test = pd.read_csv(os.path.join(ROOT_DIR, \"test.csv\"))\n",
    "\n",
    "train['성별'] = train['성별'].map({'남': 0, '여': 1})\n",
    "test['성별'] = test['성별'].map({'남': 0, '여': 1})\n",
    "\n",
    "train = add_y(train)\n",
    "test = add_y(test)\n",
    "\n",
    "print(train.shape, test.shape)\n",
    "train.head()"
   ],
   "id": "d66f74841c8fb958",
   "outputs": [
    {
     "name": "stdout",
     "output_type": "stream",
     "text": [
      "(79950, 45) (6102, 45)\n"
     ]
    },
    {
     "data": {
      "text/plain": [
       "      Race_ID    연도  회차  일차  경주번호  번호  등급  기수  선수명  성별  ...  모터_연대율3  전탑승선수1  \\\n",
       "0  2013_1_1_1  2013   1   1     1   1  A2   2  이용세   0  ...     46.3  김신오/25   \n",
       "1  2013_1_1_1  2013   1   1     1   2  B1   7  손동민   0  ...     70.9   김승택/3   \n",
       "2  2013_1_1_1  2013   1   1     1   3  B2  11  박진서   0  ...     55.7  송종해/45   \n",
       "3  2013_1_1_1  2013   1   1     1   4  B1   4  경상수   0  ...     75.0   이종한/4   \n",
       "4  2013_1_1_1  2013   1   1     1   5  B1   8  정주현   0  ...     22.4   이창규/6   \n",
       "\n",
       "     전탑승선수2  보트번호  보트_평균착순점  보트_연대율  특이사항   단승   복승  삼복승  \n",
       "0    김선필/25    10      5.60    32.8   NaN  0.0  1.0  1.0  \n",
       "1  경상수/1316    68      5.59    40.7   NaN  0.0  0.0  1.0  \n",
       "2     문주엽/4    22      5.07    30.7   NaN  0.0  0.0  0.0  \n",
       "3   문주엽/223    77      5.49    39.7   NaN  1.0  1.0  1.0  \n",
       "4   반혜진/545    18      5.69    37.6   NaN  0.0  0.0  0.0  \n",
       "\n",
       "[5 rows x 45 columns]"
      ],
      "text/html": [
       "<div>\n",
       "<style scoped>\n",
       "    .dataframe tbody tr th:only-of-type {\n",
       "        vertical-align: middle;\n",
       "    }\n",
       "\n",
       "    .dataframe tbody tr th {\n",
       "        vertical-align: top;\n",
       "    }\n",
       "\n",
       "    .dataframe thead th {\n",
       "        text-align: right;\n",
       "    }\n",
       "</style>\n",
       "<table border=\"1\" class=\"dataframe\">\n",
       "  <thead>\n",
       "    <tr style=\"text-align: right;\">\n",
       "      <th></th>\n",
       "      <th>Race_ID</th>\n",
       "      <th>연도</th>\n",
       "      <th>회차</th>\n",
       "      <th>일차</th>\n",
       "      <th>경주번호</th>\n",
       "      <th>번호</th>\n",
       "      <th>등급</th>\n",
       "      <th>기수</th>\n",
       "      <th>선수명</th>\n",
       "      <th>성별</th>\n",
       "      <th>...</th>\n",
       "      <th>모터_연대율3</th>\n",
       "      <th>전탑승선수1</th>\n",
       "      <th>전탑승선수2</th>\n",
       "      <th>보트번호</th>\n",
       "      <th>보트_평균착순점</th>\n",
       "      <th>보트_연대율</th>\n",
       "      <th>특이사항</th>\n",
       "      <th>단승</th>\n",
       "      <th>복승</th>\n",
       "      <th>삼복승</th>\n",
       "    </tr>\n",
       "  </thead>\n",
       "  <tbody>\n",
       "    <tr>\n",
       "      <th>0</th>\n",
       "      <td>2013_1_1_1</td>\n",
       "      <td>2013</td>\n",
       "      <td>1</td>\n",
       "      <td>1</td>\n",
       "      <td>1</td>\n",
       "      <td>1</td>\n",
       "      <td>A2</td>\n",
       "      <td>2</td>\n",
       "      <td>이용세</td>\n",
       "      <td>0</td>\n",
       "      <td>...</td>\n",
       "      <td>46.3</td>\n",
       "      <td>김신오/25</td>\n",
       "      <td>김선필/25</td>\n",
       "      <td>10</td>\n",
       "      <td>5.60</td>\n",
       "      <td>32.8</td>\n",
       "      <td>NaN</td>\n",
       "      <td>0.0</td>\n",
       "      <td>1.0</td>\n",
       "      <td>1.0</td>\n",
       "    </tr>\n",
       "    <tr>\n",
       "      <th>1</th>\n",
       "      <td>2013_1_1_1</td>\n",
       "      <td>2013</td>\n",
       "      <td>1</td>\n",
       "      <td>1</td>\n",
       "      <td>1</td>\n",
       "      <td>2</td>\n",
       "      <td>B1</td>\n",
       "      <td>7</td>\n",
       "      <td>손동민</td>\n",
       "      <td>0</td>\n",
       "      <td>...</td>\n",
       "      <td>70.9</td>\n",
       "      <td>김승택/3</td>\n",
       "      <td>경상수/1316</td>\n",
       "      <td>68</td>\n",
       "      <td>5.59</td>\n",
       "      <td>40.7</td>\n",
       "      <td>NaN</td>\n",
       "      <td>0.0</td>\n",
       "      <td>0.0</td>\n",
       "      <td>1.0</td>\n",
       "    </tr>\n",
       "    <tr>\n",
       "      <th>2</th>\n",
       "      <td>2013_1_1_1</td>\n",
       "      <td>2013</td>\n",
       "      <td>1</td>\n",
       "      <td>1</td>\n",
       "      <td>1</td>\n",
       "      <td>3</td>\n",
       "      <td>B2</td>\n",
       "      <td>11</td>\n",
       "      <td>박진서</td>\n",
       "      <td>0</td>\n",
       "      <td>...</td>\n",
       "      <td>55.7</td>\n",
       "      <td>송종해/45</td>\n",
       "      <td>문주엽/4</td>\n",
       "      <td>22</td>\n",
       "      <td>5.07</td>\n",
       "      <td>30.7</td>\n",
       "      <td>NaN</td>\n",
       "      <td>0.0</td>\n",
       "      <td>0.0</td>\n",
       "      <td>0.0</td>\n",
       "    </tr>\n",
       "    <tr>\n",
       "      <th>3</th>\n",
       "      <td>2013_1_1_1</td>\n",
       "      <td>2013</td>\n",
       "      <td>1</td>\n",
       "      <td>1</td>\n",
       "      <td>1</td>\n",
       "      <td>4</td>\n",
       "      <td>B1</td>\n",
       "      <td>4</td>\n",
       "      <td>경상수</td>\n",
       "      <td>0</td>\n",
       "      <td>...</td>\n",
       "      <td>75.0</td>\n",
       "      <td>이종한/4</td>\n",
       "      <td>문주엽/223</td>\n",
       "      <td>77</td>\n",
       "      <td>5.49</td>\n",
       "      <td>39.7</td>\n",
       "      <td>NaN</td>\n",
       "      <td>1.0</td>\n",
       "      <td>1.0</td>\n",
       "      <td>1.0</td>\n",
       "    </tr>\n",
       "    <tr>\n",
       "      <th>4</th>\n",
       "      <td>2013_1_1_1</td>\n",
       "      <td>2013</td>\n",
       "      <td>1</td>\n",
       "      <td>1</td>\n",
       "      <td>1</td>\n",
       "      <td>5</td>\n",
       "      <td>B1</td>\n",
       "      <td>8</td>\n",
       "      <td>정주현</td>\n",
       "      <td>0</td>\n",
       "      <td>...</td>\n",
       "      <td>22.4</td>\n",
       "      <td>이창규/6</td>\n",
       "      <td>반혜진/545</td>\n",
       "      <td>18</td>\n",
       "      <td>5.69</td>\n",
       "      <td>37.6</td>\n",
       "      <td>NaN</td>\n",
       "      <td>0.0</td>\n",
       "      <td>0.0</td>\n",
       "      <td>0.0</td>\n",
       "    </tr>\n",
       "  </tbody>\n",
       "</table>\n",
       "<p>5 rows × 45 columns</p>\n",
       "</div>"
      ]
     },
     "execution_count": 3,
     "metadata": {},
     "output_type": "execute_result"
    }
   ],
   "execution_count": 3
  },
  {
   "metadata": {
    "ExecuteTime": {
     "end_time": "2024-09-06T03:13:20.375213Z",
     "start_time": "2024-09-06T03:13:19.287026Z"
    }
   },
   "cell_type": "code",
   "source": [
    "def add_weight_penalty(df):\n",
    "    weight_limit_male = 55\n",
    "    weight_limit_female = 51\n",
    "    df['체중'] = df['체중'].astype(float)\n",
    "\n",
    "    # 중량 부과 여부 계산 (성별에 따라 다른 기준 적용)\n",
    "    df['중량부과여부'] = df.apply(lambda row: 1 if (row['성별'] == 0 and row['체중'] < weight_limit_male) or\n",
    "                                             (row['성별'] == 1 and row['체중'] < weight_limit_female) else 0, axis=1)\n",
    "\n",
    "    # 부과된 중량 계산 (성별에 따라 차감된 체중을 계산)\n",
    "    df['부과된중량'] = df.apply(lambda row: max(0, weight_limit_male - row['체중']) if row['성별'] == 0 else\n",
    "    max(0, weight_limit_female - row['체중']), axis=1)\n",
    "\n",
    "    df.drop('체중', axis=1, inplace=True)\n",
    "\n",
    "    return df\n",
    "\n",
    "train = add_weight_penalty(train)\n",
    "test = add_weight_penalty(test)"
   ],
   "id": "25d73cb0dbc6aeb",
   "outputs": [],
   "execution_count": 4
  },
  {
   "metadata": {
    "ExecuteTime": {
     "end_time": "2024-09-06T03:13:21.604968Z",
     "start_time": "2024-09-06T03:13:21.596966Z"
    }
   },
   "cell_type": "code",
   "source": [
    "def bin_age(df):\n",
    "    # 나이를 5개 구간으로 나누어 bin화 (예: 0-20, 20-30, 30-40, 40-50, 50+)\n",
    "    bins = [20, 30, 40, 50, 100]\n",
    "    labels = ['20-30', '30-40', '40-50', '50+']\n",
    "\n",
    "    # 나이 변수를 bin화\n",
    "    df['나이'] = pd.cut(df['나이'], bins=bins, labels=labels, right=False)\n",
    "\n",
    "    return df\n",
    "\n",
    "train = bin_age(train)\n",
    "test = bin_age(test)"
   ],
   "id": "f0a2167a6ad5a305",
   "outputs": [],
   "execution_count": 5
  },
  {
   "cell_type": "markdown",
   "id": "b85feb78ce70647c",
   "metadata": {},
   "source": [
    "## 사용하지 않는 feature drop"
   ]
  },
  {
   "cell_type": "markdown",
   "id": "d273bbdb0803f1e0",
   "metadata": {},
   "source": [
    "- 전일 성적을 어떻게 반영할지"
   ]
  },
  {
   "cell_type": "code",
   "id": "c8e70aede39457c4",
   "metadata": {
    "ExecuteTime": {
     "end_time": "2024-09-06T03:13:25.124915Z",
     "start_time": "2024-09-06T03:13:25.096905Z"
    }
   },
   "source": [
    "def drop_columns_from_datasets(df):\n",
    "    drop_cols = [\n",
    "        '연도', '회차', '일차', '경주번호',\n",
    "        '금일출주경주',\n",
    "        '모터번호', '전탑승선수1', '전탑승선수2',\n",
    "        '보트번호', '특이사항',\n",
    "        'FL' # F뒤의 숫자는 현재 반기의 실격 횟수, L뒤의 숫자는 반칙횟수?\n",
    "    ]\n",
    "\n",
    "    df = df.drop(drop_cols, axis=1)\n",
    "\n",
    "    return df\n",
    "\n",
    "\n",
    "train = drop_columns_from_datasets(train)\n",
    "test = drop_columns_from_datasets(test)\n",
    "\n",
    "print(train.shape, test.shape)"
   ],
   "outputs": [
    {
     "name": "stdout",
     "output_type": "stream",
     "text": [
      "(79950, 35) (6102, 35)\n"
     ]
    }
   ],
   "execution_count": 6
  },
  {
   "metadata": {
    "ExecuteTime": {
     "end_time": "2024-09-06T03:13:25.782886Z",
     "start_time": "2024-09-06T03:13:25.768883Z"
    }
   },
   "cell_type": "code",
   "source": [
    "def reverse_rank_values(df_train, df_val):\n",
    "    cols_to_reverse = [\n",
    "        '최근6회차_평균착순점', '최근6회차_평균득점',\n",
    "        '연간성적_평균착순점',\n",
    "        '모터_평균착순점',\n",
    "        '보트_평균착순점'\n",
    "    ]\n",
    "    for col in cols_to_reverse:\n",
    "        max_rank = df_train[col].max()\n",
    "        # print(f'{col}: {max_rank}')\n",
    "        df_train[col] = max_rank - df_train[col]\n",
    "        df_val[col] = max_rank - df_val[col]\n",
    "\n",
    "        df_train[col].fillna(0, inplace=True)\n",
    "        df_val[col].fillna(0, inplace=True)\n",
    "\n",
    "    return df_train, df_val\n",
    "\n",
    "\n",
    "train, test = reverse_rank_values(train, test)"
   ],
   "id": "a567f35737ea3687",
   "outputs": [],
   "execution_count": 7
  },
  {
   "metadata": {
    "ExecuteTime": {
     "end_time": "2024-09-06T03:13:26.715161Z",
     "start_time": "2024-09-06T03:13:26.323221Z"
    }
   },
   "cell_type": "code",
   "source": [
    "import re\n",
    "\n",
    "def extract_numbers(result):\n",
    "    if isinstance(result, str):  # result가 문자열인 경우에만 처리\n",
    "        return re.findall(r'-(\\d+)-', result)  # -숫자- 형식에서 중간 숫자 추출\n",
    "    return []  # 문자열이 아니면 빈 리스트 반환\n",
    "\n",
    "def calculate_mean(numbers):\n",
    "    numbers = [int(num) for num in numbers]  # 리스트 안의 문자열 숫자를 정수로 변환\n",
    "    if len(numbers) > 0:\n",
    "        return np.mean(numbers)  # 리스트가 비어있지 않으면 평균 계산\n",
    "    else:\n",
    "        return np.nan  # 빈 리스트인 경우 NaN 반환\n",
    "\n",
    "def last_race_process(df_train, df_val):\n",
    "    df_train['전일성적'] = df_train['전일성적'].apply(extract_numbers)  # 순위만 추출 (코스도 같이 추출?)\n",
    "    df_train['전일성적'] = df_train['전일성적'].apply(calculate_mean) # 평균 계산\n",
    "\n",
    "    df_val['전일성적'] = df_val['전일성적'].apply(extract_numbers)\n",
    "    df_val['전일성적'] = df_val['전일성적'].apply(calculate_mean)\n",
    "\n",
    "    max_rank = df_train['전일성적'].max()\n",
    "    df_train['전일성적'] = max_rank - df_train['전일성적'] + 1\n",
    "    df_val['전일성적'] = max_rank - df_val['전일성적'] + 1\n",
    "\n",
    "    df_train['전일성적'].fillna(1, inplace=True)\n",
    "    df_val['전일성적'].fillna(1, inplace=True)\n",
    "\n",
    "    return df_train, df_val\n",
    "\n",
    "train, test = last_race_process(train, test)"
   ],
   "id": "32d40c54dd1a3672",
   "outputs": [],
   "execution_count": 8
  },
  {
   "cell_type": "markdown",
   "id": "d9b5a5c06231b8d3",
   "metadata": {},
   "source": [
    "## 일부 숫자형 변수 변환"
   ]
  },
  {
   "cell_type": "markdown",
   "id": "415d3de999d33ce9",
   "metadata": {},
   "source": [
    "- 코스별 성적/경기수 분리"
   ]
  },
  {
   "cell_type": "code",
   "id": "4de76893ce9cd206",
   "metadata": {
    "ExecuteTime": {
     "end_time": "2024-09-06T03:13:29.111533Z",
     "start_time": "2024-09-06T03:13:28.157509Z"
    }
   },
   "source": [
    "def separation_course(df):\n",
    "    col_list = [\n",
    "        '코스_1코스', '코스_2코스', '코스_3코스', '코스_4코스', '코스_5코스', '코스_6코스'\n",
    "    ]\n",
    "    for col in col_list:\n",
    "        df[[f'{col[3:]}_성적', f'{col[3:]}_경기수']] = df[col].fillna('').str.split('/', expand=True)\n",
    "\n",
    "    df.drop(col_list, axis=1, inplace=True)\n",
    "\n",
    "    return df\n",
    "\n",
    "\n",
    "\n",
    "train = separation_course(train)\n",
    "test = separation_course(test)\n",
    "\n",
    "print(train.shape, test.shape)"
   ],
   "outputs": [
    {
     "name": "stdout",
     "output_type": "stream",
     "text": [
      "(79950, 41) (6102, 41)\n"
     ]
    }
   ],
   "execution_count": 9
  },
  {
   "cell_type": "markdown",
   "id": "82e3ad637e2d6e7a",
   "metadata": {},
   "source": [
    "- 코스별 성적 스무딩"
   ]
  },
  {
   "cell_type": "code",
   "id": "4e8a7b127859206e",
   "metadata": {
    "ExecuteTime": {
     "end_time": "2024-09-06T03:13:30.721912Z",
     "start_time": "2024-09-06T03:13:30.501361Z"
    }
   },
   "source": [
    "def apply_laplace_smoothing(df, col, global_mean, alpha):\n",
    "    # 경기수 0인 값이 너무 높게 나오는 경향이 있어 분모에 상수 1 추가(없애도 됨)\n",
    "    encoded_value = (df[f'{col}_성적'] * df[f'{col}_경기수'] + global_mean * alpha) / (1 + df[f'{col}_경기수'] + alpha)\n",
    "    df[f'{col}_성적'] = encoded_value\n",
    "\n",
    "    return df\n",
    "\n",
    "def laplace_smoothing_to_course(train, val=None, alpha=1):\n",
    "    col_list = [\n",
    "        '1코스', '2코스', '3코스', '4코스', '5코스', '6코스'\n",
    "    ]\n",
    "    for col in col_list:\n",
    "        train[f'{col}_성적'] = train[f'{col}_성적'].astype(float)\n",
    "        train[f'{col}_경기수'] = train[f'{col}_경기수'].astype(float)\n",
    "        if val is not None:\n",
    "            val[f'{col}_성적'] = val[f'{col}_성적'].astype(float)\n",
    "            val[f'{col}_경기수'] = val[f'{col}_경기수'].astype(float)\n",
    "\n",
    "    # Train 데이터에서 글로벌 평균 계산\n",
    "    global_means = {col: train[f'{col}_성적'].mean() for col in col_list}\n",
    "\n",
    "    for col in col_list:\n",
    "        # Train 데이터에 라플라스 스무딩 적용\n",
    "        train = apply_laplace_smoothing(train, col, global_means[col], alpha)\n",
    "        train.drop(f'{col}_경기수', axis=1, inplace=True)\n",
    "\n",
    "    if val is not None:\n",
    "        for col in col_list:\n",
    "            # Validation 데이터에 Train에서 구한 글로벌 평균으로 라플라스 스무딩 적용\n",
    "            val = apply_laplace_smoothing(val, col, global_means[col], alpha)\n",
    "            val.drop(f'{col}_경기수', axis=1, inplace=True)\n",
    "\n",
    "    if val is not None:\n",
    "        return train, val\n",
    "    else:\n",
    "        return train\n",
    "\n",
    "\n",
    "train, test = laplace_smoothing_to_course(train, test, alpha=1) # 알파가 작을수록 빈도수에 가깝세, 알파가 클수록 전체 평균에 가깝게\n",
    "print(train.shape, test.shape)"
   ],
   "outputs": [
    {
     "name": "stdout",
     "output_type": "stream",
     "text": [
      "(79950, 35) (6102, 35)\n"
     ]
    }
   ],
   "execution_count": 10
  },
  {
   "cell_type": "code",
   "id": "f6b5458672fb225d",
   "metadata": {
    "ExecuteTime": {
     "end_time": "2024-09-06T03:13:31.500140Z",
     "start_time": "2024-09-06T03:13:31.459129Z"
    }
   },
   "source": [
    "def set_course_scores(df):\n",
    "    # '코스_성적' 열을 초기화\n",
    "    df['코스_성적'] = 0\n",
    "\n",
    "    # '번호' 열에 따른 '코스_성적' 값 설정\n",
    "    for i in range(1, 7):\n",
    "        mask = df['번호'] == i\n",
    "        df.loc[mask, '코스_성적'] = df.loc[mask, f'{i}코스_성적']\n",
    "\n",
    "    # 제거할 열 목록\n",
    "    drop_cols = [f'{i}코스_성적' for i in range(1, 7)]\n",
    "\n",
    "    # 열 제거\n",
    "    df = df.drop(columns=drop_cols)\n",
    "\n",
    "    return df\n",
    "\n",
    "\n",
    "from sklearn.decomposition import PCA\n",
    "def apply_pca(df_train, df_val, n_components=2):\n",
    "    course_cols = [f'{i}코스_성적' for i in range(1, 7)]\n",
    "\n",
    "    pca = PCA(n_components=n_components)\n",
    "    pca.fit(df_train[course_cols])\n",
    "\n",
    "    # 훈련 데이터에 PCA 변환 적용 (transform)\n",
    "    train_pca = pca.transform(df_train[course_cols])\n",
    "    val_pca = pca.transform(df_val[course_cols])\n",
    "    for i in range(n_components):\n",
    "        col_name = f'PCA_코스성적_{i+1}'\n",
    "        df_train[col_name] = train_pca[:, i]\n",
    "        df_val[col_name] = val_pca[:, i]\n",
    "\n",
    "    # 각 컴포넌트별 분산 설명 비율 출력\n",
    "    # explained_variance_ratios = pca.explained_variance_ratio_\n",
    "    # for i, ratio in enumerate(explained_variance_ratios):\n",
    "    #     print(f\"PCA Component {i+1}: {ratio:.4f} variance explained\")\n",
    "\n",
    "    # n_components=2가 제일 좋아보임\n",
    "\n",
    "    return df_train, df_val\n",
    "\n",
    "\n",
    "train, test = apply_pca(train, test, n_components=2)\n",
    "train = set_course_scores(train)\n",
    "test = set_course_scores(test)"
   ],
   "outputs": [],
   "execution_count": 11
  },
  {
   "cell_type": "markdown",
   "id": "17ddaf712ca4ed32",
   "metadata": {},
   "source": [
    "- 최근 8경기 착순 분리"
   ]
  },
  {
   "cell_type": "code",
   "id": "8e7e8cb08b1e4754",
   "metadata": {
    "ExecuteTime": {
     "end_time": "2024-09-06T03:13:33.378002Z",
     "start_time": "2024-09-06T03:13:33.160194Z"
    }
   },
   "source": [
    "def split_last_eight_rank(df):\n",
    "    for i in range(0, 4):\n",
    "        df[f'최근{i+1}경기_착순'] = df['최근8경주_착순'].str[i]\n",
    "    for j in range(5, 9):\n",
    "        df[f'최근{j}경기_착순'] = df['최근8경주_착순'].str[j]\n",
    "\n",
    "    df.drop('최근8경주_착순', axis=1, inplace=True)\n",
    "\n",
    "    return df\n",
    "\n",
    "# def adjust_for_top3(df):\n",
    "#     col_list = [\n",
    "#         '최근1경기_착순', '최근2경기_착순', '최근3경기_착순', '최근4경기_착순',\n",
    "#         '최근5경기_착순', '최근6경기_착순', '최근7경기_착순', '최근8경기_착순'\n",
    "#     ]\n",
    "#\n",
    "#     for col in col_list:\n",
    "#     # 순위가 1, 2, 3이 아닌 경우, 결측인 경우, 6으로 조정\n",
    "#     # (일반화된 성능을 위해 + 3등내에 드는게 중요)\n",
    "#         df[col] = df[col].apply(lambda x: x if x in ['1', '2', '3'] else '-1')\n",
    "#\n",
    "#     return df\n",
    "\n",
    "def adjust_last_eight_rank(df_train, df_val):\n",
    "    col_list = [\n",
    "        '최근1경기_착순', '최근2경기_착순', '최근3경기_착순', '최근4경기_착순',\n",
    "        '최근5경기_착순', '최근6경기_착순', '최근7경기_착순', '최근8경기_착순'\n",
    "    ]\n",
    "\n",
    "    for col in col_list:\n",
    "        df_train[col] = df_train[col].fillna(6).astype(int)\n",
    "        df_val[col] = df_val[col].fillna(6).astype(int)\n",
    "\n",
    "        # df_train[col] = df_train[col].replace(0, 6)  # 가끔씩 0이 있는 경우가 존재\n",
    "        # df_val[col] = df_val[col].replace(0, 6)\n",
    "\n",
    "        max_rank = df_train[col].max()\n",
    "        df_train[col] = max_rank - df_train[col]\n",
    "        df_val[col] = max_rank - df_val[col]\n",
    "\n",
    "    first_mean_cols = 3\n",
    "    col_to_mean_1 = col_list[:first_mean_cols]\n",
    "\n",
    "    df_train[f'최근{first_mean_cols}경기_평균'] = df_train[col_to_mean_1].mean(axis=1)\n",
    "    df_val[f'최근{first_mean_cols}경기_평균'] = df_val[col_to_mean_1].mean(axis=1)\n",
    "\n",
    "    df_train.drop(col_list, axis=1, inplace=True)\n",
    "    df_val.drop(col_list, axis=1, inplace=True)\n",
    "\n",
    "    return df_train, df_val\n",
    "\n",
    "\n",
    "train = split_last_eight_rank(train)\n",
    "# train = adjust_for_top3(train)\n",
    "\n",
    "test = split_last_eight_rank(test)\n",
    "# test = adjust_for_top3(test)\n",
    "\n",
    "train, test = adjust_last_eight_rank(train, test)\n",
    "\n",
    "print(train.shape, test.shape)"
   ],
   "outputs": [
    {
     "name": "stdout",
     "output_type": "stream",
     "text": [
      "(79950, 32) (6102, 32)\n"
     ]
    }
   ],
   "execution_count": 12
  },
  {
   "cell_type": "markdown",
   "id": "1e1b83cff7de2bbc",
   "metadata": {},
   "source": [
    "## 범주형 변수 확인\n"
   ]
  },
  {
   "cell_type": "code",
   "id": "b470c2d63ca13d5b",
   "metadata": {
    "ExecuteTime": {
     "end_time": "2024-09-06T03:13:34.969312Z",
     "start_time": "2024-09-06T03:13:34.929718Z"
    }
   },
   "source": [
    "def cal_cat_cols(train, val=None):\n",
    "    objective_cols = []\n",
    "\n",
    "    # 특정 문자열이 포함된 열을 범주형 변수로 지정\n",
    "    # cat_kerword_list = ['번호', '기수', '경기_착순']\n",
    "    cat_kerword_list = ['번호']\n",
    "    for col in train.columns:\n",
    "        if any(sub in col for sub in cat_kerword_list):\n",
    "            objective_cols.append(col)\n",
    "            train[col] = train[col].astype('str')\n",
    "            val[col] = val[col].astype('str')\n",
    "\n",
    "    # 나머지 열에 대해 숫자형 변환 시도\n",
    "    for col in train.columns:\n",
    "        if col in objective_cols:\n",
    "            continue  # 이미 범주형으로 처리된 열은 제외\n",
    "        try:\n",
    "            # 'float' 타입으로 변환 시도\n",
    "            train[col] = train[col].astype('float')\n",
    "            val[col] = val[col].astype('float')\n",
    "        except:\n",
    "            objective_cols.append(col)\n",
    "\n",
    "    cat_features = list(set(objective_cols) - set(['rank', 'Race_ID']))\n",
    "    cat_features = [feature for feature in cat_features if '단승' not in feature]\n",
    "    cat_features = [feature for feature in cat_features if '복승' not in feature]\n",
    "    cat_features = [feature for feature in cat_features if '삼복승' not in feature]\n",
    "\n",
    "    return cat_features\n",
    "\n",
    "\n",
    "cat_features = cal_cat_cols(train, test)\n",
    "cat_features"
   ],
   "outputs": [
    {
     "data": {
      "text/plain": [
       "['번호', '선수명', '나이', '등급']"
      ]
     },
     "execution_count": 13,
     "metadata": {},
     "output_type": "execute_result"
    }
   ],
   "execution_count": 13
  },
  {
   "cell_type": "markdown",
   "id": "d6f40188a0734870",
   "metadata": {},
   "source": [
    "## X, y 분리"
   ]
  },
  {
   "cell_type": "code",
   "id": "de9c342ceb44bb48",
   "metadata": {
    "ExecuteTime": {
     "end_time": "2024-09-06T03:13:38.885951Z",
     "start_time": "2024-09-06T03:13:38.871948Z"
    }
   },
   "source": [
    "drop_cols = [\n",
    "    'Race_ID', '번호', '단승', '복승', '삼복승', '선수명', '기수'\n",
    "]\n",
    "\n",
    "X_train = train.drop(drop_cols, axis=1)\n",
    "y_train = train[['단승']]\n",
    "X_test = test.drop(drop_cols, axis=1)\n",
    "y_test = test[['단승']]\n",
    "\n",
    "print(X_train.shape, y_train.shape, X_test.shape, y_test.shape)"
   ],
   "outputs": [
    {
     "name": "stdout",
     "output_type": "stream",
     "text": [
      "(79950, 25) (79950, 1) (6102, 25) (6102, 1)\n"
     ]
    }
   ],
   "execution_count": 14
  },
  {
   "metadata": {
    "ExecuteTime": {
     "end_time": "2024-09-06T03:13:40.960814Z",
     "start_time": "2024-09-06T03:13:40.883795Z"
    }
   },
   "cell_type": "code",
   "source": [
    "def reshape_race_data(df, players_per_race=6):\n",
    "    # numpy 배열로 변환\n",
    "    values = df.values\n",
    "\n",
    "    # 데이터 형태 변환 (6개의 행을 1개의 행으로)\n",
    "    reshaped_values = values.reshape(-1, players_per_race * values.shape[1])\n",
    "\n",
    "    # 새로운 컬럼 이름 생성\n",
    "    columns = [f'{col}_{i+1}번선수' for i in range(players_per_race) for col in df.columns]\n",
    "\n",
    "    # 재구성된 DataFrame 생성\n",
    "    reshaped_df = pd.DataFrame(reshaped_values, columns=columns)\n",
    "\n",
    "    return reshaped_df\n",
    "\n",
    "X_train = reshape_race_data(X_train, players_per_race=6)\n",
    "y_train = reshape_race_data(y_train, players_per_race=6)\n",
    "y_train = np.array(y_train).astype(int)\n",
    "\n",
    "X_test = reshape_race_data(X_test, players_per_race=6)\n",
    "y_test = reshape_race_data(y_test, players_per_race=6)\n",
    "y_test = np.array(y_test).astype(int)\n",
    "\n",
    "print(X_train.shape, y_train.shape, X_test.shape, y_test.shape)"
   ],
   "id": "e72b6e8caa9b36ad",
   "outputs": [
    {
     "name": "stdout",
     "output_type": "stream",
     "text": [
      "(13325, 150) (13325, 6) (1017, 150) (1017, 6)\n"
     ]
    }
   ],
   "execution_count": 15
  },
  {
   "cell_type": "code",
   "id": "aa2478e6b3a853f6",
   "metadata": {
    "ExecuteTime": {
     "end_time": "2024-09-06T03:13:43.080883Z",
     "start_time": "2024-09-06T03:13:42.924849Z"
    }
   },
   "source": [
    "def low_to_others(train, val, threshold=5, is_train=True, verbose=False):\n",
    "    cat_features = cal_cat_cols(train, val)\n",
    "    if is_train==False:\n",
    "        cat_features = list(set(cat_features) - set(['Race_ID_1번선수', 'Race_ID_2번선수', 'Race_ID_3번선수', 'Race_ID_4번선수', 'Race_ID_5번선수', 'Race_ID_6번선수']))\n",
    "\n",
    "    for col in cat_features:\n",
    "        unifier = low_frequency_to_others(threshold=threshold, verbose=verbose)\n",
    "        train[col] = unifier.fit_transform(train[col])\n",
    "        val[col] = unifier.transform(val[col])\n",
    "\n",
    "    return train, val\n",
    "\n",
    "X_train, X_test = low_to_others(X_train, X_test, threshold=5, verbose=False)"
   ],
   "outputs": [],
   "execution_count": 16
  },
  {
   "cell_type": "code",
   "id": "e383d255c53505cc",
   "metadata": {
    "ExecuteTime": {
     "end_time": "2024-09-06T03:39:06.838618Z",
     "start_time": "2024-09-06T03:39:03.049127Z"
    }
   },
   "source": [
    "def all_precoess(train, val, target='단승', is_train=True):\n",
    "    train['성별'] = train['성별'].map({'남': 0, '여': 1})\n",
    "    val['성별'] = val['성별'].map({'남': 0, '여': 1})\n",
    "\n",
    "    train = add_y(train)\n",
    "    if is_train:\n",
    "        val = add_y(val)\n",
    "\n",
    "    train = add_weight_penalty(train) # 연승 정확도를 높이려면 제거\n",
    "    val = add_weight_penalty(val)\n",
    "\n",
    "    train = bin_age(train)\n",
    "    val = bin_age(val)\n",
    "\n",
    "    train = drop_columns_from_datasets(train)\n",
    "    val = drop_columns_from_datasets(val)\n",
    "\n",
    "    train, val = last_race_process(train, val)\n",
    "\n",
    "    train, val = reverse_rank_values(train, val)\n",
    "\n",
    "    train = separation_course(train)\n",
    "    val = separation_course(val)\n",
    "\n",
    "    train, val = laplace_smoothing_to_course(train, val, alpha=1)\n",
    "\n",
    "    train, val = apply_pca(train, val, n_components=2)\n",
    "\n",
    "    train = set_course_scores(train)\n",
    "    val = set_course_scores(val)\n",
    "\n",
    "    train = split_last_eight_rank(train)\n",
    "    # train = adjust_for_top3(train)\n",
    "\n",
    "    val = split_last_eight_rank(val)\n",
    "    # val = adjust_for_top3(val)\n",
    "\n",
    "    train, val = adjust_last_eight_rank(train, val)\n",
    "\n",
    "    if is_train:\n",
    "        drop_cols = [\n",
    "            'Race_ID', '번호', '단승', '복승', '삼복승', '선수명', '기수'\n",
    "        ]\n",
    "    else:\n",
    "        drop_cols = [\n",
    "            '번호', '선수명', '기수'\n",
    "        ]\n",
    "\n",
    "    X_train = train.drop(drop_cols, axis=1)\n",
    "    y_train = train[[target]]\n",
    "    X_train = reshape_race_data(X_train, players_per_race=6)\n",
    "    y_train = reshape_race_data(y_train, players_per_race=6)\n",
    "    y_train = np.array(y_train).astype(int)\n",
    "\n",
    "    X_val = val.drop(drop_cols, axis=1)\n",
    "    X_val = reshape_race_data(X_val, players_per_race=6)\n",
    "    if is_train:\n",
    "        y_val = val[[target]]\n",
    "        y_val = reshape_race_data(y_val, players_per_race=6)\n",
    "        y_val = np.array(y_val).astype(int)\n",
    "\n",
    "    X_train, X_val = low_to_others(X_train, X_val, threshold=5, is_train=is_train, verbose=False)\n",
    "\n",
    "    if is_train:\n",
    "        return X_train, y_train, X_val, y_val\n",
    "    else:\n",
    "        return X_train, y_train, X_val\n",
    "\n",
    "train = pd.read_csv(os.path.join(ROOT_DIR, \"train.csv\"))\n",
    "test = pd.read_csv(os.path.join(ROOT_DIR, \"test.csv\"))\n",
    "\n",
    "X_train, y_train, X_test, y_test = all_precoess(train, test, is_train=True)\n",
    "\n",
    "print(X_train.shape, y_train.shape, X_test.shape, y_test.shape)"
   ],
   "outputs": [
    {
     "name": "stdout",
     "output_type": "stream",
     "text": [
      "(13325, 150) (13325, 6) (1017, 150) (1017, 6)\n"
     ]
    }
   ],
   "execution_count": 35
  },
  {
   "metadata": {
    "ExecuteTime": {
     "end_time": "2024-09-06T03:39:07.040833Z",
     "start_time": "2024-09-06T03:39:07.006825Z"
    }
   },
   "cell_type": "code",
   "source": "X_train",
   "id": "1cb8ad193e51c71",
   "outputs": [
    {
     "data": {
      "text/plain": [
       "      등급_1번선수  성별_1번선수 나이_1번선수  최근6회차_평균착순점_1번선수  최근6회차_평균득점_1번선수  \\\n",
       "0          A2      0.0   40-50              4.45             4.47   \n",
       "1          B2      0.0   20-30             10.06            10.00   \n",
       "2          A1      0.0   30-40              2.62             2.58   \n",
       "3          B1      0.0   40-50              6.98             7.00   \n",
       "4          A2      0.0   30-40              5.81             6.09   \n",
       "...       ...      ...     ...               ...              ...   \n",
       "13320      B1      0.0   30-40              4.25             4.25   \n",
       "13321      A1      0.0     50+              3.59             3.71   \n",
       "13322      B1      0.0   30-40              5.12             5.28   \n",
       "13323      B1      0.0   40-50              6.43             6.75   \n",
       "13324      B2      0.0   40-50              6.96             7.14   \n",
       "\n",
       "       최근6회차_승률_1번선수  최근6회차_연대율2_1번선수  최근6회차_연대율3_1번선수  최근6회차_평균ST_1번선수  \\\n",
       "0               16.7             38.9             55.6             0.23   \n",
       "1                0.0              0.0              0.0             0.00   \n",
       "2               44.4             55.6             66.7             0.24   \n",
       "3                0.0              0.0             15.4             0.31   \n",
       "4                6.3             18.8             37.5             0.25   \n",
       "...              ...              ...              ...              ...   \n",
       "13320           31.3             50.0             56.3             0.19   \n",
       "13321           29.4             52.9             70.6             0.19   \n",
       "13322           16.7             22.2             44.4             0.19   \n",
       "13323            6.3             12.5             31.3             0.32   \n",
       "13324            4.8              4.8             19.0             0.30   \n",
       "\n",
       "       연간성적_평균착순점_1번선수  ...  모터_연대율2_6번선수  모터_연대율3_6번선수  보트_평균착순점_6번선수  \\\n",
       "0                10.67  ...          40.0          51.3           6.85   \n",
       "1                10.67  ...          35.6          49.2           5.02   \n",
       "2                10.67  ...          35.8          50.6           5.74   \n",
       "3                10.67  ...          25.4          38.0           6.12   \n",
       "4                10.67  ...          54.3          67.9           6.49   \n",
       "...                ...  ...           ...           ...            ...   \n",
       "13320             5.17  ...          26.9          41.9           4.87   \n",
       "13321             4.39  ...          29.3          50.3           5.22   \n",
       "13322             5.74  ...          28.9          46.0           6.08   \n",
       "13323             6.31  ...          30.5          45.6           5.20   \n",
       "13324             7.03  ...          26.9          45.5           5.16   \n",
       "\n",
       "       보트_연대율_6번선수  중량부과여부_6번선수  부과된중량_6번선수  PCA_코스성적_1_6번선수  PCA_코스성적_2_6번선수  \\\n",
       "0             22.4          1.0         1.0       -14.587151         3.603727   \n",
       "1             36.1          0.0         0.0       -29.755140        -2.902233   \n",
       "2             31.1          0.0         0.0        32.831973        -5.173727   \n",
       "3             28.6          0.0         0.0        11.367263        -3.369297   \n",
       "4             15.8          1.0         4.0       -29.755140        -2.902233   \n",
       "...            ...          ...         ...              ...              ...   \n",
       "13320         40.7          0.0         0.0        27.592173        28.184798   \n",
       "13321         37.9          1.0         2.0       -34.947279        14.043612   \n",
       "13322         27.6          0.0         0.0       -26.255820       -11.426710   \n",
       "13323         37.7          0.0         0.0        15.335452       -22.696802   \n",
       "13324         39.1          0.0         0.0         3.072479        18.805414   \n",
       "\n",
       "       코스_성적_6번선수  최근3경기_평균_6번선수  \n",
       "0        3.175812       2.000000  \n",
       "1        7.939530       0.000000  \n",
       "2       14.509883       2.333333  \n",
       "3       16.554152       2.000000  \n",
       "4        7.939530       4.666667  \n",
       "...           ...            ...  \n",
       "13320   14.509883       2.000000  \n",
       "13321    2.268437       3.333333  \n",
       "13322    1.984883       2.333333  \n",
       "13323   12.886562       3.666667  \n",
       "13324    1.764340       2.000000  \n",
       "\n",
       "[13325 rows x 150 columns]"
      ],
      "text/html": [
       "<div>\n",
       "<style scoped>\n",
       "    .dataframe tbody tr th:only-of-type {\n",
       "        vertical-align: middle;\n",
       "    }\n",
       "\n",
       "    .dataframe tbody tr th {\n",
       "        vertical-align: top;\n",
       "    }\n",
       "\n",
       "    .dataframe thead th {\n",
       "        text-align: right;\n",
       "    }\n",
       "</style>\n",
       "<table border=\"1\" class=\"dataframe\">\n",
       "  <thead>\n",
       "    <tr style=\"text-align: right;\">\n",
       "      <th></th>\n",
       "      <th>등급_1번선수</th>\n",
       "      <th>성별_1번선수</th>\n",
       "      <th>나이_1번선수</th>\n",
       "      <th>최근6회차_평균착순점_1번선수</th>\n",
       "      <th>최근6회차_평균득점_1번선수</th>\n",
       "      <th>최근6회차_승률_1번선수</th>\n",
       "      <th>최근6회차_연대율2_1번선수</th>\n",
       "      <th>최근6회차_연대율3_1번선수</th>\n",
       "      <th>최근6회차_평균ST_1번선수</th>\n",
       "      <th>연간성적_평균착순점_1번선수</th>\n",
       "      <th>...</th>\n",
       "      <th>모터_연대율2_6번선수</th>\n",
       "      <th>모터_연대율3_6번선수</th>\n",
       "      <th>보트_평균착순점_6번선수</th>\n",
       "      <th>보트_연대율_6번선수</th>\n",
       "      <th>중량부과여부_6번선수</th>\n",
       "      <th>부과된중량_6번선수</th>\n",
       "      <th>PCA_코스성적_1_6번선수</th>\n",
       "      <th>PCA_코스성적_2_6번선수</th>\n",
       "      <th>코스_성적_6번선수</th>\n",
       "      <th>최근3경기_평균_6번선수</th>\n",
       "    </tr>\n",
       "  </thead>\n",
       "  <tbody>\n",
       "    <tr>\n",
       "      <th>0</th>\n",
       "      <td>A2</td>\n",
       "      <td>0.0</td>\n",
       "      <td>40-50</td>\n",
       "      <td>4.45</td>\n",
       "      <td>4.47</td>\n",
       "      <td>16.7</td>\n",
       "      <td>38.9</td>\n",
       "      <td>55.6</td>\n",
       "      <td>0.23</td>\n",
       "      <td>10.67</td>\n",
       "      <td>...</td>\n",
       "      <td>40.0</td>\n",
       "      <td>51.3</td>\n",
       "      <td>6.85</td>\n",
       "      <td>22.4</td>\n",
       "      <td>1.0</td>\n",
       "      <td>1.0</td>\n",
       "      <td>-14.587151</td>\n",
       "      <td>3.603727</td>\n",
       "      <td>3.175812</td>\n",
       "      <td>2.000000</td>\n",
       "    </tr>\n",
       "    <tr>\n",
       "      <th>1</th>\n",
       "      <td>B2</td>\n",
       "      <td>0.0</td>\n",
       "      <td>20-30</td>\n",
       "      <td>10.06</td>\n",
       "      <td>10.00</td>\n",
       "      <td>0.0</td>\n",
       "      <td>0.0</td>\n",
       "      <td>0.0</td>\n",
       "      <td>0.00</td>\n",
       "      <td>10.67</td>\n",
       "      <td>...</td>\n",
       "      <td>35.6</td>\n",
       "      <td>49.2</td>\n",
       "      <td>5.02</td>\n",
       "      <td>36.1</td>\n",
       "      <td>0.0</td>\n",
       "      <td>0.0</td>\n",
       "      <td>-29.755140</td>\n",
       "      <td>-2.902233</td>\n",
       "      <td>7.939530</td>\n",
       "      <td>0.000000</td>\n",
       "    </tr>\n",
       "    <tr>\n",
       "      <th>2</th>\n",
       "      <td>A1</td>\n",
       "      <td>0.0</td>\n",
       "      <td>30-40</td>\n",
       "      <td>2.62</td>\n",
       "      <td>2.58</td>\n",
       "      <td>44.4</td>\n",
       "      <td>55.6</td>\n",
       "      <td>66.7</td>\n",
       "      <td>0.24</td>\n",
       "      <td>10.67</td>\n",
       "      <td>...</td>\n",
       "      <td>35.8</td>\n",
       "      <td>50.6</td>\n",
       "      <td>5.74</td>\n",
       "      <td>31.1</td>\n",
       "      <td>0.0</td>\n",
       "      <td>0.0</td>\n",
       "      <td>32.831973</td>\n",
       "      <td>-5.173727</td>\n",
       "      <td>14.509883</td>\n",
       "      <td>2.333333</td>\n",
       "    </tr>\n",
       "    <tr>\n",
       "      <th>3</th>\n",
       "      <td>B1</td>\n",
       "      <td>0.0</td>\n",
       "      <td>40-50</td>\n",
       "      <td>6.98</td>\n",
       "      <td>7.00</td>\n",
       "      <td>0.0</td>\n",
       "      <td>0.0</td>\n",
       "      <td>15.4</td>\n",
       "      <td>0.31</td>\n",
       "      <td>10.67</td>\n",
       "      <td>...</td>\n",
       "      <td>25.4</td>\n",
       "      <td>38.0</td>\n",
       "      <td>6.12</td>\n",
       "      <td>28.6</td>\n",
       "      <td>0.0</td>\n",
       "      <td>0.0</td>\n",
       "      <td>11.367263</td>\n",
       "      <td>-3.369297</td>\n",
       "      <td>16.554152</td>\n",
       "      <td>2.000000</td>\n",
       "    </tr>\n",
       "    <tr>\n",
       "      <th>4</th>\n",
       "      <td>A2</td>\n",
       "      <td>0.0</td>\n",
       "      <td>30-40</td>\n",
       "      <td>5.81</td>\n",
       "      <td>6.09</td>\n",
       "      <td>6.3</td>\n",
       "      <td>18.8</td>\n",
       "      <td>37.5</td>\n",
       "      <td>0.25</td>\n",
       "      <td>10.67</td>\n",
       "      <td>...</td>\n",
       "      <td>54.3</td>\n",
       "      <td>67.9</td>\n",
       "      <td>6.49</td>\n",
       "      <td>15.8</td>\n",
       "      <td>1.0</td>\n",
       "      <td>4.0</td>\n",
       "      <td>-29.755140</td>\n",
       "      <td>-2.902233</td>\n",
       "      <td>7.939530</td>\n",
       "      <td>4.666667</td>\n",
       "    </tr>\n",
       "    <tr>\n",
       "      <th>...</th>\n",
       "      <td>...</td>\n",
       "      <td>...</td>\n",
       "      <td>...</td>\n",
       "      <td>...</td>\n",
       "      <td>...</td>\n",
       "      <td>...</td>\n",
       "      <td>...</td>\n",
       "      <td>...</td>\n",
       "      <td>...</td>\n",
       "      <td>...</td>\n",
       "      <td>...</td>\n",
       "      <td>...</td>\n",
       "      <td>...</td>\n",
       "      <td>...</td>\n",
       "      <td>...</td>\n",
       "      <td>...</td>\n",
       "      <td>...</td>\n",
       "      <td>...</td>\n",
       "      <td>...</td>\n",
       "      <td>...</td>\n",
       "      <td>...</td>\n",
       "    </tr>\n",
       "    <tr>\n",
       "      <th>13320</th>\n",
       "      <td>B1</td>\n",
       "      <td>0.0</td>\n",
       "      <td>30-40</td>\n",
       "      <td>4.25</td>\n",
       "      <td>4.25</td>\n",
       "      <td>31.3</td>\n",
       "      <td>50.0</td>\n",
       "      <td>56.3</td>\n",
       "      <td>0.19</td>\n",
       "      <td>5.17</td>\n",
       "      <td>...</td>\n",
       "      <td>26.9</td>\n",
       "      <td>41.9</td>\n",
       "      <td>4.87</td>\n",
       "      <td>40.7</td>\n",
       "      <td>0.0</td>\n",
       "      <td>0.0</td>\n",
       "      <td>27.592173</td>\n",
       "      <td>28.184798</td>\n",
       "      <td>14.509883</td>\n",
       "      <td>2.000000</td>\n",
       "    </tr>\n",
       "    <tr>\n",
       "      <th>13321</th>\n",
       "      <td>A1</td>\n",
       "      <td>0.0</td>\n",
       "      <td>50+</td>\n",
       "      <td>3.59</td>\n",
       "      <td>3.71</td>\n",
       "      <td>29.4</td>\n",
       "      <td>52.9</td>\n",
       "      <td>70.6</td>\n",
       "      <td>0.19</td>\n",
       "      <td>4.39</td>\n",
       "      <td>...</td>\n",
       "      <td>29.3</td>\n",
       "      <td>50.3</td>\n",
       "      <td>5.22</td>\n",
       "      <td>37.9</td>\n",
       "      <td>1.0</td>\n",
       "      <td>2.0</td>\n",
       "      <td>-34.947279</td>\n",
       "      <td>14.043612</td>\n",
       "      <td>2.268437</td>\n",
       "      <td>3.333333</td>\n",
       "    </tr>\n",
       "    <tr>\n",
       "      <th>13322</th>\n",
       "      <td>B1</td>\n",
       "      <td>0.0</td>\n",
       "      <td>30-40</td>\n",
       "      <td>5.12</td>\n",
       "      <td>5.28</td>\n",
       "      <td>16.7</td>\n",
       "      <td>22.2</td>\n",
       "      <td>44.4</td>\n",
       "      <td>0.19</td>\n",
       "      <td>5.74</td>\n",
       "      <td>...</td>\n",
       "      <td>28.9</td>\n",
       "      <td>46.0</td>\n",
       "      <td>6.08</td>\n",
       "      <td>27.6</td>\n",
       "      <td>0.0</td>\n",
       "      <td>0.0</td>\n",
       "      <td>-26.255820</td>\n",
       "      <td>-11.426710</td>\n",
       "      <td>1.984883</td>\n",
       "      <td>2.333333</td>\n",
       "    </tr>\n",
       "    <tr>\n",
       "      <th>13323</th>\n",
       "      <td>B1</td>\n",
       "      <td>0.0</td>\n",
       "      <td>40-50</td>\n",
       "      <td>6.43</td>\n",
       "      <td>6.75</td>\n",
       "      <td>6.3</td>\n",
       "      <td>12.5</td>\n",
       "      <td>31.3</td>\n",
       "      <td>0.32</td>\n",
       "      <td>6.31</td>\n",
       "      <td>...</td>\n",
       "      <td>30.5</td>\n",
       "      <td>45.6</td>\n",
       "      <td>5.20</td>\n",
       "      <td>37.7</td>\n",
       "      <td>0.0</td>\n",
       "      <td>0.0</td>\n",
       "      <td>15.335452</td>\n",
       "      <td>-22.696802</td>\n",
       "      <td>12.886562</td>\n",
       "      <td>3.666667</td>\n",
       "    </tr>\n",
       "    <tr>\n",
       "      <th>13324</th>\n",
       "      <td>B2</td>\n",
       "      <td>0.0</td>\n",
       "      <td>40-50</td>\n",
       "      <td>6.96</td>\n",
       "      <td>7.14</td>\n",
       "      <td>4.8</td>\n",
       "      <td>4.8</td>\n",
       "      <td>19.0</td>\n",
       "      <td>0.30</td>\n",
       "      <td>7.03</td>\n",
       "      <td>...</td>\n",
       "      <td>26.9</td>\n",
       "      <td>45.5</td>\n",
       "      <td>5.16</td>\n",
       "      <td>39.1</td>\n",
       "      <td>0.0</td>\n",
       "      <td>0.0</td>\n",
       "      <td>3.072479</td>\n",
       "      <td>18.805414</td>\n",
       "      <td>1.764340</td>\n",
       "      <td>2.000000</td>\n",
       "    </tr>\n",
       "  </tbody>\n",
       "</table>\n",
       "<p>13325 rows × 150 columns</p>\n",
       "</div>"
      ]
     },
     "execution_count": 36,
     "metadata": {},
     "output_type": "execute_result"
    }
   ],
   "execution_count": 36
  },
  {
   "cell_type": "code",
   "id": "607c5cda9d3e1a07",
   "metadata": {
    "scrolled": true,
    "ExecuteTime": {
     "end_time": "2024-09-06T08:00:58.119483Z",
     "start_time": "2024-09-06T05:30:06.401664Z"
    }
   },
   "source": [
    "from model_function import evaluate_\n",
    "from model_function import cal_params\n",
    "from model_function import custom_CatBoostClassifier\n",
    "from sklearn.metrics import f1_score, accuracy_score\n",
    "\n",
    "\n",
    "def objective(trial):\n",
    "    seed = 42\n",
    "    target_value='복승'\n",
    "    params = {\n",
    "        'random_seed': seed,\n",
    "        'iterations': 200,\n",
    "        'learning_rate': trial.suggest_float('learning_rate', 0.005, 0.2),\n",
    "        'l2_leaf_reg': trial.suggest_float('l2_leaf_reg', 0.0001, 10),\n",
    "        'depth': trial.suggest_int('depth', 4, 7),\n",
    "        'scale_pos_weight': trial.suggest_float('scale_pos_weight', 0.5, 8),\n",
    "        'verbose': 0,\n",
    "        'thread_count': -1,\n",
    "    }\n",
    "\n",
    "    train = pd.read_csv(os.path.join(ROOT_DIR, \"train.csv\"))\n",
    "    unique_race_ids = train['Race_ID'].unique()\n",
    "    kf = KFold(n_splits=5, shuffle=True, random_state=seed)\n",
    "\n",
    "    scores = []\n",
    "    for i, (train_race_ids, val_race_ids) in enumerate(kf.split(unique_race_ids)):\n",
    "        train_ids = unique_race_ids[train_race_ids]\n",
    "        val_ids = unique_race_ids[val_race_ids]\n",
    "\n",
    "        train_fold = train[train['Race_ID'].isin(train_ids)].reset_index(drop=True)\n",
    "        val_fold = train[train['Race_ID'].isin(val_ids)].reset_index(drop=True)\n",
    "\n",
    "        X_train, y_train, X_val, y_val = all_precoess(train_fold, val_fold, target=target_value, is_train=True)\n",
    "        label_number = 5\n",
    "        y_train_i = y_train[:, label_number]\n",
    "        y_val_i = y_val[:, label_number]\n",
    "        \n",
    "        model = CatBoostClassifier(**params)\n",
    "        \n",
    "        cat_features = cal_cat_cols(X_train, X_val)\n",
    "        model.fit(\n",
    "            X_train, y_train_i,\n",
    "            cat_features=cat_features\n",
    "        )\n",
    "\n",
    "        y_pred = model.predict_proba(X_val)[:, 1]\n",
    "        y_pred_class = (y_pred >= 0.5).astype(int)\n",
    " \n",
    "        score = f1_score(y_pred_class, y_val_i, pos_label=1)\n",
    "        \n",
    "        scores.append(score)\n",
    "\n",
    "    print('-'*50)\n",
    "    print(f'folds 1:{scores[0]}, folds 2:{scores[1]}, folds 3:{scores[2]}, folds 4:{scores[3]}, folds 5:{scores[4]}')\n",
    "    print(f'AVG F1: {np.mean(scores)}')\n",
    "    print('-'*50)\n",
    "    print('-'*50)\n",
    "\n",
    "    return np.mean(scores)\n",
    "\n",
    "\n",
    "import optuna\n",
    "\n",
    "study = optuna.create_study(direction='maximize')\n",
    "\n",
    "# study.optimize(objective, n_trials=100, show_progress_bar=True)\n",
    "study.optimize(objective, n_trials=200)\n",
    "\n",
    "print('Best trial:')\n",
    "trial = study.best_trial\n",
    "print(f'  Value: {trial.value}')\n",
    "print('  Params: ')\n",
    "for key, value in trial.params.items():\n",
    "    print(f'    {key}: {value}')"
   ],
   "outputs": [
    {
     "name": "stderr",
     "output_type": "stream",
     "text": [
      "[I 2024-09-06 14:30:06,406] A new study created in memory with name: no-name-85727eeb-ff92-445e-ba2d-3df5582ee0fb\n",
      "[I 2024-09-06 14:30:42,957] Trial 0 finished with value: 0.3263208485417798 and parameters: {'learning_rate': 0.17549663382284475, 'l2_leaf_reg': 1.9878075920293294, 'depth': 5, 'scale_pos_weight': 2.790547783389079}. Best is trial 0 with value: 0.3263208485417798.\n"
     ]
    },
    {
     "name": "stdout",
     "output_type": "stream",
     "text": [
      "--------------------------------------------------\n",
      "folds 1:0.29161290322580646, folds 2:0.3350253807106599, folds 3:0.31970260223048325, folds 4:0.3233082706766917, folds 5:0.3619550858652576\n",
      "AVG F1: 0.3263208485417798\n",
      "--------------------------------------------------\n",
      "--------------------------------------------------\n"
     ]
    },
    {
     "name": "stderr",
     "output_type": "stream",
     "text": [
      "[I 2024-09-06 14:31:32,423] Trial 1 finished with value: 0.1708286079937941 and parameters: {'learning_rate': 0.1596739792362628, 'l2_leaf_reg': 3.0609633158932192, 'depth': 7, 'scale_pos_weight': 1.227440461557269}. Best is trial 0 with value: 0.3263208485417798.\n"
     ]
    },
    {
     "name": "stdout",
     "output_type": "stream",
     "text": [
      "--------------------------------------------------\n",
      "folds 1:0.18281535648994515, folds 2:0.15664845173041894, folds 3:0.15636363636363637, folds 4:0.16376306620209058, folds 5:0.19455252918287938\n",
      "AVG F1: 0.1708286079937941\n",
      "--------------------------------------------------\n",
      "--------------------------------------------------\n"
     ]
    },
    {
     "name": "stderr",
     "output_type": "stream",
     "text": [
      "[I 2024-09-06 14:32:21,550] Trial 2 finished with value: 0.19160864713690223 and parameters: {'learning_rate': 0.18491585746790534, 'l2_leaf_reg': 9.974406673395997, 'depth': 7, 'scale_pos_weight': 1.3934939476782087}. Best is trial 0 with value: 0.3263208485417798.\n"
     ]
    },
    {
     "name": "stdout",
     "output_type": "stream",
     "text": [
      "--------------------------------------------------\n",
      "folds 1:0.19272727272727272, folds 2:0.22521008403361345, folds 3:0.18214285714285713, folds 4:0.17717206132879046, folds 5:0.1807909604519774\n",
      "AVG F1: 0.19160864713690223\n",
      "--------------------------------------------------\n",
      "--------------------------------------------------\n"
     ]
    },
    {
     "name": "stderr",
     "output_type": "stream",
     "text": [
      "[I 2024-09-06 14:33:11,402] Trial 3 finished with value: 0.3147064615424091 and parameters: {'learning_rate': 0.17900772343482732, 'l2_leaf_reg': 5.51350215768943, 'depth': 7, 'scale_pos_weight': 4.578962371631746}. Best is trial 0 with value: 0.3263208485417798.\n"
     ]
    },
    {
     "name": "stdout",
     "output_type": "stream",
     "text": [
      "--------------------------------------------------\n",
      "folds 1:0.30440251572327043, folds 2:0.32961586121437425, folds 3:0.29938650306748466, folds 4:0.3444976076555024, folds 5:0.29562982005141386\n",
      "AVG F1: 0.3147064615424091\n",
      "--------------------------------------------------\n",
      "--------------------------------------------------\n"
     ]
    },
    {
     "name": "stderr",
     "output_type": "stream",
     "text": [
      "[I 2024-09-06 14:33:44,392] Trial 4 finished with value: 0.21454130160963789 and parameters: {'learning_rate': 0.18110298869903638, 'l2_leaf_reg': 6.239292445936832, 'depth': 4, 'scale_pos_weight': 1.4120768960157393}. Best is trial 0 with value: 0.3263208485417798.\n"
     ]
    },
    {
     "name": "stdout",
     "output_type": "stream",
     "text": [
      "--------------------------------------------------\n",
      "folds 1:0.2171628721541156, folds 2:0.2453781512605042, folds 3:0.1879432624113475, folds 4:0.2, folds 5:0.2222222222222222\n",
      "AVG F1: 0.21454130160963789\n",
      "--------------------------------------------------\n",
      "--------------------------------------------------\n"
     ]
    },
    {
     "name": "stderr",
     "output_type": "stream",
     "text": [
      "[I 2024-09-06 14:34:20,545] Trial 5 finished with value: 0.37045498710443825 and parameters: {'learning_rate': 0.14554020648454846, 'l2_leaf_reg': 5.46220201109145, 'depth': 5, 'scale_pos_weight': 5.508383945333048}. Best is trial 5 with value: 0.37045498710443825.\n"
     ]
    },
    {
     "name": "stdout",
     "output_type": "stream",
     "text": [
      "--------------------------------------------------\n",
      "folds 1:0.34133790737564323, folds 2:0.39807383627608345, folds 3:0.36811832374691866, folds 4:0.37110016420361247, folds 5:0.37364470391993326\n",
      "AVG F1: 0.37045498710443825\n",
      "--------------------------------------------------\n",
      "--------------------------------------------------\n"
     ]
    },
    {
     "name": "stderr",
     "output_type": "stream",
     "text": [
      "[I 2024-09-06 14:35:01,710] Trial 6 finished with value: 0.33400168638296246 and parameters: {'learning_rate': 0.14841229956459195, 'l2_leaf_reg': 1.1157454644977378, 'depth': 6, 'scale_pos_weight': 4.163480704571592}. Best is trial 5 with value: 0.37045498710443825.\n"
     ]
    },
    {
     "name": "stdout",
     "output_type": "stream",
     "text": [
      "--------------------------------------------------\n",
      "folds 1:0.3146067415730337, folds 2:0.3443708609271523, folds 3:0.3291428571428571, folds 4:0.3314415437003405, folds 5:0.35044642857142855\n",
      "AVG F1: 0.33400168638296246\n",
      "--------------------------------------------------\n",
      "--------------------------------------------------\n"
     ]
    },
    {
     "name": "stderr",
     "output_type": "stream",
     "text": [
      "[I 2024-09-06 14:35:42,802] Trial 7 finished with value: 0.3284226532905268 and parameters: {'learning_rate': 0.036805100210562, 'l2_leaf_reg': 5.092593545255727, 'depth': 6, 'scale_pos_weight': 2.5505526054208194}. Best is trial 5 with value: 0.37045498710443825.\n"
     ]
    },
    {
     "name": "stdout",
     "output_type": "stream",
     "text": [
      "--------------------------------------------------\n",
      "folds 1:0.29526462395543174, folds 2:0.33967391304347827, folds 3:0.33725490196078434, folds 4:0.3183023872679045, folds 5:0.35161744022503516\n",
      "AVG F1: 0.3284226532905268\n",
      "--------------------------------------------------\n",
      "--------------------------------------------------\n"
     ]
    },
    {
     "name": "stderr",
     "output_type": "stream",
     "text": [
      "[I 2024-09-06 14:36:14,921] Trial 8 finished with value: 0.38665406628631854 and parameters: {'learning_rate': 0.06727869404462483, 'l2_leaf_reg': 5.013070869285886, 'depth': 4, 'scale_pos_weight': 5.782344747713721}. Best is trial 8 with value: 0.38665406628631854.\n"
     ]
    },
    {
     "name": "stdout",
     "output_type": "stream",
     "text": [
      "--------------------------------------------------\n",
      "folds 1:0.37262872628726285, folds 2:0.40152477763659467, folds 3:0.3777490297542044, folds 4:0.4023514043109079, folds 5:0.37901639344262295\n",
      "AVG F1: 0.38665406628631854\n",
      "--------------------------------------------------\n",
      "--------------------------------------------------\n"
     ]
    },
    {
     "name": "stderr",
     "output_type": "stream",
     "text": [
      "[I 2024-09-06 14:36:55,940] Trial 9 finished with value: 0.35652138435835656 and parameters: {'learning_rate': 0.184221416002677, 'l2_leaf_reg': 4.724639649683254, 'depth': 6, 'scale_pos_weight': 7.6843566453557735}. Best is trial 8 with value: 0.38665406628631854.\n"
     ]
    },
    {
     "name": "stdout",
     "output_type": "stream",
     "text": [
      "--------------------------------------------------\n",
      "folds 1:0.3333333333333333, folds 2:0.3760539629005059, folds 3:0.3479758828596038, folds 4:0.3608510638297872, folds 5:0.3643926788685524\n",
      "AVG F1: 0.35652138435835656\n",
      "--------------------------------------------------\n",
      "--------------------------------------------------\n"
     ]
    },
    {
     "name": "stderr",
     "output_type": "stream",
     "text": [
      "[I 2024-09-06 14:37:28,251] Trial 10 finished with value: 0.3741723531600938 and parameters: {'learning_rate': 0.05950995662366417, 'l2_leaf_reg': 7.975622640248057, 'depth': 4, 'scale_pos_weight': 7.260422361128036}. Best is trial 8 with value: 0.38665406628631854.\n"
     ]
    },
    {
     "name": "stdout",
     "output_type": "stream",
     "text": [
      "--------------------------------------------------\n",
      "folds 1:0.3642611683848797, folds 2:0.38254310344827586, folds 3:0.36960087479496995, folds 4:0.38731218697829717, folds 5:0.3671444321940463\n",
      "AVG F1: 0.3741723531600938\n",
      "--------------------------------------------------\n",
      "--------------------------------------------------\n"
     ]
    },
    {
     "name": "stderr",
     "output_type": "stream",
     "text": [
      "[I 2024-09-06 14:38:00,762] Trial 11 finished with value: 0.3715547385501903 and parameters: {'learning_rate': 0.05566966819702555, 'l2_leaf_reg': 9.091718719272604, 'depth': 4, 'scale_pos_weight': 7.41232287085796}. Best is trial 8 with value: 0.38665406628631854.\n"
     ]
    },
    {
     "name": "stdout",
     "output_type": "stream",
     "text": [
      "--------------------------------------------------\n",
      "folds 1:0.3627232142857143, folds 2:0.38140517696777604, folds 3:0.36769394261424015, folds 4:0.39370932754880694, folds 5:0.35224203133441384\n",
      "AVG F1: 0.3715547385501903\n",
      "--------------------------------------------------\n",
      "--------------------------------------------------\n"
     ]
    },
    {
     "name": "stderr",
     "output_type": "stream",
     "text": [
      "[I 2024-09-06 14:38:33,362] Trial 12 finished with value: 0.38300956335931075 and parameters: {'learning_rate': 0.08430609491680649, 'l2_leaf_reg': 7.621063259976862, 'depth': 4, 'scale_pos_weight': 6.046951382694276}. Best is trial 8 with value: 0.38665406628631854.\n"
     ]
    },
    {
     "name": "stdout",
     "output_type": "stream",
     "text": [
      "--------------------------------------------------\n",
      "folds 1:0.3681726230613621, folds 2:0.39487179487179486, folds 3:0.37659033078880405, folds 4:0.3955321944809461, folds 5:0.3798808735936466\n",
      "AVG F1: 0.38300956335931075\n",
      "--------------------------------------------------\n",
      "--------------------------------------------------\n"
     ]
    },
    {
     "name": "stderr",
     "output_type": "stream",
     "text": [
      "[I 2024-09-06 14:39:09,523] Trial 13 finished with value: 0.3828523977540632 and parameters: {'learning_rate': 0.10725831737494598, 'l2_leaf_reg': 7.224194622932201, 'depth': 5, 'scale_pos_weight': 6.343076198884364}. Best is trial 8 with value: 0.38665406628631854.\n"
     ]
    },
    {
     "name": "stdout",
     "output_type": "stream",
     "text": [
      "--------------------------------------------------\n",
      "folds 1:0.36539895600298283, folds 2:0.4056338028169014, folds 3:0.37335183900069396, folds 4:0.3958477508650519, folds 5:0.374029640084686\n",
      "AVG F1: 0.3828523977540632\n",
      "--------------------------------------------------\n",
      "--------------------------------------------------\n"
     ]
    },
    {
     "name": "stderr",
     "output_type": "stream",
     "text": [
      "[I 2024-09-06 14:39:41,918] Trial 14 finished with value: 0.3865197968750579 and parameters: {'learning_rate': 0.09517939990425933, 'l2_leaf_reg': 3.570144650955565, 'depth': 4, 'scale_pos_weight': 5.790179070498555}. Best is trial 8 with value: 0.38665406628631854.\n"
     ]
    },
    {
     "name": "stdout",
     "output_type": "stream",
     "text": [
      "--------------------------------------------------\n",
      "folds 1:0.3749119097956307, folds 2:0.40217391304347827, folds 3:0.3821917808219178, folds 4:0.4054421768707483, folds 5:0.3678792038435141\n",
      "AVG F1: 0.3865197968750579\n",
      "--------------------------------------------------\n",
      "--------------------------------------------------\n"
     ]
    },
    {
     "name": "stderr",
     "output_type": "stream",
     "text": [
      "[I 2024-09-06 14:40:17,946] Trial 15 finished with value: 0.378617029988675 and parameters: {'learning_rate': 0.006651501379736177, 'l2_leaf_reg': 3.5002788180528546, 'depth': 5, 'scale_pos_weight': 4.953828266197284}. Best is trial 8 with value: 0.38665406628631854.\n"
     ]
    },
    {
     "name": "stdout",
     "output_type": "stream",
     "text": [
      "--------------------------------------------------\n",
      "folds 1:0.37900477164280844, folds 2:0.404227212681638, folds 3:0.3560411311053985, folds 4:0.388336646785951, folds 5:0.3654753877275792\n",
      "AVG F1: 0.378617029988675\n",
      "--------------------------------------------------\n",
      "--------------------------------------------------\n"
     ]
    },
    {
     "name": "stderr",
     "output_type": "stream",
     "text": [
      "[I 2024-09-06 14:40:50,078] Trial 16 finished with value: 0.3683103063599559 and parameters: {'learning_rate': 0.11129650030518229, 'l2_leaf_reg': 0.21230780691628492, 'depth': 4, 'scale_pos_weight': 3.665155919898768}. Best is trial 8 with value: 0.38665406628631854.\n"
     ]
    },
    {
     "name": "stdout",
     "output_type": "stream",
     "text": [
      "--------------------------------------------------\n",
      "folds 1:0.31749241658240646, folds 2:0.4058536585365854, folds 3:0.35555555555555557, folds 4:0.3753609239653513, folds 5:0.3872889771598808\n",
      "AVG F1: 0.3683103063599559\n",
      "--------------------------------------------------\n",
      "--------------------------------------------------\n"
     ]
    },
    {
     "name": "stderr",
     "output_type": "stream",
     "text": [
      "[I 2024-09-06 14:41:22,518] Trial 17 finished with value: 0.38141164223888335 and parameters: {'learning_rate': 0.07909372893946531, 'l2_leaf_reg': 3.6570984282154653, 'depth': 4, 'scale_pos_weight': 6.391015763781032}. Best is trial 8 with value: 0.38665406628631854.\n"
     ]
    },
    {
     "name": "stdout",
     "output_type": "stream",
     "text": [
      "--------------------------------------------------\n",
      "folds 1:0.3684895833333333, folds 2:0.3997532387415176, folds 3:0.37710018668326073, folds 4:0.3964978111319575, folds 5:0.3652173913043478\n",
      "AVG F1: 0.38141164223888335\n",
      "--------------------------------------------------\n",
      "--------------------------------------------------\n"
     ]
    },
    {
     "name": "stderr",
     "output_type": "stream",
     "text": [
      "[I 2024-09-06 14:41:58,988] Trial 18 finished with value: 0.3785251236083669 and parameters: {'learning_rate': 0.12966518595413418, 'l2_leaf_reg': 2.4279641273354473, 'depth': 5, 'scale_pos_weight': 5.400099043460232}. Best is trial 8 with value: 0.38665406628631854.\n"
     ]
    },
    {
     "name": "stdout",
     "output_type": "stream",
     "text": [
      "--------------------------------------------------\n",
      "folds 1:0.35353535353535354, folds 2:0.39872408293460926, folds 3:0.38311688311688313, folds 4:0.38349514563106796, folds 5:0.37375415282392027\n",
      "AVG F1: 0.3785251236083669\n",
      "--------------------------------------------------\n",
      "--------------------------------------------------\n"
     ]
    },
    {
     "name": "stderr",
     "output_type": "stream",
     "text": [
      "[I 2024-09-06 14:42:31,269] Trial 19 finished with value: 0.3650944555897175 and parameters: {'learning_rate': 0.024204329327789778, 'l2_leaf_reg': 4.067135547487581, 'depth': 4, 'scale_pos_weight': 6.7667130164832}. Best is trial 8 with value: 0.38665406628631854.\n"
     ]
    },
    {
     "name": "stdout",
     "output_type": "stream",
     "text": [
      "--------------------------------------------------\n",
      "folds 1:0.36205016357688113, folds 2:0.37571354436948623, folds 3:0.34831460674157305, folds 4:0.38788522848034007, folds 5:0.35150873478030703\n",
      "AVG F1: 0.3650944555897175\n",
      "--------------------------------------------------\n",
      "--------------------------------------------------\n"
     ]
    },
    {
     "name": "stderr",
     "output_type": "stream",
     "text": [
      "[I 2024-09-06 14:43:07,892] Trial 20 finished with value: 0.3775709089776247 and parameters: {'learning_rate': 0.08136951487033041, 'l2_leaf_reg': 6.147774228306476, 'depth': 5, 'scale_pos_weight': 3.5683173437395537}. Best is trial 8 with value: 0.38665406628631854.\n"
     ]
    },
    {
     "name": "stdout",
     "output_type": "stream",
     "text": [
      "--------------------------------------------------\n",
      "folds 1:0.3659043659043659, folds 2:0.4164989939637827, folds 3:0.34489593657086226, folds 4:0.38606965174129354, folds 5:0.37448559670781895\n",
      "AVG F1: 0.3775709089776247\n",
      "--------------------------------------------------\n",
      "--------------------------------------------------\n"
     ]
    },
    {
     "name": "stderr",
     "output_type": "stream",
     "text": [
      "[I 2024-09-06 14:43:40,810] Trial 21 finished with value: 0.3912555637187068 and parameters: {'learning_rate': 0.08117757724320523, 'l2_leaf_reg': 7.699672387823212, 'depth': 4, 'scale_pos_weight': 5.875276639557002}. Best is trial 21 with value: 0.3912555637187068.\n"
     ]
    },
    {
     "name": "stdout",
     "output_type": "stream",
     "text": [
      "--------------------------------------------------\n",
      "folds 1:0.3768913342503439, folds 2:0.40971766250820746, folds 3:0.3772845953002611, folds 4:0.40725806451612906, folds 5:0.3851261620185923\n",
      "AVG F1: 0.3912555637187068\n",
      "--------------------------------------------------\n",
      "--------------------------------------------------\n"
     ]
    },
    {
     "name": "stderr",
     "output_type": "stream",
     "text": [
      "[I 2024-09-06 14:44:13,497] Trial 22 finished with value: 0.390255671226264 and parameters: {'learning_rate': 0.06131848589440352, 'l2_leaf_reg': 6.625544636288292, 'depth': 4, 'scale_pos_weight': 5.676752983301462}. Best is trial 21 with value: 0.3912555637187068.\n"
     ]
    },
    {
     "name": "stdout",
     "output_type": "stream",
     "text": [
      "--------------------------------------------------\n",
      "folds 1:0.3728581220013708, folds 2:0.40102171136653897, folds 3:0.3829787234042553, folds 4:0.4079207920792079, folds 5:0.38649900727994707\n",
      "AVG F1: 0.390255671226264\n",
      "--------------------------------------------------\n",
      "--------------------------------------------------\n"
     ]
    },
    {
     "name": "stderr",
     "output_type": "stream",
     "text": [
      "[I 2024-09-06 14:44:46,003] Trial 23 finished with value: 0.39792958192675565 and parameters: {'learning_rate': 0.06242775339325874, 'l2_leaf_reg': 6.813507665015077, 'depth': 4, 'scale_pos_weight': 5.180059905286884}. Best is trial 23 with value: 0.39792958192675565.\n"
     ]
    },
    {
     "name": "stdout",
     "output_type": "stream",
     "text": [
      "--------------------------------------------------\n",
      "folds 1:0.3808139534883721, folds 2:0.4118050789293068, folds 3:0.3914246196403873, folds 4:0.4104372355430183, folds 5:0.39516702203269366\n",
      "AVG F1: 0.39792958192675565\n",
      "--------------------------------------------------\n",
      "--------------------------------------------------\n"
     ]
    },
    {
     "name": "stderr",
     "output_type": "stream",
     "text": [
      "[I 2024-09-06 14:45:18,623] Trial 24 finished with value: 0.3939818421619248 and parameters: {'learning_rate': 0.041195860794842526, 'l2_leaf_reg': 8.39748320228668, 'depth': 4, 'scale_pos_weight': 5.219525586353668}. Best is trial 23 with value: 0.39792958192675565.\n"
     ]
    },
    {
     "name": "stdout",
     "output_type": "stream",
     "text": [
      "--------------------------------------------------\n",
      "folds 1:0.3800140745953554, folds 2:0.4105960264900662, folds 3:0.376158940397351, folds 4:0.4158686730506156, folds 5:0.38727149627623564\n",
      "AVG F1: 0.3939818421619248\n",
      "--------------------------------------------------\n",
      "--------------------------------------------------\n"
     ]
    },
    {
     "name": "stderr",
     "output_type": "stream",
     "text": [
      "[I 2024-09-06 14:45:54,796] Trial 25 finished with value: 0.39861884360103544 and parameters: {'learning_rate': 0.0404459117422807, 'l2_leaf_reg': 8.508150845909416, 'depth': 5, 'scale_pos_weight': 4.798961331413917}. Best is trial 25 with value: 0.39861884360103544.\n"
     ]
    },
    {
     "name": "stdout",
     "output_type": "stream",
     "text": [
      "--------------------------------------------------\n",
      "folds 1:0.38235294117647056, folds 2:0.42680262199563, folds 3:0.38803792851932895, folds 4:0.4185703758290346, folds 5:0.3773303504847129\n",
      "AVG F1: 0.39861884360103544\n",
      "--------------------------------------------------\n",
      "--------------------------------------------------\n"
     ]
    },
    {
     "name": "stderr",
     "output_type": "stream",
     "text": [
      "[I 2024-09-06 14:46:31,185] Trial 26 finished with value: 0.39533194334697297 and parameters: {'learning_rate': 0.03863270113785868, 'l2_leaf_reg': 8.701827509320921, 'depth': 5, 'scale_pos_weight': 4.3571972295286665}. Best is trial 25 with value: 0.39861884360103544.\n"
     ]
    },
    {
     "name": "stdout",
     "output_type": "stream",
     "text": [
      "--------------------------------------------------\n",
      "folds 1:0.3768595041322314, folds 2:0.41985353946297804, folds 3:0.3907863383637808, folds 4:0.408130081300813, folds 5:0.3810302534750613\n",
      "AVG F1: 0.39533194334697297\n",
      "--------------------------------------------------\n",
      "--------------------------------------------------\n"
     ]
    },
    {
     "name": "stderr",
     "output_type": "stream",
     "text": [
      "[I 2024-09-06 14:47:13,540] Trial 27 finished with value: 0.3870276944688131 and parameters: {'learning_rate': 0.00947643276310238, 'l2_leaf_reg': 8.989157619932833, 'depth': 6, 'scale_pos_weight': 4.252933295750034}. Best is trial 25 with value: 0.39861884360103544.\n"
     ]
    },
    {
     "name": "stdout",
     "output_type": "stream",
     "text": [
      "--------------------------------------------------\n",
      "folds 1:0.3640982218458933, folds 2:0.4152191894127378, folds 3:0.37089201877934275, folds 4:0.3983606557377049, folds 5:0.38656838656838655\n",
      "AVG F1: 0.3870276944688131\n",
      "--------------------------------------------------\n",
      "--------------------------------------------------\n"
     ]
    },
    {
     "name": "stderr",
     "output_type": "stream",
     "text": [
      "[I 2024-09-06 14:47:50,198] Trial 28 finished with value: 0.37155872838715415 and parameters: {'learning_rate': 0.04060504735691257, 'l2_leaf_reg': 9.773504611967297, 'depth': 5, 'scale_pos_weight': 3.209131564322007}. Best is trial 25 with value: 0.39861884360103544.\n"
     ]
    },
    {
     "name": "stdout",
     "output_type": "stream",
     "text": [
      "--------------------------------------------------\n",
      "folds 1:0.34451901565995524, folds 2:0.4078091106290672, folds 3:0.3526927138331573, folds 4:0.37139807897545357, folds 5:0.38137472283813745\n",
      "AVG F1: 0.37155872838715415\n",
      "--------------------------------------------------\n",
      "--------------------------------------------------\n"
     ]
    },
    {
     "name": "stderr",
     "output_type": "stream",
     "text": [
      "[I 2024-09-06 14:48:27,079] Trial 29 finished with value: 0.3059223793481737 and parameters: {'learning_rate': 0.020706664931678914, 'l2_leaf_reg': 8.99290778867016, 'depth': 5, 'scale_pos_weight': 2.502676910110571}. Best is trial 25 with value: 0.39861884360103544.\n"
     ]
    },
    {
     "name": "stdout",
     "output_type": "stream",
     "text": [
      "--------------------------------------------------\n",
      "folds 1:0.2704309063893016, folds 2:0.2964071856287425, folds 3:0.3247863247863248, folds 4:0.2960812772133527, folds 5:0.34190620272314676\n",
      "AVG F1: 0.3059223793481737\n",
      "--------------------------------------------------\n",
      "--------------------------------------------------\n"
     ]
    },
    {
     "name": "stderr",
     "output_type": "stream",
     "text": [
      "[I 2024-09-06 14:49:08,280] Trial 30 finished with value: 0.3956944747549922 and parameters: {'learning_rate': 0.04634328584297381, 'l2_leaf_reg': 7.040480402714312, 'depth': 6, 'scale_pos_weight': 4.888083103105541}. Best is trial 25 with value: 0.39861884360103544.\n"
     ]
    },
    {
     "name": "stdout",
     "output_type": "stream",
     "text": [
      "--------------------------------------------------\n",
      "folds 1:0.3697211155378486, folds 2:0.42128935532233885, folds 3:0.38839285714285715, folds 4:0.4142746314972847, folds 5:0.3847944142746315\n",
      "AVG F1: 0.3956944747549922\n",
      "--------------------------------------------------\n",
      "--------------------------------------------------\n"
     ]
    },
    {
     "name": "stderr",
     "output_type": "stream",
     "text": [
      "[I 2024-09-06 14:49:49,766] Trial 31 finished with value: 0.4033981076060537 and parameters: {'learning_rate': 0.030900165600523555, 'l2_leaf_reg': 7.093376467981388, 'depth': 6, 'scale_pos_weight': 4.638155043737476}. Best is trial 31 with value: 0.4033981076060537.\n"
     ]
    },
    {
     "name": "stdout",
     "output_type": "stream",
     "text": [
      "--------------------------------------------------\n",
      "folds 1:0.38385502471169686, folds 2:0.4222737819025522, folds 3:0.3984848484848485, folds 4:0.41770186335403725, folds 5:0.3946750195771339\n",
      "AVG F1: 0.4033981076060537\n",
      "--------------------------------------------------\n",
      "--------------------------------------------------\n"
     ]
    },
    {
     "name": "stderr",
     "output_type": "stream",
     "text": [
      "[I 2024-09-06 14:50:30,959] Trial 32 finished with value: 0.39907051294984386 and parameters: {'learning_rate': 0.05003972193007281, 'l2_leaf_reg': 6.9798322605078225, 'depth': 6, 'scale_pos_weight': 4.7503006270902235}. Best is trial 31 with value: 0.4033981076060537.\n"
     ]
    },
    {
     "name": "stdout",
     "output_type": "stream",
     "text": [
      "--------------------------------------------------\n",
      "folds 1:0.36661211129296234, folds 2:0.42138364779874216, folds 3:0.3908589440504334, folds 4:0.4203013481363997, folds 5:0.39619651347068147\n",
      "AVG F1: 0.39907051294984386\n",
      "--------------------------------------------------\n",
      "--------------------------------------------------\n"
     ]
    },
    {
     "name": "stderr",
     "output_type": "stream",
     "text": [
      "[I 2024-09-06 14:51:11,836] Trial 33 finished with value: 0.38696570624006893 and parameters: {'learning_rate': 0.023608322534193857, 'l2_leaf_reg': 6.503596909956034, 'depth': 6, 'scale_pos_weight': 3.7948947409209577}. Best is trial 31 with value: 0.4033981076060537.\n"
     ]
    },
    {
     "name": "stdout",
     "output_type": "stream",
     "text": [
      "--------------------------------------------------\n",
      "folds 1:0.35236220472440943, folds 2:0.4095238095238095, folds 3:0.37777777777777777, folds 4:0.40487347703842547, folds 5:0.39029126213592236\n",
      "AVG F1: 0.38696570624006893\n",
      "--------------------------------------------------\n",
      "--------------------------------------------------\n"
     ]
    },
    {
     "name": "stderr",
     "output_type": "stream",
     "text": [
      "[I 2024-09-06 14:52:01,254] Trial 34 finished with value: 0.38509190530966675 and parameters: {'learning_rate': 0.0682658658155517, 'l2_leaf_reg': 7.999470884259519, 'depth': 7, 'scale_pos_weight': 4.790098381072172}. Best is trial 31 with value: 0.4033981076060537.\n"
     ]
    },
    {
     "name": "stdout",
     "output_type": "stream",
     "text": [
      "--------------------------------------------------\n",
      "folds 1:0.35969868173258, folds 2:0.40495137046861185, folds 3:0.37644959857270294, folds 4:0.4034934497816594, folds 5:0.38086642599277976\n",
      "AVG F1: 0.38509190530966675\n",
      "--------------------------------------------------\n",
      "--------------------------------------------------\n"
     ]
    },
    {
     "name": "stderr",
     "output_type": "stream",
     "text": [
      "[I 2024-09-06 14:52:42,592] Trial 35 finished with value: 0.3550638790661701 and parameters: {'learning_rate': 0.051739731050144025, 'l2_leaf_reg': 7.091851458197736, 'depth': 6, 'scale_pos_weight': 2.9834312614570466}. Best is trial 31 with value: 0.4033981076060537.\n"
     ]
    },
    {
     "name": "stdout",
     "output_type": "stream",
     "text": [
      "--------------------------------------------------\n",
      "folds 1:0.3376932223543401, folds 2:0.3808411214953271, folds 3:0.33993015133876603, folds 4:0.3486238532110092, folds 5:0.36823104693140796\n",
      "AVG F1: 0.3550638790661701\n",
      "--------------------------------------------------\n",
      "--------------------------------------------------\n"
     ]
    },
    {
     "name": "stderr",
     "output_type": "stream",
     "text": [
      "[I 2024-09-06 14:53:32,414] Trial 36 finished with value: 0.38507070326224047 and parameters: {'learning_rate': 0.03155283239810372, 'l2_leaf_reg': 5.833699639970992, 'depth': 7, 'scale_pos_weight': 3.9910380880110696}. Best is trial 31 with value: 0.4033981076060537.\n"
     ]
    },
    {
     "name": "stdout",
     "output_type": "stream",
     "text": [
      "--------------------------------------------------\n",
      "folds 1:0.3511154219204656, folds 2:0.41069723018147086, folds 3:0.365296803652968, folds 4:0.3947858472998138, folds 5:0.4034582132564842\n",
      "AVG F1: 0.38507070326224047\n",
      "--------------------------------------------------\n",
      "--------------------------------------------------\n"
     ]
    },
    {
     "name": "stderr",
     "output_type": "stream",
     "text": [
      "[I 2024-09-06 14:54:13,377] Trial 37 finished with value: 0.09656501076759834 and parameters: {'learning_rate': 0.19920161604083603, 'l2_leaf_reg': 8.245399195780637, 'depth': 6, 'scale_pos_weight': 0.6871142938267174}. Best is trial 31 with value: 0.4033981076060537.\n"
     ]
    },
    {
     "name": "stdout",
     "output_type": "stream",
     "text": [
      "--------------------------------------------------\n",
      "folds 1:0.12424849699398798, folds 2:0.11155378486055777, folds 3:0.08385744234800839, folds 4:0.07045009784735812, folds 5:0.09271523178807947\n",
      "AVG F1: 0.09656501076759834\n",
      "--------------------------------------------------\n",
      "--------------------------------------------------\n"
     ]
    },
    {
     "name": "stderr",
     "output_type": "stream",
     "text": [
      "[I 2024-09-06 14:55:03,099] Trial 38 finished with value: 0.3946107889027797 and parameters: {'learning_rate': 0.01707543487129439, 'l2_leaf_reg': 9.503680847152221, 'depth': 7, 'scale_pos_weight': 4.48722048364001}. Best is trial 31 with value: 0.4033981076060537.\n"
     ]
    },
    {
     "name": "stdout",
     "output_type": "stream",
     "text": [
      "--------------------------------------------------\n",
      "folds 1:0.37542087542087543, folds 2:0.43031784841075793, folds 3:0.3834526650755768, folds 4:0.4065040650406504, folds 5:0.37735849056603776\n",
      "AVG F1: 0.3946107889027797\n",
      "--------------------------------------------------\n",
      "--------------------------------------------------\n"
     ]
    },
    {
     "name": "stderr",
     "output_type": "stream",
     "text": [
      "[I 2024-09-06 14:55:44,185] Trial 39 finished with value: 0.3907967852801662 and parameters: {'learning_rate': 0.07040428969226373, 'l2_leaf_reg': 7.22437124206115, 'depth': 6, 'scale_pos_weight': 5.17341389085481}. Best is trial 31 with value: 0.4033981076060537.\n"
     ]
    },
    {
     "name": "stdout",
     "output_type": "stream",
     "text": [
      "--------------------------------------------------\n",
      "folds 1:0.35591836734693877, folds 2:0.4097331240188383, folds 3:0.38330757341576505, folds 4:0.4003189792663477, folds 5:0.4047058823529412\n",
      "AVG F1: 0.3907967852801662\n",
      "--------------------------------------------------\n",
      "--------------------------------------------------\n"
     ]
    },
    {
     "name": "stderr",
     "output_type": "stream",
     "text": [
      "[I 2024-09-06 14:56:25,626] Trial 40 finished with value: 0.2457880833019023 and parameters: {'learning_rate': 0.032052337186594955, 'l2_leaf_reg': 5.644651219630699, 'depth': 6, 'scale_pos_weight': 1.9901117332305525}. Best is trial 31 with value: 0.4033981076060537.\n"
     ]
    },
    {
     "name": "stdout",
     "output_type": "stream",
     "text": [
      "--------------------------------------------------\n",
      "folds 1:0.233502538071066, folds 2:0.2591362126245847, folds 3:0.25666666666666665, folds 4:0.22439024390243903, folds 5:0.25524475524475526\n",
      "AVG F1: 0.2457880833019023\n",
      "--------------------------------------------------\n",
      "--------------------------------------------------\n"
     ]
    },
    {
     "name": "stderr",
     "output_type": "stream",
     "text": [
      "[I 2024-09-06 14:57:07,041] Trial 41 finished with value: 0.39619420285784246 and parameters: {'learning_rate': 0.04832972544785971, 'l2_leaf_reg': 6.680325090502856, 'depth': 6, 'scale_pos_weight': 4.861010804109959}. Best is trial 31 with value: 0.4033981076060537.\n"
     ]
    },
    {
     "name": "stdout",
     "output_type": "stream",
     "text": [
      "--------------------------------------------------\n",
      "folds 1:0.3875100080064051, folds 2:0.40437158469945356, folds 3:0.3832699619771863, folds 4:0.41576506955177744, folds 5:0.3900543900543901\n",
      "AVG F1: 0.39619420285784246\n",
      "--------------------------------------------------\n",
      "--------------------------------------------------\n"
     ]
    },
    {
     "name": "stderr",
     "output_type": "stream",
     "text": [
      "[I 2024-09-06 14:57:48,279] Trial 42 finished with value: 0.3965046584658706 and parameters: {'learning_rate': 0.04885350606403316, 'l2_leaf_reg': 6.604685255356962, 'depth': 6, 'scale_pos_weight': 4.693615529281104}. Best is trial 31 with value: 0.4033981076060537.\n"
     ]
    },
    {
     "name": "stdout",
     "output_type": "stream",
     "text": [
      "--------------------------------------------------\n",
      "folds 1:0.3830480847595762, folds 2:0.41115537848605577, folds 3:0.3887147335423197, folds 4:0.4156050955414013, folds 5:0.384\n",
      "AVG F1: 0.3965046584658706\n",
      "--------------------------------------------------\n",
      "--------------------------------------------------\n"
     ]
    },
    {
     "name": "stderr",
     "output_type": "stream",
     "text": [
      "[I 2024-09-06 14:58:29,554] Trial 43 finished with value: 0.37721771177472463 and parameters: {'learning_rate': 0.09255259020690076, 'l2_leaf_reg': 4.611721952432628, 'depth': 6, 'scale_pos_weight': 4.394946524953873}. Best is trial 31 with value: 0.4033981076060537.\n"
     ]
    },
    {
     "name": "stdout",
     "output_type": "stream",
     "text": [
      "--------------------------------------------------\n",
      "folds 1:0.3614697120158888, folds 2:0.38243366880146384, folds 3:0.34962406015037595, folds 4:0.40515653775322286, folds 5:0.38740458015267176\n",
      "AVG F1: 0.37721771177472463\n",
      "--------------------------------------------------\n",
      "--------------------------------------------------\n"
     ]
    },
    {
     "name": "stderr",
     "output_type": "stream",
     "text": [
      "[I 2024-09-06 14:59:11,559] Trial 44 finished with value: 0.396942669076963 and parameters: {'learning_rate': 0.05712503824858493, 'l2_leaf_reg': 6.100902192946328, 'depth': 6, 'scale_pos_weight': 5.375249197059089}. Best is trial 31 with value: 0.4033981076060537.\n"
     ]
    },
    {
     "name": "stdout",
     "output_type": "stream",
     "text": [
      "--------------------------------------------------\n",
      "folds 1:0.373933281613654, folds 2:0.412837345003647, folds 3:0.3921852387843705, folds 4:0.4218289085545723, folds 5:0.38392857142857145\n",
      "AVG F1: 0.396942669076963\n",
      "--------------------------------------------------\n",
      "--------------------------------------------------\n"
     ]
    },
    {
     "name": "stderr",
     "output_type": "stream",
     "text": [
      "[I 2024-09-06 15:00:01,538] Trial 45 finished with value: 0.3938908715294931 and parameters: {'learning_rate': 0.05790616422305099, 'l2_leaf_reg': 7.644924094481928, 'depth': 7, 'scale_pos_weight': 5.386606486314038}. Best is trial 31 with value: 0.4033981076060537.\n"
     ]
    },
    {
     "name": "stdout",
     "output_type": "stream",
     "text": [
      "--------------------------------------------------\n",
      "folds 1:0.38273615635179153, folds 2:0.4218009478672986, folds 3:0.38183217859892227, folds 4:0.40410418310970797, folds 5:0.37898089171974525\n",
      "AVG F1: 0.3938908715294931\n",
      "--------------------------------------------------\n",
      "--------------------------------------------------\n"
     ]
    },
    {
     "name": "stderr",
     "output_type": "stream",
     "text": [
      "[I 2024-09-06 15:00:43,069] Trial 46 finished with value: 0.38384850781111307 and parameters: {'learning_rate': 0.06694421848809957, 'l2_leaf_reg': 6.018570924545976, 'depth': 6, 'scale_pos_weight': 6.652700124678096}. Best is trial 31 with value: 0.4033981076060537.\n"
     ]
    },
    {
     "name": "stdout",
     "output_type": "stream",
     "text": [
      "--------------------------------------------------\n",
      "folds 1:0.36463331048663467, folds 2:0.39090909090909093, folds 3:0.3810143042912874, folds 4:0.4057780695994747, folds 5:0.37690776376907764\n",
      "AVG F1: 0.38384850781111307\n",
      "--------------------------------------------------\n",
      "--------------------------------------------------\n"
     ]
    },
    {
     "name": "stderr",
     "output_type": "stream",
     "text": [
      "[I 2024-09-06 15:01:19,466] Trial 47 finished with value: 0.383645599793636 and parameters: {'learning_rate': 0.03430561840728236, 'l2_leaf_reg': 5.425324971595154, 'depth': 5, 'scale_pos_weight': 6.1742159465506745}. Best is trial 31 with value: 0.4033981076060537.\n"
     ]
    },
    {
     "name": "stdout",
     "output_type": "stream",
     "text": [
      "--------------------------------------------------\n",
      "folds 1:0.37915881983678595, folds 2:0.3909415971394517, folds 3:0.3611604499703967, folds 4:0.4109090909090909, folds 5:0.37605804111245467\n",
      "AVG F1: 0.383645599793636\n",
      "--------------------------------------------------\n",
      "--------------------------------------------------\n"
     ]
    },
    {
     "name": "stderr",
     "output_type": "stream",
     "text": [
      "[I 2024-09-06 15:02:01,434] Trial 48 finished with value: 0.3788277956304772 and parameters: {'learning_rate': 0.11794210996051077, 'l2_leaf_reg': 7.352619491730703, 'depth': 6, 'scale_pos_weight': 5.153827475406282}. Best is trial 31 with value: 0.4033981076060537.\n"
     ]
    },
    {
     "name": "stdout",
     "output_type": "stream",
     "text": [
      "--------------------------------------------------\n",
      "folds 1:0.3648148148148148, folds 2:0.3953488372093023, folds 3:0.37180616740088107, folds 4:0.38864241348713396, folds 5:0.37352674524025387\n",
      "AVG F1: 0.3788277956304772\n",
      "--------------------------------------------------\n",
      "--------------------------------------------------\n"
     ]
    },
    {
     "name": "stderr",
     "output_type": "stream",
     "text": [
      "[I 2024-09-06 15:02:38,223] Trial 49 finished with value: 0.3849260073247055 and parameters: {'learning_rate': 0.014292175371921075, 'l2_leaf_reg': 8.469090992078861, 'depth': 5, 'scale_pos_weight': 3.9798771281851644}. Best is trial 31 with value: 0.4033981076060537.\n"
     ]
    },
    {
     "name": "stdout",
     "output_type": "stream",
     "text": [
      "--------------------------------------------------\n",
      "folds 1:0.35878564857405704, folds 2:0.40585009140767825, folds 3:0.38095238095238093, folds 4:0.4021257750221435, folds 5:0.3769161406672678\n",
      "AVG F1: 0.3849260073247055\n",
      "--------------------------------------------------\n",
      "--------------------------------------------------\n"
     ]
    },
    {
     "name": "stderr",
     "output_type": "stream",
     "text": [
      "[I 2024-09-06 15:03:20,776] Trial 50 finished with value: 0.38121109537190934 and parameters: {'learning_rate': 0.028369443326973824, 'l2_leaf_reg': 5.346671853231868, 'depth': 6, 'scale_pos_weight': 3.462082561876153}. Best is trial 31 with value: 0.4033981076060537.\n"
     ]
    },
    {
     "name": "stdout",
     "output_type": "stream",
     "text": [
      "--------------------------------------------------\n",
      "folds 1:0.35691657866948256, folds 2:0.411214953271028, folds 3:0.3689516129032258, folds 4:0.38636363636363635, folds 5:0.3826086956521739\n",
      "AVG F1: 0.38121109537190934\n",
      "--------------------------------------------------\n",
      "--------------------------------------------------\n"
     ]
    },
    {
     "name": "stderr",
     "output_type": "stream",
     "text": [
      "[I 2024-09-06 15:04:02,656] Trial 51 finished with value: 0.39389706892930293 and parameters: {'learning_rate': 0.04991482902728424, 'l2_leaf_reg': 6.644263507736371, 'depth': 6, 'scale_pos_weight': 4.783426714745264}. Best is trial 31 with value: 0.4033981076060537.\n"
     ]
    },
    {
     "name": "stdout",
     "output_type": "stream",
     "text": [
      "--------------------------------------------------\n",
      "folds 1:0.3742880390561432, folds 2:0.4117181314330958, folds 3:0.3937984496124031, folds 4:0.4117647058823529, folds 5:0.37791601866251945\n",
      "AVG F1: 0.39389706892930293\n",
      "--------------------------------------------------\n",
      "--------------------------------------------------\n"
     ]
    },
    {
     "name": "stderr",
     "output_type": "stream",
     "text": [
      "[I 2024-09-06 15:04:44,372] Trial 52 finished with value: 0.3924633537697952 and parameters: {'learning_rate': 0.07322251006273425, 'l2_leaf_reg': 6.275859203055921, 'depth': 6, 'scale_pos_weight': 5.623476528493361}. Best is trial 31 with value: 0.4033981076060537.\n"
     ]
    },
    {
     "name": "stdout",
     "output_type": "stream",
     "text": [
      "--------------------------------------------------\n",
      "folds 1:0.3637770897832817, folds 2:0.42034405385190726, folds 3:0.38180462341536164, folds 4:0.4107946026986507, folds 5:0.38559639909977494\n",
      "AVG F1: 0.3924633537697952\n",
      "--------------------------------------------------\n",
      "--------------------------------------------------\n"
     ]
    },
    {
     "name": "stderr",
     "output_type": "stream",
     "text": [
      "[I 2024-09-06 15:05:25,903] Trial 53 finished with value: 0.39465478927951186 and parameters: {'learning_rate': 0.06072476483881251, 'l2_leaf_reg': 4.792928150239177, 'depth': 6, 'scale_pos_weight': 4.72149610187402}. Best is trial 31 with value: 0.4033981076060537.\n"
     ]
    },
    {
     "name": "stdout",
     "output_type": "stream",
     "text": [
      "--------------------------------------------------\n",
      "folds 1:0.38250428816466553, folds 2:0.39869281045751637, folds 3:0.3850528025995126, folds 4:0.4171382376717866, folds 5:0.3898858075040783\n",
      "AVG F1: 0.39465478927951186\n",
      "--------------------------------------------------\n",
      "--------------------------------------------------\n"
     ]
    },
    {
     "name": "stderr",
     "output_type": "stream",
     "text": [
      "[I 2024-09-06 15:06:07,170] Trial 54 finished with value: 0.38022705412687485 and parameters: {'learning_rate': 0.08922664117062937, 'l2_leaf_reg': 6.848554752670792, 'depth': 6, 'scale_pos_weight': 4.570071660170493}. Best is trial 31 with value: 0.4033981076060537.\n"
     ]
    },
    {
     "name": "stdout",
     "output_type": "stream",
     "text": [
      "--------------------------------------------------\n",
      "folds 1:0.3474178403755869, folds 2:0.4089285714285714, folds 3:0.37421665174574753, folds 4:0.4, folds 5:0.37057220708446864\n",
      "AVG F1: 0.38022705412687485\n",
      "--------------------------------------------------\n",
      "--------------------------------------------------\n"
     ]
    },
    {
     "name": "stderr",
     "output_type": "stream",
     "text": [
      "[I 2024-09-06 15:06:43,989] Trial 55 finished with value: 0.3957064918276188 and parameters: {'learning_rate': 0.04392569360291989, 'l2_leaf_reg': 7.919780289105031, 'depth': 5, 'scale_pos_weight': 4.162154194580601}. Best is trial 31 with value: 0.4033981076060537.\n"
     ]
    },
    {
     "name": "stdout",
     "output_type": "stream",
     "text": [
      "--------------------------------------------------\n",
      "folds 1:0.3687445127304653, folds 2:0.42291491154170174, folds 3:0.3864013266998342, folds 4:0.41068447412353926, folds 5:0.38978723404255317\n",
      "AVG F1: 0.3957064918276188\n",
      "--------------------------------------------------\n",
      "--------------------------------------------------\n"
     ]
    },
    {
     "name": "stderr",
     "output_type": "stream",
     "text": [
      "[I 2024-09-06 15:07:33,459] Trial 56 finished with value: 0.38672839990283064 and parameters: {'learning_rate': 0.055930351635959774, 'l2_leaf_reg': 7.529850115206469, 'depth': 7, 'scale_pos_weight': 5.150884929660081}. Best is trial 31 with value: 0.4033981076060537.\n"
     ]
    },
    {
     "name": "stdout",
     "output_type": "stream",
     "text": [
      "--------------------------------------------------\n",
      "folds 1:0.366804979253112, folds 2:0.4135753749013418, folds 3:0.37183544303797467, folds 4:0.4, folds 5:0.3814262023217247\n",
      "AVG F1: 0.38672839990283064\n",
      "--------------------------------------------------\n",
      "--------------------------------------------------\n"
     ]
    },
    {
     "name": "stderr",
     "output_type": "stream",
     "text": [
      "[I 2024-09-06 15:08:14,912] Trial 57 finished with value: 0.3824746591044058 and parameters: {'learning_rate': 0.07493628422753153, 'l2_leaf_reg': 5.939153120514076, 'depth': 6, 'scale_pos_weight': 5.448897005124207}. Best is trial 31 with value: 0.4033981076060537.\n"
     ]
    },
    {
     "name": "stdout",
     "output_type": "stream",
     "text": [
      "--------------------------------------------------\n",
      "folds 1:0.36363636363636365, folds 2:0.4003067484662577, folds 3:0.38385376999238385, folds 4:0.38858905165767155, folds 5:0.37598736176935227\n",
      "AVG F1: 0.3824746591044058\n",
      "--------------------------------------------------\n",
      "--------------------------------------------------\n"
     ]
    },
    {
     "name": "stderr",
     "output_type": "stream",
     "text": [
      "[I 2024-09-06 15:08:56,147] Trial 58 finished with value: 0.3457909191372686 and parameters: {'learning_rate': 0.15877424263863638, 'l2_leaf_reg': 6.360174087874325, 'depth': 6, 'scale_pos_weight': 4.010518663465217}. Best is trial 31 with value: 0.4033981076060537.\n"
     ]
    },
    {
     "name": "stdout",
     "output_type": "stream",
     "text": [
      "--------------------------------------------------\n",
      "folds 1:0.32531500572737687, folds 2:0.3860021208907741, folds 3:0.32996632996632996, folds 4:0.343921139101862, folds 5:0.34375\n",
      "AVG F1: 0.3457909191372686\n",
      "--------------------------------------------------\n",
      "--------------------------------------------------\n"
     ]
    },
    {
     "name": "stderr",
     "output_type": "stream",
     "text": [
      "[I 2024-09-06 15:09:32,772] Trial 59 finished with value: 0.3822376783341353 and parameters: {'learning_rate': 0.0264799691100535, 'l2_leaf_reg': 4.2006837841574285, 'depth': 5, 'scale_pos_weight': 6.099937559833287}. Best is trial 31 with value: 0.4033981076060537.\n"
     ]
    },
    {
     "name": "stdout",
     "output_type": "stream",
     "text": [
      "--------------------------------------------------\n",
      "folds 1:0.3749231714812538, folds 2:0.3914053426248548, folds 3:0.3659233847913093, folds 4:0.40071985602879423, folds 5:0.3782166367444644\n",
      "AVG F1: 0.3822376783341353\n",
      "--------------------------------------------------\n",
      "--------------------------------------------------\n"
     ]
    },
    {
     "name": "stderr",
     "output_type": "stream",
     "text": [
      "[I 2024-09-06 15:10:14,068] Trial 60 finished with value: 0.392172276802157 and parameters: {'learning_rate': 0.05271576630485299, 'l2_leaf_reg': 6.928207018453619, 'depth': 6, 'scale_pos_weight': 5.794991001354804}. Best is trial 31 with value: 0.4033981076060537.\n"
     ]
    },
    {
     "name": "stdout",
     "output_type": "stream",
     "text": [
      "--------------------------------------------------\n",
      "folds 1:0.37252124645892354, folds 2:0.41108857336037863, folds 3:0.38513513513513514, folds 4:0.4046164290563476, folds 5:0.3875\n",
      "AVG F1: 0.392172276802157\n",
      "--------------------------------------------------\n",
      "--------------------------------------------------\n"
     ]
    },
    {
     "name": "stderr",
     "output_type": "stream",
     "text": [
      "[I 2024-09-06 15:10:55,080] Trial 61 finished with value: 0.397629661213323 and parameters: {'learning_rate': 0.036583955335918836, 'l2_leaf_reg': 6.716817547325405, 'depth': 6, 'scale_pos_weight': 5.050907541916244}. Best is trial 31 with value: 0.4033981076060537.\n"
     ]
    },
    {
     "name": "stdout",
     "output_type": "stream",
     "text": [
      "--------------------------------------------------\n",
      "folds 1:0.38073394495412843, folds 2:0.41007194244604317, folds 3:0.3988439306358382, folds 4:0.4050073637702504, folds 5:0.39349112426035504\n",
      "AVG F1: 0.397629661213323\n",
      "--------------------------------------------------\n",
      "--------------------------------------------------\n"
     ]
    },
    {
     "name": "stderr",
     "output_type": "stream",
     "text": [
      "[I 2024-09-06 15:11:36,734] Trial 62 finished with value: 0.3932127130531233 and parameters: {'learning_rate': 0.03870595082998136, 'l2_leaf_reg': 5.167907817450374, 'depth': 6, 'scale_pos_weight': 5.0044854822735}. Best is trial 31 with value: 0.4033981076060537.\n"
     ]
    },
    {
     "name": "stdout",
     "output_type": "stream",
     "text": [
      "--------------------------------------------------\n",
      "folds 1:0.36533957845433257, folds 2:0.4090247452692867, folds 3:0.39085545722713866, folds 4:0.41622839969947406, folds 5:0.38461538461538464\n",
      "AVG F1: 0.3932127130531233\n",
      "--------------------------------------------------\n",
      "--------------------------------------------------\n"
     ]
    },
    {
     "name": "stderr",
     "output_type": "stream",
     "text": [
      "[I 2024-09-06 15:12:18,763] Trial 63 finished with value: 0.3921730963958376 and parameters: {'learning_rate': 0.06164871021371548, 'l2_leaf_reg': 6.248253364262768, 'depth': 6, 'scale_pos_weight': 4.578753421827641}. Best is trial 31 with value: 0.4033981076060537.\n"
     ]
    },
    {
     "name": "stdout",
     "output_type": "stream",
     "text": [
      "--------------------------------------------------\n",
      "folds 1:0.3747841105354059, folds 2:0.4151260504201681, folds 3:0.3751023751023751, folds 4:0.4060657118786858, folds 5:0.38978723404255317\n",
      "AVG F1: 0.3921730963958376\n",
      "--------------------------------------------------\n",
      "--------------------------------------------------\n"
     ]
    },
    {
     "name": "stderr",
     "output_type": "stream",
     "text": [
      "[I 2024-09-06 15:13:00,451] Trial 64 finished with value: 0.392426925333144 and parameters: {'learning_rate': 0.04400347703248841, 'l2_leaf_reg': 5.663905997595464, 'depth': 6, 'scale_pos_weight': 5.357754693575025}. Best is trial 31 with value: 0.4033981076060537.\n"
     ]
    },
    {
     "name": "stdout",
     "output_type": "stream",
     "text": [
      "--------------------------------------------------\n",
      "folds 1:0.37769516728624536, folds 2:0.4088397790055249, folds 3:0.37637362637362637, folds 4:0.41305890702625975, folds 5:0.3861671469740634\n",
      "AVG F1: 0.392426925333144\n",
      "--------------------------------------------------\n",
      "--------------------------------------------------\n"
     ]
    },
    {
     "name": "stderr",
     "output_type": "stream",
     "text": [
      "[I 2024-09-06 15:13:37,166] Trial 65 finished with value: 0.3925964431767274 and parameters: {'learning_rate': 0.037040166439995935, 'l2_leaf_reg': 7.395872250034609, 'depth': 5, 'scale_pos_weight': 5.013836169621864}. Best is trial 31 with value: 0.4033981076060537.\n"
     ]
    },
    {
     "name": "stdout",
     "output_type": "stream",
     "text": [
      "--------------------------------------------------\n",
      "folds 1:0.37351190476190477, folds 2:0.41788958770090845, folds 3:0.3804878048780488, folds 4:0.4085714285714286, folds 5:0.3825214899713467\n",
      "AVG F1: 0.3925964431767274\n",
      "--------------------------------------------------\n",
      "--------------------------------------------------\n"
     ]
    },
    {
     "name": "stderr",
     "output_type": "stream",
     "text": [
      "[I 2024-09-06 15:14:18,640] Trial 66 finished with value: 0.3812514771618127 and parameters: {'learning_rate': 0.011873468825242327, 'l2_leaf_reg': 7.883607861869814, 'depth': 6, 'scale_pos_weight': 5.554504137813151}. Best is trial 31 with value: 0.4033981076060537.\n"
     ]
    },
    {
     "name": "stdout",
     "output_type": "stream",
     "text": [
      "--------------------------------------------------\n",
      "folds 1:0.3757262750161394, folds 2:0.39753846153846156, folds 3:0.3645200486026732, folds 4:0.39824120603015073, folds 5:0.3702313946216385\n",
      "AVG F1: 0.3812514771618127\n",
      "--------------------------------------------------\n",
      "--------------------------------------------------\n"
     ]
    },
    {
     "name": "stderr",
     "output_type": "stream",
     "text": [
      "[I 2024-09-06 15:14:51,313] Trial 67 finished with value: 0.38911232107048643 and parameters: {'learning_rate': 0.020635865433263505, 'l2_leaf_reg': 6.883717999343719, 'depth': 4, 'scale_pos_weight': 4.359210037259939}. Best is trial 31 with value: 0.4033981076060537.\n"
     ]
    },
    {
     "name": "stdout",
     "output_type": "stream",
     "text": [
      "--------------------------------------------------\n",
      "folds 1:0.376, folds 2:0.4095617529880478, folds 3:0.37727272727272726, folds 4:0.40282131661442006, folds 5:0.37990580847723704\n",
      "AVG F1: 0.38911232107048643\n",
      "--------------------------------------------------\n",
      "--------------------------------------------------\n"
     ]
    },
    {
     "name": "stderr",
     "output_type": "stream",
     "text": [
      "[I 2024-09-06 15:15:32,501] Trial 68 finished with value: 0.3941017737020201 and parameters: {'learning_rate': 0.066054870892431, 'l2_leaf_reg': 6.486823952843457, 'depth': 6, 'scale_pos_weight': 4.654014388935799}. Best is trial 31 with value: 0.4033981076060537.\n"
     ]
    },
    {
     "name": "stdout",
     "output_type": "stream",
     "text": [
      "--------------------------------------------------\n",
      "folds 1:0.3778723404255319, folds 2:0.42, folds 3:0.3759274525968673, folds 4:0.41333333333333333, folds 5:0.3833757421543681\n",
      "AVG F1: 0.3941017737020201\n",
      "--------------------------------------------------\n",
      "--------------------------------------------------\n"
     ]
    },
    {
     "name": "stderr",
     "output_type": "stream",
     "text": [
      "[I 2024-09-06 15:16:21,728] Trial 69 finished with value: 0.3878868417075404 and parameters: {'learning_rate': 0.04899230784584753, 'l2_leaf_reg': 8.727710432320492, 'depth': 7, 'scale_pos_weight': 5.925154759845181}. Best is trial 31 with value: 0.4033981076060537.\n"
     ]
    },
    {
     "name": "stdout",
     "output_type": "stream",
     "text": [
      "--------------------------------------------------\n",
      "folds 1:0.3633720930232558, folds 2:0.4096045197740113, folds 3:0.3824537354352296, folds 4:0.4067796610169492, folds 5:0.37722419928825623\n",
      "AVG F1: 0.3878868417075404\n",
      "--------------------------------------------------\n",
      "--------------------------------------------------\n"
     ]
    },
    {
     "name": "stderr",
     "output_type": "stream",
     "text": [
      "[I 2024-09-06 15:16:58,341] Trial 70 finished with value: 0.38125262569880836 and parameters: {'learning_rate': 0.09851267515737605, 'l2_leaf_reg': 9.2920467089368, 'depth': 5, 'scale_pos_weight': 3.7200075005119055}. Best is trial 31 with value: 0.4033981076060537.\n"
     ]
    },
    {
     "name": "stdout",
     "output_type": "stream",
     "text": [
      "--------------------------------------------------\n",
      "folds 1:0.3473895582329317, folds 2:0.41141732283464566, folds 3:0.3790720631786772, folds 4:0.3820662768031189, folds 5:0.386317907444668\n",
      "AVG F1: 0.38125262569880836\n",
      "--------------------------------------------------\n",
      "--------------------------------------------------\n"
     ]
    },
    {
     "name": "stderr",
     "output_type": "stream",
     "text": [
      "[I 2024-09-06 15:17:39,452] Trial 71 finished with value: 0.39322704063478825 and parameters: {'learning_rate': 0.04604783443531223, 'l2_leaf_reg': 6.70562517286265, 'depth': 6, 'scale_pos_weight': 4.941755974640053}. Best is trial 31 with value: 0.4033981076060537.\n"
     ]
    },
    {
     "name": "stdout",
     "output_type": "stream",
     "text": [
      "--------------------------------------------------\n",
      "folds 1:0.37859424920127793, folds 2:0.4133232399697199, folds 3:0.38158871566443947, folds 4:0.4140030441400304, folds 5:0.3786259541984733\n",
      "AVG F1: 0.39322704063478825\n",
      "--------------------------------------------------\n",
      "--------------------------------------------------\n"
     ]
    },
    {
     "name": "stderr",
     "output_type": "stream",
     "text": [
      "[I 2024-09-06 15:18:20,532] Trial 72 finished with value: 0.3671704446061196 and parameters: {'learning_rate': 0.032689345694612515, 'l2_leaf_reg': 6.033953123451777, 'depth': 6, 'scale_pos_weight': 7.999394117712257}. Best is trial 31 with value: 0.4033981076060537.\n"
     ]
    },
    {
     "name": "stdout",
     "output_type": "stream",
     "text": [
      "--------------------------------------------------\n",
      "folds 1:0.3611713665943601, folds 2:0.3774936061381074, folds 3:0.3543788187372709, folds 4:0.3853305785123967, folds 5:0.35747785304846275\n",
      "AVG F1: 0.3671704446061196\n",
      "--------------------------------------------------\n",
      "--------------------------------------------------\n"
     ]
    },
    {
     "name": "stderr",
     "output_type": "stream",
     "text": [
      "[I 2024-09-06 15:19:02,102] Trial 73 finished with value: 0.39563150810774417 and parameters: {'learning_rate': 0.05516923329781686, 'l2_leaf_reg': 7.234849105154183, 'depth': 6, 'scale_pos_weight': 5.249179189106721}. Best is trial 31 with value: 0.4033981076060537.\n"
     ]
    },
    {
     "name": "stdout",
     "output_type": "stream",
     "text": [
      "--------------------------------------------------\n",
      "folds 1:0.37442218798151, folds 2:0.4177777777777778, folds 3:0.38671586715867157, folds 4:0.4085231447465099, folds 5:0.3907185628742515\n",
      "AVG F1: 0.39563150810774417\n",
      "--------------------------------------------------\n",
      "--------------------------------------------------\n"
     ]
    },
    {
     "name": "stderr",
     "output_type": "stream",
     "text": [
      "[I 2024-09-06 15:19:42,948] Trial 74 finished with value: 0.3983898993827359 and parameters: {'learning_rate': 0.0413022697160144, 'l2_leaf_reg': 8.262938538221745, 'depth': 6, 'scale_pos_weight': 4.167279646081487}. Best is trial 31 with value: 0.4033981076060537.\n"
     ]
    },
    {
     "name": "stdout",
     "output_type": "stream",
     "text": [
      "--------------------------------------------------\n",
      "folds 1:0.37566137566137564, folds 2:0.4155844155844156, folds 3:0.38581314878892736, folds 4:0.4201537147736977, folds 5:0.39473684210526316\n",
      "AVG F1: 0.3983898993827359\n",
      "--------------------------------------------------\n",
      "--------------------------------------------------\n"
     ]
    },
    {
     "name": "stderr",
     "output_type": "stream",
     "text": [
      "[I 2024-09-06 15:20:24,712] Trial 75 finished with value: 0.37843225429620453 and parameters: {'learning_rate': 0.006106898196365451, 'l2_leaf_reg': 8.364092099417988, 'depth': 6, 'scale_pos_weight': 4.194490057946174}. Best is trial 31 with value: 0.4033981076060537.\n"
     ]
    },
    {
     "name": "stdout",
     "output_type": "stream",
     "text": [
      "--------------------------------------------------\n",
      "folds 1:0.3602693602693603, folds 2:0.3976311336717428, folds 3:0.3512658227848101, folds 4:0.40165289256198344, folds 5:0.381342062193126\n",
      "AVG F1: 0.37843225429620453\n",
      "--------------------------------------------------\n",
      "--------------------------------------------------\n"
     ]
    },
    {
     "name": "stderr",
     "output_type": "stream",
     "text": [
      "[I 2024-09-06 15:21:06,110] Trial 76 finished with value: 0.37160760186831976 and parameters: {'learning_rate': 0.027530490868362657, 'l2_leaf_reg': 7.6582248688578645, 'depth': 6, 'scale_pos_weight': 3.29975806080032}. Best is trial 31 with value: 0.4033981076060537.\n"
     ]
    },
    {
     "name": "stdout",
     "output_type": "stream",
     "text": [
      "--------------------------------------------------\n",
      "folds 1:0.33591160220994476, folds 2:0.4004400440044004, folds 3:0.36496350364963503, folds 4:0.3827027027027027, folds 5:0.374020156774916\n",
      "AVG F1: 0.37160760186831976\n",
      "--------------------------------------------------\n",
      "--------------------------------------------------\n"
     ]
    },
    {
     "name": "stderr",
     "output_type": "stream",
     "text": [
      "[I 2024-09-06 15:21:38,648] Trial 77 finished with value: 0.39233517431479004 and parameters: {'learning_rate': 0.04089420563946332, 'l2_leaf_reg': 8.020442914826475, 'depth': 4, 'scale_pos_weight': 3.923430388620293}. Best is trial 31 with value: 0.4033981076060537.\n"
     ]
    },
    {
     "name": "stdout",
     "output_type": "stream",
     "text": [
      "--------------------------------------------------\n",
      "folds 1:0.37209302325581395, folds 2:0.4155614500442087, folds 3:0.37532133676092544, folds 4:0.4189307624890447, folds 5:0.3797692990239574\n",
      "AVG F1: 0.39233517431479004\n",
      "--------------------------------------------------\n",
      "--------------------------------------------------\n"
     ]
    },
    {
     "name": "stderr",
     "output_type": "stream",
     "text": [
      "[I 2024-09-06 15:22:20,116] Trial 78 finished with value: 0.39337844170675845 and parameters: {'learning_rate': 0.033256479413989765, 'l2_leaf_reg': 8.649660955806718, 'depth': 6, 'scale_pos_weight': 4.490906678290868}. Best is trial 31 with value: 0.4033981076060537.\n"
     ]
    },
    {
     "name": "stdout",
     "output_type": "stream",
     "text": [
      "--------------------------------------------------\n",
      "folds 1:0.373134328358209, folds 2:0.4074675324675325, folds 3:0.38801261829652994, folds 4:0.41185897435897434, folds 5:0.38641875505254647\n",
      "AVG F1: 0.39337844170675845\n",
      "--------------------------------------------------\n",
      "--------------------------------------------------\n"
     ]
    },
    {
     "name": "stderr",
     "output_type": "stream",
     "text": [
      "[I 2024-09-06 15:23:01,432] Trial 79 finished with value: 0.3927935447793026 and parameters: {'learning_rate': 0.06407099621538245, 'l2_leaf_reg': 7.056548267371158, 'depth': 6, 'scale_pos_weight': 4.696704087318887}. Best is trial 31 with value: 0.4033981076060537.\n"
     ]
    },
    {
     "name": "stdout",
     "output_type": "stream",
     "text": [
      "--------------------------------------------------\n",
      "folds 1:0.36253252385082396, folds 2:0.4146341463414634, folds 3:0.4, folds 4:0.3944805194805195, folds 5:0.39232053422370616\n",
      "AVG F1: 0.3927935447793026\n",
      "--------------------------------------------------\n",
      "--------------------------------------------------\n"
     ]
    },
    {
     "name": "stderr",
     "output_type": "stream",
     "text": [
      "[I 2024-09-06 15:23:42,798] Trial 80 finished with value: 0.3823921940139911 and parameters: {'learning_rate': 0.07751110910941053, 'l2_leaf_reg': 1.7784264756589785, 'depth': 6, 'scale_pos_weight': 6.311489521259864}. Best is trial 31 with value: 0.4033981076060537.\n"
     ]
    },
    {
     "name": "stdout",
     "output_type": "stream",
     "text": [
      "--------------------------------------------------\n",
      "folds 1:0.36643571978444955, folds 2:0.4138418079096045, folds 3:0.372463768115942, folds 4:0.3930635838150289, folds 5:0.3661560904449307\n",
      "AVG F1: 0.3823921940139911\n",
      "--------------------------------------------------\n",
      "--------------------------------------------------\n"
     ]
    },
    {
     "name": "stderr",
     "output_type": "stream",
     "text": [
      "[I 2024-09-06 15:24:23,587] Trial 81 finished with value: 0.3934745438831229 and parameters: {'learning_rate': 0.05042937780392611, 'l2_leaf_reg': 6.543124533174361, 'depth': 6, 'scale_pos_weight': 4.869554743473434}. Best is trial 31 with value: 0.4033981076060537.\n"
     ]
    },
    {
     "name": "stdout",
     "output_type": "stream",
     "text": [
      "--------------------------------------------------\n",
      "folds 1:0.3690572119258662, folds 2:0.4065166795965865, folds 3:0.37718631178707224, folds 4:0.4221183800623053, folds 5:0.3924941360437842\n",
      "AVG F1: 0.3934745438831229\n",
      "--------------------------------------------------\n",
      "--------------------------------------------------\n"
     ]
    },
    {
     "name": "stderr",
     "output_type": "stream",
     "text": [
      "[I 2024-09-06 15:25:04,623] Trial 82 finished with value: 0.3970608905373646 and parameters: {'learning_rate': 0.045674241979425295, 'l2_leaf_reg': 8.136307914534424, 'depth': 6, 'scale_pos_weight': 5.024027882970762}. Best is trial 31 with value: 0.4033981076060537.\n"
     ]
    },
    {
     "name": "stdout",
     "output_type": "stream",
     "text": [
      "--------------------------------------------------\n",
      "folds 1:0.3776223776223776, folds 2:0.4071058475203553, folds 3:0.39288361749444034, folds 4:0.42301943198804187, folds 5:0.38467317806160783\n",
      "AVG F1: 0.3970608905373646\n",
      "--------------------------------------------------\n",
      "--------------------------------------------------\n"
     ]
    },
    {
     "name": "stderr",
     "output_type": "stream",
     "text": [
      "[I 2024-09-06 15:25:45,458] Trial 83 finished with value: 0.3923156702896896 and parameters: {'learning_rate': 0.022253392482887838, 'l2_leaf_reg': 8.112809107039617, 'depth': 6, 'scale_pos_weight': 5.08039130467568}. Best is trial 31 with value: 0.4033981076060537.\n"
     ]
    },
    {
     "name": "stdout",
     "output_type": "stream",
     "text": [
      "--------------------------------------------------\n",
      "folds 1:0.3711340206185567, folds 2:0.40824742268041236, folds 3:0.3795918367346939, folds 4:0.4161931818181818, folds 5:0.386411889596603\n",
      "AVG F1: 0.3923156702896896\n",
      "--------------------------------------------------\n",
      "--------------------------------------------------\n"
     ]
    },
    {
     "name": "stderr",
     "output_type": "stream",
     "text": [
      "[I 2024-09-06 15:26:26,206] Trial 84 finished with value: 0.39410238388572383 and parameters: {'learning_rate': 0.042862871452919345, 'l2_leaf_reg': 8.910791854652286, 'depth': 6, 'scale_pos_weight': 4.293184081033014}. Best is trial 31 with value: 0.4033981076060537.\n"
     ]
    },
    {
     "name": "stdout",
     "output_type": "stream",
     "text": [
      "--------------------------------------------------\n",
      "folds 1:0.37994722955145116, folds 2:0.4034042553191489, folds 3:0.38422818791946306, folds 4:0.41786015164279694, folds 5:0.3850720949957591\n",
      "AVG F1: 0.39410238388572383\n",
      "--------------------------------------------------\n",
      "--------------------------------------------------\n"
     ]
    },
    {
     "name": "stderr",
     "output_type": "stream",
     "text": [
      "[I 2024-09-06 15:27:15,248] Trial 85 finished with value: 0.3851634051638837 and parameters: {'learning_rate': 0.016621187382025886, 'l2_leaf_reg': 7.778819391635769, 'depth': 7, 'scale_pos_weight': 5.675515296199939}. Best is trial 31 with value: 0.4033981076060537.\n"
     ]
    },
    {
     "name": "stdout",
     "output_type": "stream",
     "text": [
      "--------------------------------------------------\n",
      "folds 1:0.3712737127371274, folds 2:0.4010056568196103, folds 3:0.3613550815558344, folds 4:0.4077669902912621, folds 5:0.38441558441558443\n",
      "AVG F1: 0.3851634051638837\n",
      "--------------------------------------------------\n",
      "--------------------------------------------------\n"
     ]
    },
    {
     "name": "stderr",
     "output_type": "stream",
     "text": [
      "[I 2024-09-06 15:27:56,567] Trial 86 finished with value: 0.3975313550046451 and parameters: {'learning_rate': 0.03679708124920888, 'l2_leaf_reg': 7.362568073424737, 'depth': 6, 'scale_pos_weight': 5.289747518752932}. Best is trial 31 with value: 0.4033981076060537.\n"
     ]
    },
    {
     "name": "stdout",
     "output_type": "stream",
     "text": [
      "--------------------------------------------------\n",
      "folds 1:0.3789319678127286, folds 2:0.4096885813148789, folds 3:0.39215686274509803, folds 4:0.41114982578397213, folds 5:0.39572953736654803\n",
      "AVG F1: 0.3975313550046451\n",
      "--------------------------------------------------\n",
      "--------------------------------------------------\n"
     ]
    },
    {
     "name": "stderr",
     "output_type": "stream",
     "text": [
      "[I 2024-09-06 15:28:37,505] Trial 87 finished with value: 0.3910917768302116 and parameters: {'learning_rate': 0.029023322581428704, 'l2_leaf_reg': 9.316314462512725, 'depth': 6, 'scale_pos_weight': 5.265130662471843}. Best is trial 31 with value: 0.4033981076060537.\n"
     ]
    },
    {
     "name": "stdout",
     "output_type": "stream",
     "text": [
      "--------------------------------------------------\n",
      "folds 1:0.3774124374553252, folds 2:0.40571817562968004, folds 3:0.37508463100880163, folds 4:0.41735537190082644, folds 5:0.37988826815642457\n",
      "AVG F1: 0.3910917768302116\n",
      "--------------------------------------------------\n",
      "--------------------------------------------------\n"
     ]
    },
    {
     "name": "stderr",
     "output_type": "stream",
     "text": [
      "[I 2024-09-06 15:29:13,911] Trial 88 finished with value: 0.38950808015631644 and parameters: {'learning_rate': 0.038128293600648705, 'l2_leaf_reg': 7.475177668879192, 'depth': 5, 'scale_pos_weight': 5.488933525516564}. Best is trial 31 with value: 0.4033981076060537.\n"
     ]
    },
    {
     "name": "stdout",
     "output_type": "stream",
     "text": [
      "--------------------------------------------------\n",
      "folds 1:0.38023335621139326, folds 2:0.40651465798045605, folds 3:0.37686809616634176, folds 4:0.3976063829787234, folds 5:0.386317907444668\n",
      "AVG F1: 0.38950808015631644\n",
      "--------------------------------------------------\n",
      "--------------------------------------------------\n"
     ]
    },
    {
     "name": "stderr",
     "output_type": "stream",
     "text": [
      "[I 2024-09-06 15:29:55,249] Trial 89 finished with value: 0.3875960650977412 and parameters: {'learning_rate': 0.05608949658054753, 'l2_leaf_reg': 8.291597238020369, 'depth': 6, 'scale_pos_weight': 5.890390114682864}. Best is trial 31 with value: 0.4033981076060537.\n"
     ]
    },
    {
     "name": "stdout",
     "output_type": "stream",
     "text": [
      "--------------------------------------------------\n",
      "folds 1:0.3669985775248933, folds 2:0.41025641025641024, folds 3:0.38266666666666665, folds 4:0.41099656357388314, folds 5:0.36706210746685275\n",
      "AVG F1: 0.3875960650977412\n",
      "--------------------------------------------------\n",
      "--------------------------------------------------\n"
     ]
    },
    {
     "name": "stderr",
     "output_type": "stream",
     "text": [
      "[I 2024-09-06 15:30:36,135] Trial 90 finished with value: 0.3944292093777983 and parameters: {'learning_rate': 0.04421249122819424, 'l2_leaf_reg': 7.21810309387804, 'depth': 6, 'scale_pos_weight': 4.1442286340997425}. Best is trial 31 with value: 0.4033981076060537.\n"
     ]
    },
    {
     "name": "stdout",
     "output_type": "stream",
     "text": [
      "--------------------------------------------------\n",
      "folds 1:0.37421665174574753, folds 2:0.42096069868995634, folds 3:0.3708154506437768, folds 4:0.4142732811140122, folds 5:0.3918799646954987\n",
      "AVG F1: 0.3944292093777983\n",
      "--------------------------------------------------\n",
      "--------------------------------------------------\n"
     ]
    },
    {
     "name": "stderr",
     "output_type": "stream",
     "text": [
      "[I 2024-09-06 15:31:17,411] Trial 91 finished with value: 0.3959320957650965 and parameters: {'learning_rate': 0.03572684735495338, 'l2_leaf_reg': 6.8009831712109605, 'depth': 6, 'scale_pos_weight': 4.553334343444846}. Best is trial 31 with value: 0.4033981076060537.\n"
     ]
    },
    {
     "name": "stdout",
     "output_type": "stream",
     "text": [
      "--------------------------------------------------\n",
      "folds 1:0.3681592039800995, folds 2:0.4174603174603175, folds 3:0.3865414710485133, folds 4:0.41878980891719747, folds 5:0.38870967741935486\n",
      "AVG F1: 0.3959320957650965\n",
      "--------------------------------------------------\n",
      "--------------------------------------------------\n"
     ]
    },
    {
     "name": "stderr",
     "output_type": "stream",
     "text": [
      "[I 2024-09-06 15:31:58,197] Trial 92 finished with value: 0.3950161862612409 and parameters: {'learning_rate': 0.0477450577443992, 'l2_leaf_reg': 7.482850548902745, 'depth': 6, 'scale_pos_weight': 4.807089694373225}. Best is trial 31 with value: 0.4033981076060537.\n"
     ]
    },
    {
     "name": "stdout",
     "output_type": "stream",
     "text": [
      "--------------------------------------------------\n",
      "folds 1:0.37205523964256704, folds 2:0.4200772200772201, folds 3:0.3744360902255639, folds 4:0.41352805534204456, folds 5:0.3949843260188088\n",
      "AVG F1: 0.3950161862612409\n",
      "--------------------------------------------------\n",
      "--------------------------------------------------\n"
     ]
    },
    {
     "name": "stderr",
     "output_type": "stream",
     "text": [
      "[I 2024-09-06 15:32:39,327] Trial 93 finished with value: 0.39611369596578516 and parameters: {'learning_rate': 0.052803905739066494, 'l2_leaf_reg': 8.598933857277892, 'depth': 6, 'scale_pos_weight': 5.059823469727295}. Best is trial 31 with value: 0.4033981076060537.\n"
     ]
    },
    {
     "name": "stdout",
     "output_type": "stream",
     "text": [
      "--------------------------------------------------\n",
      "folds 1:0.3858267716535433, folds 2:0.4159758854559156, folds 3:0.3771343726800297, folds 4:0.41478129713423834, folds 5:0.38685015290519875\n",
      "AVG F1: 0.39611369596578516\n",
      "--------------------------------------------------\n",
      "--------------------------------------------------\n"
     ]
    },
    {
     "name": "stderr",
     "output_type": "stream",
     "text": [
      "[I 2024-09-06 15:33:20,559] Trial 94 finished with value: 0.3934165091089873 and parameters: {'learning_rate': 0.05992132342179872, 'l2_leaf_reg': 7.07789880996934, 'depth': 6, 'scale_pos_weight': 5.2875084821456095}. Best is trial 31 with value: 0.4033981076060537.\n"
     ]
    },
    {
     "name": "stdout",
     "output_type": "stream",
     "text": [
      "--------------------------------------------------\n",
      "folds 1:0.37732919254658387, folds 2:0.41085840058694056, folds 3:0.38244047619047616, folds 4:0.4122479462285287, folds 5:0.384206529992407\n",
      "AVG F1: 0.3934165091089873\n",
      "--------------------------------------------------\n",
      "--------------------------------------------------\n"
     ]
    },
    {
     "name": "stderr",
     "output_type": "stream",
     "text": [
      "[I 2024-09-06 15:34:01,519] Trial 95 finished with value: 0.3929950941028185 and parameters: {'learning_rate': 0.04025451096888068, 'l2_leaf_reg': 8.172385346012465, 'depth': 6, 'scale_pos_weight': 4.424472961708985}. Best is trial 31 with value: 0.4033981076060537.\n"
     ]
    },
    {
     "name": "stdout",
     "output_type": "stream",
     "text": [
      "--------------------------------------------------\n",
      "folds 1:0.3745704467353952, folds 2:0.41316872427983536, folds 3:0.38579499596448746, folds 4:0.4065040650406504, folds 5:0.38493723849372385\n",
      "AVG F1: 0.3929950941028185\n",
      "--------------------------------------------------\n",
      "--------------------------------------------------\n"
     ]
    },
    {
     "name": "stderr",
     "output_type": "stream",
     "text": [
      "[I 2024-09-06 15:34:34,458] Trial 96 finished with value: 0.39169991763174206 and parameters: {'learning_rate': 0.07076745803402132, 'l2_leaf_reg': 5.737171017674482, 'depth': 4, 'scale_pos_weight': 5.544483042955619}. Best is trial 31 with value: 0.4033981076060537.\n"
     ]
    },
    {
     "name": "stdout",
     "output_type": "stream",
     "text": [
      "--------------------------------------------------\n",
      "folds 1:0.3806179775280899, folds 2:0.4102911306702776, folds 3:0.3857046527309508, folds 4:0.3989071038251366, folds 5:0.3829787234042553\n",
      "AVG F1: 0.39169991763174206\n",
      "--------------------------------------------------\n",
      "--------------------------------------------------\n"
     ]
    },
    {
     "name": "stderr",
     "output_type": "stream",
     "text": [
      "[I 2024-09-06 15:35:15,767] Trial 97 finished with value: 0.4009762563335334 and parameters: {'learning_rate': 0.030736473388791662, 'l2_leaf_reg': 6.350984513848056, 'depth': 6, 'scale_pos_weight': 4.748744325953782}. Best is trial 31 with value: 0.4033981076060537.\n"
     ]
    },
    {
     "name": "stdout",
     "output_type": "stream",
     "text": [
      "--------------------------------------------------\n",
      "folds 1:0.379585326953748, folds 2:0.4183206106870229, folds 3:0.39730134932533734, folds 4:0.41483724451173354, folds 5:0.39483675018982534\n",
      "AVG F1: 0.4009762563335334\n",
      "--------------------------------------------------\n",
      "--------------------------------------------------\n"
     ]
    },
    {
     "name": "stderr",
     "output_type": "stream",
     "text": [
      "[I 2024-09-06 15:35:56,821] Trial 98 finished with value: 0.35670434315810284 and parameters: {'learning_rate': 0.13435931450522937, 'l2_leaf_reg': 6.320247965025152, 'depth': 6, 'scale_pos_weight': 4.936396218421441}. Best is trial 31 with value: 0.4033981076060537.\n"
     ]
    },
    {
     "name": "stdout",
     "output_type": "stream",
     "text": [
      "--------------------------------------------------\n",
      "folds 1:0.31898238747553814, folds 2:0.3755868544600939, folds 3:0.35424354243542433, folds 4:0.38446969696969696, folds 5:0.35023923444976074\n",
      "AVG F1: 0.35670434315810284\n",
      "--------------------------------------------------\n",
      "--------------------------------------------------\n"
     ]
    },
    {
     "name": "stderr",
     "output_type": "stream",
     "text": [
      "[I 2024-09-06 15:36:37,484] Trial 99 finished with value: 0.388068737877062 and parameters: {'learning_rate': 0.019806739295384557, 'l2_leaf_reg': 7.72540703733363, 'depth': 6, 'scale_pos_weight': 5.419853754621608}. Best is trial 31 with value: 0.4033981076060537.\n"
     ]
    },
    {
     "name": "stdout",
     "output_type": "stream",
     "text": [
      "--------------------------------------------------\n",
      "folds 1:0.3747426218256692, folds 2:0.40182054616384916, folds 3:0.37155669442664957, folds 4:0.41589403973509936, folds 5:0.37632978723404253\n",
      "AVG F1: 0.388068737877062\n",
      "--------------------------------------------------\n",
      "--------------------------------------------------\n"
     ]
    },
    {
     "name": "stderr",
     "output_type": "stream",
     "text": [
      "[I 2024-09-06 15:37:18,189] Trial 100 finished with value: 0.3979919971081461 and parameters: {'learning_rate': 0.029483219898714223, 'l2_leaf_reg': 7.304544952970098, 'depth': 6, 'scale_pos_weight': 3.8644406106658393}. Best is trial 31 with value: 0.4033981076060537.\n"
     ]
    },
    {
     "name": "stdout",
     "output_type": "stream",
     "text": [
      "--------------------------------------------------\n",
      "folds 1:0.36432637571157495, folds 2:0.42293233082706766, folds 3:0.3866305329719964, folds 4:0.42173112338858193, folds 5:0.39433962264150946\n",
      "AVG F1: 0.3979919971081461\n",
      "--------------------------------------------------\n",
      "--------------------------------------------------\n"
     ]
    },
    {
     "name": "stderr",
     "output_type": "stream",
     "text": [
      "[I 2024-09-06 15:38:01,363] Trial 101 finished with value: 0.39013857153209186 and parameters: {'learning_rate': 0.02992460602444794, 'l2_leaf_reg': 7.27366156444883, 'depth': 6, 'scale_pos_weight': 3.8295818780892747}. Best is trial 31 with value: 0.4033981076060537.\n"
     ]
    },
    {
     "name": "stdout",
     "output_type": "stream",
     "text": [
      "--------------------------------------------------\n",
      "folds 1:0.3688212927756654, folds 2:0.41729323308270677, folds 3:0.3822463768115942, folds 4:0.40037418147801684, folds 5:0.381957773512476\n",
      "AVG F1: 0.39013857153209186\n",
      "--------------------------------------------------\n",
      "--------------------------------------------------\n"
     ]
    },
    {
     "name": "stderr",
     "output_type": "stream",
     "text": [
      "[I 2024-09-06 15:38:45,889] Trial 102 finished with value: 0.3917276091127203 and parameters: {'learning_rate': 0.03550080348567851, 'l2_leaf_reg': 7.030158713044486, 'depth': 6, 'scale_pos_weight': 4.107582133411809}. Best is trial 31 with value: 0.4033981076060537.\n"
     ]
    },
    {
     "name": "stdout",
     "output_type": "stream",
     "text": [
      "--------------------------------------------------\n",
      "folds 1:0.36213235294117646, folds 2:0.4077669902912621, folds 3:0.38521066208082544, folds 4:0.41206896551724137, folds 5:0.3914590747330961\n",
      "AVG F1: 0.3917276091127203\n",
      "--------------------------------------------------\n",
      "--------------------------------------------------\n"
     ]
    },
    {
     "name": "stderr",
     "output_type": "stream",
     "text": [
      "[I 2024-09-06 15:39:30,348] Trial 103 finished with value: 0.39002687037851597 and parameters: {'learning_rate': 0.024342306547950734, 'l2_leaf_reg': 0.012944922412008175, 'depth': 6, 'scale_pos_weight': 5.1061476302872455}. Best is trial 31 with value: 0.4033981076060537.\n"
     ]
    },
    {
     "name": "stdout",
     "output_type": "stream",
     "text": [
      "--------------------------------------------------\n",
      "folds 1:0.36405178979436403, folds 2:0.41055718475073316, folds 3:0.37417461482024944, folds 4:0.4176470588235294, folds 5:0.3837037037037037\n",
      "AVG F1: 0.39002687037851597\n",
      "--------------------------------------------------\n",
      "--------------------------------------------------\n"
     ]
    },
    {
     "name": "stderr",
     "output_type": "stream",
     "text": [
      "[I 2024-09-06 15:40:39,171] Trial 104 finished with value: 0.3779806363967329 and parameters: {'learning_rate': 0.02556783298867001, 'l2_leaf_reg': 6.156730116256881, 'depth': 6, 'scale_pos_weight': 3.502561027973074}. Best is trial 31 with value: 0.4033981076060537.\n"
     ]
    },
    {
     "name": "stdout",
     "output_type": "stream",
     "text": [
      "--------------------------------------------------\n",
      "folds 1:0.3470899470899471, folds 2:0.407098121085595, folds 3:0.368, folds 4:0.3873598369011213, folds 5:0.38035527690700105\n",
      "AVG F1: 0.3779806363967329\n",
      "--------------------------------------------------\n",
      "--------------------------------------------------\n"
     ]
    },
    {
     "name": "stderr",
     "output_type": "stream",
     "text": [
      "[I 2024-09-06 15:41:45,927] Trial 105 finished with value: 0.3994757902490059 and parameters: {'learning_rate': 0.03168919758043677, 'l2_leaf_reg': 6.771255522853403, 'depth': 6, 'scale_pos_weight': 4.681876964642708}. Best is trial 31 with value: 0.4033981076060537.\n"
     ]
    },
    {
     "name": "stdout",
     "output_type": "stream",
     "text": [
      "--------------------------------------------------\n",
      "folds 1:0.37872683319903305, folds 2:0.42024539877300615, folds 3:0.3850837138508371, folds 4:0.41518202943454685, folds 5:0.3981409759876065\n",
      "AVG F1: 0.3994757902490059\n",
      "--------------------------------------------------\n",
      "--------------------------------------------------\n"
     ]
    },
    {
     "name": "stderr",
     "output_type": "stream",
     "text": [
      "[I 2024-09-06 15:42:48,160] Trial 106 finished with value: 0.3903804217441259 and parameters: {'learning_rate': 0.016184841879451878, 'l2_leaf_reg': 7.844377410992823, 'depth': 6, 'scale_pos_weight': 4.6443137295306185}. Best is trial 31 with value: 0.4033981076060537.\n"
     ]
    },
    {
     "name": "stdout",
     "output_type": "stream",
     "text": [
      "--------------------------------------------------\n",
      "folds 1:0.3867924528301887, folds 2:0.41660377358490563, folds 3:0.3710737764791819, folds 4:0.4009077155824508, folds 5:0.37652439024390244\n",
      "AVG F1: 0.3903804217441259\n",
      "--------------------------------------------------\n",
      "--------------------------------------------------\n"
     ]
    },
    {
     "name": "stderr",
     "output_type": "stream",
     "text": [
      "[I 2024-09-06 15:43:42,051] Trial 107 finished with value: 0.4022592568997503 and parameters: {'learning_rate': 0.03088508830542028, 'l2_leaf_reg': 6.806924883494925, 'depth': 6, 'scale_pos_weight': 4.4189843560888225}. Best is trial 31 with value: 0.4033981076060537.\n"
     ]
    },
    {
     "name": "stdout",
     "output_type": "stream",
     "text": [
      "--------------------------------------------------\n",
      "folds 1:0.38552188552188554, folds 2:0.43562753036437246, folds 3:0.3942537909018356, folds 4:0.413515687851971, folds 5:0.38237738985868663\n",
      "AVG F1: 0.4022592568997503\n",
      "--------------------------------------------------\n",
      "--------------------------------------------------\n"
     ]
    },
    {
     "name": "stderr",
     "output_type": "stream",
     "text": [
      "[I 2024-09-06 15:44:34,973] Trial 108 finished with value: 0.39134294238004275 and parameters: {'learning_rate': 0.031667098827269806, 'l2_leaf_reg': 6.795711678349396, 'depth': 6, 'scale_pos_weight': 4.330656425583771}. Best is trial 31 with value: 0.4033981076060537.\n"
     ]
    },
    {
     "name": "stdout",
     "output_type": "stream",
     "text": [
      "--------------------------------------------------\n",
      "folds 1:0.359106529209622, folds 2:0.41367806505421184, folds 3:0.3836734693877551, folds 4:0.4092792046396023, folds 5:0.39097744360902253\n",
      "AVG F1: 0.39134294238004275\n",
      "--------------------------------------------------\n",
      "--------------------------------------------------\n"
     ]
    },
    {
     "name": "stderr",
     "output_type": "stream",
     "text": [
      "[I 2024-09-06 15:45:16,631] Trial 109 finished with value: 0.3376374476409052 and parameters: {'learning_rate': 0.018809480407456388, 'l2_leaf_reg': 6.441507505851892, 'depth': 5, 'scale_pos_weight': 2.911501093230028}. Best is trial 31 with value: 0.4033981076060537.\n"
     ]
    },
    {
     "name": "stdout",
     "output_type": "stream",
     "text": [
      "--------------------------------------------------\n",
      "folds 1:0.30670103092783507, folds 2:0.3381014304291287, folds 3:0.3345367027677497, folds 4:0.3463969658659924, folds 5:0.3624511082138201\n",
      "AVG F1: 0.3376374476409052\n",
      "--------------------------------------------------\n",
      "--------------------------------------------------\n"
     ]
    },
    {
     "name": "stderr",
     "output_type": "stream",
     "text": [
      "[I 2024-09-06 15:45:54,794] Trial 110 finished with value: 0.3786534769886094 and parameters: {'learning_rate': 0.013579326755206084, 'l2_leaf_reg': 7.3698625435655485, 'depth': 4, 'scale_pos_weight': 3.840354014041546}. Best is trial 31 with value: 0.4033981076060537.\n"
     ]
    },
    {
     "name": "stdout",
     "output_type": "stream",
     "text": [
      "--------------------------------------------------\n",
      "folds 1:0.35902255639097747, folds 2:0.40230991337824834, folds 3:0.35543766578249336, folds 4:0.3944954128440367, folds 5:0.3820018365472911\n",
      "AVG F1: 0.3786534769886094\n",
      "--------------------------------------------------\n",
      "--------------------------------------------------\n"
     ]
    },
    {
     "name": "stderr",
     "output_type": "stream",
     "text": [
      "[I 2024-09-06 15:46:39,412] Trial 111 finished with value: 0.39568938630165773 and parameters: {'learning_rate': 0.03914983491101948, 'l2_leaf_reg': 7.598165087437371, 'depth': 6, 'scale_pos_weight': 4.779927729061019}. Best is trial 31 with value: 0.4033981076060537.\n"
     ]
    },
    {
     "name": "stdout",
     "output_type": "stream",
     "text": [
      "--------------------------------------------------\n",
      "folds 1:0.37329042638777155, folds 2:0.41185410334346506, folds 3:0.39046199701937406, folds 4:0.416793893129771, folds 5:0.386046511627907\n",
      "AVG F1: 0.39568938630165773\n",
      "--------------------------------------------------\n",
      "--------------------------------------------------\n"
     ]
    },
    {
     "name": "stderr",
     "output_type": "stream",
     "text": [
      "[I 2024-09-06 15:47:23,429] Trial 112 finished with value: 0.39549459194955794 and parameters: {'learning_rate': 0.03561216843889962, 'l2_leaf_reg': 6.648961153489948, 'depth': 6, 'scale_pos_weight': 4.396375599612814}. Best is trial 31 with value: 0.4033981076060537.\n"
     ]
    },
    {
     "name": "stdout",
     "output_type": "stream",
     "text": [
      "--------------------------------------------------\n",
      "folds 1:0.3718937446443873, folds 2:0.41569282136894825, folds 3:0.4022526146419952, folds 4:0.4049382716049383, folds 5:0.3826955074875208\n",
      "AVG F1: 0.39549459194955794\n",
      "--------------------------------------------------\n",
      "--------------------------------------------------\n"
     ]
    },
    {
     "name": "stderr",
     "output_type": "stream",
     "text": [
      "[I 2024-09-06 15:48:08,304] Trial 113 finished with value: 0.37038469889147413 and parameters: {'learning_rate': 0.009838935915593844, 'l2_leaf_reg': 6.941877139881518, 'depth': 6, 'scale_pos_weight': 3.6391477603942763}. Best is trial 31 with value: 0.4033981076060537.\n"
     ]
    },
    {
     "name": "stdout",
     "output_type": "stream",
     "text": [
      "--------------------------------------------------\n",
      "folds 1:0.3473684210526316, folds 2:0.38526315789473686, folds 3:0.3592233009708738, folds 4:0.3815261044176707, folds 5:0.3785425101214575\n",
      "AVG F1: 0.37038469889147413\n",
      "--------------------------------------------------\n",
      "--------------------------------------------------\n"
     ]
    },
    {
     "name": "stderr",
     "output_type": "stream",
     "text": [
      "[I 2024-09-06 15:48:52,855] Trial 114 finished with value: 0.3966370909541778 and parameters: {'learning_rate': 0.028670249363680442, 'l2_leaf_reg': 7.196587079714503, 'depth': 6, 'scale_pos_weight': 4.50484275777951}. Best is trial 31 with value: 0.4033981076060537.\n"
     ]
    },
    {
     "name": "stdout",
     "output_type": "stream",
     "text": [
      "--------------------------------------------------\n",
      "folds 1:0.37645107794361526, folds 2:0.41488519398258117, folds 3:0.3893249607535322, folds 4:0.4118116520351157, folds 5:0.3907125700560448\n",
      "AVG F1: 0.3966370909541778\n",
      "--------------------------------------------------\n",
      "--------------------------------------------------\n"
     ]
    },
    {
     "name": "stderr",
     "output_type": "stream",
     "text": [
      "[I 2024-09-06 15:49:34,530] Trial 115 finished with value: 0.3961823762412194 and parameters: {'learning_rate': 0.045091896657735386, 'l2_leaf_reg': 8.339205155454874, 'depth': 6, 'scale_pos_weight': 4.925305071746109}. Best is trial 31 with value: 0.4033981076060537.\n"
     ]
    },
    {
     "name": "stdout",
     "output_type": "stream",
     "text": [
      "--------------------------------------------------\n",
      "folds 1:0.37194641449960597, folds 2:0.408781226343679, folds 3:0.38839285714285715, folds 4:0.41572184429327286, folds 5:0.3960695389266818\n",
      "AVG F1: 0.3961823762412194\n",
      "--------------------------------------------------\n",
      "--------------------------------------------------\n"
     ]
    },
    {
     "name": "stderr",
     "output_type": "stream",
     "text": [
      "[I 2024-09-06 15:50:16,326] Trial 116 finished with value: 0.39420703690511194 and parameters: {'learning_rate': 0.025327290085897725, 'l2_leaf_reg': 8.077163513009832, 'depth': 6, 'scale_pos_weight': 4.251950528722026}. Best is trial 31 with value: 0.4033981076060537.\n"
     ]
    },
    {
     "name": "stdout",
     "output_type": "stream",
     "text": [
      "--------------------------------------------------\n",
      "folds 1:0.36695652173913046, folds 2:0.4164567590260285, folds 3:0.38095238095238093, folds 4:0.4196277495769882, folds 5:0.38704177323103156\n",
      "AVG F1: 0.39420703690511194\n",
      "--------------------------------------------------\n",
      "--------------------------------------------------\n"
     ]
    },
    {
     "name": "stderr",
     "output_type": "stream",
     "text": [
      "[I 2024-09-06 15:50:57,892] Trial 117 finished with value: 0.3966279756428786 and parameters: {'learning_rate': 0.03209798080648559, 'l2_leaf_reg': 5.9464169102620374, 'depth': 6, 'scale_pos_weight': 4.688940232926717}. Best is trial 31 with value: 0.4033981076060537.\n"
     ]
    },
    {
     "name": "stdout",
     "output_type": "stream",
     "text": [
      "--------------------------------------------------\n",
      "folds 1:0.3709677419354839, folds 2:0.4162754303599374, folds 3:0.3905053598774885, folds 4:0.41602465331278893, folds 5:0.3893666927286943\n",
      "AVG F1: 0.3966279756428786\n",
      "--------------------------------------------------\n",
      "--------------------------------------------------\n"
     ]
    },
    {
     "name": "stderr",
     "output_type": "stream",
     "text": [
      "[I 2024-09-06 15:51:39,492] Trial 118 finished with value: 0.39269258875851587 and parameters: {'learning_rate': 0.04063005064637537, 'l2_leaf_reg': 6.4299421733575235, 'depth': 6, 'scale_pos_weight': 4.0718275315063215}. Best is trial 31 with value: 0.4033981076060537.\n"
     ]
    },
    {
     "name": "stdout",
     "output_type": "stream",
     "text": [
      "--------------------------------------------------\n",
      "folds 1:0.3609845031905196, folds 2:0.4211469534050179, folds 3:0.37576821773485514, folds 4:0.41025641025641024, folds 5:0.3953068592057762\n",
      "AVG F1: 0.39269258875851587\n",
      "--------------------------------------------------\n",
      "--------------------------------------------------\n"
     ]
    },
    {
     "name": "stderr",
     "output_type": "stream",
     "text": [
      "[I 2024-09-06 15:52:20,988] Trial 119 finished with value: 0.3939588686755041 and parameters: {'learning_rate': 0.022760739776271167, 'l2_leaf_reg': 8.491928996537531, 'depth': 6, 'scale_pos_weight': 5.1953008393032745}. Best is trial 31 with value: 0.4033981076060537.\n"
     ]
    },
    {
     "name": "stdout",
     "output_type": "stream",
     "text": [
      "--------------------------------------------------\n",
      "folds 1:0.37212643678160917, folds 2:0.4129993229519296, folds 3:0.3832092078537576, folds 4:0.4188626907073509, folds 5:0.3825966850828729\n",
      "AVG F1: 0.3939588686755041\n",
      "--------------------------------------------------\n",
      "--------------------------------------------------\n"
     ]
    },
    {
     "name": "stderr",
     "output_type": "stream",
     "text": [
      "[I 2024-09-06 15:52:58,256] Trial 120 finished with value: 0.39395677571328447 and parameters: {'learning_rate': 0.05342850508512852, 'l2_leaf_reg': 7.455852576235232, 'depth': 5, 'scale_pos_weight': 4.882395923622376}. Best is trial 31 with value: 0.4033981076060537.\n"
     ]
    },
    {
     "name": "stdout",
     "output_type": "stream",
     "text": [
      "--------------------------------------------------\n",
      "folds 1:0.369969040247678, folds 2:0.4147257700976709, folds 3:0.3932993445010925, folds 4:0.4086826347305389, folds 5:0.38310708898944196\n",
      "AVG F1: 0.39395677571328447\n",
      "--------------------------------------------------\n",
      "--------------------------------------------------\n"
     ]
    },
    {
     "name": "stderr",
     "output_type": "stream",
     "text": [
      "[I 2024-09-06 15:53:39,984] Trial 121 finished with value: 0.39352648412934454 and parameters: {'learning_rate': 0.0466733687800013, 'l2_leaf_reg': 6.1740621999123135, 'depth': 6, 'scale_pos_weight': 5.368936453156469}. Best is trial 31 with value: 0.4033981076060537.\n"
     ]
    },
    {
     "name": "stdout",
     "output_type": "stream",
     "text": [
      "--------------------------------------------------\n",
      "folds 1:0.3752825923134891, folds 2:0.409250175192712, folds 3:0.3842364532019704, folds 4:0.41588447653429605, folds 5:0.3829787234042553\n",
      "AVG F1: 0.39352648412934454\n",
      "--------------------------------------------------\n",
      "--------------------------------------------------\n"
     ]
    },
    {
     "name": "stderr",
     "output_type": "stream",
     "text": [
      "[I 2024-09-06 15:54:21,121] Trial 122 finished with value: 0.4002645125810248 and parameters: {'learning_rate': 0.03634141270911096, 'l2_leaf_reg': 6.91639893369745, 'depth': 6, 'scale_pos_weight': 5.0229842991481615}. Best is trial 31 with value: 0.4033981076060537.\n"
     ]
    },
    {
     "name": "stdout",
     "output_type": "stream",
     "text": [
      "--------------------------------------------------\n",
      "folds 1:0.38396299151888974, folds 2:0.41867250182348653, folds 3:0.3948681397006415, folds 4:0.41267501842299187, folds 5:0.39114391143911437\n",
      "AVG F1: 0.4002645125810248\n",
      "--------------------------------------------------\n",
      "--------------------------------------------------\n"
     ]
    },
    {
     "name": "stderr",
     "output_type": "stream",
     "text": [
      "[I 2024-09-06 15:55:01,995] Trial 123 finished with value: 0.39722597845164265 and parameters: {'learning_rate': 0.03613927953822489, 'l2_leaf_reg': 6.709802662037903, 'depth': 6, 'scale_pos_weight': 4.578449760511505}. Best is trial 31 with value: 0.4033981076060537.\n"
     ]
    },
    {
     "name": "stdout",
     "output_type": "stream",
     "text": [
      "--------------------------------------------------\n",
      "folds 1:0.36872427983539097, folds 2:0.42664551942902457, folds 3:0.4, folds 4:0.4105011933174224, folds 5:0.3802588996763754\n",
      "AVG F1: 0.39722597845164265\n",
      "--------------------------------------------------\n",
      "--------------------------------------------------\n"
     ]
    },
    {
     "name": "stderr",
     "output_type": "stream",
     "text": [
      "[I 2024-09-06 15:55:43,375] Trial 124 finished with value: 0.3937211122646384 and parameters: {'learning_rate': 0.03427566515159744, 'l2_leaf_reg': 6.832202587596958, 'depth': 6, 'scale_pos_weight': 4.557900422366121}. Best is trial 31 with value: 0.4033981076060537.\n"
     ]
    },
    {
     "name": "stdout",
     "output_type": "stream",
     "text": [
      "--------------------------------------------------\n",
      "folds 1:0.3773898586866168, folds 2:0.41509433962264153, folds 3:0.38580246913580246, folds 4:0.40348101265822783, folds 5:0.3868378812199037\n",
      "AVG F1: 0.3937211122646384\n",
      "--------------------------------------------------\n",
      "--------------------------------------------------\n"
     ]
    },
    {
     "name": "stderr",
     "output_type": "stream",
     "text": [
      "[I 2024-09-06 15:56:24,531] Trial 125 finished with value: 0.39711753326595706 and parameters: {'learning_rate': 0.02858051549901139, 'l2_leaf_reg': 6.605313643593951, 'depth': 6, 'scale_pos_weight': 4.770060191972045}. Best is trial 31 with value: 0.4033981076060537.\n"
     ]
    },
    {
     "name": "stdout",
     "output_type": "stream",
     "text": [
      "--------------------------------------------------\n",
      "folds 1:0.37176470588235294, folds 2:0.4149812734082397, folds 3:0.38847858197932056, folds 4:0.42168674698795183, folds 5:0.3886763580719204\n",
      "AVG F1: 0.39711753326595706\n",
      "--------------------------------------------------\n",
      "--------------------------------------------------\n"
     ]
    },
    {
     "name": "stderr",
     "output_type": "stream",
     "text": [
      "[I 2024-09-06 15:57:05,866] Trial 126 finished with value: 0.3872629670399194 and parameters: {'learning_rate': 0.037467896422969285, 'l2_leaf_reg': 7.042639759686185, 'depth': 6, 'scale_pos_weight': 3.957831176121598}. Best is trial 31 with value: 0.4033981076060537.\n"
     ]
    },
    {
     "name": "stdout",
     "output_type": "stream",
     "text": [
      "--------------------------------------------------\n",
      "folds 1:0.36261682242990656, folds 2:0.40797824116047143, folds 3:0.38146167557932265, folds 4:0.40867992766726946, folds 5:0.3755781683626272\n",
      "AVG F1: 0.3872629670399194\n",
      "--------------------------------------------------\n",
      "--------------------------------------------------\n"
     ]
    },
    {
     "name": "stderr",
     "output_type": "stream",
     "text": [
      "[I 2024-09-06 15:57:46,945] Trial 127 finished with value: 0.3960305556559792 and parameters: {'learning_rate': 0.04214011811903593, 'l2_leaf_reg': 6.809336774746223, 'depth': 6, 'scale_pos_weight': 4.231894814883301}. Best is trial 31 with value: 0.4033981076060537.\n"
     ]
    },
    {
     "name": "stdout",
     "output_type": "stream",
     "text": [
      "--------------------------------------------------\n",
      "folds 1:0.37056737588652483, folds 2:0.42214532871972316, folds 3:0.38344594594594594, folds 4:0.41320914479254867, folds 5:0.39078498293515357\n",
      "AVG F1: 0.3960305556559792\n",
      "--------------------------------------------------\n",
      "--------------------------------------------------\n"
     ]
    },
    {
     "name": "stderr",
     "output_type": "stream",
     "text": [
      "[I 2024-09-06 15:58:29,070] Trial 128 finished with value: 0.3960727551386039 and parameters: {'learning_rate': 0.03132518111151571, 'l2_leaf_reg': 7.214323818435931, 'depth': 6, 'scale_pos_weight': 4.408538212634605}. Best is trial 31 with value: 0.4033981076060537.\n"
     ]
    },
    {
     "name": "stdout",
     "output_type": "stream",
     "text": [
      "--------------------------------------------------\n",
      "folds 1:0.3777403035413153, folds 2:0.41401792991035047, folds 3:0.3905511811023622, folds 4:0.4141331142152835, folds 5:0.38392124692370794\n",
      "AVG F1: 0.3960727551386039\n",
      "--------------------------------------------------\n",
      "--------------------------------------------------\n"
     ]
    },
    {
     "name": "stderr",
     "output_type": "stream",
     "text": [
      "[I 2024-09-06 15:59:11,823] Trial 129 finished with value: 0.3915844308847532 and parameters: {'learning_rate': 0.022259162303089025, 'l2_leaf_reg': 6.481649494983497, 'depth': 6, 'scale_pos_weight': 4.652684882933254}. Best is trial 31 with value: 0.4033981076060537.\n"
     ]
    },
    {
     "name": "stdout",
     "output_type": "stream",
     "text": [
      "--------------------------------------------------\n",
      "folds 1:0.37658227848101267, folds 2:0.4204112718964204, folds 3:0.3810952738184546, folds 4:0.39939024390243905, folds 5:0.3804430863254393\n",
      "AVG F1: 0.3915844308847532\n",
      "--------------------------------------------------\n",
      "--------------------------------------------------\n"
     ]
    },
    {
     "name": "stderr",
     "output_type": "stream",
     "text": [
      "[I 2024-09-06 15:59:53,743] Trial 130 finished with value: 0.3933050505964545 and parameters: {'learning_rate': 0.03572068313687442, 'l2_leaf_reg': 6.974939752632537, 'depth': 6, 'scale_pos_weight': 5.117524382436425}. Best is trial 31 with value: 0.4033981076060537.\n"
     ]
    },
    {
     "name": "stdout",
     "output_type": "stream",
     "text": [
      "--------------------------------------------------\n",
      "folds 1:0.36295743091859595, folds 2:0.42196531791907516, folds 3:0.3805436337625179, folds 4:0.4153957879448075, folds 5:0.385663082437276\n",
      "AVG F1: 0.3933050505964545\n",
      "--------------------------------------------------\n",
      "--------------------------------------------------\n"
     ]
    },
    {
     "name": "stderr",
     "output_type": "stream",
     "text": [
      "[I 2024-09-06 16:00:35,243] Trial 131 finished with value: 0.3914368289473433 and parameters: {'learning_rate': 0.02916417386242781, 'l2_leaf_reg': 6.698462832177612, 'depth': 6, 'scale_pos_weight': 4.8415656706601204}. Best is trial 31 with value: 0.4033981076060537.\n"
     ]
    },
    {
     "name": "stdout",
     "output_type": "stream",
     "text": [
      "--------------------------------------------------\n",
      "folds 1:0.372960372960373, folds 2:0.41276911655530807, folds 3:0.37518248175182484, folds 4:0.41102010424422936, folds 5:0.3852520692249812\n",
      "AVG F1: 0.3914368289473433\n",
      "--------------------------------------------------\n",
      "--------------------------------------------------\n"
     ]
    },
    {
     "name": "stderr",
     "output_type": "stream",
     "text": [
      "[I 2024-09-06 16:01:16,899] Trial 132 finished with value: 0.39509295462672095 and parameters: {'learning_rate': 0.027532292453724645, 'l2_leaf_reg': 6.592182578730526, 'depth': 6, 'scale_pos_weight': 4.759818680430163}. Best is trial 31 with value: 0.4033981076060537.\n"
     ]
    },
    {
     "name": "stdout",
     "output_type": "stream",
     "text": [
      "--------------------------------------------------\n",
      "folds 1:0.3721657544956998, folds 2:0.4158563949139865, folds 3:0.3940740740740741, folds 4:0.40898876404494383, folds 5:0.38437978560490044\n",
      "AVG F1: 0.39509295462672095\n",
      "--------------------------------------------------\n",
      "--------------------------------------------------\n"
     ]
    },
    {
     "name": "stderr",
     "output_type": "stream",
     "text": [
      "[I 2024-09-06 16:02:02,780] Trial 133 finished with value: 0.394563676676471 and parameters: {'learning_rate': 0.040526452761615234, 'l2_leaf_reg': 9.796116270594203, 'depth': 6, 'scale_pos_weight': 4.5524308766948645}. Best is trial 31 with value: 0.4033981076060537.\n"
     ]
    },
    {
     "name": "stdout",
     "output_type": "stream",
     "text": [
      "--------------------------------------------------\n",
      "folds 1:0.3700588730025231, folds 2:0.4216388225934765, folds 3:0.3832807570977918, folds 4:0.4167324388318863, folds 5:0.3811074918566775\n",
      "AVG F1: 0.394563676676471\n",
      "--------------------------------------------------\n",
      "--------------------------------------------------\n"
     ]
    },
    {
     "name": "stderr",
     "output_type": "stream",
     "text": [
      "[I 2024-09-06 16:02:46,404] Trial 134 finished with value: 0.39686683000594053 and parameters: {'learning_rate': 0.03317360763057796, 'l2_leaf_reg': 6.377136427272006, 'depth': 6, 'scale_pos_weight': 5.009428341250757}. Best is trial 31 with value: 0.4033981076060537.\n"
     ]
    },
    {
     "name": "stdout",
     "output_type": "stream",
     "text": [
      "--------------------------------------------------\n",
      "folds 1:0.3774733637747336, folds 2:0.41884057971014493, folds 3:0.38944365192582026, folds 4:0.42066957787481807, folds 5:0.37790697674418605\n",
      "AVG F1: 0.39686683000594053\n",
      "--------------------------------------------------\n",
      "--------------------------------------------------\n"
     ]
    },
    {
     "name": "stderr",
     "output_type": "stream",
     "text": [
      "[I 2024-09-06 16:03:29,761] Trial 135 finished with value: 0.39096828841579684 and parameters: {'learning_rate': 0.02617898979157251, 'l2_leaf_reg': 7.339463738536224, 'depth': 6, 'scale_pos_weight': 5.228453299589276}. Best is trial 31 with value: 0.4033981076060537.\n"
     ]
    },
    {
     "name": "stdout",
     "output_type": "stream",
     "text": [
      "--------------------------------------------------\n",
      "folds 1:0.37312365975696926, folds 2:0.4097693351424695, folds 3:0.37812288993923027, folds 4:0.41099656357388314, folds 5:0.3828289936664321\n",
      "AVG F1: 0.39096828841579684\n",
      "--------------------------------------------------\n",
      "--------------------------------------------------\n"
     ]
    },
    {
     "name": "stderr",
     "output_type": "stream",
     "text": [
      "[I 2024-09-06 16:04:13,060] Trial 136 finished with value: 0.3906478492940468 and parameters: {'learning_rate': 0.048967319766067975, 'l2_leaf_reg': 5.517508009852564, 'depth': 6, 'scale_pos_weight': 4.7641645987907255}. Best is trial 31 with value: 0.4033981076060537.\n"
     ]
    },
    {
     "name": "stdout",
     "output_type": "stream",
     "text": [
      "--------------------------------------------------\n",
      "folds 1:0.36910569105691055, folds 2:0.40437158469945356, folds 3:0.37509727626459144, folds 4:0.41594996090695857, folds 5:0.3887147335423197\n",
      "AVG F1: 0.3906478492940468\n",
      "--------------------------------------------------\n",
      "--------------------------------------------------\n"
     ]
    },
    {
     "name": "stderr",
     "output_type": "stream",
     "text": [
      "[I 2024-09-06 16:04:56,448] Trial 137 finished with value: 0.3626304828628812 and parameters: {'learning_rate': 0.018971308538422226, 'l2_leaf_reg': 7.650940961083368, 'depth': 6, 'scale_pos_weight': 3.3283297976416035}. Best is trial 31 with value: 0.4033981076060537.\n"
     ]
    },
    {
     "name": "stdout",
     "output_type": "stream",
     "text": [
      "--------------------------------------------------\n",
      "folds 1:0.3314415437003405, folds 2:0.3836549375709421, folds 3:0.34691745036572624, folds 4:0.3673913043478261, folds 5:0.3837471783295711\n",
      "AVG F1: 0.3626304828628812\n",
      "--------------------------------------------------\n",
      "--------------------------------------------------\n"
     ]
    },
    {
     "name": "stderr",
     "output_type": "stream",
     "text": [
      "[I 2024-09-06 16:05:29,936] Trial 138 finished with value: 0.38842882938043005 and parameters: {'learning_rate': 0.10822375715015903, 'l2_leaf_reg': 5.884378289176462, 'depth': 4, 'scale_pos_weight': 4.45414121194167}. Best is trial 31 with value: 0.4033981076060537.\n"
     ]
    },
    {
     "name": "stdout",
     "output_type": "stream",
     "text": [
      "--------------------------------------------------\n",
      "folds 1:0.3633217993079585, folds 2:0.4099585062240664, folds 3:0.39241549876339654, folds 4:0.40601503759398494, folds 5:0.37043330501274424\n",
      "AVG F1: 0.38842882938043005\n",
      "--------------------------------------------------\n",
      "--------------------------------------------------\n"
     ]
    },
    {
     "name": "stderr",
     "output_type": "stream",
     "text": [
      "[I 2024-09-06 16:06:12,746] Trial 139 finished with value: 0.39805384437795677 and parameters: {'learning_rate': 0.037115176016659895, 'l2_leaf_reg': 7.108313627689076, 'depth': 6, 'scale_pos_weight': 4.256338271272233}. Best is trial 31 with value: 0.4033981076060537.\n"
     ]
    },
    {
     "name": "stdout",
     "output_type": "stream",
     "text": [
      "--------------------------------------------------\n",
      "folds 1:0.3714036617262424, folds 2:0.4293015332197615, folds 3:0.3946711074104913, folds 4:0.4120603015075377, folds 5:0.3828326180257511\n",
      "AVG F1: 0.39805384437795677\n",
      "--------------------------------------------------\n",
      "--------------------------------------------------\n"
     ]
    },
    {
     "name": "stderr",
     "output_type": "stream",
     "text": [
      "[I 2024-09-06 16:06:56,138] Trial 140 finished with value: 0.38852946527363 and parameters: {'learning_rate': 0.0383447198117424, 'l2_leaf_reg': 8.852739455301238, 'depth': 6, 'scale_pos_weight': 4.12281893921036}. Best is trial 31 with value: 0.4033981076060537.\n"
     ]
    },
    {
     "name": "stdout",
     "output_type": "stream",
     "text": [
      "--------------------------------------------------\n",
      "folds 1:0.3567567567567568, folds 2:0.4049733570159858, folds 3:0.381201044386423, folds 4:0.4118158123370982, folds 5:0.3879003558718861\n",
      "AVG F1: 0.38852946527363\n",
      "--------------------------------------------------\n",
      "--------------------------------------------------\n"
     ]
    },
    {
     "name": "stderr",
     "output_type": "stream",
     "text": [
      "[I 2024-09-06 16:07:39,652] Trial 141 finished with value: 0.39032859542323106 and parameters: {'learning_rate': 0.04245363104061365, 'l2_leaf_reg': 7.104505336401334, 'depth': 6, 'scale_pos_weight': 4.248110485544607}. Best is trial 31 with value: 0.4033981076060537.\n"
     ]
    },
    {
     "name": "stdout",
     "output_type": "stream",
     "text": [
      "--------------------------------------------------\n",
      "folds 1:0.36574487065120426, folds 2:0.42356959863364646, folds 3:0.3779264214046823, folds 4:0.41332194705380015, folds 5:0.3710801393728223\n",
      "AVG F1: 0.39032859542323106\n",
      "--------------------------------------------------\n",
      "--------------------------------------------------\n"
     ]
    },
    {
     "name": "stderr",
     "output_type": "stream",
     "text": [
      "[I 2024-09-06 16:08:27,588] Trial 142 finished with value: 0.39582009045429795 and parameters: {'learning_rate': 0.03070149941189375, 'l2_leaf_reg': 6.866181222263674, 'depth': 6, 'scale_pos_weight': 4.614432463125605}. Best is trial 31 with value: 0.4033981076060537.\n"
     ]
    },
    {
     "name": "stdout",
     "output_type": "stream",
     "text": [
      "--------------------------------------------------\n",
      "folds 1:0.38599348534201955, folds 2:0.4135753749013418, folds 3:0.3833718244803695, folds 4:0.41453982985305493, folds 5:0.38161993769470404\n",
      "AVG F1: 0.39582009045429795\n",
      "--------------------------------------------------\n",
      "--------------------------------------------------\n"
     ]
    },
    {
     "name": "stderr",
     "output_type": "stream",
     "text": [
      "[I 2024-09-06 16:09:15,211] Trial 143 finished with value: 0.39567334792718734 and parameters: {'learning_rate': 0.03607050187302435, 'l2_leaf_reg': 6.596180573078106, 'depth': 6, 'scale_pos_weight': 4.337706777697302}. Best is trial 31 with value: 0.4033981076060537.\n"
     ]
    },
    {
     "name": "stdout",
     "output_type": "stream",
     "text": [
      "--------------------------------------------------\n",
      "folds 1:0.37445319335083116, folds 2:0.4226289517470882, folds 3:0.385502471169687, folds 4:0.42036124794745483, folds 5:0.37542087542087543\n",
      "AVG F1: 0.39567334792718734\n",
      "--------------------------------------------------\n",
      "--------------------------------------------------\n"
     ]
    },
    {
     "name": "stderr",
     "output_type": "stream",
     "text": [
      "[I 2024-09-06 16:10:01,783] Trial 144 finished with value: 0.3939798117022662 and parameters: {'learning_rate': 0.02428829182334506, 'l2_leaf_reg': 7.465236174853491, 'depth': 6, 'scale_pos_weight': 4.9161330634176625}. Best is trial 31 with value: 0.4033981076060537.\n"
     ]
    },
    {
     "name": "stdout",
     "output_type": "stream",
     "text": [
      "--------------------------------------------------\n",
      "folds 1:0.3704268292682927, folds 2:0.41893830703012913, folds 3:0.38791286015460297, folds 4:0.41697147037307974, folds 5:0.37564959168522644\n",
      "AVG F1: 0.3939798117022662\n",
      "--------------------------------------------------\n",
      "--------------------------------------------------\n"
     ]
    },
    {
     "name": "stderr",
     "output_type": "stream",
     "text": [
      "[I 2024-09-06 16:10:47,415] Trial 145 finished with value: 0.3904122883682591 and parameters: {'learning_rate': 0.04528780220456587, 'l2_leaf_reg': 6.258319840616803, 'depth': 6, 'scale_pos_weight': 3.9079286037917678}. Best is trial 31 with value: 0.4033981076060537.\n"
     ]
    },
    {
     "name": "stdout",
     "output_type": "stream",
     "text": [
      "--------------------------------------------------\n",
      "folds 1:0.35589941972920697, folds 2:0.40630797773654914, folds 3:0.38077969174977333, folds 4:0.41171088746569073, folds 5:0.3973634651600753\n",
      "AVG F1: 0.3904122883682591\n",
      "--------------------------------------------------\n",
      "--------------------------------------------------\n"
     ]
    },
    {
     "name": "stderr",
     "output_type": "stream",
     "text": [
      "[I 2024-09-06 16:11:32,750] Trial 146 finished with value: 0.38995932692508223 and parameters: {'learning_rate': 0.03343341127708498, 'l2_leaf_reg': 7.093753997189882, 'depth': 6, 'scale_pos_weight': 5.691120069438868}. Best is trial 31 with value: 0.4033981076060537.\n"
     ]
    },
    {
     "name": "stdout",
     "output_type": "stream",
     "text": [
      "--------------------------------------------------\n",
      "folds 1:0.3806228373702422, folds 2:0.3966516419832582, folds 3:0.3793548387096774, folds 4:0.41278295605858856, folds 5:0.3803843605036448\n",
      "AVG F1: 0.38995932692508223\n",
      "--------------------------------------------------\n",
      "--------------------------------------------------\n"
     ]
    },
    {
     "name": "stderr",
     "output_type": "stream",
     "text": [
      "[I 2024-09-06 16:12:18,088] Trial 147 finished with value: 0.38806529388202615 and parameters: {'learning_rate': 0.029180521102772472, 'l2_leaf_reg': 6.747208659185172, 'depth': 6, 'scale_pos_weight': 3.7255943285090027}. Best is trial 31 with value: 0.4033981076060537.\n"
     ]
    },
    {
     "name": "stdout",
     "output_type": "stream",
     "text": [
      "--------------------------------------------------\n",
      "folds 1:0.35564435564435565, folds 2:0.42359767891682787, folds 3:0.3776744186046512, folds 4:0.40076701821668265, folds 5:0.3826429980276134\n",
      "AVG F1: 0.38806529388202615\n",
      "--------------------------------------------------\n",
      "--------------------------------------------------\n"
     ]
    },
    {
     "name": "stderr",
     "output_type": "stream",
     "text": [
      "[I 2024-09-06 16:13:04,057] Trial 148 finished with value: 0.3959769918404771 and parameters: {'learning_rate': 0.03845521738926188, 'l2_leaf_reg': 6.972972362287652, 'depth': 6, 'scale_pos_weight': 5.048748569657553}. Best is trial 31 with value: 0.4033981076060537.\n"
     ]
    },
    {
     "name": "stdout",
     "output_type": "stream",
     "text": [
      "--------------------------------------------------\n",
      "folds 1:0.37480798771121354, folds 2:0.41429613420860684, folds 3:0.38639652677279307, folds 4:0.41623616236162364, folds 5:0.38814814814814813\n",
      "AVG F1: 0.3959769918404771\n",
      "--------------------------------------------------\n",
      "--------------------------------------------------\n"
     ]
    },
    {
     "name": "stderr",
     "output_type": "stream",
     "text": [
      "[I 2024-09-06 16:13:49,670] Trial 149 finished with value: 0.39427902298011486 and parameters: {'learning_rate': 0.050594958914065735, 'l2_leaf_reg': 7.754827474286498, 'depth': 6, 'scale_pos_weight': 4.74288539921639}. Best is trial 31 with value: 0.4033981076060537.\n"
     ]
    },
    {
     "name": "stdout",
     "output_type": "stream",
     "text": [
      "--------------------------------------------------\n",
      "folds 1:0.3778877887788779, folds 2:0.40793650793650793, folds 3:0.390282131661442, folds 4:0.4127490039840637, folds 5:0.3825396825396825\n",
      "AVG F1: 0.39427902298011486\n",
      "--------------------------------------------------\n",
      "--------------------------------------------------\n"
     ]
    },
    {
     "name": "stderr",
     "output_type": "stream",
     "text": [
      "[I 2024-09-06 16:14:35,111] Trial 150 finished with value: 0.1055573714661775 and parameters: {'learning_rate': 0.04148919297036821, 'l2_leaf_reg': 7.320390161997471, 'depth': 6, 'scale_pos_weight': 1.1240615276941517}. Best is trial 31 with value: 0.4033981076060537.\n"
     ]
    },
    {
     "name": "stdout",
     "output_type": "stream",
     "text": [
      "--------------------------------------------------\n",
      "folds 1:0.10438413361169102, folds 2:0.1257606490872211, folds 3:0.1125, folds 4:0.05905511811023622, folds 5:0.12608695652173912\n",
      "AVG F1: 0.1055573714661775\n",
      "--------------------------------------------------\n",
      "--------------------------------------------------\n"
     ]
    },
    {
     "name": "stderr",
     "output_type": "stream",
     "text": [
      "[I 2024-09-06 16:15:20,155] Trial 151 finished with value: 0.3997113844240058 and parameters: {'learning_rate': 0.04395780020276835, 'l2_leaf_reg': 6.602299356706509, 'depth': 6, 'scale_pos_weight': 4.987027954151624}. Best is trial 31 with value: 0.4033981076060537.\n"
     ]
    },
    {
     "name": "stdout",
     "output_type": "stream",
     "text": [
      "--------------------------------------------------\n",
      "folds 1:0.3899765074393109, folds 2:0.414050822122571, folds 3:0.3832960477255779, folds 4:0.41940298507462687, folds 5:0.3918305597579425\n",
      "AVG F1: 0.3997113844240058\n",
      "--------------------------------------------------\n",
      "--------------------------------------------------\n"
     ]
    },
    {
     "name": "stderr",
     "output_type": "stream",
     "text": [
      "[I 2024-09-06 16:16:05,427] Trial 152 finished with value: 0.3968643803205662 and parameters: {'learning_rate': 0.03618142257993995, 'l2_leaf_reg': 6.507102244436707, 'depth': 6, 'scale_pos_weight': 4.500994012037092}. Best is trial 31 with value: 0.4033981076060537.\n"
     ]
    },
    {
     "name": "stdout",
     "output_type": "stream",
     "text": [
      "--------------------------------------------------\n",
      "folds 1:0.3795986622073579, folds 2:0.4253968253968254, folds 3:0.3898170246618934, folds 4:0.40614886731391586, folds 5:0.3833605220228385\n",
      "AVG F1: 0.3968643803205662\n",
      "--------------------------------------------------\n",
      "--------------------------------------------------\n"
     ]
    },
    {
     "name": "stderr",
     "output_type": "stream",
     "text": [
      "[I 2024-09-06 16:16:50,285] Trial 153 finished with value: 0.39638456570336544 and parameters: {'learning_rate': 0.04478270498860424, 'l2_leaf_reg': 6.11311132862704, 'depth': 6, 'scale_pos_weight': 5.2195200620751905}. Best is trial 31 with value: 0.4033981076060537.\n"
     ]
    },
    {
     "name": "stdout",
     "output_type": "stream",
     "text": [
      "--------------------------------------------------\n",
      "folds 1:0.38572513287775245, folds 2:0.40813464235624125, folds 3:0.38390966831333806, folds 4:0.41490138787436087, folds 5:0.38925199709513436\n",
      "AVG F1: 0.39638456570336544\n",
      "--------------------------------------------------\n",
      "--------------------------------------------------\n"
     ]
    },
    {
     "name": "stderr",
     "output_type": "stream",
     "text": [
      "[I 2024-09-06 16:17:57,301] Trial 154 finished with value: 0.3925202765373746 and parameters: {'learning_rate': 0.026715791084333966, 'l2_leaf_reg': 6.745515309460705, 'depth': 6, 'scale_pos_weight': 4.864404586497872}. Best is trial 31 with value: 0.4033981076060537.\n"
     ]
    },
    {
     "name": "stdout",
     "output_type": "stream",
     "text": [
      "--------------------------------------------------\n",
      "folds 1:0.3689469638739431, folds 2:0.4105960264900662, folds 3:0.38672438672438675, folds 4:0.4181951577402788, folds 5:0.37813884785819796\n",
      "AVG F1: 0.3925202765373746\n",
      "--------------------------------------------------\n",
      "--------------------------------------------------\n"
     ]
    },
    {
     "name": "stderr",
     "output_type": "stream",
     "text": [
      "[I 2024-09-06 16:19:00,019] Trial 155 finished with value: 0.3927007036117608 and parameters: {'learning_rate': 0.03362052228117866, 'l2_leaf_reg': 0.5667795237608937, 'depth': 6, 'scale_pos_weight': 4.97888237733484}. Best is trial 31 with value: 0.4033981076060537.\n"
     ]
    },
    {
     "name": "stdout",
     "output_type": "stream",
     "text": [
      "--------------------------------------------------\n",
      "folds 1:0.3657587548638132, folds 2:0.411144578313253, folds 3:0.3917828319882612, folds 4:0.400300978179082, folds 5:0.3945163747143945\n",
      "AVG F1: 0.3927007036117608\n",
      "--------------------------------------------------\n",
      "--------------------------------------------------\n"
     ]
    },
    {
     "name": "stderr",
     "output_type": "stream",
     "text": [
      "[I 2024-09-06 16:20:02,139] Trial 156 finished with value: 0.34609330206251715 and parameters: {'learning_rate': 0.1751625372104793, 'l2_leaf_reg': 9.153208201138494, 'depth': 6, 'scale_pos_weight': 4.645144775833067}. Best is trial 31 with value: 0.4033981076060537.\n"
     ]
    },
    {
     "name": "stdout",
     "output_type": "stream",
     "text": [
      "--------------------------------------------------\n",
      "folds 1:0.31359649122807015, folds 2:0.3712820512820513, folds 3:0.34580384226491406, folds 4:0.3624868282402529, folds 5:0.3372972972972973\n",
      "AVG F1: 0.34609330206251715\n",
      "--------------------------------------------------\n",
      "--------------------------------------------------\n"
     ]
    },
    {
     "name": "stderr",
     "output_type": "stream",
     "text": [
      "[I 2024-09-06 16:21:10,434] Trial 157 finished with value: 0.39146041980153184 and parameters: {'learning_rate': 0.030794247515284298, 'l2_leaf_reg': 6.3837657015847205, 'depth': 6, 'scale_pos_weight': 5.488376047106453}. Best is trial 31 with value: 0.4033981076060537.\n"
     ]
    },
    {
     "name": "stdout",
     "output_type": "stream",
     "text": [
      "--------------------------------------------------\n",
      "folds 1:0.37385804638088543, folds 2:0.4100197758734344, folds 3:0.3801980198019802, folds 4:0.4091829844699527, folds 5:0.38404327248140635\n",
      "AVG F1: 0.39146041980153184\n",
      "--------------------------------------------------\n",
      "--------------------------------------------------\n"
     ]
    },
    {
     "name": "stderr",
     "output_type": "stream",
     "text": [
      "[I 2024-09-06 16:22:17,706] Trial 158 finished with value: 0.39184174705218816 and parameters: {'learning_rate': 0.020717067703742507, 'l2_leaf_reg': 6.953758141678501, 'depth': 6, 'scale_pos_weight': 5.117454629956301}. Best is trial 31 with value: 0.4033981076060537.\n"
     ]
    },
    {
     "name": "stdout",
     "output_type": "stream",
     "text": [
      "--------------------------------------------------\n",
      "folds 1:0.38122743682310467, folds 2:0.4110726643598616, folds 3:0.37551020408163266, folds 4:0.4144645340751043, folds 5:0.3769338959212377\n",
      "AVG F1: 0.39184174705218816\n",
      "--------------------------------------------------\n",
      "--------------------------------------------------\n"
     ]
    },
    {
     "name": "stderr",
     "output_type": "stream",
     "text": [
      "[I 2024-09-06 16:23:20,124] Trial 159 finished with value: 0.38827541006422756 and parameters: {'learning_rate': 0.051563282101417994, 'l2_leaf_reg': 7.228263407243466, 'depth': 6, 'scale_pos_weight': 4.046938507115897}. Best is trial 31 with value: 0.4033981076060537.\n"
     ]
    },
    {
     "name": "stdout",
     "output_type": "stream",
     "text": [
      "--------------------------------------------------\n",
      "folds 1:0.35787511649580617, folds 2:0.4242973708068903, folds 3:0.37866666666666665, folds 4:0.40106951871657753, folds 5:0.3794683776351971\n",
      "AVG F1: 0.38827541006422756\n",
      "--------------------------------------------------\n",
      "--------------------------------------------------\n"
     ]
    },
    {
     "name": "stderr",
     "output_type": "stream",
     "text": [
      "[I 2024-09-06 16:24:27,768] Trial 160 finished with value: 0.39341633691005556 and parameters: {'learning_rate': 0.039971803486547254, 'l2_leaf_reg': 7.9401509266152965, 'depth': 6, 'scale_pos_weight': 5.321147027441968}. Best is trial 31 with value: 0.4033981076060537.\n"
     ]
    },
    {
     "name": "stdout",
     "output_type": "stream",
     "text": [
      "--------------------------------------------------\n",
      "folds 1:0.3817243920412675, folds 2:0.40950384346610763, folds 3:0.38035961272475793, folds 4:0.40950384346610763, folds 5:0.38598999285203717\n",
      "AVG F1: 0.39341633691005556\n",
      "--------------------------------------------------\n",
      "--------------------------------------------------\n"
     ]
    },
    {
     "name": "stderr",
     "output_type": "stream",
     "text": [
      "[I 2024-09-06 16:25:34,767] Trial 161 finished with value: 0.3986077659756231 and parameters: {'learning_rate': 0.04624606695317252, 'l2_leaf_reg': 7.573491510253971, 'depth': 6, 'scale_pos_weight': 4.937361987265099}. Best is trial 31 with value: 0.4033981076060537.\n"
     ]
    },
    {
     "name": "stdout",
     "output_type": "stream",
     "text": [
      "--------------------------------------------------\n",
      "folds 1:0.3798266351457841, folds 2:0.41723356009070295, folds 3:0.3973509933774834, folds 4:0.4171686746987952, folds 5:0.38145896656534956\n",
      "AVG F1: 0.3986077659756231\n",
      "--------------------------------------------------\n",
      "--------------------------------------------------\n"
     ]
    },
    {
     "name": "stderr",
     "output_type": "stream",
     "text": [
      "[I 2024-09-06 16:26:41,495] Trial 162 finished with value: 0.39545286977896243 and parameters: {'learning_rate': 0.046539629496801634, 'l2_leaf_reg': 7.507799635073951, 'depth': 6, 'scale_pos_weight': 4.414070746571271}. Best is trial 31 with value: 0.4033981076060537.\n"
     ]
    },
    {
     "name": "stdout",
     "output_type": "stream",
     "text": [
      "--------------------------------------------------\n",
      "folds 1:0.3739130434782609, folds 2:0.4226289517470882, folds 3:0.3795379537953795, folds 4:0.41098169717138106, folds 5:0.3902027027027027\n",
      "AVG F1: 0.39545286977896243\n",
      "--------------------------------------------------\n",
      "--------------------------------------------------\n"
     ]
    },
    {
     "name": "stderr",
     "output_type": "stream",
     "text": [
      "[I 2024-09-06 16:27:48,231] Trial 163 finished with value: 0.3965735846601392 and parameters: {'learning_rate': 0.04227389625110892, 'l2_leaf_reg': 2.632998342916537, 'depth': 6, 'scale_pos_weight': 4.810698484471854}. Best is trial 31 with value: 0.4033981076060537.\n"
     ]
    },
    {
     "name": "stdout",
     "output_type": "stream",
     "text": [
      "--------------------------------------------------\n",
      "folds 1:0.37510105092966856, folds 2:0.41784037558685444, folds 3:0.38863287250384027, folds 4:0.41818181818181815, folds 5:0.3831118060985145\n",
      "AVG F1: 0.3965735846601392\n",
      "--------------------------------------------------\n",
      "--------------------------------------------------\n"
     ]
    },
    {
     "name": "stderr",
     "output_type": "stream",
     "text": [
      "[I 2024-09-06 16:28:55,811] Trial 164 finished with value: 0.3977838102370074 and parameters: {'learning_rate': 0.056596765154671144, 'l2_leaf_reg': 6.672121640785609, 'depth': 6, 'scale_pos_weight': 4.633388168284775}. Best is trial 31 with value: 0.4033981076060537.\n"
     ]
    },
    {
     "name": "stdout",
     "output_type": "stream",
     "text": [
      "--------------------------------------------------\n",
      "folds 1:0.3802938634399309, folds 2:0.40390879478827363, folds 3:0.38102893890675243, folds 4:0.4276315789473684, folds 5:0.39605587510271156\n",
      "AVG F1: 0.3977838102370074\n",
      "--------------------------------------------------\n",
      "--------------------------------------------------\n"
     ]
    },
    {
     "name": "stderr",
     "output_type": "stream",
     "text": [
      "[I 2024-09-06 16:30:10,644] Trial 165 finished with value: 0.39212192173858995 and parameters: {'learning_rate': 0.056305110221035154, 'l2_leaf_reg': 7.166348179681593, 'depth': 6, 'scale_pos_weight': 4.5797599544517915}. Best is trial 31 with value: 0.4033981076060537.\n"
     ]
    },
    {
     "name": "stdout",
     "output_type": "stream",
     "text": [
      "--------------------------------------------------\n",
      "folds 1:0.37285223367697595, folds 2:0.41975308641975306, folds 3:0.38049560351718625, folds 4:0.40264026402640263, folds 5:0.3848684210526316\n",
      "AVG F1: 0.39212192173858995\n",
      "--------------------------------------------------\n",
      "--------------------------------------------------\n"
     ]
    },
    {
     "name": "stderr",
     "output_type": "stream",
     "text": [
      "[I 2024-09-06 16:31:25,971] Trial 166 finished with value: 0.3877964919109776 and parameters: {'learning_rate': 0.04826288649290629, 'l2_leaf_reg': 6.8007888360785245, 'depth': 6, 'scale_pos_weight': 4.292282883920748}. Best is trial 31 with value: 0.4033981076060537.\n"
     ]
    },
    {
     "name": "stdout",
     "output_type": "stream",
     "text": [
      "--------------------------------------------------\n",
      "folds 1:0.36379928315412186, folds 2:0.4044750430292599, folds 3:0.37574722459436377, folds 4:0.40893470790378006, folds 5:0.3860262008733624\n",
      "AVG F1: 0.3877964919109776\n",
      "--------------------------------------------------\n",
      "--------------------------------------------------\n"
     ]
    },
    {
     "name": "stderr",
     "output_type": "stream",
     "text": [
      "[I 2024-09-06 16:32:30,900] Trial 167 finished with value: 0.3920606751184168 and parameters: {'learning_rate': 0.0631161205533114, 'l2_leaf_reg': 7.586257707529604, 'depth': 5, 'scale_pos_weight': 4.992991205608694}. Best is trial 31 with value: 0.4033981076060537.\n"
     ]
    },
    {
     "name": "stdout",
     "output_type": "stream",
     "text": [
      "--------------------------------------------------\n",
      "folds 1:0.3700234192037471, folds 2:0.40892193308550184, folds 3:0.3907185628742515, folds 4:0.40271493212669685, folds 5:0.3879245283018868\n",
      "AVG F1: 0.3920606751184168\n",
      "--------------------------------------------------\n",
      "--------------------------------------------------\n"
     ]
    },
    {
     "name": "stderr",
     "output_type": "stream",
     "text": [
      "[I 2024-09-06 16:33:45,057] Trial 168 finished with value: 0.38875181643095524 and parameters: {'learning_rate': 0.05900041082568895, 'l2_leaf_reg': 7.013511557711722, 'depth': 6, 'scale_pos_weight': 5.190514261207595}. Best is trial 31 with value: 0.4033981076060537.\n"
     ]
    },
    {
     "name": "stdout",
     "output_type": "stream",
     "text": [
      "--------------------------------------------------\n",
      "folds 1:0.3742138364779874, folds 2:0.4101796407185629, folds 3:0.37031594415870683, folds 4:0.39969604863221886, folds 5:0.38935361216730036\n",
      "AVG F1: 0.38875181643095524\n",
      "--------------------------------------------------\n",
      "--------------------------------------------------\n"
     ]
    },
    {
     "name": "stderr",
     "output_type": "stream",
     "text": [
      "[I 2024-09-06 16:34:59,595] Trial 169 finished with value: 0.39423544896709517 and parameters: {'learning_rate': 0.05327837340246332, 'l2_leaf_reg': 7.273928211918024, 'depth': 6, 'scale_pos_weight': 4.4849253948030405}. Best is trial 31 with value: 0.4033981076060537.\n"
     ]
    },
    {
     "name": "stdout",
     "output_type": "stream",
     "text": [
      "--------------------------------------------------\n",
      "folds 1:0.36928386540120794, folds 2:0.40100250626566414, folds 3:0.38636363636363635, folds 4:0.42333333333333334, folds 5:0.3911939034716342\n",
      "AVG F1: 0.39423544896709517\n",
      "--------------------------------------------------\n",
      "--------------------------------------------------\n"
     ]
    },
    {
     "name": "stderr",
     "output_type": "stream",
     "text": [
      "[I 2024-09-06 16:36:12,810] Trial 170 finished with value: 0.39278666623832714 and parameters: {'learning_rate': 0.038208900661845485, 'l2_leaf_reg': 7.869429760107336, 'depth': 6, 'scale_pos_weight': 4.712651168886277}. Best is trial 31 with value: 0.4033981076060537.\n"
     ]
    },
    {
     "name": "stdout",
     "output_type": "stream",
     "text": [
      "--------------------------------------------------\n",
      "folds 1:0.3760129659643436, folds 2:0.41235521235521233, folds 3:0.3801526717557252, folds 4:0.4109803921568628, folds 5:0.38443208895949166\n",
      "AVG F1: 0.39278666623832714\n",
      "--------------------------------------------------\n",
      "--------------------------------------------------\n"
     ]
    },
    {
     "name": "stderr",
     "output_type": "stream",
     "text": [
      "[I 2024-09-06 16:37:25,055] Trial 171 finished with value: 0.39181148322877124 and parameters: {'learning_rate': 0.0348899402593594, 'l2_leaf_reg': 6.623871239332303, 'depth': 6, 'scale_pos_weight': 4.8628874311775165}. Best is trial 31 with value: 0.4033981076060537.\n"
     ]
    },
    {
     "name": "stdout",
     "output_type": "stream",
     "text": [
      "--------------------------------------------------\n",
      "folds 1:0.3656422379826635, folds 2:0.4158563949139865, folds 3:0.3911764705882353, folds 4:0.4074349442379182, folds 5:0.37894736842105264\n",
      "AVG F1: 0.39181148322877124\n",
      "--------------------------------------------------\n",
      "--------------------------------------------------\n"
     ]
    },
    {
     "name": "stderr",
     "output_type": "stream",
     "text": [
      "[I 2024-09-06 16:38:39,855] Trial 172 finished with value: 0.3956453341244036 and parameters: {'learning_rate': 0.04292416159821136, 'l2_leaf_reg': 6.288636928695212, 'depth': 6, 'scale_pos_weight': 4.669622063447125}. Best is trial 31 with value: 0.4033981076060537.\n"
     ]
    },
    {
     "name": "stdout",
     "output_type": "stream",
     "text": [
      "--------------------------------------------------\n",
      "folds 1:0.37714285714285717, folds 2:0.4075531077891424, folds 3:0.3940809968847352, folds 4:0.41158059467918623, folds 5:0.38786911412609737\n",
      "AVG F1: 0.3956453341244036\n",
      "--------------------------------------------------\n",
      "--------------------------------------------------\n"
     ]
    },
    {
     "name": "stderr",
     "output_type": "stream",
     "text": [
      "[I 2024-09-06 16:39:47,615] Trial 173 finished with value: 0.39284875874545416 and parameters: {'learning_rate': 0.03143890211528906, 'l2_leaf_reg': 6.628964553867621, 'depth': 6, 'scale_pos_weight': 5.083856835862297}. Best is trial 31 with value: 0.4033981076060537.\n"
     ]
    },
    {
     "name": "stdout",
     "output_type": "stream",
     "text": [
      "--------------------------------------------------\n",
      "folds 1:0.36911764705882355, folds 2:0.4164859002169197, folds 3:0.3829181494661922, folds 4:0.4139433551198257, folds 5:0.38177874186550975\n",
      "AVG F1: 0.39284875874545416\n",
      "--------------------------------------------------\n",
      "--------------------------------------------------\n"
     ]
    },
    {
     "name": "stderr",
     "output_type": "stream",
     "text": [
      "[I 2024-09-06 16:40:50,044] Trial 174 finished with value: 0.3906512267830954 and parameters: {'learning_rate': 0.02536183458878491, 'l2_leaf_reg': 6.868721309036971, 'depth': 6, 'scale_pos_weight': 4.925909675967591}. Best is trial 31 with value: 0.4033981076060537.\n"
     ]
    },
    {
     "name": "stdout",
     "output_type": "stream",
     "text": [
      "--------------------------------------------------\n",
      "folds 1:0.37727272727272726, folds 2:0.40895953757225434, folds 3:0.3793843951324266, folds 4:0.4043795620437956, folds 5:0.3832599118942731\n",
      "AVG F1: 0.3906512267830954\n",
      "--------------------------------------------------\n",
      "--------------------------------------------------\n"
     ]
    },
    {
     "name": "stderr",
     "output_type": "stream",
     "text": [
      "[I 2024-09-06 16:41:50,626] Trial 175 finished with value: 0.39684291674257716 and parameters: {'learning_rate': 0.03757685859475529, 'l2_leaf_reg': 6.5298706392687995, 'depth': 6, 'scale_pos_weight': 5.3178839071309625}. Best is trial 31 with value: 0.4033981076060537.\n"
     ]
    },
    {
     "name": "stdout",
     "output_type": "stream",
     "text": [
      "--------------------------------------------------\n",
      "folds 1:0.3846720707442889, folds 2:0.4060564349621473, folds 3:0.3866943866943867, folds 4:0.4165477888730385, folds 5:0.3902439024390244\n",
      "AVG F1: 0.39684291674257716\n",
      "--------------------------------------------------\n",
      "--------------------------------------------------\n"
     ]
    },
    {
     "name": "stderr",
     "output_type": "stream",
     "text": [
      "[I 2024-09-06 16:42:51,708] Trial 176 finished with value: 0.39545784347816837 and parameters: {'learning_rate': 0.049172665688913444, 'l2_leaf_reg': 7.029343400157736, 'depth': 6, 'scale_pos_weight': 4.761683929298031}. Best is trial 31 with value: 0.4033981076060537.\n"
     ]
    },
    {
     "name": "stdout",
     "output_type": "stream",
     "text": [
      "--------------------------------------------------\n",
      "folds 1:0.369281045751634, folds 2:0.41153546375681993, folds 3:0.38884585592563903, folds 4:0.4174603174603175, folds 5:0.3901665344964314\n",
      "AVG F1: 0.39545784347816837\n",
      "--------------------------------------------------\n",
      "--------------------------------------------------\n"
     ]
    },
    {
     "name": "stderr",
     "output_type": "stream",
     "text": [
      "[I 2024-09-06 16:43:39,158] Trial 177 finished with value: 0.39755170231532233 and parameters: {'learning_rate': 0.043434815578889265, 'l2_leaf_reg': 7.341811430676559, 'depth': 4, 'scale_pos_weight': 4.248219329195127}. Best is trial 31 with value: 0.4033981076060537.\n"
     ]
    },
    {
     "name": "stdout",
     "output_type": "stream",
     "text": [
      "--------------------------------------------------\n",
      "folds 1:0.3739565943238731, folds 2:0.41754670999187654, folds 3:0.39389067524115756, folds 4:0.41379310344827586, folds 5:0.38857142857142857\n",
      "AVG F1: 0.39755170231532233\n",
      "--------------------------------------------------\n",
      "--------------------------------------------------\n"
     ]
    },
    {
     "name": "stderr",
     "output_type": "stream",
     "text": [
      "[I 2024-09-06 16:44:26,256] Trial 178 finished with value: 0.3963453564779093 and parameters: {'learning_rate': 0.04496696614882355, 'l2_leaf_reg': 7.247633286077237, 'depth': 4, 'scale_pos_weight': 4.166716721655959}. Best is trial 31 with value: 0.4033981076060537.\n"
     ]
    },
    {
     "name": "stdout",
     "output_type": "stream",
     "text": [
      "--------------------------------------------------\n",
      "folds 1:0.37425910245554617, folds 2:0.41367806505421184, folds 3:0.39408866995073893, folds 4:0.41922120961060483, folds 5:0.380479735318445\n",
      "AVG F1: 0.3963453564779093\n",
      "--------------------------------------------------\n",
      "--------------------------------------------------\n"
     ]
    },
    {
     "name": "stderr",
     "output_type": "stream",
     "text": [
      "[I 2024-09-06 16:45:13,072] Trial 179 finished with value: 0.3980850501740843 and parameters: {'learning_rate': 0.05210449592912221, 'l2_leaf_reg': 7.5011941352546545, 'depth': 4, 'scale_pos_weight': 4.318708026411278}. Best is trial 31 with value: 0.4033981076060537.\n"
     ]
    },
    {
     "name": "stdout",
     "output_type": "stream",
     "text": [
      "--------------------------------------------------\n",
      "folds 1:0.368376787216148, folds 2:0.42248995983935744, folds 3:0.391132224861441, folds 4:0.41362530413625304, folds 5:0.39480097481722176\n",
      "AVG F1: 0.3980850501740843\n",
      "--------------------------------------------------\n",
      "--------------------------------------------------\n"
     ]
    },
    {
     "name": "stderr",
     "output_type": "stream",
     "text": [
      "[I 2024-09-06 16:45:59,257] Trial 180 finished with value: 0.38891986065469053 and parameters: {'learning_rate': 0.05069531854127752, 'l2_leaf_reg': 7.500191187020502, 'depth': 4, 'scale_pos_weight': 3.9580114370345454}. Best is trial 31 with value: 0.4033981076060537.\n"
     ]
    },
    {
     "name": "stdout",
     "output_type": "stream",
     "text": [
      "--------------------------------------------------\n",
      "folds 1:0.3621621621621622, folds 2:0.40384615384615385, folds 3:0.3871513102282333, folds 4:0.40547476475620187, folds 5:0.38596491228070173\n",
      "AVG F1: 0.38891986065469053\n",
      "--------------------------------------------------\n",
      "--------------------------------------------------\n"
     ]
    },
    {
     "name": "stderr",
     "output_type": "stream",
     "text": [
      "[I 2024-09-06 16:46:45,081] Trial 181 finished with value: 0.3970218695155179 and parameters: {'learning_rate': 0.055912578227232515, 'l2_leaf_reg': 7.724783183624135, 'depth': 4, 'scale_pos_weight': 4.311114912377773}. Best is trial 31 with value: 0.4033981076060537.\n"
     ]
    },
    {
     "name": "stdout",
     "output_type": "stream",
     "text": [
      "--------------------------------------------------\n",
      "folds 1:0.3756260434056761, folds 2:0.41819632881085395, folds 3:0.3971405877680699, folds 4:0.4029126213592233, folds 5:0.3912337662337662\n",
      "AVG F1: 0.3970218695155179\n",
      "--------------------------------------------------\n",
      "--------------------------------------------------\n"
     ]
    },
    {
     "name": "stderr",
     "output_type": "stream",
     "text": [
      "[I 2024-09-06 16:47:32,020] Trial 182 finished with value: 0.39509602582323067 and parameters: {'learning_rate': 0.04201340519138859, 'l2_leaf_reg': 7.379476679437742, 'depth': 4, 'scale_pos_weight': 4.430348282065527}. Best is trial 31 with value: 0.4033981076060537.\n"
     ]
    },
    {
     "name": "stdout",
     "output_type": "stream",
     "text": [
      "--------------------------------------------------\n",
      "folds 1:0.3694060211554109, folds 2:0.42064112587959346, folds 3:0.3908745247148289, folds 4:0.4059328649492584, folds 5:0.3886255924170616\n",
      "AVG F1: 0.39509602582323067\n",
      "--------------------------------------------------\n",
      "--------------------------------------------------\n"
     ]
    },
    {
     "name": "stderr",
     "output_type": "stream",
     "text": [
      "[I 2024-09-06 16:48:18,627] Trial 183 finished with value: 0.3997926906737922 and parameters: {'learning_rate': 0.04659680783510465, 'l2_leaf_reg': 7.115167603557375, 'depth': 4, 'scale_pos_weight': 4.215897963290157}. Best is trial 31 with value: 0.4033981076060537.\n"
     ]
    },
    {
     "name": "stdout",
     "output_type": "stream",
     "text": [
      "--------------------------------------------------\n",
      "folds 1:0.3811129848229342, folds 2:0.43300653594771243, folds 3:0.3948220064724919, folds 4:0.4048979591836735, folds 5:0.3851239669421488\n",
      "AVG F1: 0.3997926906737922\n",
      "--------------------------------------------------\n",
      "--------------------------------------------------\n"
     ]
    },
    {
     "name": "stderr",
     "output_type": "stream",
     "text": [
      "[I 2024-09-06 16:49:04,951] Trial 184 finished with value: 0.3871307154356261 and parameters: {'learning_rate': 0.08622795275638609, 'l2_leaf_reg': 7.119156879200846, 'depth': 4, 'scale_pos_weight': 4.133073459675702}. Best is trial 31 with value: 0.4033981076060537.\n"
     ]
    },
    {
     "name": "stdout",
     "output_type": "stream",
     "text": [
      "--------------------------------------------------\n",
      "folds 1:0.3559928443649374, folds 2:0.4186046511627907, folds 3:0.37755102040816324, folds 4:0.3979416809605489, folds 5:0.3855633802816901\n",
      "AVG F1: 0.3871307154356261\n",
      "--------------------------------------------------\n",
      "--------------------------------------------------\n"
     ]
    },
    {
     "name": "stderr",
     "output_type": "stream",
     "text": [
      "[I 2024-09-06 16:49:50,441] Trial 185 finished with value: 0.3948207408927803 and parameters: {'learning_rate': 0.05926375365704654, 'l2_leaf_reg': 7.569442676385839, 'depth': 4, 'scale_pos_weight': 3.7508178789942015}. Best is trial 31 with value: 0.4033981076060537.\n"
     ]
    },
    {
     "name": "stdout",
     "output_type": "stream",
     "text": [
      "--------------------------------------------------\n",
      "folds 1:0.3826578699340245, folds 2:0.42105263157894735, folds 3:0.3773250664304694, folds 4:0.40585009140767825, folds 5:0.38721804511278196\n",
      "AVG F1: 0.3948207408927803\n",
      "--------------------------------------------------\n",
      "--------------------------------------------------\n"
     ]
    },
    {
     "name": "stderr",
     "output_type": "stream",
     "text": [
      "[I 2024-09-06 16:50:37,458] Trial 186 finished with value: 0.3977534117406594 and parameters: {'learning_rate': 0.05245264424526728, 'l2_leaf_reg': 6.9036341492870905, 'depth': 4, 'scale_pos_weight': 4.259117854487743}. Best is trial 31 with value: 0.4033981076060537.\n"
     ]
    },
    {
     "name": "stdout",
     "output_type": "stream",
     "text": [
      "--------------------------------------------------\n",
      "folds 1:0.37055837563451777, folds 2:0.424390243902439, folds 3:0.39712918660287083, folds 4:0.41038118410381186, folds 5:0.3863080684596577\n",
      "AVG F1: 0.3977534117406594\n",
      "--------------------------------------------------\n",
      "--------------------------------------------------\n"
     ]
    },
    {
     "name": "stderr",
     "output_type": "stream",
     "text": [
      "[I 2024-09-06 16:51:25,798] Trial 187 finished with value: 0.39391244338289044 and parameters: {'learning_rate': 0.05377306356593799, 'l2_leaf_reg': 6.826935219931787, 'depth': 4, 'scale_pos_weight': 4.009358237491598}. Best is trial 31 with value: 0.4033981076060537.\n"
     ]
    },
    {
     "name": "stdout",
     "output_type": "stream",
     "text": [
      "--------------------------------------------------\n",
      "folds 1:0.3670212765957447, folds 2:0.41114982578397213, folds 3:0.3850720949957591, folds 4:0.4136170212765957, folds 5:0.39270199826238056\n",
      "AVG F1: 0.39391244338289044\n",
      "--------------------------------------------------\n",
      "--------------------------------------------------\n"
     ]
    },
    {
     "name": "stderr",
     "output_type": "stream",
     "text": [
      "[I 2024-09-06 16:52:13,405] Trial 188 finished with value: 0.3912715019134937 and parameters: {'learning_rate': 0.06537010959068931, 'l2_leaf_reg': 7.033527834868783, 'depth': 4, 'scale_pos_weight': 4.204238804773603}. Best is trial 31 with value: 0.4033981076060537.\n"
     ]
    },
    {
     "name": "stdout",
     "output_type": "stream",
     "text": [
      "--------------------------------------------------\n",
      "folds 1:0.37285223367697595, folds 2:0.40836820083682007, folds 3:0.38016528925619836, folds 4:0.4013104013104013, folds 5:0.39366138448707255\n",
      "AVG F1: 0.3912715019134937\n",
      "--------------------------------------------------\n",
      "--------------------------------------------------\n"
     ]
    },
    {
     "name": "stderr",
     "output_type": "stream",
     "text": [
      "[I 2024-09-06 16:53:01,296] Trial 189 finished with value: 0.39533392452553784 and parameters: {'learning_rate': 0.047171973671762624, 'l2_leaf_reg': 6.8597102347193895, 'depth': 4, 'scale_pos_weight': 4.32979769832342}. Best is trial 31 with value: 0.4033981076060537.\n"
     ]
    },
    {
     "name": "stdout",
     "output_type": "stream",
     "text": [
      "--------------------------------------------------\n",
      "folds 1:0.37968359700249793, folds 2:0.4152744630071599, folds 3:0.3884103367267032, folds 4:0.4006436041834272, folds 5:0.39265762170790103\n",
      "AVG F1: 0.39533392452553784\n",
      "--------------------------------------------------\n",
      "--------------------------------------------------\n"
     ]
    },
    {
     "name": "stderr",
     "output_type": "stream",
     "text": [
      "[I 2024-09-06 16:53:49,845] Trial 190 finished with value: 0.3869756459818321 and parameters: {'learning_rate': 0.0516785887436724, 'l2_leaf_reg': 8.271687015166227, 'depth': 4, 'scale_pos_weight': 3.5364166738428704}. Best is trial 31 with value: 0.4033981076060537.\n"
     ]
    },
    {
     "name": "stdout",
     "output_type": "stream",
     "text": [
      "--------------------------------------------------\n",
      "folds 1:0.34565434565434566, folds 2:0.41788143828960156, folds 3:0.3851286939942803, folds 4:0.39655172413793105, folds 5:0.38966202783300197\n",
      "AVG F1: 0.3869756459818321\n",
      "--------------------------------------------------\n",
      "--------------------------------------------------\n"
     ]
    },
    {
     "name": "stderr",
     "output_type": "stream",
     "text": [
      "[I 2024-09-06 16:54:36,630] Trial 191 finished with value: 0.393337098147826 and parameters: {'learning_rate': 0.045432465074960245, 'l2_leaf_reg': 7.340060840775599, 'depth': 4, 'scale_pos_weight': 4.425669250262789}. Best is trial 31 with value: 0.4033981076060537.\n"
     ]
    },
    {
     "name": "stdout",
     "output_type": "stream",
     "text": [
      "--------------------------------------------------\n",
      "folds 1:0.37337662337662336, folds 2:0.4140127388535032, folds 3:0.38679969301611666, folds 4:0.408483896307934, folds 5:0.384012539184953\n",
      "AVG F1: 0.393337098147826\n",
      "--------------------------------------------------\n",
      "--------------------------------------------------\n"
     ]
    },
    {
     "name": "stderr",
     "output_type": "stream",
     "text": [
      "[I 2024-09-06 16:55:23,425] Trial 192 finished with value: 0.3935101670766125 and parameters: {'learning_rate': 0.041102244631559995, 'l2_leaf_reg': 7.162870057483637, 'depth': 4, 'scale_pos_weight': 3.8328126020004314}. Best is trial 31 with value: 0.4033981076060537.\n"
     ]
    },
    {
     "name": "stdout",
     "output_type": "stream",
     "text": [
      "--------------------------------------------------\n",
      "folds 1:0.36229205175600737, folds 2:0.426078971533517, folds 3:0.38434163701067614, folds 4:0.40896860986547084, folds 5:0.3858695652173913\n",
      "AVG F1: 0.3935101670766125\n",
      "--------------------------------------------------\n",
      "--------------------------------------------------\n"
     ]
    },
    {
     "name": "stderr",
     "output_type": "stream",
     "text": [
      "[I 2024-09-06 16:56:10,046] Trial 193 finished with value: 0.39208581096850115 and parameters: {'learning_rate': 0.048381784273215496, 'l2_leaf_reg': 7.31376902525351, 'depth': 4, 'scale_pos_weight': 4.568769398489799}. Best is trial 31 with value: 0.4033981076060537.\n"
     ]
    },
    {
     "name": "stdout",
     "output_type": "stream",
     "text": [
      "--------------------------------------------------\n",
      "folds 1:0.3735224586288416, folds 2:0.4122137404580153, folds 3:0.3853073463268366, folds 4:0.4051789794364052, folds 5:0.384206529992407\n",
      "AVG F1: 0.39208581096850115\n",
      "--------------------------------------------------\n",
      "--------------------------------------------------\n"
     ]
    },
    {
     "name": "stderr",
     "output_type": "stream",
     "text": [
      "[I 2024-09-06 16:56:57,609] Trial 194 finished with value: 0.3965313337783515 and parameters: {'learning_rate': 0.05434794846282868, 'l2_leaf_reg': 6.946522533275914, 'depth': 4, 'scale_pos_weight': 4.109693254235692}. Best is trial 31 with value: 0.4033981076060537.\n"
     ]
    },
    {
     "name": "stdout",
     "output_type": "stream",
     "text": [
      "--------------------------------------------------\n",
      "folds 1:0.3777197563098346, folds 2:0.4211409395973154, folds 3:0.3806398687448728, folds 4:0.4107292539815591, folds 5:0.3924268502581756\n",
      "AVG F1: 0.3965313337783515\n",
      "--------------------------------------------------\n",
      "--------------------------------------------------\n"
     ]
    },
    {
     "name": "stderr",
     "output_type": "stream",
     "text": [
      "[I 2024-09-06 16:57:45,808] Trial 195 finished with value: 0.38408097224553506 and parameters: {'learning_rate': 0.12556029687861647, 'l2_leaf_reg': 7.945101700981887, 'depth': 4, 'scale_pos_weight': 4.500914140044249}. Best is trial 31 with value: 0.4033981076060537.\n"
     ]
    },
    {
     "name": "stdout",
     "output_type": "stream",
     "text": [
      "--------------------------------------------------\n",
      "folds 1:0.3531468531468531, folds 2:0.41230257689110555, folds 3:0.3737704918032787, folds 4:0.38984438984438985, folds 5:0.3913405495420483\n",
      "AVG F1: 0.38408097224553506\n",
      "--------------------------------------------------\n",
      "--------------------------------------------------\n"
     ]
    },
    {
     "name": "stderr",
     "output_type": "stream",
     "text": [
      "[I 2024-09-06 16:58:34,287] Trial 196 finished with value: 0.3968543194343237 and parameters: {'learning_rate': 0.03922742262613646, 'l2_leaf_reg': 8.539135588851897, 'depth': 4, 'scale_pos_weight': 4.253962964376033}. Best is trial 31 with value: 0.4033981076060537.\n"
     ]
    },
    {
     "name": "stdout",
     "output_type": "stream",
     "text": [
      "--------------------------------------------------\n",
      "folds 1:0.37104825291181365, folds 2:0.42071197411003236, folds 3:0.38924050632911394, folds 4:0.4213938411669368, folds 5:0.3818770226537217\n",
      "AVG F1: 0.3968543194343237\n",
      "--------------------------------------------------\n",
      "--------------------------------------------------\n"
     ]
    },
    {
     "name": "stderr",
     "output_type": "stream",
     "text": [
      "[I 2024-09-06 16:59:22,000] Trial 197 finished with value: 0.3958108649050975 and parameters: {'learning_rate': 0.060414138344497784, 'l2_leaf_reg': 7.688619243864741, 'depth': 4, 'scale_pos_weight': 4.994528302848039}. Best is trial 31 with value: 0.4033981076060537.\n"
     ]
    },
    {
     "name": "stdout",
     "output_type": "stream",
     "text": [
      "--------------------------------------------------\n",
      "folds 1:0.37833827893175076, folds 2:0.4087694483734088, folds 3:0.38591549295774646, folds 4:0.40951694304253783, folds 5:0.39651416122004357\n",
      "AVG F1: 0.3958108649050975\n",
      "--------------------------------------------------\n",
      "--------------------------------------------------\n"
     ]
    },
    {
     "name": "stderr",
     "output_type": "stream",
     "text": [
      "[I 2024-09-06 17:00:09,385] Trial 198 finished with value: 0.3921109536764683 and parameters: {'learning_rate': 0.03371362703927272, 'l2_leaf_reg': 7.150559063662287, 'depth': 4, 'scale_pos_weight': 4.658476134561856}. Best is trial 31 with value: 0.4033981076060537.\n"
     ]
    },
    {
     "name": "stdout",
     "output_type": "stream",
     "text": [
      "--------------------------------------------------\n",
      "folds 1:0.37509607993850885, folds 2:0.4172767203513909, folds 3:0.37293016558675307, folds 4:0.4100666173205033, folds 5:0.3851851851851852\n",
      "AVG F1: 0.3921109536764683\n",
      "--------------------------------------------------\n",
      "--------------------------------------------------\n"
     ]
    },
    {
     "name": "stderr",
     "output_type": "stream",
     "text": [
      "[I 2024-09-06 17:00:58,113] Trial 199 finished with value: 0.3924982151244094 and parameters: {'learning_rate': 0.04378186909088786, 'l2_leaf_reg': 6.745917537379308, 'depth': 4, 'scale_pos_weight': 4.862513306301787}. Best is trial 31 with value: 0.4033981076060537.\n"
     ]
    },
    {
     "name": "stdout",
     "output_type": "stream",
     "text": [
      "--------------------------------------------------\n",
      "folds 1:0.37104072398190047, folds 2:0.41, folds 3:0.38288920056100983, folds 4:0.41007194244604317, folds 5:0.38848920863309355\n",
      "AVG F1: 0.3924982151244094\n",
      "--------------------------------------------------\n",
      "--------------------------------------------------\n",
      "Best trial:\n",
      "  Value: 0.4033981076060537\n",
      "  Params: \n",
      "    learning_rate: 0.030900165600523555\n",
      "    l2_leaf_reg: 7.093376467981388\n",
      "    depth: 6\n",
      "    scale_pos_weight: 4.638155043737476\n"
     ]
    }
   ],
   "execution_count": 47
  },
  {
   "cell_type": "code",
   "id": "15415ab2-b0ee-4f14-b7c0-a938634b8253",
   "metadata": {},
   "source": "",
   "outputs": [],
   "execution_count": null
  }
 ],
 "metadata": {
  "kernelspec": {
   "display_name": "Python 3 (ipykernel)",
   "language": "python",
   "name": "python3"
  },
  "language_info": {
   "codemirror_mode": {
    "name": "ipython",
    "version": 3
   },
   "file_extension": ".py",
   "mimetype": "text/x-python",
   "name": "python",
   "nbconvert_exporter": "python",
   "pygments_lexer": "ipython3",
   "version": "3.10.14"
  }
 },
 "nbformat": 4,
 "nbformat_minor": 5
}
